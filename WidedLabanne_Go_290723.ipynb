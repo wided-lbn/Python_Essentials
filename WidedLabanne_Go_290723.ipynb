{
 "cells": [
  {
   "cell_type": "code",
   "execution_count": 1,
   "id": "a6d60629-a920-443a-8125-ec9e830d8e52",
   "metadata": {
    "execution": {
     "iopub.execute_input": "2023-07-29T12:14:29.990193Z",
     "iopub.status.busy": "2023-07-29T12:14:29.989710Z",
     "iopub.status.idle": "2023-07-29T12:14:29.994213Z",
     "shell.execute_reply": "2023-07-29T12:14:29.993174Z",
     "shell.execute_reply.started": "2023-07-29T12:14:29.990095Z"
    },
    "tags": []
   },
   "outputs": [],
   "source": [
    "#!unzip project2022.zip"
   ]
  },
  {
   "cell_type": "code",
   "execution_count": 2,
   "id": "311056dc-4268-4f84-b89e-f1b84c4818b9",
   "metadata": {
    "execution": {
     "iopub.execute_input": "2023-07-29T12:14:30.346946Z",
     "iopub.status.busy": "2023-07-29T12:14:30.346574Z",
     "iopub.status.idle": "2023-07-29T12:14:31.176799Z",
     "shell.execute_reply": "2023-07-29T12:14:31.175986Z",
     "shell.execute_reply.started": "2023-07-29T12:14:30.346923Z"
    },
    "tags": []
   },
   "outputs": [
    {
     "name": "stdout",
     "output_type": "stream",
     "text": [
      "total 656M\n",
      "drwxrwsr-x  3 jovyan jovyan 4.0K Jul 29 12:14 .\n",
      "drwxr-Sr-- 16 jovyan jovyan 4.0K Jul 29 12:12 ..\n",
      "-rw-rw----  1 jovyan jovyan 106K Oct  7  2022 Board.h\n",
      "-rwxrwxr-x  1 jovyan jovyan  224 Oct  7  2022 compileMAC.sh\n",
      "-rwxrwx---  1 jovyan jovyan  150 Oct  7  2022 compile.sh\n",
      "-rw-rw----  1 jovyan jovyan  16K Oct  7  2022 Game.h\n",
      "-rw-rw-r--  1 jovyan jovyan 518M Oct  7  2022 games.data\n",
      "-rw-rw----  1 jovyan jovyan  14K Oct  7  2022 golois.cpp\n",
      "-rwxrwxr-x  1 jovyan jovyan 242K Oct  7  2022 golois.cpython-310-x86_64-linux-gnu.so\n",
      "-rwxrwxr-x  1 jovyan jovyan 231K Oct  7  2022 golois.cpython-37m-x86_64-linux-gnu.so\n",
      "-rwxrwxr-x  1 jovyan jovyan 231K Oct  7  2022 golois.cpython-38-x86_64-linux-gnu.so\n",
      "-rwxrwxr-x  1 jovyan jovyan 238K Apr  3 16:24 golois.cpython-39-x86_64-linux-gnu.so\n",
      "-rw-rw-r--  1 jovyan jovyan 2.6K Oct  7  2022 golois.py\n",
      "-rw-rw-r--  1 jovyan jovyan  20K Oct  7  2022 importGolois.ipynb\n",
      "drwxrwsr-x  2 jovyan jovyan 4.0K Jul 29 12:14 .ipynb_checkpoints\n",
      "-rw-rw-r--  1 jovyan jovyan 133M Jul  4 15:16 project2022.zip\n",
      "-rw-rw-r--  1 jovyan jovyan  56K Jul 29 09:24 ResNet_WL.ipynb\n",
      "-rw-rw----  1 jovyan jovyan 6.3K Oct  7  2022 Rzone.h\n",
      "-rw-rw-r--  1 jovyan jovyan 652K Jul 14 10:18 test_W3.h5\n",
      "-rw-rw-r--  1 jovyan jovyan   72 Jul 25 12:21 Untitled.ipynb\n",
      "-rw-rw-r--  1 jovyan jovyan  85K Jul 14 10:08 validation.data\n",
      "-rw-rw-r--  1 jovyan jovyan 1.3M Jul 14 14:45 weGo_1.h5\n",
      "-rw-rw-r--  1 jovyan jovyan 652K Jul 14 10:18 We_Go_test.h5\n",
      "-rw-rw-r--  1 jovyan jovyan 463K Jul 29 12:14 WidedLabanne_Go_290723.ipynb\n",
      "-rw-rw-r--  1 jovyan jovyan 1.3M Jul 29 06:54 WidedLabanneV8.h5\n",
      "-rw-rw-r--  1 jovyan jovyan   41 Oct  7  2022 zip.sh\n"
     ]
    }
   ],
   "source": [
    "!ls -alh"
   ]
  },
  {
   "cell_type": "code",
   "execution_count": 3,
   "id": "16ef8413-3a90-450d-8a01-92c0479b6c29",
   "metadata": {
    "execution": {
     "iopub.execute_input": "2023-07-29T12:14:31.178674Z",
     "iopub.status.busy": "2023-07-29T12:14:31.178319Z",
     "iopub.status.idle": "2023-07-29T12:14:31.988487Z",
     "shell.execute_reply": "2023-07-29T12:14:31.987578Z",
     "shell.execute_reply.started": "2023-07-29T12:14:31.178648Z"
    },
    "tags": []
   },
   "outputs": [
    {
     "name": "stdout",
     "output_type": "stream",
     "text": [
      "c++ -O3 -Wall -shared -std=c++11 -fsized-deallocation -fPIC `python3 -m pybind11 --includes` golois.cpp -o golois$(python3-config --extension-suffix)\n"
     ]
    }
   ],
   "source": [
    "!cat compile.sh"
   ]
  },
  {
   "cell_type": "code",
   "execution_count": 4,
   "id": "e848cfbe-734b-4d2a-a1e2-c72e11b64d41",
   "metadata": {
    "execution": {
     "iopub.execute_input": "2023-07-29T12:14:31.990858Z",
     "iopub.status.busy": "2023-07-29T12:14:31.990117Z",
     "iopub.status.idle": "2023-07-29T12:14:32.804846Z",
     "shell.execute_reply": "2023-07-29T12:14:32.803972Z",
     "shell.execute_reply.started": "2023-07-29T12:14:31.990828Z"
    },
    "tags": []
   },
   "outputs": [
    {
     "name": "stdout",
     "output_type": "stream",
     "text": [
      "Python 3.9.13\n"
     ]
    }
   ],
   "source": [
    "!python --version"
   ]
  },
  {
   "cell_type": "code",
   "execution_count": 5,
   "id": "8ca1211e-aa9d-43e8-92cb-b245293c9ab8",
   "metadata": {
    "execution": {
     "iopub.execute_input": "2023-07-29T12:14:32.806623Z",
     "iopub.status.busy": "2023-07-29T12:14:32.806276Z",
     "iopub.status.idle": "2023-07-29T12:14:33.619119Z",
     "shell.execute_reply": "2023-07-29T12:14:33.618271Z",
     "shell.execute_reply.started": "2023-07-29T12:14:32.806596Z"
    },
    "tags": []
   },
   "outputs": [
    {
     "name": "stdout",
     "output_type": "stream",
     "text": [
      "ls: cannot access '/content': No such file or directory\n"
     ]
    }
   ],
   "source": [
    "!ls -alh /content"
   ]
  },
  {
   "cell_type": "code",
   "execution_count": 6,
   "id": "7e58c4c6-71ea-4975-9e93-ff6164cb5f27",
   "metadata": {
    "execution": {
     "iopub.execute_input": "2023-07-29T12:14:33.620965Z",
     "iopub.status.busy": "2023-07-29T12:14:33.620515Z",
     "iopub.status.idle": "2023-07-29T12:14:36.810915Z",
     "shell.execute_reply": "2023-07-29T12:14:36.810031Z",
     "shell.execute_reply.started": "2023-07-29T12:14:33.620922Z"
    },
    "tags": []
   },
   "outputs": [
    {
     "name": "stdout",
     "output_type": "stream",
     "text": [
      "Collecting pybind11\n",
      "  Using cached pybind11-2.11.1-py3-none-any.whl (227 kB)\n",
      "Installing collected packages: pybind11\n",
      "Successfully installed pybind11-2.11.1\n"
     ]
    }
   ],
   "source": [
    "!pip install pybind11"
   ]
  },
  {
   "cell_type": "code",
   "execution_count": 7,
   "id": "00bdee60-6379-4b61-b1d7-2b491218fe52",
   "metadata": {
    "execution": {
     "iopub.execute_input": "2023-07-29T12:14:36.813488Z",
     "iopub.status.busy": "2023-07-29T12:14:36.813024Z",
     "iopub.status.idle": "2023-07-29T12:14:36.817443Z",
     "shell.execute_reply": "2023-07-29T12:14:36.816646Z",
     "shell.execute_reply.started": "2023-07-29T12:14:36.813446Z"
    },
    "tags": []
   },
   "outputs": [],
   "source": [
    "#!c++ -O3 -Wall -shared -std=c++11 -fsized-deallocation -fPIC `python3.10 -m pybind11 --include` golois.cpp -o golois$(python3.10-config --extension-suffix)"
   ]
  },
  {
   "cell_type": "code",
   "execution_count": 8,
   "id": "64cac694-e851-4a13-abc0-06667c411757",
   "metadata": {
    "execution": {
     "iopub.execute_input": "2023-07-29T12:14:36.818632Z",
     "iopub.status.busy": "2023-07-29T12:14:36.818423Z",
     "iopub.status.idle": "2023-07-29T12:14:37.642238Z",
     "shell.execute_reply": "2023-07-29T12:14:37.641471Z",
     "shell.execute_reply.started": "2023-07-29T12:14:36.818614Z"
    },
    "tags": []
   },
   "outputs": [
    {
     "name": "stdout",
     "output_type": "stream",
     "text": [
      "-rwxrwxr-x 1 jovyan jovyan 242K Oct  7  2022 golois.cpython-310-x86_64-linux-gnu.so\n",
      "-rwxrwxr-x 1 jovyan jovyan 231K Oct  7  2022 golois.cpython-37m-x86_64-linux-gnu.so\n",
      "-rwxrwxr-x 1 jovyan jovyan 231K Oct  7  2022 golois.cpython-38-x86_64-linux-gnu.so\n",
      "-rwxrwxr-x 1 jovyan jovyan 238K Apr  3 16:24 golois.cpython-39-x86_64-linux-gnu.so\n"
     ]
    }
   ],
   "source": [
    "!ls -alh *.so"
   ]
  },
  {
   "cell_type": "code",
   "execution_count": 9,
   "id": "7d3cac6a-5030-4d9e-a2fa-0aa0379264e4",
   "metadata": {
    "execution": {
     "iopub.execute_input": "2023-07-29T12:14:37.643765Z",
     "iopub.status.busy": "2023-07-29T12:14:37.643413Z",
     "iopub.status.idle": "2023-07-29T12:14:37.647224Z",
     "shell.execute_reply": "2023-07-29T12:14:37.646613Z",
     "shell.execute_reply.started": "2023-07-29T12:14:37.643736Z"
    },
    "tags": []
   },
   "outputs": [],
   "source": [
    "#!cp golois.cpython-310-x86_64-linux-gnu.so /content/drive/MyDrive/Essai"
   ]
  },
  {
   "cell_type": "code",
   "execution_count": 34,
   "id": "2e564865-6078-4374-a057-98c0ed506b86",
   "metadata": {
    "execution": {
     "iopub.execute_input": "2023-07-29T09:43:18.008258Z",
     "iopub.status.busy": "2023-07-29T09:43:18.007766Z",
     "iopub.status.idle": "2023-07-29T09:43:18.012782Z",
     "shell.execute_reply": "2023-07-29T09:43:18.011953Z",
     "shell.execute_reply.started": "2023-07-29T09:43:18.008219Z"
    },
    "tags": []
   },
   "outputs": [],
   "source": [
    "#! ls -alh /content/drive/MyDrive"
   ]
  },
  {
   "cell_type": "markdown",
   "id": "4a0a8b51-0338-4b45-aea6-b3de5e8af7e1",
   "metadata": {},
   "source": [
    "# Introduction\n",
    "In this work, a deep learning model is developed to enable playing the ancient strategic board game of Go. This repository contains two different implementations developed in Python programming language with Keras and TensorFlow enabled for Graphic Processing Unit (GPU) through Saturn.io website:\n",
    "\n",
    "* A first implementation based on the original Convolutional Neural Network (CNN), finetuned with incremental parameters\n",
    "* The second provided source-code contains an implementation using MobileNet architecture\n",
    "\n",
    "I will also provide some graphs to evaluate the performance of the network."
   ]
  },
  {
   "cell_type": "code",
   "execution_count": 10,
   "id": "8127ca03-c79f-47cb-9794-a48f6a14f823",
   "metadata": {
    "execution": {
     "iopub.execute_input": "2023-07-29T12:18:02.168854Z",
     "iopub.status.busy": "2023-07-29T12:18:02.168485Z",
     "iopub.status.idle": "2023-07-29T12:18:02.976479Z",
     "shell.execute_reply": "2023-07-29T12:18:02.975675Z",
     "shell.execute_reply.started": "2023-07-29T12:18:02.168830Z"
    },
    "tags": []
   },
   "outputs": [
    {
     "name": "stdout",
     "output_type": "stream",
     "text": [
      "import tensorflow as tf\n",
      "import tensorflow.keras as keras\n",
      "import numpy as np\n",
      "from tensorflow.keras import layers \n",
      "from tensorflow.keras import regularizers\n",
      "import gc\n",
      "\n",
      "import golois\n",
      "\n",
      "planes = 31\n",
      "moves = 361\n",
      "N = 10000\n",
      "epochs = 20\n",
      "batch = 128\n",
      "filters = 32\n",
      "\n",
      "input_data = np.random.randint(2, size=(N, 19, 19, planes))\n",
      "input_data = input_data.astype ('float32')\n",
      "\n",
      "policy = np.random.randint(moves, size=(N,))\n",
      "policy = keras.utils.to_categorical (policy)\n",
      "\n",
      "value = np.random.randint(2, size=(N,))\n",
      "value = value.astype ('float32')\n",
      "\n",
      "end = np.random.randint(2, size=(N, 19, 19, 2))\n",
      "end = end.astype ('float32')\n",
      "\n",
      "groups = np.zeros((N, 19, 19, 1))\n",
      "groups = groups.astype ('float32')\n",
      "\n",
      "print (\"getValidation\", flush = True)\n",
      "golois.getValidation (input_data, policy, value, end)\n",
      "\n",
      "\n",
      "input = keras.Input(shape=(19, 19, planes), name='board')\n",
      "x = layers.Conv2D(filters, 1, activation='relu', padding='same')(input)\n",
      "for i in range (5):\n",
      "    x = layers.Conv2D(filters, 3, activation='relu', padding='same')(x)\n",
      "policy_head = layers.Conv2D(1, 1, activation='relu', padding='same', use_bias = False, kernel_regularizer=regularizers.l2(0.0001))(x)\n",
      "policy_head = layers.Flatten()(policy_head)\n",
      "policy_head = layers.Activation('softmax', name='policy')(policy_head)\n",
      "value_head = layers.Conv2D(1, 1, activation='relu', padding='same', use_bias = False, kernel_regularizer=regularizers.l2(0.0001))(x)\n",
      "value_head = layers.Flatten()(value_head)\n",
      "value_head = layers.Dense(50, activation='relu', kernel_regularizer=regularizers.l2(0.0001))(value_head)\n",
      "value_head = layers.Dense(1, activation='sigmoid', name='value', kernel_regularizer=regularizers.l2(0.0001))(value_head)\n",
      "\n",
      "model = keras.Model(inputs=input, outputs=[policy_head, value_head])\n",
      "\n",
      "model.summary ()\n",
      "\n",
      "model.compile(optimizer=keras.optimizers.SGD(learning_rate=0.0005, momentum=0.9),\n",
      "              loss={'policy': 'categorical_crossentropy', 'value': 'binary_crossentropy'},\n",
      "              loss_weights={'policy' : 1.0, 'value' : 1.0},\n",
      "              metrics={'policy': 'categorical_accuracy', 'value': 'mse'})\n",
      "\n",
      "for i in range (1, epochs + 1):\n",
      "    print ('epoch ' + str (i))\n",
      "    golois.getBatch (input_data, policy, value, end, groups, i * N)\n",
      "    history = model.fit(input_data,\n",
      "                        {'policy': policy, 'value': value}, \n",
      "                        epochs=1, batch_size=batch)\n",
      "    if (i % 5 == 0):\n",
      "        gc.collect ()\n",
      "    if (i % 20 == 0):\n",
      "        golois.getValidation (input_data, policy, value, end)\n",
      "        val = model.evaluate (input_data,\n",
      "                              [policy, value], verbose = 0, batch_size=batch)\n",
      "        print (\"val =\", val)\n",
      "        model.save ('test.h5')\n",
      "\n"
     ]
    }
   ],
   "source": [
    "!cat  golois.py"
   ]
  },
  {
   "cell_type": "markdown",
   "id": "605f85f5-a14a-4748-a3f4-f1d6e78cbf3c",
   "metadata": {
    "execution": {
     "iopub.execute_input": "2023-07-29T12:21:04.986702Z",
     "iopub.status.busy": "2023-07-29T12:21:04.986114Z",
     "iopub.status.idle": "2023-07-29T12:21:04.990045Z",
     "shell.execute_reply": "2023-07-29T12:21:04.989292Z",
     "shell.execute_reply.started": "2023-07-29T12:21:04.986671Z"
    }
   },
   "source": [
    "### 1. Importing libraries and packages"
   ]
  },
  {
   "cell_type": "code",
   "execution_count": 11,
   "id": "51acbfea-ed9a-4685-9a23-b8587a5692ac",
   "metadata": {
    "execution": {
     "iopub.execute_input": "2023-07-29T12:19:29.471125Z",
     "iopub.status.busy": "2023-07-29T12:19:29.470706Z",
     "iopub.status.idle": "2023-07-29T12:19:36.833626Z",
     "shell.execute_reply": "2023-07-29T12:19:36.832931Z",
     "shell.execute_reply.started": "2023-07-29T12:19:29.471096Z"
    },
    "tags": []
   },
   "outputs": [
    {
     "name": "stderr",
     "output_type": "stream",
     "text": [
      "2023-07-29 12:19:29.615817: I tensorflow/core/util/util.cc:169] oneDNN custom operations are on. You may see slightly different numerical results due to floating-point round-off errors from different computation orders. To turn them off, set the environment variable `TF_ENABLE_ONEDNN_OPTS=0`.\n"
     ]
    }
   ],
   "source": [
    "import tensorflow as tf\n",
    "import tensorflow.keras as keras\n",
    "import numpy as np\n",
    "from tensorflow.keras import layers\n",
    "from tensorflow.keras import regularizers\n",
    "import gc #garbage collector, memory management\n",
    "import matplotlib.pyplot as plt\n",
    "import pandas as pd\n",
    "from tensorflow.keras.optimizers import Adam\n",
    "import golois\n",
    "\n",
    "from tensorflow.keras.layers import Dense, Activation\n",
    "from tensorflow.keras.metrics import categorical_crossentropy\n",
    "from tensorflow.keras.preprocessing.image import ImageDataGenerator\n",
    "from tensorflow.keras.preprocessing import image\n",
    "from tensorflow.keras.models import Model\n",
    "from tensorflow.keras.applications import imagenet_utils\n",
    "import itertools\n",
    "import os\n",
    "import shutil\n",
    "import random\n",
    "import matplotlib.pyplot as plt\n",
    "%matplotlib inline"
   ]
  },
  {
   "cell_type": "markdown",
   "id": "e60644b3-cd2c-43fe-b099-3111a25b463e",
   "metadata": {},
   "source": [
    "### 2. Training"
   ]
  },
  {
   "cell_type": "markdown",
   "id": "11bdd4f7-6de1-4586-9e21-c1e8593590d6",
   "metadata": {},
   "source": [
    "The model is built using the TensorFlow and Keras libraries, powerful tools for creating and training neural networks. The game board is represented as a 19x19 grid with 31 different planes of input data, capturing various aspects of the game state. \n",
    "\n",
    "The goal of the model is twofold: \n",
    "* first, to predict the best move to play based on the current game state, and \n",
    "* second, to estimate the likelihood of winning the game from the given position. \n",
    "\n",
    "The model architecture consists of multiple convolutional layers to capture spatial patterns and relationships on the game board, followed by separate heads for policy prediction (using a softmax activation) and value prediction (using a sigmoid activation). The model is trained with a dataset containing 10,000 game positions, each with corresponding policy and value labels. The training process involves optimizing the model's parameters using stochastic gradient descent with L2 regularization. After 300 epochs of training, our final model is expected to make informed and strategic decisions in playing the game of Go, in order to finetune parameters and boost our performance."
   ]
  },
  {
   "cell_type": "code",
   "execution_count": 21,
   "id": "b357565a-132d-4e8b-8985-e4a5898d0a66",
   "metadata": {
    "execution": {
     "iopub.execute_input": "2023-07-29T12:36:24.196175Z",
     "iopub.status.busy": "2023-07-29T12:36:24.195759Z",
     "iopub.status.idle": "2023-07-29T12:36:26.941203Z",
     "shell.execute_reply": "2023-07-29T12:36:26.940302Z",
     "shell.execute_reply.started": "2023-07-29T12:36:24.196143Z"
    },
    "tags": []
   },
   "outputs": [
    {
     "name": "stdout",
     "output_type": "stream",
     "text": [
      "getValidation\n"
     ]
    },
    {
     "name": "stderr",
     "output_type": "stream",
     "text": [
      "r.shape = (10000, 19, 19, 31)\n",
      "nbExamples = 10000\n"
     ]
    }
   ],
   "source": [
    "planes = 31 # input data, 31 planes\n",
    "moves = 361 # size of model output vector\n",
    "N = 10000 # N samples, training recommendation for better prediction\n",
    "epochs = 300 # modified to 300\n",
    "batch = 320 # batch size during training\n",
    "filters = 32 # number of filters used by the model, default 32\n",
    "\n",
    "input_data = np.random.randint(2, size=(N, 19, 19, planes)) # Input 31 image planes 19 x 19, 2 outputs\n",
    "input_data = input_data.astype ('float32') #convert input_data array to float32 type\n",
    "\n",
    "policy = np.random.randint(moves, size=(N,)) # random policy for the model, vector size 'moves\n",
    "policy = keras.utils.to_categorical (policy) # Convert integers to binary vectors\n",
    "\n",
    "value = np.random.randint(2, size=(N,)) #The end array contains random outputs for the model. Each output is a vector of size 2\n",
    "value = value.astype ('float32')\n",
    "\n",
    "end = np.random.randint(2, size=(N, 19, 19, 2)) # Final layer for our prediction with 2 output nodes\n",
    "end = end.astype ('float32')\n",
    "\n",
    "groups = np.zeros((N, 19, 19, 1))\n",
    "groups = groups.astype ('float32')\n",
    "\n",
    "print (\"getValidation\", flush = True)\n",
    "golois.getValidation (input_data, policy, value, end)"
   ]
  },
  {
   "cell_type": "code",
   "execution_count": 22,
   "id": "9597eab3-3e62-450b-834b-0fbb2fb301c6",
   "metadata": {
    "execution": {
     "iopub.execute_input": "2023-07-29T12:36:41.863654Z",
     "iopub.status.busy": "2023-07-29T12:36:41.863267Z",
     "iopub.status.idle": "2023-07-29T12:36:42.006211Z",
     "shell.execute_reply": "2023-07-29T12:36:42.005341Z",
     "shell.execute_reply.started": "2023-07-29T12:36:41.863628Z"
    },
    "tags": []
   },
   "outputs": [
    {
     "name": "stdout",
     "output_type": "stream",
     "text": [
      "Model: \"model_1\"\n",
      "__________________________________________________________________________________________________\n",
      " Layer (type)                   Output Shape         Param #     Connected to                     \n",
      "==================================================================================================\n",
      " board (InputLayer)             [(None, 19, 19, 31)  0           []                               \n",
      "                                ]                                                                 \n",
      "                                                                                                  \n",
      " conv2d_9 (Conv2D)              (None, 19, 19, 32)   1024        ['board[0][0]']                  \n",
      "                                                                                                  \n",
      " conv2d_10 (Conv2D)             (None, 19, 19, 32)   9248        ['conv2d_9[0][0]']               \n",
      "                                                                                                  \n",
      " conv2d_11 (Conv2D)             (None, 19, 19, 32)   9248        ['conv2d_10[0][0]']              \n",
      "                                                                                                  \n",
      " conv2d_12 (Conv2D)             (None, 19, 19, 32)   9248        ['conv2d_11[0][0]']              \n",
      "                                                                                                  \n",
      " conv2d_13 (Conv2D)             (None, 19, 19, 32)   9248        ['conv2d_12[0][0]']              \n",
      "                                                                                                  \n",
      " conv2d_14 (Conv2D)             (None, 19, 19, 32)   9248        ['conv2d_13[0][0]']              \n",
      "                                                                                                  \n",
      " conv2d_15 (Conv2D)             (None, 19, 19, 32)   9248        ['conv2d_14[0][0]']              \n",
      "                                                                                                  \n",
      " conv2d_17 (Conv2D)             (None, 19, 19, 1)    32          ['conv2d_15[0][0]']              \n",
      "                                                                                                  \n",
      " flatten_3 (Flatten)            (None, 361)          0           ['conv2d_17[0][0]']              \n",
      "                                                                                                  \n",
      " dense_3 (Dense)                (None, 80)           28960       ['flatten_3[0][0]']              \n",
      "                                                                                                  \n",
      " conv2d_16 (Conv2D)             (None, 19, 19, 1)    32          ['conv2d_15[0][0]']              \n",
      "                                                                                                  \n",
      " dense_4 (Dense)                (None, 80)           6480        ['dense_3[0][0]']                \n",
      "                                                                                                  \n",
      " flatten_2 (Flatten)            (None, 361)          0           ['conv2d_16[0][0]']              \n",
      "                                                                                                  \n",
      " dense_5 (Dense)                (None, 80)           6480        ['dense_4[0][0]']                \n",
      "                                                                                                  \n",
      " policy (Activation)            (None, 361)          0           ['flatten_2[0][0]']              \n",
      "                                                                                                  \n",
      " value (Dense)                  (None, 1)            81          ['dense_5[0][0]']                \n",
      "                                                                                                  \n",
      "==================================================================================================\n",
      "Total params: 98,577\n",
      "Trainable params: 98,577\n",
      "Non-trainable params: 0\n",
      "__________________________________________________________________________________________________\n"
     ]
    }
   ],
   "source": [
    "input = keras.Input(shape=(19, 19, planes), name='board') # Crée un tenseur d'entrée avec la forme (19, 19, planes) et le nom 'board\n",
    "\n",
    "x = layers.Conv2D(filters, 1, activation='relu', padding='same')(input)\n",
    "#for i in range (5):\n",
    "#    x = layers.Conv2D(filters, 3, activation='relu', padding='same')(x)\n",
    "# Applique une couche de convolution avec filters filtres et un noyau de taille (1x1)\n",
    "# avec l'activation relu et un padding 'same' sur l'entrée input\n",
    "x = layers.Conv2D(32, 3, activation='relu', padding='same')(x) #playing HERE\n",
    "x = layers.Conv2D(32, 3, activation='relu', padding='same')(x)\n",
    "x = layers.Conv2D(32, 3, activation='relu', padding='same')(x)\n",
    "x = layers.Conv2D(32, 3, activation='relu', padding='same')(x)\n",
    "x = layers.Conv2D(32, 3, activation='relu', padding='same')(x)\n",
    "x = layers.Conv2D(32, 3, activation='relu', padding='same')(x)\n",
    "\n",
    "policy_head = layers.Conv2D(1, 1, activation='relu', padding='same', use_bias = False, kernel_regularizer=regularizers.l2(0.0001))(x)\n",
    "policy_head = layers.Flatten()(policy_head)\n",
    "policy_head = layers.Activation('softmax', name='policy')(policy_head)\n",
    "#paramètres ajustables\n",
    "value_head = layers.Conv2D(1, 1, activation='relu', padding='same', use_bias = False, kernel_regularizer=regularizers.l2(0.0001))(x)\n",
    "value_head = layers.Flatten()(value_head)\n",
    "value_head = layers.Dense(80, activation='relu', kernel_regularizer=regularizers.l2(0.0001))(value_head)\n",
    "value_head = layers.Dense(80, activation='relu', kernel_regularizer=regularizers.l2(0.0001))(value_head)\n",
    "value_head = layers.Dense(80, activation='relu', kernel_regularizer=regularizers.l2(0.0001))(value_head)\n",
    "value_head = layers.Dense(1, activation='sigmoid', name='value', kernel_regularizer=regularizers.l2(0.0001))(value_head)\n",
    "\n",
    "model = keras.Model(inputs=input, outputs=[policy_head, value_head])\n",
    "model.summary()"
   ]
  },
  {
   "cell_type": "markdown",
   "id": "67494370-8dec-4219-83d2-f11c43873f6e",
   "metadata": {},
   "source": [
    "The challenge of our Deep Learning project was to create a network with fewer than 100,000 parameters while achieving high performance. Hereabove, our model contains 98,577."
   ]
  },
  {
   "cell_type": "code",
   "execution_count": 23,
   "id": "4736285a-3028-4b96-8023-06a3a3181596",
   "metadata": {
    "execution": {
     "iopub.execute_input": "2023-07-29T12:37:05.342270Z",
     "iopub.status.busy": "2023-07-29T12:37:05.341878Z",
     "iopub.status.idle": "2023-07-29T12:44:03.642836Z",
     "shell.execute_reply": "2023-07-29T12:44:03.642099Z",
     "shell.execute_reply.started": "2023-07-29T12:37:05.342245Z"
    },
    "tags": []
   },
   "outputs": [
    {
     "name": "stdout",
     "output_type": "stream",
     "text": [
      "epoch 1\n"
     ]
    },
    {
     "name": "stderr",
     "output_type": "stream",
     "text": [
      "r.shape = (10000, 19, 19, 31)\n",
      "nbExamples = 10000\n"
     ]
    },
    {
     "name": "stdout",
     "output_type": "stream",
     "text": [
      "32/32 [==============================] - 2s 26ms/step - loss: 6.2351 - policy_loss: 5.5167 - value_loss: 0.6932 - policy_categorical_accuracy: 0.0157 - value_mse: 0.1215\n",
      "epoch 2\n"
     ]
    },
    {
     "name": "stderr",
     "output_type": "stream",
     "text": [
      "r.shape = (10000, 19, 19, 31)\n",
      "nbExamples = 10000\n"
     ]
    },
    {
     "name": "stdout",
     "output_type": "stream",
     "text": [
      "32/32 [==============================] - 1s 26ms/step - loss: 5.3331 - policy_loss: 4.6201 - value_loss: 0.6932 - policy_categorical_accuracy: 0.0777 - value_mse: 0.1194\n",
      "epoch 3\n"
     ]
    },
    {
     "name": "stderr",
     "output_type": "stream",
     "text": [
      "r.shape = (10000, 19, 19, 31)\n",
      "nbExamples = 10000\n"
     ]
    },
    {
     "name": "stdout",
     "output_type": "stream",
     "text": [
      "32/32 [==============================] - 1s 26ms/step - loss: 4.8508 - policy_loss: 4.1418 - value_loss: 0.6930 - policy_categorical_accuracy: 0.1386 - value_mse: 0.1204\n",
      "epoch 4\n"
     ]
    },
    {
     "name": "stderr",
     "output_type": "stream",
     "text": [
      "r.shape = (10000, 19, 19, 31)\n",
      "nbExamples = 10000\n"
     ]
    },
    {
     "name": "stdout",
     "output_type": "stream",
     "text": [
      "32/32 [==============================] - 1s 26ms/step - loss: 4.6476 - policy_loss: 3.9415 - value_loss: 0.6930 - policy_categorical_accuracy: 0.1713 - value_mse: 0.1207\n",
      "epoch 5\n"
     ]
    },
    {
     "name": "stderr",
     "output_type": "stream",
     "text": [
      "r.shape = (10000, 19, 19, 31)\n",
      "nbExamples = 10000\n"
     ]
    },
    {
     "name": "stdout",
     "output_type": "stream",
     "text": [
      "32/32 [==============================] - 1s 27ms/step - loss: 4.5721 - policy_loss: 3.8683 - value_loss: 0.6931 - policy_categorical_accuracy: 0.1857 - value_mse: 0.1195\n",
      "epoch 6\n"
     ]
    },
    {
     "name": "stderr",
     "output_type": "stream",
     "text": [
      "r.shape = (10000, 19, 19, 31)\n",
      "nbExamples = 10000\n"
     ]
    },
    {
     "name": "stdout",
     "output_type": "stream",
     "text": [
      "32/32 [==============================] - 1s 26ms/step - loss: 4.4689 - policy_loss: 3.7671 - value_loss: 0.6929 - policy_categorical_accuracy: 0.1895 - value_mse: 0.1179\n",
      "epoch 7\n"
     ]
    },
    {
     "name": "stderr",
     "output_type": "stream",
     "text": [
      "r.shape = (10000, 19, 19, 31)\n",
      "nbExamples = 10000\n"
     ]
    },
    {
     "name": "stdout",
     "output_type": "stream",
     "text": [
      "32/32 [==============================] - 1s 26ms/step - loss: 4.4156 - policy_loss: 3.7150 - value_loss: 0.6931 - policy_categorical_accuracy: 0.1999 - value_mse: 0.1202\n",
      "epoch 8\n"
     ]
    },
    {
     "name": "stderr",
     "output_type": "stream",
     "text": [
      "r.shape = (10000, 19, 19, 31)\n",
      "nbExamples = 10000\n"
     ]
    },
    {
     "name": "stdout",
     "output_type": "stream",
     "text": [
      "32/32 [==============================] - 1s 26ms/step - loss: 4.3370 - policy_loss: 3.6375 - value_loss: 0.6931 - policy_categorical_accuracy: 0.2066 - value_mse: 0.1198\n",
      "epoch 9\n"
     ]
    },
    {
     "name": "stderr",
     "output_type": "stream",
     "text": [
      "r.shape = (10000, 19, 19, 31)\n",
      "nbExamples = 10000\n"
     ]
    },
    {
     "name": "stdout",
     "output_type": "stream",
     "text": [
      "32/32 [==============================] - 1s 26ms/step - loss: 4.2310 - policy_loss: 3.5324 - value_loss: 0.6931 - policy_categorical_accuracy: 0.2230 - value_mse: 0.1190\n",
      "epoch 10\n"
     ]
    },
    {
     "name": "stderr",
     "output_type": "stream",
     "text": [
      "r.shape = (10000, 19, 19, 31)\n",
      "nbExamples = 10000\n"
     ]
    },
    {
     "name": "stdout",
     "output_type": "stream",
     "text": [
      "32/32 [==============================] - 1s 26ms/step - loss: 4.1837 - policy_loss: 3.4859 - value_loss: 0.6930 - policy_categorical_accuracy: 0.2346 - value_mse: 0.1190\n",
      "epoch 11\n"
     ]
    },
    {
     "name": "stderr",
     "output_type": "stream",
     "text": [
      "r.shape = (10000, 19, 19, 31)\n",
      "nbExamples = 10000\n"
     ]
    },
    {
     "name": "stdout",
     "output_type": "stream",
     "text": [
      "32/32 [==============================] - 1s 26ms/step - loss: 4.0823 - policy_loss: 3.3852 - value_loss: 0.6929 - policy_categorical_accuracy: 0.2562 - value_mse: 0.1211\n",
      "epoch 12\n"
     ]
    },
    {
     "name": "stderr",
     "output_type": "stream",
     "text": [
      "r.shape = (10000, 19, 19, 31)\n",
      "nbExamples = 10000\n"
     ]
    },
    {
     "name": "stdout",
     "output_type": "stream",
     "text": [
      "32/32 [==============================] - 1s 26ms/step - loss: 4.0364 - policy_loss: 3.3400 - value_loss: 0.6927 - policy_categorical_accuracy: 0.2589 - value_mse: 0.1201\n",
      "epoch 13\n"
     ]
    },
    {
     "name": "stderr",
     "output_type": "stream",
     "text": [
      "r.shape = (10000, 19, 19, 31)\n",
      "nbExamples = 10000\n"
     ]
    },
    {
     "name": "stdout",
     "output_type": "stream",
     "text": [
      "32/32 [==============================] - 1s 26ms/step - loss: 3.9628 - policy_loss: 3.2666 - value_loss: 0.6929 - policy_categorical_accuracy: 0.2650 - value_mse: 0.1190\n",
      "epoch 14\n"
     ]
    },
    {
     "name": "stderr",
     "output_type": "stream",
     "text": [
      "r.shape = (10000, 19, 19, 31)\n",
      "nbExamples = 10000\n"
     ]
    },
    {
     "name": "stdout",
     "output_type": "stream",
     "text": [
      "32/32 [==============================] - 1s 26ms/step - loss: 3.9615 - policy_loss: 3.2656 - value_loss: 0.6931 - policy_categorical_accuracy: 0.2729 - value_mse: 0.1176\n",
      "epoch 15\n"
     ]
    },
    {
     "name": "stderr",
     "output_type": "stream",
     "text": [
      "r.shape = (10000, 19, 19, 31)\n",
      "nbExamples = 10000\n"
     ]
    },
    {
     "name": "stdout",
     "output_type": "stream",
     "text": [
      "32/32 [==============================] - 1s 26ms/step - loss: 3.9500 - policy_loss: 3.2544 - value_loss: 0.6930 - policy_categorical_accuracy: 0.2714 - value_mse: 0.1202\n",
      "epoch 16\n"
     ]
    },
    {
     "name": "stderr",
     "output_type": "stream",
     "text": [
      "r.shape = (10000, 19, 19, 31)\n",
      "nbExamples = 10000\n"
     ]
    },
    {
     "name": "stdout",
     "output_type": "stream",
     "text": [
      "32/32 [==============================] - 1s 26ms/step - loss: 3.8969 - policy_loss: 3.2016 - value_loss: 0.6930 - policy_categorical_accuracy: 0.2761 - value_mse: 0.1182\n",
      "epoch 17\n"
     ]
    },
    {
     "name": "stderr",
     "output_type": "stream",
     "text": [
      "r.shape = (10000, 19, 19, 31)\n",
      "nbExamples = 10000\n"
     ]
    },
    {
     "name": "stdout",
     "output_type": "stream",
     "text": [
      "32/32 [==============================] - 1s 27ms/step - loss: 3.9040 - policy_loss: 3.2090 - value_loss: 0.6929 - policy_categorical_accuracy: 0.2760 - value_mse: 0.1183\n",
      "epoch 18\n"
     ]
    },
    {
     "name": "stderr",
     "output_type": "stream",
     "text": [
      "r.shape = (10000, 19, 19, 31)\n",
      "nbExamples = 10000\n"
     ]
    },
    {
     "name": "stdout",
     "output_type": "stream",
     "text": [
      "32/32 [==============================] - 1s 26ms/step - loss: 3.8583 - policy_loss: 3.1633 - value_loss: 0.6930 - policy_categorical_accuracy: 0.2865 - value_mse: 0.1210\n",
      "epoch 19\n"
     ]
    },
    {
     "name": "stderr",
     "output_type": "stream",
     "text": [
      "r.shape = (10000, 19, 19, 31)\n",
      "nbExamples = 10000\n"
     ]
    },
    {
     "name": "stdout",
     "output_type": "stream",
     "text": [
      "32/32 [==============================] - 1s 26ms/step - loss: 3.8318 - policy_loss: 3.1373 - value_loss: 0.6927 - policy_categorical_accuracy: 0.2895 - value_mse: 0.1173\n",
      "epoch 20\n"
     ]
    },
    {
     "name": "stderr",
     "output_type": "stream",
     "text": [
      "r.shape = (10000, 19, 19, 31)\n",
      "nbExamples = 10000\n"
     ]
    },
    {
     "name": "stdout",
     "output_type": "stream",
     "text": [
      "32/32 [==============================] - 1s 26ms/step - loss: 3.7819 - policy_loss: 3.0877 - value_loss: 0.6927 - policy_categorical_accuracy: 0.2906 - value_mse: 0.1204\n"
     ]
    },
    {
     "name": "stderr",
     "output_type": "stream",
     "text": [
      "r.shape = (10000, 19, 19, 31)\n",
      "nbExamples = 10000\n"
     ]
    },
    {
     "name": "stdout",
     "output_type": "stream",
     "text": [
      "val = [3.7767457962036133, 3.08211350440979, 0.6931313872337341, 0.2964000105857849, 0.12003909796476364]\n",
      "epoch 21\n"
     ]
    },
    {
     "name": "stderr",
     "output_type": "stream",
     "text": [
      "r.shape = (10000, 19, 19, 31)\n",
      "nbExamples = 10000\n"
     ]
    },
    {
     "name": "stdout",
     "output_type": "stream",
     "text": [
      "32/32 [==============================] - 1s 25ms/step - loss: 3.7994 - policy_loss: 3.1051 - value_loss: 0.6928 - policy_categorical_accuracy: 0.2871 - value_mse: 0.1190\n",
      "epoch 22\n"
     ]
    },
    {
     "name": "stderr",
     "output_type": "stream",
     "text": [
      "r.shape = (10000, 19, 19, 31)\n",
      "nbExamples = 10000\n"
     ]
    },
    {
     "name": "stdout",
     "output_type": "stream",
     "text": [
      "32/32 [==============================] - 1s 26ms/step - loss: 3.7808 - policy_loss: 3.0865 - value_loss: 0.6931 - policy_categorical_accuracy: 0.2940 - value_mse: 0.1203\n",
      "epoch 23\n"
     ]
    },
    {
     "name": "stderr",
     "output_type": "stream",
     "text": [
      "r.shape = (10000, 19, 19, 31)\n",
      "nbExamples = 10000\n"
     ]
    },
    {
     "name": "stdout",
     "output_type": "stream",
     "text": [
      "32/32 [==============================] - 1s 26ms/step - loss: 3.7706 - policy_loss: 3.0764 - value_loss: 0.6929 - policy_categorical_accuracy: 0.2934 - value_mse: 0.1199\n",
      "epoch 24\n"
     ]
    },
    {
     "name": "stderr",
     "output_type": "stream",
     "text": [
      "r.shape = (10000, 19, 19, 31)\n",
      "nbExamples = 10000\n"
     ]
    },
    {
     "name": "stdout",
     "output_type": "stream",
     "text": [
      "32/32 [==============================] - 1s 26ms/step - loss: 3.7589 - policy_loss: 3.0648 - value_loss: 0.6931 - policy_categorical_accuracy: 0.3055 - value_mse: 0.1201\n",
      "epoch 25\n"
     ]
    },
    {
     "name": "stderr",
     "output_type": "stream",
     "text": [
      "r.shape = (10000, 19, 19, 31)\n",
      "nbExamples = 10000\n"
     ]
    },
    {
     "name": "stdout",
     "output_type": "stream",
     "text": [
      "32/32 [==============================] - 1s 26ms/step - loss: 3.7561 - policy_loss: 3.0622 - value_loss: 0.6929 - policy_categorical_accuracy: 0.2993 - value_mse: 0.1189\n",
      "epoch 26\n"
     ]
    },
    {
     "name": "stderr",
     "output_type": "stream",
     "text": [
      "r.shape = (10000, 19, 19, 31)\n",
      "nbExamples = 10000\n"
     ]
    },
    {
     "name": "stdout",
     "output_type": "stream",
     "text": [
      "32/32 [==============================] - 1s 26ms/step - loss: 3.7505 - policy_loss: 3.0564 - value_loss: 0.6931 - policy_categorical_accuracy: 0.3002 - value_mse: 0.1183\n",
      "epoch 27\n"
     ]
    },
    {
     "name": "stderr",
     "output_type": "stream",
     "text": [
      "r.shape = (10000, 19, 19, 31)\n",
      "nbExamples = 10000\n"
     ]
    },
    {
     "name": "stdout",
     "output_type": "stream",
     "text": [
      "32/32 [==============================] - 1s 26ms/step - loss: 3.7118 - policy_loss: 3.0179 - value_loss: 0.6930 - policy_categorical_accuracy: 0.3017 - value_mse: 0.1209\n",
      "epoch 28\n"
     ]
    },
    {
     "name": "stderr",
     "output_type": "stream",
     "text": [
      "r.shape = (10000, 19, 19, 31)\n",
      "nbExamples = 10000\n"
     ]
    },
    {
     "name": "stdout",
     "output_type": "stream",
     "text": [
      "32/32 [==============================] - 1s 26ms/step - loss: 3.6839 - policy_loss: 2.9901 - value_loss: 0.6930 - policy_categorical_accuracy: 0.3107 - value_mse: 0.1191\n",
      "epoch 29\n"
     ]
    },
    {
     "name": "stderr",
     "output_type": "stream",
     "text": [
      "r.shape = (10000, 19, 19, 31)\n",
      "nbExamples = 10000\n"
     ]
    },
    {
     "name": "stdout",
     "output_type": "stream",
     "text": [
      "32/32 [==============================] - 1s 26ms/step - loss: 3.6969 - policy_loss: 3.0030 - value_loss: 0.6931 - policy_categorical_accuracy: 0.3089 - value_mse: 0.1189\n",
      "epoch 30\n"
     ]
    },
    {
     "name": "stderr",
     "output_type": "stream",
     "text": [
      "r.shape = (10000, 19, 19, 31)\n",
      "nbExamples = 10000\n"
     ]
    },
    {
     "name": "stdout",
     "output_type": "stream",
     "text": [
      "32/32 [==============================] - 1s 26ms/step - loss: 3.6234 - policy_loss: 2.9298 - value_loss: 0.6928 - policy_categorical_accuracy: 0.3117 - value_mse: 0.1196\n",
      "epoch 31\n"
     ]
    },
    {
     "name": "stderr",
     "output_type": "stream",
     "text": [
      "r.shape = (10000, 19, 19, 31)\n",
      "nbExamples = 10000\n"
     ]
    },
    {
     "name": "stdout",
     "output_type": "stream",
     "text": [
      "32/32 [==============================] - 1s 26ms/step - loss: 3.7169 - policy_loss: 3.0231 - value_loss: 0.6930 - policy_categorical_accuracy: 0.2961 - value_mse: 0.1183\n",
      "epoch 32\n"
     ]
    },
    {
     "name": "stderr",
     "output_type": "stream",
     "text": [
      "r.shape = (10000, 19, 19, 31)\n",
      "nbExamples = 10000\n"
     ]
    },
    {
     "name": "stdout",
     "output_type": "stream",
     "text": [
      "32/32 [==============================] - 1s 26ms/step - loss: 3.6824 - policy_loss: 2.9888 - value_loss: 0.6930 - policy_categorical_accuracy: 0.3111 - value_mse: 0.1184\n",
      "epoch 33\n"
     ]
    },
    {
     "name": "stderr",
     "output_type": "stream",
     "text": [
      "r.shape = (10000, 19, 19, 31)\n",
      "nbExamples = 10000\n"
     ]
    },
    {
     "name": "stdout",
     "output_type": "stream",
     "text": [
      "32/32 [==============================] - 1s 26ms/step - loss: 3.6695 - policy_loss: 2.9760 - value_loss: 0.6929 - policy_categorical_accuracy: 0.3100 - value_mse: 0.1184\n",
      "epoch 34\n"
     ]
    },
    {
     "name": "stderr",
     "output_type": "stream",
     "text": [
      "r.shape = (10000, 19, 19, 31)\n",
      "nbExamples = 10000\n"
     ]
    },
    {
     "name": "stdout",
     "output_type": "stream",
     "text": [
      "32/32 [==============================] - 1s 26ms/step - loss: 3.6726 - policy_loss: 2.9792 - value_loss: 0.6928 - policy_categorical_accuracy: 0.3059 - value_mse: 0.1197\n",
      "epoch 35\n"
     ]
    },
    {
     "name": "stderr",
     "output_type": "stream",
     "text": [
      "r.shape = (10000, 19, 19, 31)\n",
      "nbExamples = 10000\n"
     ]
    },
    {
     "name": "stdout",
     "output_type": "stream",
     "text": [
      "32/32 [==============================] - 1s 26ms/step - loss: 3.6410 - policy_loss: 2.9477 - value_loss: 0.6927 - policy_categorical_accuracy: 0.3175 - value_mse: 0.1180\n",
      "epoch 36\n"
     ]
    },
    {
     "name": "stderr",
     "output_type": "stream",
     "text": [
      "r.shape = (10000, 19, 19, 31)\n",
      "nbExamples = 10000\n"
     ]
    },
    {
     "name": "stdout",
     "output_type": "stream",
     "text": [
      "32/32 [==============================] - 1s 26ms/step - loss: 3.6314 - policy_loss: 2.9381 - value_loss: 0.6927 - policy_categorical_accuracy: 0.3195 - value_mse: 0.1203\n",
      "epoch 37\n"
     ]
    },
    {
     "name": "stderr",
     "output_type": "stream",
     "text": [
      "r.shape = (10000, 19, 19, 31)\n",
      "nbExamples = 10000\n"
     ]
    },
    {
     "name": "stdout",
     "output_type": "stream",
     "text": [
      "32/32 [==============================] - 1s 26ms/step - loss: 3.6256 - policy_loss: 2.9319 - value_loss: 0.6932 - policy_categorical_accuracy: 0.3193 - value_mse: 0.1203\n",
      "epoch 38\n"
     ]
    },
    {
     "name": "stderr",
     "output_type": "stream",
     "text": [
      "r.shape = (10000, 19, 19, 31)\n",
      "nbExamples = 10000\n"
     ]
    },
    {
     "name": "stdout",
     "output_type": "stream",
     "text": [
      "32/32 [==============================] - 1s 26ms/step - loss: 3.6568 - policy_loss: 2.9633 - value_loss: 0.6929 - policy_categorical_accuracy: 0.3101 - value_mse: 0.1204\n",
      "epoch 39\n"
     ]
    },
    {
     "name": "stderr",
     "output_type": "stream",
     "text": [
      "r.shape = (10000, 19, 19, 31)\n",
      "nbExamples = 10000\n"
     ]
    },
    {
     "name": "stdout",
     "output_type": "stream",
     "text": [
      "32/32 [==============================] - 1s 26ms/step - loss: 3.6511 - policy_loss: 2.9579 - value_loss: 0.6928 - policy_categorical_accuracy: 0.3098 - value_mse: 0.1192\n",
      "epoch 40\n"
     ]
    },
    {
     "name": "stderr",
     "output_type": "stream",
     "text": [
      "r.shape = (10000, 19, 19, 31)\n",
      "nbExamples = 10000\n"
     ]
    },
    {
     "name": "stdout",
     "output_type": "stream",
     "text": [
      "32/32 [==============================] - 1s 26ms/step - loss: 3.6156 - policy_loss: 2.9221 - value_loss: 0.6931 - policy_categorical_accuracy: 0.3169 - value_mse: 0.1171\n"
     ]
    },
    {
     "name": "stderr",
     "output_type": "stream",
     "text": [
      "r.shape = (10000, 19, 19, 31)\n",
      "nbExamples = 10000\n"
     ]
    },
    {
     "name": "stdout",
     "output_type": "stream",
     "text": [
      "val = [3.6187093257904053, 2.925220012664795, 0.6930415630340576, 0.3208000063896179, 0.11999422311782837]\n",
      "epoch 41\n"
     ]
    },
    {
     "name": "stderr",
     "output_type": "stream",
     "text": [
      "r.shape = (10000, 19, 19, 31)\n",
      "nbExamples = 10000\n"
     ]
    },
    {
     "name": "stdout",
     "output_type": "stream",
     "text": [
      "32/32 [==============================] - 1s 26ms/step - loss: 3.6387 - policy_loss: 2.9454 - value_loss: 0.6928 - policy_categorical_accuracy: 0.3163 - value_mse: 0.1188\n",
      "epoch 42\n"
     ]
    },
    {
     "name": "stderr",
     "output_type": "stream",
     "text": [
      "r.shape = (10000, 19, 19, 31)\n",
      "nbExamples = 10000\n"
     ]
    },
    {
     "name": "stdout",
     "output_type": "stream",
     "text": [
      "32/32 [==============================] - 1s 26ms/step - loss: 3.6096 - policy_loss: 2.9163 - value_loss: 0.6929 - policy_categorical_accuracy: 0.3171 - value_mse: 0.1209\n",
      "epoch 43\n"
     ]
    },
    {
     "name": "stderr",
     "output_type": "stream",
     "text": [
      "r.shape = (10000, 19, 19, 31)\n",
      "nbExamples = 10000\n"
     ]
    },
    {
     "name": "stdout",
     "output_type": "stream",
     "text": [
      "32/32 [==============================] - 1s 26ms/step - loss: 3.5531 - policy_loss: 2.8597 - value_loss: 0.6930 - policy_categorical_accuracy: 0.3279 - value_mse: 0.1190\n",
      "epoch 44\n"
     ]
    },
    {
     "name": "stderr",
     "output_type": "stream",
     "text": [
      "r.shape = (10000, 19, 19, 31)\n",
      "nbExamples = 10000\n"
     ]
    },
    {
     "name": "stdout",
     "output_type": "stream",
     "text": [
      "32/32 [==============================] - 1s 26ms/step - loss: 3.5558 - policy_loss: 2.8623 - value_loss: 0.6931 - policy_categorical_accuracy: 0.3266 - value_mse: 0.1193\n",
      "epoch 45\n"
     ]
    },
    {
     "name": "stderr",
     "output_type": "stream",
     "text": [
      "r.shape = (10000, 19, 19, 31)\n",
      "nbExamples = 10000\n"
     ]
    },
    {
     "name": "stdout",
     "output_type": "stream",
     "text": [
      "32/32 [==============================] - 1s 26ms/step - loss: 3.5858 - policy_loss: 2.8926 - value_loss: 0.6929 - policy_categorical_accuracy: 0.3234 - value_mse: 0.1190\n",
      "epoch 46\n"
     ]
    },
    {
     "name": "stderr",
     "output_type": "stream",
     "text": [
      "r.shape = (10000, 19, 19, 31)\n",
      "nbExamples = 10000\n"
     ]
    },
    {
     "name": "stdout",
     "output_type": "stream",
     "text": [
      "32/32 [==============================] - 1s 26ms/step - loss: 3.5886 - policy_loss: 2.8953 - value_loss: 0.6930 - policy_categorical_accuracy: 0.3222 - value_mse: 0.1192\n",
      "epoch 47\n",
      " 1/32 [..............................] - ETA: 0s - loss: 3.4182 - policy_loss: 2.7243 - value_loss: 0.6935 - policy_categorical_accuracy: 0.3562 - value_mse: 0.1148"
     ]
    },
    {
     "name": "stderr",
     "output_type": "stream",
     "text": [
      "r.shape = (10000, 19, 19, 31)\n",
      "nbExamples = 10000\n"
     ]
    },
    {
     "name": "stdout",
     "output_type": "stream",
     "text": [
      "32/32 [==============================] - 1s 26ms/step - loss: 3.5633 - policy_loss: 2.8700 - value_loss: 0.6930 - policy_categorical_accuracy: 0.3254 - value_mse: 0.1209\n",
      "epoch 48\n"
     ]
    },
    {
     "name": "stderr",
     "output_type": "stream",
     "text": [
      "r.shape = (10000, 19, 19, 31)\n",
      "nbExamples = 10000\n"
     ]
    },
    {
     "name": "stdout",
     "output_type": "stream",
     "text": [
      "32/32 [==============================] - 1s 26ms/step - loss: 3.5758 - policy_loss: 2.8823 - value_loss: 0.6932 - policy_categorical_accuracy: 0.3237 - value_mse: 0.1209\n",
      "epoch 49\n"
     ]
    },
    {
     "name": "stderr",
     "output_type": "stream",
     "text": [
      "r.shape = (10000, 19, 19, 31)\n",
      "nbExamples = 10000\n"
     ]
    },
    {
     "name": "stdout",
     "output_type": "stream",
     "text": [
      "32/32 [==============================] - 1s 26ms/step - loss: 3.5558 - policy_loss: 2.8625 - value_loss: 0.6929 - policy_categorical_accuracy: 0.3239 - value_mse: 0.1206\n",
      "epoch 50\n"
     ]
    },
    {
     "name": "stderr",
     "output_type": "stream",
     "text": [
      "r.shape = (10000, 19, 19, 31)\n",
      "nbExamples = 10000\n"
     ]
    },
    {
     "name": "stdout",
     "output_type": "stream",
     "text": [
      "32/32 [==============================] - 1s 25ms/step - loss: 3.5391 - policy_loss: 2.8460 - value_loss: 0.6927 - policy_categorical_accuracy: 0.3354 - value_mse: 0.1204\n",
      "epoch 51\n"
     ]
    },
    {
     "name": "stderr",
     "output_type": "stream",
     "text": [
      "r.shape = (10000, 19, 19, 31)\n",
      "nbExamples = 10000\n"
     ]
    },
    {
     "name": "stdout",
     "output_type": "stream",
     "text": [
      "32/32 [==============================] - 1s 26ms/step - loss: 3.5790 - policy_loss: 2.8856 - value_loss: 0.6931 - policy_categorical_accuracy: 0.3228 - value_mse: 0.1214\n",
      "epoch 52\n"
     ]
    },
    {
     "name": "stderr",
     "output_type": "stream",
     "text": [
      "r.shape = (10000, 19, 19, 31)\n",
      "nbExamples = 10000\n"
     ]
    },
    {
     "name": "stdout",
     "output_type": "stream",
     "text": [
      "32/32 [==============================] - 1s 25ms/step - loss: 3.5932 - policy_loss: 2.9001 - value_loss: 0.6928 - policy_categorical_accuracy: 0.3202 - value_mse: 0.1174\n",
      "epoch 53\n"
     ]
    },
    {
     "name": "stderr",
     "output_type": "stream",
     "text": [
      "r.shape = (10000, 19, 19, 31)\n",
      "nbExamples = 10000\n"
     ]
    },
    {
     "name": "stdout",
     "output_type": "stream",
     "text": [
      "32/32 [==============================] - 1s 26ms/step - loss: 3.6089 - policy_loss: 2.9155 - value_loss: 0.6931 - policy_categorical_accuracy: 0.3126 - value_mse: 0.1193\n",
      "epoch 54\n"
     ]
    },
    {
     "name": "stderr",
     "output_type": "stream",
     "text": [
      "r.shape = (10000, 19, 19, 31)\n",
      "nbExamples = 10000\n"
     ]
    },
    {
     "name": "stdout",
     "output_type": "stream",
     "text": [
      "32/32 [==============================] - 1s 26ms/step - loss: 3.5677 - policy_loss: 2.8742 - value_loss: 0.6931 - policy_categorical_accuracy: 0.3232 - value_mse: 0.1190\n",
      "epoch 55\n"
     ]
    },
    {
     "name": "stderr",
     "output_type": "stream",
     "text": [
      "r.shape = (10000, 19, 19, 31)\n",
      "nbExamples = 10000\n"
     ]
    },
    {
     "name": "stdout",
     "output_type": "stream",
     "text": [
      "32/32 [==============================] - 1s 26ms/step - loss: 3.5888 - policy_loss: 2.8955 - value_loss: 0.6929 - policy_categorical_accuracy: 0.3254 - value_mse: 0.1195\n",
      "epoch 56\n"
     ]
    },
    {
     "name": "stderr",
     "output_type": "stream",
     "text": [
      "r.shape = (10000, 19, 19, 31)\n",
      "nbExamples = 10000\n"
     ]
    },
    {
     "name": "stdout",
     "output_type": "stream",
     "text": [
      "32/32 [==============================] - 1s 26ms/step - loss: 3.5546 - policy_loss: 2.8614 - value_loss: 0.6929 - policy_categorical_accuracy: 0.3292 - value_mse: 0.1201\n",
      "epoch 57\n"
     ]
    },
    {
     "name": "stderr",
     "output_type": "stream",
     "text": [
      "r.shape = (10000, 19, 19, 31)\n",
      "nbExamples = 10000\n"
     ]
    },
    {
     "name": "stdout",
     "output_type": "stream",
     "text": [
      "32/32 [==============================] - 1s 25ms/step - loss: 3.5542 - policy_loss: 2.8614 - value_loss: 0.6926 - policy_categorical_accuracy: 0.3259 - value_mse: 0.1211\n",
      "epoch 58\n"
     ]
    },
    {
     "name": "stderr",
     "output_type": "stream",
     "text": [
      "r.shape = (10000, 19, 19, 31)\n",
      "nbExamples = 10000\n"
     ]
    },
    {
     "name": "stdout",
     "output_type": "stream",
     "text": [
      "32/32 [==============================] - 1s 26ms/step - loss: 3.5665 - policy_loss: 2.8732 - value_loss: 0.6930 - policy_categorical_accuracy: 0.3233 - value_mse: 0.1199\n",
      "epoch 59\n"
     ]
    },
    {
     "name": "stderr",
     "output_type": "stream",
     "text": [
      "r.shape = (10000, 19, 19, 31)\n",
      "nbExamples = 10000\n"
     ]
    },
    {
     "name": "stdout",
     "output_type": "stream",
     "text": [
      "32/32 [==============================] - 1s 26ms/step - loss: 3.5465 - policy_loss: 2.8535 - value_loss: 0.6928 - policy_categorical_accuracy: 0.3321 - value_mse: 0.1199\n",
      "epoch 60\n"
     ]
    },
    {
     "name": "stderr",
     "output_type": "stream",
     "text": [
      "r.shape = (10000, 19, 19, 31)\n",
      "nbExamples = 10000\n"
     ]
    },
    {
     "name": "stdout",
     "output_type": "stream",
     "text": [
      "32/32 [==============================] - 1s 26ms/step - loss: 3.5564 - policy_loss: 2.8631 - value_loss: 0.6930 - policy_categorical_accuracy: 0.3251 - value_mse: 0.1197\n"
     ]
    },
    {
     "name": "stderr",
     "output_type": "stream",
     "text": [
      "r.shape = (10000, 19, 19, 31)\n",
      "nbExamples = 10000\n"
     ]
    },
    {
     "name": "stdout",
     "output_type": "stream",
     "text": [
      "val = [3.539715528488159, 2.8464059829711914, 0.6930316090583801, 0.3271999955177307, 0.11998918652534485]\n",
      "epoch 61\n"
     ]
    },
    {
     "name": "stderr",
     "output_type": "stream",
     "text": [
      "r.shape = (10000, 19, 19, 31)\n",
      "nbExamples = 10000\n"
     ]
    },
    {
     "name": "stdout",
     "output_type": "stream",
     "text": [
      "32/32 [==============================] - 1s 26ms/step - loss: 3.5447 - policy_loss: 2.8516 - value_loss: 0.6928 - policy_categorical_accuracy: 0.3254 - value_mse: 0.1199\n",
      "epoch 62\n"
     ]
    },
    {
     "name": "stderr",
     "output_type": "stream",
     "text": [
      "r.shape = (10000, 19, 19, 31)\n",
      "nbExamples = 10000\n"
     ]
    },
    {
     "name": "stdout",
     "output_type": "stream",
     "text": [
      "32/32 [==============================] - 1s 26ms/step - loss: 3.5480 - policy_loss: 2.8547 - value_loss: 0.6930 - policy_categorical_accuracy: 0.3275 - value_mse: 0.1199\n",
      "epoch 63\n"
     ]
    },
    {
     "name": "stderr",
     "output_type": "stream",
     "text": [
      "r.shape = (10000, 19, 19, 31)\n",
      "nbExamples = 10000\n"
     ]
    },
    {
     "name": "stdout",
     "output_type": "stream",
     "text": [
      "32/32 [==============================] - 1s 26ms/step - loss: 3.5084 - policy_loss: 2.8150 - value_loss: 0.6931 - policy_categorical_accuracy: 0.3349 - value_mse: 0.1182\n",
      "epoch 64\n"
     ]
    },
    {
     "name": "stderr",
     "output_type": "stream",
     "text": [
      "r.shape = (10000, 19, 19, 31)\n",
      "nbExamples = 10000\n"
     ]
    },
    {
     "name": "stdout",
     "output_type": "stream",
     "text": [
      "32/32 [==============================] - 1s 26ms/step - loss: 3.5391 - policy_loss: 2.8460 - value_loss: 0.6929 - policy_categorical_accuracy: 0.3305 - value_mse: 0.1199\n",
      "epoch 65\n"
     ]
    },
    {
     "name": "stderr",
     "output_type": "stream",
     "text": [
      "r.shape = (10000, 19, 19, 31)\n",
      "nbExamples = 10000\n"
     ]
    },
    {
     "name": "stdout",
     "output_type": "stream",
     "text": [
      "32/32 [==============================] - 1s 26ms/step - loss: 3.5343 - policy_loss: 2.8409 - value_loss: 0.6931 - policy_categorical_accuracy: 0.3284 - value_mse: 0.1205\n",
      "epoch 66\n"
     ]
    },
    {
     "name": "stderr",
     "output_type": "stream",
     "text": [
      "r.shape = (10000, 19, 19, 31)\n",
      "nbExamples = 10000\n"
     ]
    },
    {
     "name": "stdout",
     "output_type": "stream",
     "text": [
      "32/32 [==============================] - 1s 26ms/step - loss: 3.5181 - policy_loss: 2.8249 - value_loss: 0.6930 - policy_categorical_accuracy: 0.3356 - value_mse: 0.1190\n",
      "epoch 67\n"
     ]
    },
    {
     "name": "stderr",
     "output_type": "stream",
     "text": [
      "r.shape = (10000, 19, 19, 31)\n",
      "nbExamples = 10000\n"
     ]
    },
    {
     "name": "stdout",
     "output_type": "stream",
     "text": [
      "32/32 [==============================] - 1s 26ms/step - loss: 3.5514 - policy_loss: 2.8582 - value_loss: 0.6930 - policy_categorical_accuracy: 0.3298 - value_mse: 0.1181\n",
      "epoch 68\n"
     ]
    },
    {
     "name": "stderr",
     "output_type": "stream",
     "text": [
      "r.shape = (10000, 19, 19, 31)\n",
      "nbExamples = 10000\n"
     ]
    },
    {
     "name": "stdout",
     "output_type": "stream",
     "text": [
      "32/32 [==============================] - 1s 26ms/step - loss: 3.5080 - policy_loss: 2.8148 - value_loss: 0.6930 - policy_categorical_accuracy: 0.3381 - value_mse: 0.1195\n",
      "epoch 69\n"
     ]
    },
    {
     "name": "stderr",
     "output_type": "stream",
     "text": [
      "r.shape = (10000, 19, 19, 31)\n",
      "nbExamples = 10000\n"
     ]
    },
    {
     "name": "stdout",
     "output_type": "stream",
     "text": [
      "32/32 [==============================] - 1s 26ms/step - loss: 3.5342 - policy_loss: 2.8412 - value_loss: 0.6927 - policy_categorical_accuracy: 0.3283 - value_mse: 0.1198\n",
      "epoch 70\n"
     ]
    },
    {
     "name": "stderr",
     "output_type": "stream",
     "text": [
      "r.shape = (10000, 19, 19, 31)\n",
      "nbExamples = 10000\n"
     ]
    },
    {
     "name": "stdout",
     "output_type": "stream",
     "text": [
      "32/32 [==============================] - 1s 26ms/step - loss: 3.5147 - policy_loss: 2.8217 - value_loss: 0.6928 - policy_categorical_accuracy: 0.3325 - value_mse: 0.1197\n",
      "epoch 71\n"
     ]
    },
    {
     "name": "stderr",
     "output_type": "stream",
     "text": [
      "r.shape = (10000, 19, 19, 31)\n",
      "nbExamples = 10000\n"
     ]
    },
    {
     "name": "stdout",
     "output_type": "stream",
     "text": [
      "32/32 [==============================] - 1s 26ms/step - loss: 3.5506 - policy_loss: 2.8573 - value_loss: 0.6931 - policy_categorical_accuracy: 0.3262 - value_mse: 0.1199\n",
      "epoch 72\n"
     ]
    },
    {
     "name": "stderr",
     "output_type": "stream",
     "text": [
      "r.shape = (10000, 19, 19, 31)\n",
      "nbExamples = 10000\n"
     ]
    },
    {
     "name": "stdout",
     "output_type": "stream",
     "text": [
      "32/32 [==============================] - 1s 26ms/step - loss: 3.5082 - policy_loss: 2.8150 - value_loss: 0.6930 - policy_categorical_accuracy: 0.3338 - value_mse: 0.1195\n",
      "epoch 73\n"
     ]
    },
    {
     "name": "stderr",
     "output_type": "stream",
     "text": [
      "r.shape = (10000, 19, 19, 31)\n",
      "nbExamples = 10000\n"
     ]
    },
    {
     "name": "stdout",
     "output_type": "stream",
     "text": [
      "32/32 [==============================] - 1s 26ms/step - loss: 3.5158 - policy_loss: 2.8226 - value_loss: 0.6930 - policy_categorical_accuracy: 0.3301 - value_mse: 0.1178\n",
      "epoch 74\n"
     ]
    },
    {
     "name": "stderr",
     "output_type": "stream",
     "text": [
      "r.shape = (10000, 19, 19, 31)\n",
      "nbExamples = 10000\n"
     ]
    },
    {
     "name": "stdout",
     "output_type": "stream",
     "text": [
      "32/32 [==============================] - 1s 26ms/step - loss: 3.4870 - policy_loss: 2.7939 - value_loss: 0.6929 - policy_categorical_accuracy: 0.3389 - value_mse: 0.1174\n",
      "epoch 75\n"
     ]
    },
    {
     "name": "stderr",
     "output_type": "stream",
     "text": [
      "r.shape = (10000, 19, 19, 31)\n",
      "nbExamples = 10000\n"
     ]
    },
    {
     "name": "stdout",
     "output_type": "stream",
     "text": [
      "32/32 [==============================] - 1s 26ms/step - loss: 3.5112 - policy_loss: 2.8178 - value_loss: 0.6931 - policy_categorical_accuracy: 0.3338 - value_mse: 0.1189\n",
      "epoch 76\n"
     ]
    },
    {
     "name": "stderr",
     "output_type": "stream",
     "text": [
      "r.shape = (10000, 19, 19, 31)\n",
      "nbExamples = 10000\n"
     ]
    },
    {
     "name": "stdout",
     "output_type": "stream",
     "text": [
      "32/32 [==============================] - 1s 26ms/step - loss: 3.5229 - policy_loss: 2.8298 - value_loss: 0.6929 - policy_categorical_accuracy: 0.3399 - value_mse: 0.1179\n",
      "epoch 77\n"
     ]
    },
    {
     "name": "stderr",
     "output_type": "stream",
     "text": [
      "r.shape = (10000, 19, 19, 31)\n",
      "nbExamples = 10000\n"
     ]
    },
    {
     "name": "stdout",
     "output_type": "stream",
     "text": [
      "32/32 [==============================] - 1s 26ms/step - loss: 3.5298 - policy_loss: 2.8365 - value_loss: 0.6930 - policy_categorical_accuracy: 0.3253 - value_mse: 0.1194\n",
      "epoch 78\n"
     ]
    },
    {
     "name": "stderr",
     "output_type": "stream",
     "text": [
      "r.shape = (10000, 19, 19, 31)\n",
      "nbExamples = 10000\n"
     ]
    },
    {
     "name": "stdout",
     "output_type": "stream",
     "text": [
      "32/32 [==============================] - 1s 26ms/step - loss: 3.4796 - policy_loss: 2.7862 - value_loss: 0.6931 - policy_categorical_accuracy: 0.3418 - value_mse: 0.1196\n",
      "epoch 79\n"
     ]
    },
    {
     "name": "stderr",
     "output_type": "stream",
     "text": [
      "r.shape = (10000, 19, 19, 31)\n",
      "nbExamples = 10000\n"
     ]
    },
    {
     "name": "stdout",
     "output_type": "stream",
     "text": [
      "32/32 [==============================] - 1s 26ms/step - loss: 3.5270 - policy_loss: 2.8339 - value_loss: 0.6929 - policy_categorical_accuracy: 0.3356 - value_mse: 0.1190\n",
      "epoch 80\n"
     ]
    },
    {
     "name": "stderr",
     "output_type": "stream",
     "text": [
      "r.shape = (10000, 19, 19, 31)\n",
      "nbExamples = 10000\n"
     ]
    },
    {
     "name": "stdout",
     "output_type": "stream",
     "text": [
      "32/32 [==============================] - 1s 26ms/step - loss: 3.4965 - policy_loss: 2.8035 - value_loss: 0.6928 - policy_categorical_accuracy: 0.3320 - value_mse: 0.1198\n"
     ]
    },
    {
     "name": "stderr",
     "output_type": "stream",
     "text": [
      "r.shape = (10000, 19, 19, 31)\n",
      "nbExamples = 10000\n"
     ]
    },
    {
     "name": "stdout",
     "output_type": "stream",
     "text": [
      "val = [3.5157933235168457, 2.8225269317626953, 0.6930311918258667, 0.3303999900817871, 0.11998896300792694]\n",
      "epoch 81\n"
     ]
    },
    {
     "name": "stderr",
     "output_type": "stream",
     "text": [
      "r.shape = (10000, 19, 19, 31)\n",
      "nbExamples = 10000\n"
     ]
    },
    {
     "name": "stdout",
     "output_type": "stream",
     "text": [
      "32/32 [==============================] - 1s 26ms/step - loss: 3.5145 - policy_loss: 2.8211 - value_loss: 0.6932 - policy_categorical_accuracy: 0.3333 - value_mse: 0.1187\n",
      "epoch 82\n",
      " 1/32 [..............................] - ETA: 0s - loss: 3.4062 - policy_loss: 2.7127 - value_loss: 0.6933 - policy_categorical_accuracy: 0.3438 - value_mse: 0.1247"
     ]
    },
    {
     "name": "stderr",
     "output_type": "stream",
     "text": [
      "r.shape = (10000, 19, 19, 31)\n",
      "nbExamples = 10000\n"
     ]
    },
    {
     "name": "stdout",
     "output_type": "stream",
     "text": [
      "32/32 [==============================] - 1s 26ms/step - loss: 3.5264 - policy_loss: 2.8332 - value_loss: 0.6929 - policy_categorical_accuracy: 0.3305 - value_mse: 0.1183\n",
      "epoch 83\n"
     ]
    },
    {
     "name": "stderr",
     "output_type": "stream",
     "text": [
      "r.shape = (10000, 19, 19, 31)\n",
      "nbExamples = 10000\n"
     ]
    },
    {
     "name": "stdout",
     "output_type": "stream",
     "text": [
      "32/32 [==============================] - 1s 26ms/step - loss: 3.5217 - policy_loss: 2.8283 - value_loss: 0.6931 - policy_categorical_accuracy: 0.3247 - value_mse: 0.1198\n",
      "epoch 84\n"
     ]
    },
    {
     "name": "stderr",
     "output_type": "stream",
     "text": [
      "r.shape = (10000, 19, 19, 31)\n",
      "nbExamples = 10000\n"
     ]
    },
    {
     "name": "stdout",
     "output_type": "stream",
     "text": [
      "32/32 [==============================] - 1s 26ms/step - loss: 3.4991 - policy_loss: 2.8060 - value_loss: 0.6929 - policy_categorical_accuracy: 0.3313 - value_mse: 0.1182\n",
      "epoch 85\n"
     ]
    },
    {
     "name": "stderr",
     "output_type": "stream",
     "text": [
      "r.shape = (10000, 19, 19, 31)\n",
      "nbExamples = 10000\n"
     ]
    },
    {
     "name": "stdout",
     "output_type": "stream",
     "text": [
      "32/32 [==============================] - 1s 26ms/step - loss: 3.4796 - policy_loss: 2.7863 - value_loss: 0.6931 - policy_categorical_accuracy: 0.3417 - value_mse: 0.1186\n",
      "epoch 86\n"
     ]
    },
    {
     "name": "stderr",
     "output_type": "stream",
     "text": [
      "r.shape = (10000, 19, 19, 31)\n",
      "nbExamples = 10000\n"
     ]
    },
    {
     "name": "stdout",
     "output_type": "stream",
     "text": [
      "32/32 [==============================] - 1s 26ms/step - loss: 3.4910 - policy_loss: 2.7979 - value_loss: 0.6929 - policy_categorical_accuracy: 0.3382 - value_mse: 0.1199\n",
      "epoch 87\n"
     ]
    },
    {
     "name": "stderr",
     "output_type": "stream",
     "text": [
      "r.shape = (10000, 19, 19, 31)\n",
      "nbExamples = 10000\n"
     ]
    },
    {
     "name": "stdout",
     "output_type": "stream",
     "text": [
      "32/32 [==============================] - 1s 26ms/step - loss: 3.4706 - policy_loss: 2.7776 - value_loss: 0.6928 - policy_categorical_accuracy: 0.3356 - value_mse: 0.1202\n",
      "epoch 88\n"
     ]
    },
    {
     "name": "stderr",
     "output_type": "stream",
     "text": [
      "r.shape = (10000, 19, 19, 31)\n",
      "nbExamples = 10000\n"
     ]
    },
    {
     "name": "stdout",
     "output_type": "stream",
     "text": [
      "32/32 [==============================] - 1s 25ms/step - loss: 3.4607 - policy_loss: 2.7675 - value_loss: 0.6929 - policy_categorical_accuracy: 0.3353 - value_mse: 0.1208\n",
      "epoch 89\n"
     ]
    },
    {
     "name": "stderr",
     "output_type": "stream",
     "text": [
      "r.shape = (10000, 19, 19, 31)\n",
      "nbExamples = 10000\n"
     ]
    },
    {
     "name": "stdout",
     "output_type": "stream",
     "text": [
      "32/32 [==============================] - 1s 26ms/step - loss: 3.5185 - policy_loss: 2.8253 - value_loss: 0.6930 - policy_categorical_accuracy: 0.3309 - value_mse: 0.1199\n",
      "epoch 90\n"
     ]
    },
    {
     "name": "stderr",
     "output_type": "stream",
     "text": [
      "r.shape = (10000, 19, 19, 31)\n",
      "nbExamples = 10000\n"
     ]
    },
    {
     "name": "stdout",
     "output_type": "stream",
     "text": [
      "32/32 [==============================] - 1s 26ms/step - loss: 3.4694 - policy_loss: 2.7763 - value_loss: 0.6929 - policy_categorical_accuracy: 0.3385 - value_mse: 0.1211\n",
      "epoch 91\n"
     ]
    },
    {
     "name": "stderr",
     "output_type": "stream",
     "text": [
      "r.shape = (10000, 19, 19, 31)\n",
      "nbExamples = 10000\n"
     ]
    },
    {
     "name": "stdout",
     "output_type": "stream",
     "text": [
      "32/32 [==============================] - 1s 26ms/step - loss: 3.5218 - policy_loss: 2.8287 - value_loss: 0.6929 - policy_categorical_accuracy: 0.3330 - value_mse: 0.1201\n",
      "epoch 92\n"
     ]
    },
    {
     "name": "stderr",
     "output_type": "stream",
     "text": [
      "r.shape = (10000, 19, 19, 31)\n",
      "nbExamples = 10000\n"
     ]
    },
    {
     "name": "stdout",
     "output_type": "stream",
     "text": [
      "32/32 [==============================] - 1s 27ms/step - loss: 3.5359 - policy_loss: 2.8427 - value_loss: 0.6929 - policy_categorical_accuracy: 0.3312 - value_mse: 0.1190\n",
      "epoch 93\n"
     ]
    },
    {
     "name": "stderr",
     "output_type": "stream",
     "text": [
      "r.shape = (10000, 19, 19, 31)\n",
      "nbExamples = 10000\n"
     ]
    },
    {
     "name": "stdout",
     "output_type": "stream",
     "text": [
      "32/32 [==============================] - 1s 26ms/step - loss: 3.4751 - policy_loss: 2.7821 - value_loss: 0.6928 - policy_categorical_accuracy: 0.3402 - value_mse: 0.1194\n",
      "epoch 94\n"
     ]
    },
    {
     "name": "stderr",
     "output_type": "stream",
     "text": [
      "r.shape = (10000, 19, 19, 31)\n",
      "nbExamples = 10000\n"
     ]
    },
    {
     "name": "stdout",
     "output_type": "stream",
     "text": [
      "32/32 [==============================] - 1s 26ms/step - loss: 3.4764 - policy_loss: 2.7834 - value_loss: 0.6928 - policy_categorical_accuracy: 0.3290 - value_mse: 0.1204\n",
      "epoch 95\n"
     ]
    },
    {
     "name": "stderr",
     "output_type": "stream",
     "text": [
      "r.shape = (10000, 19, 19, 31)\n",
      "nbExamples = 10000\n"
     ]
    },
    {
     "name": "stdout",
     "output_type": "stream",
     "text": [
      "32/32 [==============================] - 1s 26ms/step - loss: 3.4879 - policy_loss: 2.7947 - value_loss: 0.6929 - policy_categorical_accuracy: 0.3311 - value_mse: 0.1195\n",
      "epoch 96\n"
     ]
    },
    {
     "name": "stderr",
     "output_type": "stream",
     "text": [
      "r.shape = (10000, 19, 19, 31)\n",
      "nbExamples = 10000\n"
     ]
    },
    {
     "name": "stdout",
     "output_type": "stream",
     "text": [
      "32/32 [==============================] - 1s 26ms/step - loss: 3.4851 - policy_loss: 2.7921 - value_loss: 0.6928 - policy_categorical_accuracy: 0.3340 - value_mse: 0.1193\n",
      "epoch 97\n"
     ]
    },
    {
     "name": "stderr",
     "output_type": "stream",
     "text": [
      "r.shape = (10000, 19, 19, 31)\n",
      "nbExamples = 10000\n"
     ]
    },
    {
     "name": "stdout",
     "output_type": "stream",
     "text": [
      "32/32 [==============================] - 1s 26ms/step - loss: 3.4574 - policy_loss: 2.7643 - value_loss: 0.6929 - policy_categorical_accuracy: 0.3399 - value_mse: 0.1198\n",
      "epoch 98\n"
     ]
    },
    {
     "name": "stderr",
     "output_type": "stream",
     "text": [
      "r.shape = (10000, 19, 19, 31)\n",
      "nbExamples = 10000\n"
     ]
    },
    {
     "name": "stdout",
     "output_type": "stream",
     "text": [
      "32/32 [==============================] - 1s 26ms/step - loss: 3.4897 - policy_loss: 2.7967 - value_loss: 0.6928 - policy_categorical_accuracy: 0.3344 - value_mse: 0.1206\n",
      "epoch 99\n"
     ]
    },
    {
     "name": "stderr",
     "output_type": "stream",
     "text": [
      "r.shape = (10000, 19, 19, 31)\n",
      "nbExamples = 10000\n"
     ]
    },
    {
     "name": "stdout",
     "output_type": "stream",
     "text": [
      "32/32 [==============================] - 1s 26ms/step - loss: 3.4686 - policy_loss: 2.7756 - value_loss: 0.6928 - policy_categorical_accuracy: 0.3358 - value_mse: 0.1198\n",
      "epoch 100\n"
     ]
    },
    {
     "name": "stderr",
     "output_type": "stream",
     "text": [
      "r.shape = (10000, 19, 19, 31)\n",
      "nbExamples = 10000\n"
     ]
    },
    {
     "name": "stdout",
     "output_type": "stream",
     "text": [
      "32/32 [==============================] - 1s 26ms/step - loss: 3.4874 - policy_loss: 2.7940 - value_loss: 0.6932 - policy_categorical_accuracy: 0.3414 - value_mse: 0.1199\n"
     ]
    },
    {
     "name": "stderr",
     "output_type": "stream",
     "text": [
      "r.shape = (10000, 19, 19, 31)\n",
      "nbExamples = 10000\n"
     ]
    },
    {
     "name": "stdout",
     "output_type": "stream",
     "text": [
      "val = [3.4577183723449707, 2.764474868774414, 0.6930296421051025, 0.33959999680519104, 0.11998825520277023]\n",
      "epoch 101\n"
     ]
    },
    {
     "name": "stderr",
     "output_type": "stream",
     "text": [
      "r.shape = (10000, 19, 19, 31)\n",
      "nbExamples = 10000\n"
     ]
    },
    {
     "name": "stdout",
     "output_type": "stream",
     "text": [
      "32/32 [==============================] - 1s 26ms/step - loss: 3.4582 - policy_loss: 2.7655 - value_loss: 0.6925 - policy_categorical_accuracy: 0.3358 - value_mse: 0.1193\n",
      "epoch 102\n"
     ]
    },
    {
     "name": "stderr",
     "output_type": "stream",
     "text": [
      "r.shape = (10000, 19, 19, 31)\n",
      "nbExamples = 10000\n"
     ]
    },
    {
     "name": "stdout",
     "output_type": "stream",
     "text": [
      "32/32 [==============================] - 1s 26ms/step - loss: 3.4709 - policy_loss: 2.7780 - value_loss: 0.6927 - policy_categorical_accuracy: 0.3347 - value_mse: 0.1181\n",
      "epoch 103\n"
     ]
    },
    {
     "name": "stderr",
     "output_type": "stream",
     "text": [
      "r.shape = (10000, 19, 19, 31)\n",
      "nbExamples = 10000\n"
     ]
    },
    {
     "name": "stdout",
     "output_type": "stream",
     "text": [
      "32/32 [==============================] - 1s 26ms/step - loss: 3.4345 - policy_loss: 2.7413 - value_loss: 0.6930 - policy_categorical_accuracy: 0.3434 - value_mse: 0.1196\n",
      "epoch 104\n"
     ]
    },
    {
     "name": "stderr",
     "output_type": "stream",
     "text": [
      "r.shape = (10000, 19, 19, 31)\n",
      "nbExamples = 10000\n"
     ]
    },
    {
     "name": "stdout",
     "output_type": "stream",
     "text": [
      "32/32 [==============================] - 1s 26ms/step - loss: 3.4548 - policy_loss: 2.7616 - value_loss: 0.6929 - policy_categorical_accuracy: 0.3388 - value_mse: 0.1192\n",
      "epoch 105\n"
     ]
    },
    {
     "name": "stderr",
     "output_type": "stream",
     "text": [
      "r.shape = (10000, 19, 19, 31)\n",
      "nbExamples = 10000\n"
     ]
    },
    {
     "name": "stdout",
     "output_type": "stream",
     "text": [
      "32/32 [==============================] - 1s 26ms/step - loss: 3.4688 - policy_loss: 2.7754 - value_loss: 0.6932 - policy_categorical_accuracy: 0.3346 - value_mse: 0.1194\n",
      "epoch 106\n"
     ]
    },
    {
     "name": "stderr",
     "output_type": "stream",
     "text": [
      "r.shape = (10000, 19, 19, 31)\n",
      "nbExamples = 10000\n"
     ]
    },
    {
     "name": "stdout",
     "output_type": "stream",
     "text": [
      "32/32 [==============================] - 1s 26ms/step - loss: 3.4567 - policy_loss: 2.7635 - value_loss: 0.6930 - policy_categorical_accuracy: 0.3387 - value_mse: 0.1190\n",
      "epoch 107\n"
     ]
    },
    {
     "name": "stderr",
     "output_type": "stream",
     "text": [
      "r.shape = (10000, 19, 19, 31)\n",
      "nbExamples = 10000\n"
     ]
    },
    {
     "name": "stdout",
     "output_type": "stream",
     "text": [
      "32/32 [==============================] - 1s 26ms/step - loss: 3.4486 - policy_loss: 2.7555 - value_loss: 0.6929 - policy_categorical_accuracy: 0.3372 - value_mse: 0.1213\n",
      "epoch 108\n"
     ]
    },
    {
     "name": "stderr",
     "output_type": "stream",
     "text": [
      "r.shape = (10000, 19, 19, 31)\n",
      "nbExamples = 10000\n"
     ]
    },
    {
     "name": "stdout",
     "output_type": "stream",
     "text": [
      "32/32 [==============================] - 1s 26ms/step - loss: 3.4508 - policy_loss: 2.7575 - value_loss: 0.6931 - policy_categorical_accuracy: 0.3392 - value_mse: 0.1202\n",
      "epoch 109\n"
     ]
    },
    {
     "name": "stderr",
     "output_type": "stream",
     "text": [
      "r.shape = (10000, 19, 19, 31)\n",
      "nbExamples = 10000\n"
     ]
    },
    {
     "name": "stdout",
     "output_type": "stream",
     "text": [
      "32/32 [==============================] - 1s 26ms/step - loss: 3.4966 - policy_loss: 2.8033 - value_loss: 0.6932 - policy_categorical_accuracy: 0.3324 - value_mse: 0.1206\n",
      "epoch 110\n",
      " 1/32 [..............................] - ETA: 0s - loss: 3.3831 - policy_loss: 2.6905 - value_loss: 0.6924 - policy_categorical_accuracy: 0.3625 - value_mse: 0.1254"
     ]
    },
    {
     "name": "stderr",
     "output_type": "stream",
     "text": [
      "r.shape = (10000, 19, 19, 31)\n",
      "nbExamples = 10000\n"
     ]
    },
    {
     "name": "stdout",
     "output_type": "stream",
     "text": [
      "32/32 [==============================] - 1s 26ms/step - loss: 3.4305 - policy_loss: 2.7375 - value_loss: 0.6928 - policy_categorical_accuracy: 0.3489 - value_mse: 0.1193\n",
      "epoch 111\n"
     ]
    },
    {
     "name": "stderr",
     "output_type": "stream",
     "text": [
      "r.shape = (10000, 19, 19, 31)\n",
      "nbExamples = 10000\n"
     ]
    },
    {
     "name": "stdout",
     "output_type": "stream",
     "text": [
      "32/32 [==============================] - 1s 26ms/step - loss: 3.4554 - policy_loss: 2.7623 - value_loss: 0.6929 - policy_categorical_accuracy: 0.3354 - value_mse: 0.1168\n",
      "epoch 112\n",
      " 1/32 [..............................] - ETA: 0s - loss: 3.3987 - policy_loss: 2.7057 - value_loss: 0.6928 - policy_categorical_accuracy: 0.3344 - value_mse: 0.1090"
     ]
    },
    {
     "name": "stderr",
     "output_type": "stream",
     "text": [
      "r.shape = (10000, 19, 19, 31)\n",
      "nbExamples = 10000\n"
     ]
    },
    {
     "name": "stdout",
     "output_type": "stream",
     "text": [
      "32/32 [==============================] - 1s 26ms/step - loss: 3.4482 - policy_loss: 2.7552 - value_loss: 0.6928 - policy_categorical_accuracy: 0.3425 - value_mse: 0.1201\n",
      "epoch 113\n"
     ]
    },
    {
     "name": "stderr",
     "output_type": "stream",
     "text": [
      "r.shape = (10000, 19, 19, 31)\n",
      "nbExamples = 10000\n"
     ]
    },
    {
     "name": "stdout",
     "output_type": "stream",
     "text": [
      "32/32 [==============================] - 1s 26ms/step - loss: 3.4505 - policy_loss: 2.7574 - value_loss: 0.6929 - policy_categorical_accuracy: 0.3345 - value_mse: 0.1203\n",
      "epoch 114\n"
     ]
    },
    {
     "name": "stderr",
     "output_type": "stream",
     "text": [
      "r.shape = (10000, 19, 19, 31)\n",
      "nbExamples = 10000\n"
     ]
    },
    {
     "name": "stdout",
     "output_type": "stream",
     "text": [
      "32/32 [==============================] - 1s 26ms/step - loss: 3.4456 - policy_loss: 2.7526 - value_loss: 0.6928 - policy_categorical_accuracy: 0.3379 - value_mse: 0.1186\n",
      "epoch 115\n"
     ]
    },
    {
     "name": "stderr",
     "output_type": "stream",
     "text": [
      "r.shape = (10000, 19, 19, 31)\n",
      "nbExamples = 10000\n"
     ]
    },
    {
     "name": "stdout",
     "output_type": "stream",
     "text": [
      "32/32 [==============================] - 1s 25ms/step - loss: 3.4609 - policy_loss: 2.7679 - value_loss: 0.6929 - policy_categorical_accuracy: 0.3390 - value_mse: 0.1176\n",
      "epoch 116\n"
     ]
    },
    {
     "name": "stderr",
     "output_type": "stream",
     "text": [
      "r.shape = (10000, 19, 19, 31)\n",
      "nbExamples = 10000\n"
     ]
    },
    {
     "name": "stdout",
     "output_type": "stream",
     "text": [
      "32/32 [==============================] - 1s 26ms/step - loss: 3.4151 - policy_loss: 2.7218 - value_loss: 0.6931 - policy_categorical_accuracy: 0.3516 - value_mse: 0.1208\n",
      "epoch 117\n"
     ]
    },
    {
     "name": "stderr",
     "output_type": "stream",
     "text": [
      "r.shape = (10000, 19, 19, 31)\n",
      "nbExamples = 10000\n"
     ]
    },
    {
     "name": "stdout",
     "output_type": "stream",
     "text": [
      "32/32 [==============================] - 1s 26ms/step - loss: 3.4407 - policy_loss: 2.7476 - value_loss: 0.6929 - policy_categorical_accuracy: 0.3437 - value_mse: 0.1206\n",
      "epoch 118\n"
     ]
    },
    {
     "name": "stderr",
     "output_type": "stream",
     "text": [
      "r.shape = (10000, 19, 19, 31)\n",
      "nbExamples = 10000\n"
     ]
    },
    {
     "name": "stdout",
     "output_type": "stream",
     "text": [
      "32/32 [==============================] - 1s 26ms/step - loss: 3.4726 - policy_loss: 2.7796 - value_loss: 0.6928 - policy_categorical_accuracy: 0.3362 - value_mse: 0.1184\n",
      "epoch 119\n"
     ]
    },
    {
     "name": "stderr",
     "output_type": "stream",
     "text": [
      "r.shape = (10000, 19, 19, 31)\n",
      "nbExamples = 10000\n"
     ]
    },
    {
     "name": "stdout",
     "output_type": "stream",
     "text": [
      "32/32 [==============================] - 1s 26ms/step - loss: 3.4501 - policy_loss: 2.7569 - value_loss: 0.6931 - policy_categorical_accuracy: 0.3363 - value_mse: 0.1174\n",
      "epoch 120\n"
     ]
    },
    {
     "name": "stderr",
     "output_type": "stream",
     "text": [
      "r.shape = (10000, 19, 19, 31)\n",
      "nbExamples = 10000\n"
     ]
    },
    {
     "name": "stdout",
     "output_type": "stream",
     "text": [
      "32/32 [==============================] - 1s 26ms/step - loss: 3.4316 - policy_loss: 2.7386 - value_loss: 0.6928 - policy_categorical_accuracy: 0.3451 - value_mse: 0.1186\n"
     ]
    },
    {
     "name": "stderr",
     "output_type": "stream",
     "text": [
      "r.shape = (10000, 19, 19, 31)\n",
      "nbExamples = 10000\n"
     ]
    },
    {
     "name": "stdout",
     "output_type": "stream",
     "text": [
      "val = [3.4604852199554443, 2.7672500610351562, 0.693031907081604, 0.34200000762939453, 0.11998932808637619]\n",
      "epoch 121\n"
     ]
    },
    {
     "name": "stderr",
     "output_type": "stream",
     "text": [
      "r.shape = (10000, 19, 19, 31)\n",
      "nbExamples = 10000\n"
     ]
    },
    {
     "name": "stdout",
     "output_type": "stream",
     "text": [
      "32/32 [==============================] - 1s 26ms/step - loss: 3.4585 - policy_loss: 2.7653 - value_loss: 0.6930 - policy_categorical_accuracy: 0.3457 - value_mse: 0.1191\n",
      "epoch 122\n"
     ]
    },
    {
     "name": "stderr",
     "output_type": "stream",
     "text": [
      "r.shape = (10000, 19, 19, 31)\n",
      "nbExamples = 10000\n"
     ]
    },
    {
     "name": "stdout",
     "output_type": "stream",
     "text": [
      "32/32 [==============================] - 1s 27ms/step - loss: 3.4220 - policy_loss: 2.7292 - value_loss: 0.6926 - policy_categorical_accuracy: 0.3382 - value_mse: 0.1184\n",
      "epoch 123\n"
     ]
    },
    {
     "name": "stderr",
     "output_type": "stream",
     "text": [
      "r.shape = (10000, 19, 19, 31)\n",
      "nbExamples = 10000\n"
     ]
    },
    {
     "name": "stdout",
     "output_type": "stream",
     "text": [
      "32/32 [==============================] - 1s 26ms/step - loss: 3.4251 - policy_loss: 2.7318 - value_loss: 0.6931 - policy_categorical_accuracy: 0.3434 - value_mse: 0.1196\n",
      "epoch 124\n"
     ]
    },
    {
     "name": "stderr",
     "output_type": "stream",
     "text": [
      "r.shape = (10000, 19, 19, 31)\n",
      "nbExamples = 10000\n"
     ]
    },
    {
     "name": "stdout",
     "output_type": "stream",
     "text": [
      "32/32 [==============================] - 1s 26ms/step - loss: 3.4467 - policy_loss: 2.7536 - value_loss: 0.6929 - policy_categorical_accuracy: 0.3415 - value_mse: 0.1191\n",
      "epoch 125\n"
     ]
    },
    {
     "name": "stderr",
     "output_type": "stream",
     "text": [
      "r.shape = (10000, 19, 19, 31)\n",
      "nbExamples = 10000\n"
     ]
    },
    {
     "name": "stdout",
     "output_type": "stream",
     "text": [
      "32/32 [==============================] - 1s 26ms/step - loss: 3.4015 - policy_loss: 2.7082 - value_loss: 0.6931 - policy_categorical_accuracy: 0.3497 - value_mse: 0.1210\n",
      "epoch 126\n"
     ]
    },
    {
     "name": "stderr",
     "output_type": "stream",
     "text": [
      "r.shape = (10000, 19, 19, 31)\n",
      "nbExamples = 10000\n"
     ]
    },
    {
     "name": "stdout",
     "output_type": "stream",
     "text": [
      "32/32 [==============================] - 1s 25ms/step - loss: 3.4469 - policy_loss: 2.7538 - value_loss: 0.6929 - policy_categorical_accuracy: 0.3413 - value_mse: 0.1204\n",
      "epoch 127\n"
     ]
    },
    {
     "name": "stderr",
     "output_type": "stream",
     "text": [
      "r.shape = (10000, 19, 19, 31)\n",
      "nbExamples = 10000\n"
     ]
    },
    {
     "name": "stdout",
     "output_type": "stream",
     "text": [
      "32/32 [==============================] - 1s 26ms/step - loss: 3.4149 - policy_loss: 2.7217 - value_loss: 0.6930 - policy_categorical_accuracy: 0.3463 - value_mse: 0.1184\n",
      "epoch 128\n"
     ]
    },
    {
     "name": "stderr",
     "output_type": "stream",
     "text": [
      "r.shape = (10000, 19, 19, 31)\n",
      "nbExamples = 10000\n"
     ]
    },
    {
     "name": "stdout",
     "output_type": "stream",
     "text": [
      "32/32 [==============================] - 1s 26ms/step - loss: 3.4033 - policy_loss: 2.7102 - value_loss: 0.6929 - policy_categorical_accuracy: 0.3487 - value_mse: 0.1196\n",
      "epoch 129\n"
     ]
    },
    {
     "name": "stderr",
     "output_type": "stream",
     "text": [
      "r.shape = (10000, 19, 19, 31)\n",
      "nbExamples = 10000\n"
     ]
    },
    {
     "name": "stdout",
     "output_type": "stream",
     "text": [
      "32/32 [==============================] - 1s 25ms/step - loss: 3.4358 - policy_loss: 2.7427 - value_loss: 0.6929 - policy_categorical_accuracy: 0.3478 - value_mse: 0.1193\n",
      "epoch 130\n"
     ]
    },
    {
     "name": "stderr",
     "output_type": "stream",
     "text": [
      "r.shape = (10000, 19, 19, 31)\n",
      "nbExamples = 10000\n"
     ]
    },
    {
     "name": "stdout",
     "output_type": "stream",
     "text": [
      "32/32 [==============================] - 1s 26ms/step - loss: 3.4250 - policy_loss: 2.7319 - value_loss: 0.6930 - policy_categorical_accuracy: 0.3471 - value_mse: 0.1208\n",
      "epoch 131\n"
     ]
    },
    {
     "name": "stderr",
     "output_type": "stream",
     "text": [
      "r.shape = (10000, 19, 19, 31)\n",
      "nbExamples = 10000\n"
     ]
    },
    {
     "name": "stdout",
     "output_type": "stream",
     "text": [
      "32/32 [==============================] - 1s 26ms/step - loss: 3.3843 - policy_loss: 2.6912 - value_loss: 0.6929 - policy_categorical_accuracy: 0.3499 - value_mse: 0.1206\n",
      "epoch 132\n",
      " 1/32 [..............................] - ETA: 0s - loss: 3.3123 - policy_loss: 2.6192 - value_loss: 0.6928 - policy_categorical_accuracy: 0.3438 - value_mse: 0.1211"
     ]
    },
    {
     "name": "stderr",
     "output_type": "stream",
     "text": [
      "r.shape = (10000, 19, 19, 31)\n",
      "nbExamples = 10000\n"
     ]
    },
    {
     "name": "stdout",
     "output_type": "stream",
     "text": [
      "32/32 [==============================] - 1s 26ms/step - loss: 3.4544 - policy_loss: 2.7613 - value_loss: 0.6929 - policy_categorical_accuracy: 0.3381 - value_mse: 0.1200\n",
      "epoch 133\n"
     ]
    },
    {
     "name": "stderr",
     "output_type": "stream",
     "text": [
      "r.shape = (10000, 19, 19, 31)\n",
      "nbExamples = 10000\n"
     ]
    },
    {
     "name": "stdout",
     "output_type": "stream",
     "text": [
      "32/32 [==============================] - 1s 26ms/step - loss: 3.4202 - policy_loss: 2.7271 - value_loss: 0.6929 - policy_categorical_accuracy: 0.3449 - value_mse: 0.1191\n",
      "epoch 134\n"
     ]
    },
    {
     "name": "stderr",
     "output_type": "stream",
     "text": [
      "r.shape = (10000, 19, 19, 31)\n",
      "nbExamples = 10000\n"
     ]
    },
    {
     "name": "stdout",
     "output_type": "stream",
     "text": [
      "32/32 [==============================] - 1s 26ms/step - loss: 3.4312 - policy_loss: 2.7384 - value_loss: 0.6926 - policy_categorical_accuracy: 0.3436 - value_mse: 0.1179\n",
      "epoch 135\n"
     ]
    },
    {
     "name": "stderr",
     "output_type": "stream",
     "text": [
      "r.shape = (10000, 19, 19, 31)\n",
      "nbExamples = 10000\n"
     ]
    },
    {
     "name": "stdout",
     "output_type": "stream",
     "text": [
      "32/32 [==============================] - 1s 26ms/step - loss: 3.4151 - policy_loss: 2.7219 - value_loss: 0.6930 - policy_categorical_accuracy: 0.3424 - value_mse: 0.1189\n",
      "epoch 136\n"
     ]
    },
    {
     "name": "stderr",
     "output_type": "stream",
     "text": [
      "r.shape = (10000, 19, 19, 31)\n",
      "nbExamples = 10000\n"
     ]
    },
    {
     "name": "stdout",
     "output_type": "stream",
     "text": [
      "32/32 [==============================] - 1s 26ms/step - loss: 3.4152 - policy_loss: 2.7222 - value_loss: 0.6928 - policy_categorical_accuracy: 0.3455 - value_mse: 0.1187\n",
      "epoch 137\n"
     ]
    },
    {
     "name": "stderr",
     "output_type": "stream",
     "text": [
      "r.shape = (10000, 19, 19, 31)\n",
      "nbExamples = 10000\n"
     ]
    },
    {
     "name": "stdout",
     "output_type": "stream",
     "text": [
      "32/32 [==============================] - 1s 26ms/step - loss: 3.3873 - policy_loss: 2.6941 - value_loss: 0.6930 - policy_categorical_accuracy: 0.3526 - value_mse: 0.1174\n",
      "epoch 138\n"
     ]
    },
    {
     "name": "stderr",
     "output_type": "stream",
     "text": [
      "r.shape = (10000, 19, 19, 31)\n",
      "nbExamples = 10000\n"
     ]
    },
    {
     "name": "stdout",
     "output_type": "stream",
     "text": [
      "32/32 [==============================] - 1s 26ms/step - loss: 3.4074 - policy_loss: 2.7146 - value_loss: 0.6926 - policy_categorical_accuracy: 0.3406 - value_mse: 0.1188\n",
      "epoch 139\n"
     ]
    },
    {
     "name": "stderr",
     "output_type": "stream",
     "text": [
      "r.shape = (10000, 19, 19, 31)\n",
      "nbExamples = 10000\n"
     ]
    },
    {
     "name": "stdout",
     "output_type": "stream",
     "text": [
      "32/32 [==============================] - 1s 26ms/step - loss: 3.4168 - policy_loss: 2.7237 - value_loss: 0.6929 - policy_categorical_accuracy: 0.3457 - value_mse: 0.1194\n",
      "epoch 140\n"
     ]
    },
    {
     "name": "stderr",
     "output_type": "stream",
     "text": [
      "r.shape = (10000, 19, 19, 31)\n",
      "nbExamples = 10000\n"
     ]
    },
    {
     "name": "stdout",
     "output_type": "stream",
     "text": [
      "32/32 [==============================] - 1s 26ms/step - loss: 3.3752 - policy_loss: 2.6818 - value_loss: 0.6932 - policy_categorical_accuracy: 0.3621 - value_mse: 0.1206\n"
     ]
    },
    {
     "name": "stderr",
     "output_type": "stream",
     "text": [
      "r.shape = (10000, 19, 19, 31)\n",
      "nbExamples = 10000\n"
     ]
    },
    {
     "name": "stdout",
     "output_type": "stream",
     "text": [
      "val = [3.388002395629883, 2.6947929859161377, 0.6930181384086609, 0.3513999879360199, 0.11998248100280762]\n",
      "epoch 141\n"
     ]
    },
    {
     "name": "stderr",
     "output_type": "stream",
     "text": [
      "r.shape = (10000, 19, 19, 31)\n",
      "nbExamples = 10000\n"
     ]
    },
    {
     "name": "stdout",
     "output_type": "stream",
     "text": [
      "32/32 [==============================] - 1s 26ms/step - loss: 3.4015 - policy_loss: 2.7082 - value_loss: 0.6931 - policy_categorical_accuracy: 0.3489 - value_mse: 0.1209\n",
      "epoch 142\n"
     ]
    },
    {
     "name": "stderr",
     "output_type": "stream",
     "text": [
      "r.shape = (10000, 19, 19, 31)\n",
      "nbExamples = 10000\n"
     ]
    },
    {
     "name": "stdout",
     "output_type": "stream",
     "text": [
      "32/32 [==============================] - 1s 26ms/step - loss: 3.4145 - policy_loss: 2.7213 - value_loss: 0.6930 - policy_categorical_accuracy: 0.3435 - value_mse: 0.1209\n",
      "epoch 143\n"
     ]
    },
    {
     "name": "stderr",
     "output_type": "stream",
     "text": [
      "r.shape = (10000, 19, 19, 31)\n",
      "nbExamples = 10000\n"
     ]
    },
    {
     "name": "stdout",
     "output_type": "stream",
     "text": [
      "32/32 [==============================] - 1s 25ms/step - loss: 3.4226 - policy_loss: 2.7293 - value_loss: 0.6931 - policy_categorical_accuracy: 0.3397 - value_mse: 0.1196\n",
      "epoch 144\n"
     ]
    },
    {
     "name": "stderr",
     "output_type": "stream",
     "text": [
      "r.shape = (10000, 19, 19, 31)\n",
      "nbExamples = 10000\n"
     ]
    },
    {
     "name": "stdout",
     "output_type": "stream",
     "text": [
      "32/32 [==============================] - 1s 26ms/step - loss: 3.4207 - policy_loss: 2.7277 - value_loss: 0.6928 - policy_categorical_accuracy: 0.3443 - value_mse: 0.1202\n",
      "epoch 145\n"
     ]
    },
    {
     "name": "stderr",
     "output_type": "stream",
     "text": [
      "r.shape = (10000, 19, 19, 31)\n",
      "nbExamples = 10000\n"
     ]
    },
    {
     "name": "stdout",
     "output_type": "stream",
     "text": [
      "32/32 [==============================] - 1s 26ms/step - loss: 3.3822 - policy_loss: 2.6888 - value_loss: 0.6931 - policy_categorical_accuracy: 0.3523 - value_mse: 0.1190\n",
      "epoch 146\n"
     ]
    },
    {
     "name": "stderr",
     "output_type": "stream",
     "text": [
      "r.shape = (10000, 19, 19, 31)\n",
      "nbExamples = 10000\n"
     ]
    },
    {
     "name": "stdout",
     "output_type": "stream",
     "text": [
      "32/32 [==============================] - 1s 26ms/step - loss: 3.4103 - policy_loss: 2.7173 - value_loss: 0.6928 - policy_categorical_accuracy: 0.3480 - value_mse: 0.1206\n",
      "epoch 147\n"
     ]
    },
    {
     "name": "stderr",
     "output_type": "stream",
     "text": [
      "r.shape = (10000, 19, 19, 31)\n",
      "nbExamples = 10000\n"
     ]
    },
    {
     "name": "stdout",
     "output_type": "stream",
     "text": [
      "32/32 [==============================] - 1s 26ms/step - loss: 3.4150 - policy_loss: 2.7218 - value_loss: 0.6930 - policy_categorical_accuracy: 0.3470 - value_mse: 0.1209\n",
      "epoch 148\n"
     ]
    },
    {
     "name": "stderr",
     "output_type": "stream",
     "text": [
      "r.shape = (10000, 19, 19, 31)\n",
      "nbExamples = 10000\n"
     ]
    },
    {
     "name": "stdout",
     "output_type": "stream",
     "text": [
      "32/32 [==============================] - 1s 26ms/step - loss: 3.3681 - policy_loss: 2.6749 - value_loss: 0.6929 - policy_categorical_accuracy: 0.3549 - value_mse: 0.1187\n",
      "epoch 149\n"
     ]
    },
    {
     "name": "stderr",
     "output_type": "stream",
     "text": [
      "r.shape = (10000, 19, 19, 31)\n",
      "nbExamples = 10000\n"
     ]
    },
    {
     "name": "stdout",
     "output_type": "stream",
     "text": [
      "32/32 [==============================] - 1s 26ms/step - loss: 3.4311 - policy_loss: 2.7379 - value_loss: 0.6930 - policy_categorical_accuracy: 0.3430 - value_mse: 0.1198\n",
      "epoch 150\n"
     ]
    },
    {
     "name": "stderr",
     "output_type": "stream",
     "text": [
      "r.shape = (10000, 19, 19, 31)\n",
      "nbExamples = 10000\n"
     ]
    },
    {
     "name": "stdout",
     "output_type": "stream",
     "text": [
      "32/32 [==============================] - 1s 26ms/step - loss: 3.4423 - policy_loss: 2.7493 - value_loss: 0.6928 - policy_categorical_accuracy: 0.3460 - value_mse: 0.1197\n"
     ]
    }
   ],
   "source": [
    "epochs = 150 # Adjustable parameters, decreased from 200 to 150\n",
    "optimizer = Adam()\n",
    "model.compile(optimizer=optimizer,\n",
    "              loss={'policy': 'categorical_crossentropy', 'value': 'binary_crossentropy'},\n",
    "              loss_weights={'policy' : 1.0, 'value' : 1.0},\n",
    "              metrics={'policy': 'categorical_accuracy', 'value': 'mse'})\n",
    "\n",
    "model_history = {'loss': [], 'policy_loss': [], 'value_loss': [], 'policy_categorical_accuracy': [], 'value_mse': []}\n",
    "\n",
    "for i in range (1, epochs + 1):\n",
    "    print ('epoch ' + str (i))\n",
    "    golois.getBatch (input_data, policy, value, end, groups, i * N)\n",
    "    history = model.fit(input_data,\n",
    "                        {'policy': policy, 'value': value},\n",
    "                        epochs=1, batch_size=batch)\n",
    "    model_history['loss'].append(history.history['loss'][0])\n",
    "    model_history['policy_loss'].append(history.history['policy_loss'][0])\n",
    "    model_history['value_loss'].append(history.history['value_loss'][0])\n",
    "    model_history['policy_categorical_accuracy'].append(history.history['policy_categorical_accuracy'][0])\n",
    "    model_history['value_mse'].append(history.history['value_mse'][0])\n",
    "    if (i % 5 == 0):\n",
    "        gc.collect ()\n",
    "    if (i % 20 == 0):\n",
    "        golois.getValidation (input_data, policy, value, end)\n",
    "        val = model.evaluate (input_data,\n",
    "                              [policy, value], verbose = 0, batch_size=batch)\n",
    "        print (\"val =\", val)\n",
    "\n",
    "loss_df = pd.DataFrame(model_history)"
   ]
  },
  {
   "cell_type": "markdown",
   "id": "d1ce7ac6-e32b-4d01-a7b1-8504e6e249f8",
   "metadata": {},
   "source": [
    "### 3. Training and Validation loss\n",
    "The following plots depict the training and validation accuracy and loss resulting from the training process of the first model:"
   ]
  },
  {
   "cell_type": "code",
   "execution_count": 24,
   "id": "dfc420fd-6a91-449d-9b18-e6b841bfbe93",
   "metadata": {
    "execution": {
     "iopub.execute_input": "2023-07-29T12:45:55.376607Z",
     "iopub.status.busy": "2023-07-29T12:45:55.376201Z",
     "iopub.status.idle": "2023-07-29T12:45:55.640585Z",
     "shell.execute_reply": "2023-07-29T12:45:55.639876Z",
     "shell.execute_reply.started": "2023-07-29T12:45:55.376580Z"
    },
    "tags": []
   },
   "outputs": [
    {
     "data": {
      "image/png": "[encoded data removed]",
      "text/plain": [
       "<Figure size 640x480 with 2 Axes>"
      ]
     },
     "metadata": {},
     "output_type": "display_data"
    }
   ],
   "source": [
    "# Display of the loss in a first plot\n",
    "plt.subplot(2, 1, 1)\n",
    "plt.plot(loss_df['loss'], label='loss')\n",
    "plt.plot(loss_df['policy_loss'], label='policy_loss')\n",
    "plt.plot(loss_df['value_loss'], label='value_loss')\n",
    "plt.xlabel('Epoch')\n",
    "plt.ylabel('Loss') \n",
    "plt.title('Loss on training set by Epoch model 1')\n",
    "plt.legend()\n",
    "\n",
    "# Display of the metrics in a second plot\n",
    "plt.subplot(2, 1, 2)\n",
    "plt.plot(loss_df['policy_categorical_accuracy'], label='policy_categorical_accuracy')\n",
    "plt.plot(loss_df['value_mse'], label='value_mse')\n",
    "plt.xlabel('Epochs')\n",
    "plt.ylabel('Metrics')\n",
    "plt.title('Metrics on training set by Epoch model 1')\n",
    "plt.legend()\n",
    "\n",
    "plt.tight_layout()\n",
    "plt.show()"
   ]
  },
  {
   "cell_type": "markdown",
   "id": "44edc2df-f07e-43cb-9275-3a8916ef9653",
   "metadata": {},
   "source": [
    " The network stabilizes after 60 epochs as can be seen in the below plots from the losses metrics. The values of these parameters all improve over time, indicating that the model is learning and improving at the game of Go. The policy categorical accuracy increases the most, indicating that the model is becoming better at predicting the right move.\n",
    "\n",
    "**Notes** \n",
    "* Loss: this is the overall measure of the model's performance. A lower loss indicates that the model predicts the correct output better.\n",
    "* Policy categorical accuracy: 0,346 This is the accuracy of the model's policy predictions. A higher accuracy indicates that the model is more likely to predict the correct action.\n",
    "* MSE value: This is the mean square error of the model's predictions for the value. A lower MSE indicates that the model is more accurate in predicting the value of the plateau state. In our case, MSE value is suprisingly static."
   ]
  },
  {
   "cell_type": "markdown",
   "id": "f8e72e70-35d3-404d-b7d9-41409f28c7a6",
   "metadata": {},
   "source": [
    "### Evaluation 1"
   ]
  },
  {
   "cell_type": "code",
   "execution_count": 25,
   "id": "4d980a29-2591-4bd9-b7fa-25312368440e",
   "metadata": {
    "execution": {
     "iopub.execute_input": "2023-07-29T12:46:37.379267Z",
     "iopub.status.busy": "2023-07-29T12:46:37.378872Z",
     "iopub.status.idle": "2023-07-29T12:46:37.384521Z",
     "shell.execute_reply": "2023-07-29T12:46:37.383700Z",
     "shell.execute_reply.started": "2023-07-29T12:46:37.379242Z"
    },
    "tags": []
   },
   "outputs": [
    {
     "data": {
      "text/plain": [
       "{'loss': [3.4422616958618164],\n",
       " 'policy_loss': [2.74926495552063],\n",
       " 'value_loss': [0.6928097009658813],\n",
       " 'policy_categorical_accuracy': [0.34599998593330383],\n",
       " 'value_mse': [0.11969582736492157]}"
      ]
     },
     "execution_count": 25,
     "metadata": {},
     "output_type": "execute_result"
    }
   ],
   "source": [
    "model.history.history"
   ]
  },
  {
   "cell_type": "code",
   "execution_count": 19,
   "id": "9209bacd-8420-440f-bade-8cf8d76eab3c",
   "metadata": {
    "execution": {
     "iopub.execute_input": "2023-07-29T12:35:22.378570Z",
     "iopub.status.busy": "2023-07-29T12:35:22.378183Z",
     "iopub.status.idle": "2023-07-29T12:35:22.381927Z",
     "shell.execute_reply": "2023-07-29T12:35:22.381214Z",
     "shell.execute_reply.started": "2023-07-29T12:35:22.378547Z"
    },
    "tags": []
   },
   "outputs": [],
   "source": [
    "loss = model_history['loss']"
   ]
  },
  {
   "cell_type": "code",
   "execution_count": 20,
   "id": "631f7b55-4a68-43f0-a457-450217aa1b6b",
   "metadata": {
    "execution": {
     "iopub.execute_input": "2023-07-29T12:35:23.284567Z",
     "iopub.status.busy": "2023-07-29T12:35:23.284118Z",
     "iopub.status.idle": "2023-07-29T12:35:26.464590Z",
     "shell.execute_reply": "2023-07-29T12:35:26.463656Z",
     "shell.execute_reply.started": "2023-07-29T12:35:23.284538Z"
    },
    "tags": []
   },
   "outputs": [
    {
     "name": "stdout",
     "output_type": "stream",
     "text": [
      "Collecting seaborn\n",
      "  Using cached seaborn-0.12.2-py3-none-any.whl (293 kB)\n",
      "Requirement already satisfied: pandas>=0.25 in /opt/saturncloud/envs/saturn/lib/python3.9/site-packages (from seaborn) (1.4.2)\n",
      "Requirement already satisfied: matplotlib!=3.6.1,>=3.1 in /opt/saturncloud/envs/saturn/lib/python3.9/site-packages (from seaborn) (3.5.2)\n",
      "Requirement already satisfied: numpy!=1.24.0,>=1.17 in /opt/saturncloud/envs/saturn/lib/python3.9/site-packages (from seaborn) (1.21.6)\n",
      "Requirement already satisfied: cycler>=0.10 in /opt/saturncloud/envs/saturn/lib/python3.9/site-packages (from matplotlib!=3.6.1,>=3.1->seaborn) (0.11.0)\n",
      "Requirement already satisfied: kiwisolver>=1.0.1 in /opt/saturncloud/envs/saturn/lib/python3.9/site-packages (from matplotlib!=3.6.1,>=3.1->seaborn) (1.4.4)\n",
      "Requirement already satisfied: pyparsing>=2.2.1 in /opt/saturncloud/envs/saturn/lib/python3.9/site-packages (from matplotlib!=3.6.1,>=3.1->seaborn) (3.0.9)\n",
      "Requirement already satisfied: python-dateutil>=2.7 in /opt/saturncloud/envs/saturn/lib/python3.9/site-packages (from matplotlib!=3.6.1,>=3.1->seaborn) (2.8.2)\n",
      "Requirement already satisfied: fonttools>=4.22.0 in /opt/saturncloud/envs/saturn/lib/python3.9/site-packages (from matplotlib!=3.6.1,>=3.1->seaborn) (4.37.3)\n",
      "Requirement already satisfied: packaging>=20.0 in /opt/saturncloud/envs/saturn/lib/python3.9/site-packages (from matplotlib!=3.6.1,>=3.1->seaborn) (21.3)\n",
      "Requirement already satisfied: pillow>=6.2.0 in /opt/saturncloud/envs/saturn/lib/python3.9/site-packages (from matplotlib!=3.6.1,>=3.1->seaborn) (9.2.0)\n",
      "Requirement already satisfied: pytz>=2020.1 in /opt/saturncloud/envs/saturn/lib/python3.9/site-packages (from pandas>=0.25->seaborn) (2022.2.1)\n",
      "Requirement already satisfied: six>=1.5 in /opt/saturncloud/envs/saturn/lib/python3.9/site-packages (from python-dateutil>=2.7->matplotlib!=3.6.1,>=3.1->seaborn) (1.16.0)\n",
      "Installing collected packages: seaborn\n",
      "Successfully installed seaborn-0.12.2\n",
      "Note: you may need to restart the kernel to use updated packages.\n"
     ]
    }
   ],
   "source": [
    "pip install seaborn"
   ]
  },
  {
   "cell_type": "code",
   "execution_count": 29,
   "id": "26253eb6-c594-4f34-acfe-81b52871648f",
   "metadata": {
    "execution": {
     "iopub.execute_input": "2023-07-29T12:49:16.929304Z",
     "iopub.status.busy": "2023-07-29T12:49:16.928896Z",
     "iopub.status.idle": "2023-07-29T12:49:17.046758Z",
     "shell.execute_reply": "2023-07-29T12:49:17.046099Z",
     "shell.execute_reply.started": "2023-07-29T12:49:16.929268Z"
    },
    "tags": []
   },
   "outputs": [],
   "source": [
    "import seaborn as sns"
   ]
  },
  {
   "cell_type": "code",
   "execution_count": 30,
   "id": "caeea19c-3e84-40d6-b24e-2b808be0184c",
   "metadata": {
    "execution": {
     "iopub.execute_input": "2023-07-29T12:49:18.420361Z",
     "iopub.status.busy": "2023-07-29T12:49:18.419927Z",
     "iopub.status.idle": "2023-07-29T12:49:18.564928Z",
     "shell.execute_reply": "2023-07-29T12:49:18.564069Z",
     "shell.execute_reply.started": "2023-07-29T12:49:18.420310Z"
    },
    "tags": []
   },
   "outputs": [
    {
     "data": {
      "image/png": "[encoded data removed]",
      "text/plain": [
       "<Figure size 640x480 with 1 Axes>"
      ]
     },
     "metadata": {},
     "output_type": "display_data"
    }
   ],
   "source": [
    "sns.lineplot(x=range(len(loss)),y=loss)\n",
    "plt.title(\"Loss on training set by Epoch\");"
   ]
  },
  {
   "cell_type": "markdown",
   "id": "90d99e00-bdd3-445d-bda3-32ca4112c525",
   "metadata": {},
   "source": [
    "Hereabove, the network stabilizes after 150 epochs as can be seen in the above plot, so we should likely readjust our model to the correct number of epochs (done).\n",
    "\n",
    "After recalibrating the model, we confirm that a stabilization occurs around 60 epochs."
   ]
  },
  {
   "cell_type": "markdown",
   "id": "9fae603e-6c9a-4163-88eb-834567fcf2d2",
   "metadata": {},
   "source": [
    "#### Saving first model"
   ]
  },
  {
   "cell_type": "code",
   "execution_count": 28,
   "id": "f30e5bb8-26f0-4c6a-8bc6-fc99144531b1",
   "metadata": {
    "execution": {
     "iopub.execute_input": "2023-07-29T06:54:43.463493Z",
     "iopub.status.busy": "2023-07-29T06:54:43.463040Z",
     "iopub.status.idle": "2023-07-29T06:54:43.534894Z",
     "shell.execute_reply": "2023-07-29T06:54:43.534129Z",
     "shell.execute_reply.started": "2023-07-29T06:54:43.463465Z"
    },
    "tags": []
   },
   "outputs": [],
   "source": [
    "model.save ('WidedLabanne_modelV8.h5')"
   ]
  },
  {
   "cell_type": "markdown",
   "id": "6f44a204-dd7c-40a1-a415-ba8f776c88bb",
   "metadata": {},
   "source": [
    "# Mobilnets\n",
    "In this final section, we'll use MobileNets using TensorFlow's Keras API, a class of deep convolutional neural networks that are much smaller in size and faster in performance than many other popular models.\n",
    "\n",
    "MobileNet is a lightweight and efficient neural network architecture that is designed for mobile and embedded vision applications. The model consists of bottleneck blocks and SE (Squeeze-and-Excitation) blocks, which are used to improve the efficiency and performance of the network.\n",
    "\n",
    "Overall, the model aims to efficiently process the input game board data, make informed predictions about the next move (policy), and estimate the probability of winning the game from the current position (value). "
   ]
  },
  {
   "cell_type": "code",
   "execution_count": 31,
   "id": "10c95595-3f36-4346-8874-11dcc4bb3a27",
   "metadata": {
    "execution": {
     "iopub.execute_input": "2023-07-29T12:51:22.199438Z",
     "iopub.status.busy": "2023-07-29T12:51:22.199046Z",
     "iopub.status.idle": "2023-07-29T12:51:22.203034Z",
     "shell.execute_reply": "2023-07-29T12:51:22.202245Z",
     "shell.execute_reply.started": "2023-07-29T12:51:22.199416Z"
    },
    "tags": []
   },
   "outputs": [],
   "source": [
    "from keras import backend as K\n",
    "import timeit"
   ]
  },
  {
   "cell_type": "code",
   "execution_count": 45,
   "id": "1bb272ae-ed2f-4c7f-865d-0b7e0a373974",
   "metadata": {
    "execution": {
     "iopub.execute_input": "2023-07-29T13:00:42.374671Z",
     "iopub.status.busy": "2023-07-29T13:00:42.374270Z",
     "iopub.status.idle": "2023-07-29T13:00:44.631556Z",
     "shell.execute_reply": "2023-07-29T13:00:44.630755Z",
     "shell.execute_reply.started": "2023-07-29T13:00:42.374646Z"
    }
   },
   "outputs": [
    {
     "name": "stdout",
     "output_type": "stream",
     "text": [
      "getValidation\n"
     ]
    },
    {
     "name": "stderr",
     "output_type": "stream",
     "text": [
      "r.shape = (10000, 19, 19, 31)\n",
      "nbExamples = 10000\n"
     ]
    }
   ],
   "source": [
    "planes = 31\n",
    "moves = 361\n",
    "N = 10000\n",
    "epochs = 300\n",
    "batch = 128\n",
    "filters = 64 # Increasing the number of filters to adjust parameters\n",
    "\n",
    "input_data = np.random.randint(2, size=(N, 19, 19, planes))\n",
    "input_data = input_data.astype ('float32')\n",
    "\n",
    "policy = np.random.randint(moves, size=(N,))\n",
    "policy = keras.utils.to_categorical (policy)\n",
    "\n",
    "value = np.random.randint(2, size=(N,))\n",
    "value = value.astype ('float32')\n",
    "\n",
    "end = np.random.randint(2, size=(N, 19, 19, 2))\n",
    "end = end.astype ('float32')\n",
    "\n",
    "groups = np.zeros((N, 19, 19, 1))\n",
    "groups = groups.astype ('float32')\n",
    "\n",
    "print (\"getValidation\", flush = True)\n",
    "golois.getValidation (input_data, policy, value, end)"
   ]
  },
  {
   "cell_type": "code",
   "execution_count": 55,
   "id": "afb2493e-7ce2-4717-aa8f-357921b6afbc",
   "metadata": {
    "execution": {
     "iopub.execute_input": "2023-07-29T13:05:24.114651Z",
     "iopub.status.busy": "2023-07-29T13:05:24.114250Z",
     "iopub.status.idle": "2023-07-29T13:05:24.587792Z",
     "shell.execute_reply": "2023-07-29T13:05:24.587008Z",
     "shell.execute_reply.started": "2023-07-29T13:05:24.114624Z"
    },
    "tags": []
   },
   "outputs": [
    {
     "name": "stdout",
     "output_type": "stream",
     "text": [
      "Model: \"model_24\"\n",
      "__________________________________________________________________________________________________\n",
      " Layer (type)                   Output Shape         Param #     Connected to                     \n",
      "==================================================================================================\n",
      " board (InputLayer)             [(None, 19, 19, 31)  0           []                               \n",
      "                                ]                                                                 \n",
      "                                                                                                  \n",
      " conv2d_272 (Conv2D)            (None, 19, 19, 64)   2048        ['board[0][0]']                  \n",
      "                                                                                                  \n",
      " conv2d_273 (Conv2D)            (None, 19, 19, 128)  8192        ['conv2d_272[0][0]']             \n",
      "                                                                                                  \n",
      " batch_normalization_282 (Batch  (None, 19, 19, 128)  512        ['conv2d_273[0][0]']             \n",
      " Normalization)                                                                                   \n",
      "                                                                                                  \n",
      " activation_188 (Activation)    (None, 19, 19, 128)  0           ['batch_normalization_282[0][0]']\n",
      "                                                                                                  \n",
      " depthwise_conv2d_94 (Depthwise  (None, 19, 19, 128)  1152       ['activation_188[0][0]']         \n",
      " Conv2D)                                                                                          \n",
      "                                                                                                  \n",
      " global_average_pooling2d_94 (G  (None, 64)          0           ['conv2d_272[0][0]']             \n",
      " lobalAveragePooling2D)                                                                           \n",
      "                                                                                                  \n",
      " batch_normalization_283 (Batch  (None, 19, 19, 128)  512        ['depthwise_conv2d_94[0][0]']    \n",
      " Normalization)                                                                                   \n",
      "                                                                                                  \n",
      " reshape_94 (Reshape)           (None, 1, 1, 64)     0           ['global_average_pooling2d_94[0][\n",
      "                                                                 0]']                             \n",
      "                                                                                                  \n",
      " activation_189 (Activation)    (None, 19, 19, 128)  0           ['batch_normalization_283[0][0]']\n",
      "                                                                                                  \n",
      " dense_216 (Dense)              (None, 1, 1, 4)      256         ['reshape_94[0][0]']             \n",
      "                                                                                                  \n",
      " conv2d_274 (Conv2D)            (None, 19, 19, 64)   8192        ['activation_189[0][0]']         \n",
      "                                                                                                  \n",
      " dense_217 (Dense)              (None, 1, 1, 64)     256         ['dense_216[0][0]']              \n",
      "                                                                                                  \n",
      " batch_normalization_284 (Batch  (None, 19, 19, 64)  256         ['conv2d_274[0][0]']             \n",
      " Normalization)                                                                                   \n",
      "                                                                                                  \n",
      " multiply_94 (Multiply)         (None, 19, 19, 64)   0           ['conv2d_272[0][0]',             \n",
      "                                                                  'dense_217[0][0]']              \n",
      "                                                                                                  \n",
      " add_94 (Add)                   (None, 19, 19, 64)   0           ['batch_normalization_284[0][0]',\n",
      "                                                                  'multiply_94[0][0]']            \n",
      "                                                                                                  \n",
      " conv2d_275 (Conv2D)            (None, 19, 19, 128)  8192        ['add_94[0][0]']                 \n",
      "                                                                                                  \n",
      " batch_normalization_285 (Batch  (None, 19, 19, 128)  512        ['conv2d_275[0][0]']             \n",
      " Normalization)                                                                                   \n",
      "                                                                                                  \n",
      " activation_190 (Activation)    (None, 19, 19, 128)  0           ['batch_normalization_285[0][0]']\n",
      "                                                                                                  \n",
      " depthwise_conv2d_95 (Depthwise  (None, 19, 19, 128)  1152       ['activation_190[0][0]']         \n",
      " Conv2D)                                                                                          \n",
      "                                                                                                  \n",
      " global_average_pooling2d_95 (G  (None, 64)          0           ['add_94[0][0]']                 \n",
      " lobalAveragePooling2D)                                                                           \n",
      "                                                                                                  \n",
      " batch_normalization_286 (Batch  (None, 19, 19, 128)  512        ['depthwise_conv2d_95[0][0]']    \n",
      " Normalization)                                                                                   \n",
      "                                                                                                  \n",
      " reshape_95 (Reshape)           (None, 1, 1, 64)     0           ['global_average_pooling2d_95[0][\n",
      "                                                                 0]']                             \n",
      "                                                                                                  \n",
      " activation_191 (Activation)    (None, 19, 19, 128)  0           ['batch_normalization_286[0][0]']\n",
      "                                                                                                  \n",
      " dense_218 (Dense)              (None, 1, 1, 4)      256         ['reshape_95[0][0]']             \n",
      "                                                                                                  \n",
      " conv2d_276 (Conv2D)            (None, 19, 19, 64)   8192        ['activation_191[0][0]']         \n",
      "                                                                                                  \n",
      " dense_219 (Dense)              (None, 1, 1, 64)     256         ['dense_218[0][0]']              \n",
      "                                                                                                  \n",
      " batch_normalization_287 (Batch  (None, 19, 19, 64)  256         ['conv2d_276[0][0]']             \n",
      " Normalization)                                                                                   \n",
      "                                                                                                  \n",
      " multiply_95 (Multiply)         (None, 19, 19, 64)   0           ['add_94[0][0]',                 \n",
      "                                                                  'dense_219[0][0]']              \n",
      "                                                                                                  \n",
      " add_95 (Add)                   (None, 19, 19, 64)   0           ['batch_normalization_287[0][0]',\n",
      "                                                                  'multiply_95[0][0]']            \n",
      "                                                                                                  \n",
      " conv2d_277 (Conv2D)            (None, 19, 19, 128)  8192        ['add_95[0][0]']                 \n",
      "                                                                                                  \n",
      " batch_normalization_288 (Batch  (None, 19, 19, 128)  512        ['conv2d_277[0][0]']             \n",
      " Normalization)                                                                                   \n",
      "                                                                                                  \n",
      " activation_192 (Activation)    (None, 19, 19, 128)  0           ['batch_normalization_288[0][0]']\n",
      "                                                                                                  \n",
      " depthwise_conv2d_96 (Depthwise  (None, 19, 19, 128)  1152       ['activation_192[0][0]']         \n",
      " Conv2D)                                                                                          \n",
      "                                                                                                  \n",
      " global_average_pooling2d_96 (G  (None, 64)          0           ['add_95[0][0]']                 \n",
      " lobalAveragePooling2D)                                                                           \n",
      "                                                                                                  \n",
      " batch_normalization_289 (Batch  (None, 19, 19, 128)  512        ['depthwise_conv2d_96[0][0]']    \n",
      " Normalization)                                                                                   \n",
      "                                                                                                  \n",
      " reshape_96 (Reshape)           (None, 1, 1, 64)     0           ['global_average_pooling2d_96[0][\n",
      "                                                                 0]']                             \n",
      "                                                                                                  \n",
      " activation_193 (Activation)    (None, 19, 19, 128)  0           ['batch_normalization_289[0][0]']\n",
      "                                                                                                  \n",
      " dense_220 (Dense)              (None, 1, 1, 4)      256         ['reshape_96[0][0]']             \n",
      "                                                                                                  \n",
      " conv2d_278 (Conv2D)            (None, 19, 19, 64)   8192        ['activation_193[0][0]']         \n",
      "                                                                                                  \n",
      " dense_221 (Dense)              (None, 1, 1, 64)     256         ['dense_220[0][0]']              \n",
      "                                                                                                  \n",
      " batch_normalization_290 (Batch  (None, 19, 19, 64)  256         ['conv2d_278[0][0]']             \n",
      " Normalization)                                                                                   \n",
      "                                                                                                  \n",
      " multiply_96 (Multiply)         (None, 19, 19, 64)   0           ['add_95[0][0]',                 \n",
      "                                                                  'dense_221[0][0]']              \n",
      "                                                                                                  \n",
      " add_96 (Add)                   (None, 19, 19, 64)   0           ['batch_normalization_290[0][0]',\n",
      "                                                                  'multiply_96[0][0]']            \n",
      "                                                                                                  \n",
      " conv2d_279 (Conv2D)            (None, 19, 19, 128)  8192        ['add_96[0][0]']                 \n",
      "                                                                                                  \n",
      " batch_normalization_291 (Batch  (None, 19, 19, 128)  512        ['conv2d_279[0][0]']             \n",
      " Normalization)                                                                                   \n",
      "                                                                                                  \n",
      " activation_194 (Activation)    (None, 19, 19, 128)  0           ['batch_normalization_291[0][0]']\n",
      "                                                                                                  \n",
      " depthwise_conv2d_97 (Depthwise  (None, 19, 19, 128)  1152       ['activation_194[0][0]']         \n",
      " Conv2D)                                                                                          \n",
      "                                                                                                  \n",
      " global_average_pooling2d_97 (G  (None, 64)          0           ['add_96[0][0]']                 \n",
      " lobalAveragePooling2D)                                                                           \n",
      "                                                                                                  \n",
      " batch_normalization_292 (Batch  (None, 19, 19, 128)  512        ['depthwise_conv2d_97[0][0]']    \n",
      " Normalization)                                                                                   \n",
      "                                                                                                  \n",
      " reshape_97 (Reshape)           (None, 1, 1, 64)     0           ['global_average_pooling2d_97[0][\n",
      "                                                                 0]']                             \n",
      "                                                                                                  \n",
      " activation_195 (Activation)    (None, 19, 19, 128)  0           ['batch_normalization_292[0][0]']\n",
      "                                                                                                  \n",
      " dense_222 (Dense)              (None, 1, 1, 4)      256         ['reshape_97[0][0]']             \n",
      "                                                                                                  \n",
      " conv2d_280 (Conv2D)            (None, 19, 19, 64)   8192        ['activation_195[0][0]']         \n",
      "                                                                                                  \n",
      " dense_223 (Dense)              (None, 1, 1, 64)     256         ['dense_222[0][0]']              \n",
      "                                                                                                  \n",
      " batch_normalization_293 (Batch  (None, 19, 19, 64)  256         ['conv2d_280[0][0]']             \n",
      " Normalization)                                                                                   \n",
      "                                                                                                  \n",
      " multiply_97 (Multiply)         (None, 19, 19, 64)   0           ['add_96[0][0]',                 \n",
      "                                                                  'dense_223[0][0]']              \n",
      "                                                                                                  \n",
      " add_97 (Add)                   (None, 19, 19, 64)   0           ['batch_normalization_293[0][0]',\n",
      "                                                                  'multiply_97[0][0]']            \n",
      "                                                                                                  \n",
      " conv2d_282 (Conv2D)            (None, 19, 19, 1)    64          ['add_97[0][0]']                 \n",
      "                                                                                                  \n",
      " conv2d_281 (Conv2D)            (None, 19, 19, 1)    64          ['add_97[0][0]']                 \n",
      "                                                                                                  \n",
      " flatten_49 (Flatten)           (None, 361)          0           ['conv2d_282[0][0]']             \n",
      "                                                                                                  \n",
      " flatten_48 (Flatten)           (None, 361)          0           ['conv2d_281[0][0]']             \n",
      "                                                                                                  \n",
      " dense_224 (Dense)              (None, 56)           20272       ['flatten_49[0][0]']             \n",
      "                                                                                                  \n",
      " policy (Activation)            (None, 361)          0           ['flatten_48[0][0]']             \n",
      "                                                                                                  \n",
      " value (Dense)                  (None, 1)            57          ['dense_224[0][0]']              \n",
      "                                                                                                  \n",
      "==================================================================================================\n",
      "Total params: 99,817\n",
      "Trainable params: 97,257\n",
      "Non-trainable params: 2,560\n",
      "__________________________________________________________________________________________________\n"
     ]
    }
   ],
   "source": [
    "def SE_Block(t, filters, ratio = 16):\n",
    "    se_shape = (1, 1, filters)\n",
    "    se = layers.GlobalAveragePooling2D()(t)\n",
    "    se = layers.Reshape(se_shape)(se)\n",
    "    se = layers.Dense(filters // ratio, activation='relu', use_bias=False)(se)\n",
    "    se = layers.Dense(filters, activation='sigmoid', use_bias=False)(se)\n",
    "    x = layers.multiply([t, se])\n",
    "    return x\n",
    "\n",
    "def bottleneck_block(x, expand = 4 * filters, squeeze=filters):\n",
    "    m = layers.Conv2D(expand, (1,1), kernel_regularizer=regularizers.l2(0.0001), use_bias=False)(x)\n",
    "    m = layers.BatchNormalization()(m)\n",
    "    m = layers.Activation('relu')(m)\n",
    "\n",
    "    m = layers.DepthwiseConv2D((3,3), padding='same', kernel_regularizer=regularizers.l2(0.0001), use_bias=False)(m)\n",
    "    m = layers.BatchNormalization()(m)\n",
    "    m = layers.Activation('relu')(m)\n",
    "\n",
    "    m = layers.Conv2D(squeeze, (1,1), kernel_regularizer=regularizers.l2(0.0001), use_bias=False)(m)\n",
    "    m = layers.BatchNormalization()(m)\n",
    "\n",
    "    x = SE_Block(x, filters)\n",
    "    return layers.Add()([m, x])\n",
    "\n",
    "input = keras.Input(shape=(19, 19, planes), name='board')\n",
    "x = layers.Conv2D(filters, 1, activation='relu', padding='same')(input)\n",
    "\n",
    "\n",
    "# Adjusting the number of bottleneck blocks and filters to reduce parameters\n",
    "for i in range(4):  # Using 7 bottleneck blocks\n",
    "    x = bottleneck_block(x, expand=2*filters, squeeze=filters)\n",
    "\n",
    "policy_head = layers.Conv2D(1, 1, activation='relu', padding='same', use_bias=False, kernel_regularizer=regularizers.l2(0.0001))(x)\n",
    "policy_head = layers.Flatten()(policy_head)\n",
    "policy_head = layers.Activation('softmax', name='policy')(policy_head)\n",
    "\n",
    "value_head = layers.Conv2D(1, 1, activation='relu', padding='same', use_bias=False, kernel_regularizer=regularizers.l2(0.0001))(x)\n",
    "value_head = layers.Flatten()(value_head)\n",
    "value_head = layers.Dense(56, activation='relu', kernel_regularizer=regularizers.l2(0.0001))(value_head)  # Increase dense units\n",
    "value_head = layers.Dense(1, activation='sigmoid', name='value', kernel_regularizer=regularizers.l2(0.0001))(value_head)\n",
    "\n",
    "model_2 = keras.Model(inputs=input, outputs=[policy_head, value_head])\n",
    "model_2.summary()"
   ]
  },
  {
   "cell_type": "markdown",
   "id": "86bc71d0-5f77-452e-829b-95d6748b5a02",
   "metadata": {},
   "source": [
    "#### Compilation of Mobilnet Model"
   ]
  },
  {
   "cell_type": "code",
   "execution_count": 56,
   "id": "77a65250-e377-45d6-b9ef-a76b67410f21",
   "metadata": {
    "execution": {
     "iopub.execute_input": "2023-07-29T13:06:03.620103Z",
     "iopub.status.busy": "2023-07-29T13:06:03.619729Z",
     "iopub.status.idle": "2023-07-29T13:06:03.629838Z",
     "shell.execute_reply": "2023-07-29T13:06:03.629175Z",
     "shell.execute_reply.started": "2023-07-29T13:06:03.620077Z"
    }
   },
   "outputs": [],
   "source": [
    "optimizer = keras.optimizers.Adam()  # Using Adam optimizer\n",
    "\n",
    "model_2.compile(\n",
    "    optimizer=optimizer,\n",
    "    loss={'policy': 'categorical_crossentropy', 'value': 'binary_crossentropy'},\n",
    "    loss_weights={'policy': 1.0, 'value': 1.0},\n",
    "    metrics={'policy': 'categorical_accuracy', 'value': 'mse'}\n",
    ")"
   ]
  },
  {
   "cell_type": "markdown",
   "id": "afb63a6f-397e-4dc2-bf1a-e46526f5b2d8",
   "metadata": {},
   "source": [
    "#### Mobilnet Training"
   ]
  },
  {
   "cell_type": "code",
   "execution_count": 57,
   "id": "0925e4a8-345e-4503-8fb1-f1acabe755d1",
   "metadata": {
    "execution": {
     "iopub.execute_input": "2023-07-29T13:09:18.190017Z",
     "iopub.status.busy": "2023-07-29T13:09:18.189625Z",
     "iopub.status.idle": "2023-07-29T13:37:00.980064Z",
     "shell.execute_reply": "2023-07-29T13:37:00.979222Z",
     "shell.execute_reply.started": "2023-07-29T13:09:18.189991Z"
    }
   },
   "outputs": [
    {
     "name": "stdout",
     "output_type": "stream",
     "text": [
      "epoch 1\n",
      "<tf.Variable 'learning_rate:0' shape=() dtype=float32, numpy=0.0005>\n"
     ]
    },
    {
     "name": "stderr",
     "output_type": "stream",
     "text": [
      "r.shape = (10000, 19, 19, 31)\n",
      "nbExamples = 10000\n",
      "/tmp/ipykernel_108/1067138075.py:41: FutureWarning: The frame.append method is deprecated and will be removed from pandas in a future version. Use pandas.concat instead.\n",
      "  loss_df2 = loss_df2.append({\n"
     ]
    },
    {
     "name": "stdout",
     "output_type": "stream",
     "text": [
      "epoch 2\n",
      "<tf.Variable 'learning_rate:0' shape=() dtype=float32, numpy=0.0005>\n"
     ]
    },
    {
     "name": "stderr",
     "output_type": "stream",
     "text": [
      "r.shape = (10000, 19, 19, 31)\n",
      "nbExamples = 10000\n",
      "/tmp/ipykernel_108/1067138075.py:41: FutureWarning: The frame.append method is deprecated and will be removed from pandas in a future version. Use pandas.concat instead.\n",
      "  loss_df2 = loss_df2.append({\n"
     ]
    },
    {
     "name": "stdout",
     "output_type": "stream",
     "text": [
      "epoch 3\n",
      "<tf.Variable 'learning_rate:0' shape=() dtype=float32, numpy=0.0005>\n"
     ]
    },
    {
     "name": "stderr",
     "output_type": "stream",
     "text": [
      "r.shape = (10000, 19, 19, 31)\n",
      "nbExamples = 10000\n",
      "/tmp/ipykernel_108/1067138075.py:41: FutureWarning: The frame.append method is deprecated and will be removed from pandas in a future version. Use pandas.concat instead.\n",
      "  loss_df2 = loss_df2.append({\n"
     ]
    },
    {
     "name": "stdout",
     "output_type": "stream",
     "text": [
      "epoch 4\n",
      "<tf.Variable 'learning_rate:0' shape=() dtype=float32, numpy=0.0005>\n"
     ]
    },
    {
     "name": "stderr",
     "output_type": "stream",
     "text": [
      "r.shape = (10000, 19, 19, 31)\n",
      "nbExamples = 10000\n",
      "/tmp/ipykernel_108/1067138075.py:41: FutureWarning: The frame.append method is deprecated and will be removed from pandas in a future version. Use pandas.concat instead.\n",
      "  loss_df2 = loss_df2.append({\n",
      "r.shape = (10000, 19, 19, 31)\n",
      "nbExamples = 10000\n"
     ]
    },
    {
     "name": "stdout",
     "output_type": "stream",
     "text": [
      "epoch 5\n",
      "<tf.Variable 'learning_rate:0' shape=() dtype=float32, numpy=0.0005>\n"
     ]
    },
    {
     "name": "stderr",
     "output_type": "stream",
     "text": [
      "/tmp/ipykernel_108/1067138075.py:41: FutureWarning: The frame.append method is deprecated and will be removed from pandas in a future version. Use pandas.concat instead.\n",
      "  loss_df2 = loss_df2.append({\n"
     ]
    },
    {
     "name": "stdout",
     "output_type": "stream",
     "text": [
      "epoch 6\n",
      "<tf.Variable 'learning_rate:0' shape=() dtype=float32, numpy=0.0005>\n"
     ]
    },
    {
     "name": "stderr",
     "output_type": "stream",
     "text": [
      "r.shape = (10000, 19, 19, 31)\n",
      "nbExamples = 10000\n",
      "/tmp/ipykernel_108/1067138075.py:41: FutureWarning: The frame.append method is deprecated and will be removed from pandas in a future version. Use pandas.concat instead.\n",
      "  loss_df2 = loss_df2.append({\n"
     ]
    },
    {
     "name": "stdout",
     "output_type": "stream",
     "text": [
      "epoch 7\n",
      "<tf.Variable 'learning_rate:0' shape=() dtype=float32, numpy=0.0005>\n"
     ]
    },
    {
     "name": "stderr",
     "output_type": "stream",
     "text": [
      "r.shape = (10000, 19, 19, 31)\n",
      "nbExamples = 10000\n",
      "/tmp/ipykernel_108/1067138075.py:41: FutureWarning: The frame.append method is deprecated and will be removed from pandas in a future version. Use pandas.concat instead.\n",
      "  loss_df2 = loss_df2.append({\n",
      "r.shape = (10000, 19, 19, 31)\n",
      "nbExamples = 10000\n"
     ]
    },
    {
     "name": "stdout",
     "output_type": "stream",
     "text": [
      "epoch 8\n",
      "<tf.Variable 'learning_rate:0' shape=() dtype=float32, numpy=0.0005>\n"
     ]
    },
    {
     "name": "stderr",
     "output_type": "stream",
     "text": [
      "/tmp/ipykernel_108/1067138075.py:41: FutureWarning: The frame.append method is deprecated and will be removed from pandas in a future version. Use pandas.concat instead.\n",
      "  loss_df2 = loss_df2.append({\n"
     ]
    },
    {
     "name": "stdout",
     "output_type": "stream",
     "text": [
      "epoch 9\n",
      "<tf.Variable 'learning_rate:0' shape=() dtype=float32, numpy=0.0005>\n"
     ]
    },
    {
     "name": "stderr",
     "output_type": "stream",
     "text": [
      "r.shape = (10000, 19, 19, 31)\n",
      "nbExamples = 10000\n",
      "/tmp/ipykernel_108/1067138075.py:41: FutureWarning: The frame.append method is deprecated and will be removed from pandas in a future version. Use pandas.concat instead.\n",
      "  loss_df2 = loss_df2.append({\n"
     ]
    },
    {
     "name": "stdout",
     "output_type": "stream",
     "text": [
      "epoch 10\n",
      "<tf.Variable 'learning_rate:0' shape=() dtype=float32, numpy=0.0005>\n"
     ]
    },
    {
     "name": "stderr",
     "output_type": "stream",
     "text": [
      "r.shape = (10000, 19, 19, 31)\n",
      "nbExamples = 10000\n",
      "/tmp/ipykernel_108/1067138075.py:41: FutureWarning: The frame.append method is deprecated and will be removed from pandas in a future version. Use pandas.concat instead.\n",
      "  loss_df2 = loss_df2.append({\n"
     ]
    },
    {
     "name": "stdout",
     "output_type": "stream",
     "text": [
      "epoch 11\n",
      "<tf.Variable 'learning_rate:0' shape=() dtype=float32, numpy=0.0005>\n"
     ]
    },
    {
     "name": "stderr",
     "output_type": "stream",
     "text": [
      "r.shape = (10000, 19, 19, 31)\n",
      "nbExamples = 10000\n",
      "/tmp/ipykernel_108/1067138075.py:41: FutureWarning: The frame.append method is deprecated and will be removed from pandas in a future version. Use pandas.concat instead.\n",
      "  loss_df2 = loss_df2.append({\n",
      "r.shape = (10000, 19, 19, 31)\n"
     ]
    },
    {
     "name": "stdout",
     "output_type": "stream",
     "text": [
      "epoch 12\n",
      "<tf.Variable 'learning_rate:0' shape=() dtype=float32, numpy=0.0005>\n"
     ]
    },
    {
     "name": "stderr",
     "output_type": "stream",
     "text": [
      "nbExamples = 10000\n",
      "/tmp/ipykernel_108/1067138075.py:41: FutureWarning: The frame.append method is deprecated and will be removed from pandas in a future version. Use pandas.concat instead.\n",
      "  loss_df2 = loss_df2.append({\n",
      "r.shape = (10000, 19, 19, 31)\n",
      "nbExamples = 10000\n"
     ]
    },
    {
     "name": "stdout",
     "output_type": "stream",
     "text": [
      "epoch 13\n",
      "<tf.Variable 'learning_rate:0' shape=() dtype=float32, numpy=0.0005>\n"
     ]
    },
    {
     "name": "stderr",
     "output_type": "stream",
     "text": [
      "/tmp/ipykernel_108/1067138075.py:41: FutureWarning: The frame.append method is deprecated and will be removed from pandas in a future version. Use pandas.concat instead.\n",
      "  loss_df2 = loss_df2.append({\n",
      "r.shape = (10000, 19, 19, 31)\n",
      "nbExamples = 10000\n"
     ]
    },
    {
     "name": "stdout",
     "output_type": "stream",
     "text": [
      "epoch 14\n",
      "<tf.Variable 'learning_rate:0' shape=() dtype=float32, numpy=0.0005>\n"
     ]
    },
    {
     "name": "stderr",
     "output_type": "stream",
     "text": [
      "/tmp/ipykernel_108/1067138075.py:41: FutureWarning: The frame.append method is deprecated and will be removed from pandas in a future version. Use pandas.concat instead.\n",
      "  loss_df2 = loss_df2.append({\n"
     ]
    },
    {
     "name": "stdout",
     "output_type": "stream",
     "text": [
      "epoch 15\n",
      "<tf.Variable 'learning_rate:0' shape=() dtype=float32, numpy=0.0005>\n"
     ]
    },
    {
     "name": "stderr",
     "output_type": "stream",
     "text": [
      "r.shape = (10000, 19, 19, 31)\n",
      "nbExamples = 10000\n",
      "/tmp/ipykernel_108/1067138075.py:41: FutureWarning: The frame.append method is deprecated and will be removed from pandas in a future version. Use pandas.concat instead.\n",
      "  loss_df2 = loss_df2.append({\n"
     ]
    },
    {
     "name": "stdout",
     "output_type": "stream",
     "text": [
      "epoch 16\n",
      "<tf.Variable 'learning_rate:0' shape=() dtype=float32, numpy=0.0005>\n"
     ]
    },
    {
     "name": "stderr",
     "output_type": "stream",
     "text": [
      "r.shape = (10000, 19, 19, 31)\n",
      "nbExamples = 10000\n",
      "/tmp/ipykernel_108/1067138075.py:41: FutureWarning: The frame.append method is deprecated and will be removed from pandas in a future version. Use pandas.concat instead.\n",
      "  loss_df2 = loss_df2.append({\n",
      "r.shape = (10000, 19, 19, 31)\n",
      "nbExamples = 10000\n"
     ]
    },
    {
     "name": "stdout",
     "output_type": "stream",
     "text": [
      "epoch 17\n",
      "<tf.Variable 'learning_rate:0' shape=() dtype=float32, numpy=0.0005>\n"
     ]
    },
    {
     "name": "stderr",
     "output_type": "stream",
     "text": [
      "/tmp/ipykernel_108/1067138075.py:41: FutureWarning: The frame.append method is deprecated and will be removed from pandas in a future version. Use pandas.concat instead.\n",
      "  loss_df2 = loss_df2.append({\n"
     ]
    },
    {
     "name": "stdout",
     "output_type": "stream",
     "text": [
      "epoch 18\n",
      "<tf.Variable 'learning_rate:0' shape=() dtype=float32, numpy=0.0005>\n"
     ]
    },
    {
     "name": "stderr",
     "output_type": "stream",
     "text": [
      "r.shape = (10000, 19, 19, 31)\n",
      "nbExamples = 10000\n",
      "/tmp/ipykernel_108/1067138075.py:41: FutureWarning: The frame.append method is deprecated and will be removed from pandas in a future version. Use pandas.concat instead.\n",
      "  loss_df2 = loss_df2.append({\n",
      "r.shape = (10000, 19, 19, 31)\n",
      "nbExamples = 10000\n"
     ]
    },
    {
     "name": "stdout",
     "output_type": "stream",
     "text": [
      "epoch 19\n",
      "<tf.Variable 'learning_rate:0' shape=() dtype=float32, numpy=0.0005>\n"
     ]
    },
    {
     "name": "stderr",
     "output_type": "stream",
     "text": [
      "/tmp/ipykernel_108/1067138075.py:41: FutureWarning: The frame.append method is deprecated and will be removed from pandas in a future version. Use pandas.concat instead.\n",
      "  loss_df2 = loss_df2.append({\n"
     ]
    },
    {
     "name": "stdout",
     "output_type": "stream",
     "text": [
      "epoch 20\n",
      "<tf.Variable 'learning_rate:0' shape=() dtype=float32, numpy=0.0005>\n"
     ]
    },
    {
     "name": "stderr",
     "output_type": "stream",
     "text": [
      "r.shape = (10000, 19, 19, 31)\n",
      "nbExamples = 10000\n",
      "r.shape = (10000, 19, 19, 31)\n",
      "nbExamples = 10000\n"
     ]
    },
    {
     "name": "stdout",
     "output_type": "stream",
     "text": [
      "val = [3.705714464187622, 2.9414923191070557, 0.6897391676902771, 0.32100000977516174, 0.11834804713726044]\n",
      "epoch 21\n",
      "<tf.Variable 'learning_rate:0' shape=() dtype=float32, numpy=0.0005>\n"
     ]
    },
    {
     "name": "stderr",
     "output_type": "stream",
     "text": [
      "/tmp/ipykernel_108/1067138075.py:41: FutureWarning: The frame.append method is deprecated and will be removed from pandas in a future version. Use pandas.concat instead.\n",
      "  loss_df2 = loss_df2.append({\n",
      "r.shape = (10000, 19, 19, 31)\n",
      "nbExamples = 10000\n",
      "/tmp/ipykernel_108/1067138075.py:41: FutureWarning: The frame.append method is deprecated and will be removed from pandas in a future version. Use pandas.concat instead.\n",
      "  loss_df2 = loss_df2.append({\n"
     ]
    },
    {
     "name": "stdout",
     "output_type": "stream",
     "text": [
      "epoch 22\n",
      "<tf.Variable 'learning_rate:0' shape=() dtype=float32, numpy=0.0005>\n"
     ]
    },
    {
     "name": "stderr",
     "output_type": "stream",
     "text": [
      "r.shape = (10000, 19, 19, 31)\n",
      "nbExamples = 10000\n",
      "/tmp/ipykernel_108/1067138075.py:41: FutureWarning: The frame.append method is deprecated and will be removed from pandas in a future version. Use pandas.concat instead.\n",
      "  loss_df2 = loss_df2.append({\n",
      "r.shape = (10000, 19, 19, 31)\n",
      "nbExamples = 10000\n"
     ]
    },
    {
     "name": "stdout",
     "output_type": "stream",
     "text": [
      "epoch 23\n",
      "<tf.Variable 'learning_rate:0' shape=() dtype=float32, numpy=0.0005>\n"
     ]
    },
    {
     "name": "stderr",
     "output_type": "stream",
     "text": [
      "/tmp/ipykernel_108/1067138075.py:41: FutureWarning: The frame.append method is deprecated and will be removed from pandas in a future version. Use pandas.concat instead.\n",
      "  loss_df2 = loss_df2.append({\n",
      "r.shape = (10000, 19, 19, 31)\n",
      "nbExamples = 10000\n"
     ]
    },
    {
     "name": "stdout",
     "output_type": "stream",
     "text": [
      "epoch 24\n",
      "<tf.Variable 'learning_rate:0' shape=() dtype=float32, numpy=0.0005>\n"
     ]
    },
    {
     "name": "stderr",
     "output_type": "stream",
     "text": [
      "/tmp/ipykernel_108/1067138075.py:41: FutureWarning: The frame.append method is deprecated and will be removed from pandas in a future version. Use pandas.concat instead.\n",
      "  loss_df2 = loss_df2.append({\n"
     ]
    },
    {
     "name": "stdout",
     "output_type": "stream",
     "text": [
      "epoch 25\n",
      "<tf.Variable 'learning_rate:0' shape=() dtype=float32, numpy=0.0005>\n"
     ]
    },
    {
     "name": "stderr",
     "output_type": "stream",
     "text": [
      "r.shape = (10000, 19, 19, 31)\n",
      "nbExamples = 10000\n",
      "/tmp/ipykernel_108/1067138075.py:41: FutureWarning: The frame.append method is deprecated and will be removed from pandas in a future version. Use pandas.concat instead.\n",
      "  loss_df2 = loss_df2.append({\n",
      "r.shape = (10000, 19, 19, 31)\n",
      "nbExamples = 10000\n"
     ]
    },
    {
     "name": "stdout",
     "output_type": "stream",
     "text": [
      "epoch 26\n",
      "<tf.Variable 'learning_rate:0' shape=() dtype=float32, numpy=0.0005>\n"
     ]
    },
    {
     "name": "stderr",
     "output_type": "stream",
     "text": [
      "/tmp/ipykernel_108/1067138075.py:41: FutureWarning: The frame.append method is deprecated and will be removed from pandas in a future version. Use pandas.concat instead.\n",
      "  loss_df2 = loss_df2.append({\n"
     ]
    },
    {
     "name": "stdout",
     "output_type": "stream",
     "text": [
      "epoch 27\n",
      "<tf.Variable 'learning_rate:0' shape=() dtype=float32, numpy=0.0005>\n"
     ]
    },
    {
     "name": "stderr",
     "output_type": "stream",
     "text": [
      "r.shape = (10000, 19, 19, 31)\n",
      "nbExamples = 10000\n",
      "/tmp/ipykernel_108/1067138075.py:41: FutureWarning: The frame.append method is deprecated and will be removed from pandas in a future version. Use pandas.concat instead.\n",
      "  loss_df2 = loss_df2.append({\n"
     ]
    },
    {
     "name": "stdout",
     "output_type": "stream",
     "text": [
      "epoch 28\n",
      "<tf.Variable 'learning_rate:0' shape=() dtype=float32, numpy=0.0005>\n"
     ]
    },
    {
     "name": "stderr",
     "output_type": "stream",
     "text": [
      "r.shape = (10000, 19, 19, 31)\n",
      "nbExamples = 10000\n",
      "/tmp/ipykernel_108/1067138075.py:41: FutureWarning: The frame.append method is deprecated and will be removed from pandas in a future version. Use pandas.concat instead.\n",
      "  loss_df2 = loss_df2.append({\n"
     ]
    },
    {
     "name": "stdout",
     "output_type": "stream",
     "text": [
      "epoch 29\n",
      "<tf.Variable 'learning_rate:0' shape=() dtype=float32, numpy=0.0005>\n"
     ]
    },
    {
     "name": "stderr",
     "output_type": "stream",
     "text": [
      "r.shape = (10000, 19, 19, 31)\n",
      "nbExamples = 10000\n",
      "/tmp/ipykernel_108/1067138075.py:41: FutureWarning: The frame.append method is deprecated and will be removed from pandas in a future version. Use pandas.concat instead.\n",
      "  loss_df2 = loss_df2.append({\n",
      "r.shape = (10000, 19, 19, 31)\n",
      "nbExamples = 10000\n"
     ]
    },
    {
     "name": "stdout",
     "output_type": "stream",
     "text": [
      "epoch 30\n",
      "<tf.Variable 'learning_rate:0' shape=() dtype=float32, numpy=0.0005>\n"
     ]
    },
    {
     "name": "stderr",
     "output_type": "stream",
     "text": [
      "/tmp/ipykernel_108/1067138075.py:41: FutureWarning: The frame.append method is deprecated and will be removed from pandas in a future version. Use pandas.concat instead.\n",
      "  loss_df2 = loss_df2.append({\n"
     ]
    },
    {
     "name": "stdout",
     "output_type": "stream",
     "text": [
      "epoch 31\n",
      "<tf.Variable 'learning_rate:0' shape=() dtype=float32, numpy=0.0005>\n"
     ]
    },
    {
     "name": "stderr",
     "output_type": "stream",
     "text": [
      "r.shape = (10000, 19, 19, 31)\n",
      "nbExamples = 10000\n",
      "/tmp/ipykernel_108/1067138075.py:41: FutureWarning: The frame.append method is deprecated and will be removed from pandas in a future version. Use pandas.concat instead.\n",
      "  loss_df2 = loss_df2.append({\n"
     ]
    },
    {
     "name": "stdout",
     "output_type": "stream",
     "text": [
      "epoch 32\n",
      "<tf.Variable 'learning_rate:0' shape=() dtype=float32, numpy=0.0005>\n"
     ]
    },
    {
     "name": "stderr",
     "output_type": "stream",
     "text": [
      "r.shape = (10000, 19, 19, 31)\n",
      "nbExamples = 10000\n",
      "/tmp/ipykernel_108/1067138075.py:41: FutureWarning: The frame.append method is deprecated and will be removed from pandas in a future version. Use pandas.concat instead.\n",
      "  loss_df2 = loss_df2.append({\n"
     ]
    },
    {
     "name": "stdout",
     "output_type": "stream",
     "text": [
      "epoch 33\n",
      "<tf.Variable 'learning_rate:0' shape=() dtype=float32, numpy=0.0005>\n"
     ]
    },
    {
     "name": "stderr",
     "output_type": "stream",
     "text": [
      "r.shape = (10000, 19, 19, 31)\n",
      "nbExamples = 10000\n",
      "/tmp/ipykernel_108/1067138075.py:41: FutureWarning: The frame.append method is deprecated and will be removed from pandas in a future version. Use pandas.concat instead.\n",
      "  loss_df2 = loss_df2.append({\n"
     ]
    },
    {
     "name": "stdout",
     "output_type": "stream",
     "text": [
      "epoch 34\n",
      "<tf.Variable 'learning_rate:0' shape=() dtype=float32, numpy=0.0005>\n"
     ]
    },
    {
     "name": "stderr",
     "output_type": "stream",
     "text": [
      "r.shape = (10000, 19, 19, 31)\n",
      "nbExamples = 10000\n",
      "/tmp/ipykernel_108/1067138075.py:41: FutureWarning: The frame.append method is deprecated and will be removed from pandas in a future version. Use pandas.concat instead.\n",
      "  loss_df2 = loss_df2.append({\n"
     ]
    },
    {
     "name": "stdout",
     "output_type": "stream",
     "text": [
      "epoch 35\n",
      "<tf.Variable 'learning_rate:0' shape=() dtype=float32, numpy=0.0005>\n"
     ]
    },
    {
     "name": "stderr",
     "output_type": "stream",
     "text": [
      "r.shape = (10000, 19, 19, 31)\n",
      "nbExamples = 10000\n",
      "/tmp/ipykernel_108/1067138075.py:41: FutureWarning: The frame.append method is deprecated and will be removed from pandas in a future version. Use pandas.concat instead.\n",
      "  loss_df2 = loss_df2.append({\n",
      "r.shape = (10000, 19, 19, 31)\n",
      "nbExamples = 10000\n"
     ]
    },
    {
     "name": "stdout",
     "output_type": "stream",
     "text": [
      "epoch 36\n",
      "<tf.Variable 'learning_rate:0' shape=() dtype=float32, numpy=0.0005>\n"
     ]
    },
    {
     "name": "stderr",
     "output_type": "stream",
     "text": [
      "/tmp/ipykernel_108/1067138075.py:41: FutureWarning: The frame.append method is deprecated and will be removed from pandas in a future version. Use pandas.concat instead.\n",
      "  loss_df2 = loss_df2.append({\n",
      "r.shape = (10000, 19, 19, 31)\n",
      "nbExamples = 10000\n"
     ]
    },
    {
     "name": "stdout",
     "output_type": "stream",
     "text": [
      "epoch 37\n",
      "<tf.Variable 'learning_rate:0' shape=() dtype=float32, numpy=0.0005>\n"
     ]
    },
    {
     "name": "stderr",
     "output_type": "stream",
     "text": [
      "/tmp/ipykernel_108/1067138075.py:41: FutureWarning: The frame.append method is deprecated and will be removed from pandas in a future version. Use pandas.concat instead.\n",
      "  loss_df2 = loss_df2.append({\n"
     ]
    },
    {
     "name": "stdout",
     "output_type": "stream",
     "text": [
      "epoch 38\n",
      "<tf.Variable 'learning_rate:0' shape=() dtype=float32, numpy=0.0005>\n"
     ]
    },
    {
     "name": "stderr",
     "output_type": "stream",
     "text": [
      "r.shape = (10000, 19, 19, 31)\n",
      "nbExamples = 10000\n",
      "/tmp/ipykernel_108/1067138075.py:41: FutureWarning: The frame.append method is deprecated and will be removed from pandas in a future version. Use pandas.concat instead.\n",
      "  loss_df2 = loss_df2.append({\n",
      "r.shape = (10000, 19, 19, 31)\n"
     ]
    },
    {
     "name": "stdout",
     "output_type": "stream",
     "text": [
      "epoch 39\n",
      "<tf.Variable 'learning_rate:0' shape=() dtype=float32, numpy=0.0005>\n"
     ]
    },
    {
     "name": "stderr",
     "output_type": "stream",
     "text": [
      "nbExamples = 10000\n",
      "/tmp/ipykernel_108/1067138075.py:41: FutureWarning: The frame.append method is deprecated and will be removed from pandas in a future version. Use pandas.concat instead.\n",
      "  loss_df2 = loss_df2.append({\n"
     ]
    },
    {
     "name": "stdout",
     "output_type": "stream",
     "text": [
      "epoch 40\n",
      "<tf.Variable 'learning_rate:0' shape=() dtype=float32, numpy=0.0005>\n"
     ]
    },
    {
     "name": "stderr",
     "output_type": "stream",
     "text": [
      "r.shape = (10000, 19, 19, 31)\n",
      "nbExamples = 10000\n",
      "r.shape = (10000, 19, 19, 31)\n",
      "nbExamples = 10000\n"
     ]
    },
    {
     "name": "stdout",
     "output_type": "stream",
     "text": [
      "val = [3.5100796222686768, 2.7514877319335938, 0.6881734132766724, 0.3481999933719635, 0.11756918579339981]\n",
      "epoch 41\n",
      "<tf.Variable 'learning_rate:0' shape=() dtype=float32, numpy=0.0005>\n"
     ]
    },
    {
     "name": "stderr",
     "output_type": "stream",
     "text": [
      "/tmp/ipykernel_108/1067138075.py:41: FutureWarning: The frame.append method is deprecated and will be removed from pandas in a future version. Use pandas.concat instead.\n",
      "  loss_df2 = loss_df2.append({\n",
      "r.shape = (10000, 19, 19, 31)\n",
      "nbExamples = 10000\n",
      "/tmp/ipykernel_108/1067138075.py:41: FutureWarning: The frame.append method is deprecated and will be removed from pandas in a future version. Use pandas.concat instead.\n",
      "  loss_df2 = loss_df2.append({\n"
     ]
    },
    {
     "name": "stdout",
     "output_type": "stream",
     "text": [
      "epoch 42\n",
      "<tf.Variable 'learning_rate:0' shape=() dtype=float32, numpy=0.0005>\n"
     ]
    },
    {
     "name": "stderr",
     "output_type": "stream",
     "text": [
      "r.shape = (10000, 19, 19, 31)\n",
      "nbExamples = 10000\n",
      "/tmp/ipykernel_108/1067138075.py:41: FutureWarning: The frame.append method is deprecated and will be removed from pandas in a future version. Use pandas.concat instead.\n",
      "  loss_df2 = loss_df2.append({\n",
      "r.shape = (10000, 19, 19, 31)\n",
      "nbExamples = 10000\n"
     ]
    },
    {
     "name": "stdout",
     "output_type": "stream",
     "text": [
      "epoch 43\n",
      "<tf.Variable 'learning_rate:0' shape=() dtype=float32, numpy=0.0005>\n"
     ]
    },
    {
     "name": "stderr",
     "output_type": "stream",
     "text": [
      "/tmp/ipykernel_108/1067138075.py:41: FutureWarning: The frame.append method is deprecated and will be removed from pandas in a future version. Use pandas.concat instead.\n",
      "  loss_df2 = loss_df2.append({\n"
     ]
    },
    {
     "name": "stdout",
     "output_type": "stream",
     "text": [
      "epoch 44\n",
      "<tf.Variable 'learning_rate:0' shape=() dtype=float32, numpy=0.0005>\n"
     ]
    },
    {
     "name": "stderr",
     "output_type": "stream",
     "text": [
      "r.shape = (10000, 19, 19, 31)\n",
      "nbExamples = 10000\n",
      "/tmp/ipykernel_108/1067138075.py:41: FutureWarning: The frame.append method is deprecated and will be removed from pandas in a future version. Use pandas.concat instead.\n",
      "  loss_df2 = loss_df2.append({\n",
      "r.shape = (10000, 19, 19, 31)\n",
      "nbExamples = 10000\n"
     ]
    },
    {
     "name": "stdout",
     "output_type": "stream",
     "text": [
      "epoch 45\n",
      "<tf.Variable 'learning_rate:0' shape=() dtype=float32, numpy=0.0005>\n"
     ]
    },
    {
     "name": "stderr",
     "output_type": "stream",
     "text": [
      "/tmp/ipykernel_108/1067138075.py:41: FutureWarning: The frame.append method is deprecated and will be removed from pandas in a future version. Use pandas.concat instead.\n",
      "  loss_df2 = loss_df2.append({\n"
     ]
    },
    {
     "name": "stdout",
     "output_type": "stream",
     "text": [
      "epoch 46\n",
      "<tf.Variable 'learning_rate:0' shape=() dtype=float32, numpy=0.0005>\n"
     ]
    },
    {
     "name": "stderr",
     "output_type": "stream",
     "text": [
      "r.shape = (10000, 19, 19, 31)\n",
      "nbExamples = 10000\n",
      "/tmp/ipykernel_108/1067138075.py:41: FutureWarning: The frame.append method is deprecated and will be removed from pandas in a future version. Use pandas.concat instead.\n",
      "  loss_df2 = loss_df2.append({\n"
     ]
    },
    {
     "name": "stdout",
     "output_type": "stream",
     "text": [
      "epoch 47\n",
      "<tf.Variable 'learning_rate:0' shape=() dtype=float32, numpy=0.0005>\n"
     ]
    },
    {
     "name": "stderr",
     "output_type": "stream",
     "text": [
      "r.shape = (10000, 19, 19, 31)\n",
      "nbExamples = 10000\n",
      "/tmp/ipykernel_108/1067138075.py:41: FutureWarning: The frame.append method is deprecated and will be removed from pandas in a future version. Use pandas.concat instead.\n",
      "  loss_df2 = loss_df2.append({\n",
      "r.shape = (10000, 19, 19, 31)\n",
      "nbExamples = 10000\n"
     ]
    },
    {
     "name": "stdout",
     "output_type": "stream",
     "text": [
      "epoch 48\n",
      "<tf.Variable 'learning_rate:0' shape=() dtype=float32, numpy=0.0005>\n"
     ]
    },
    {
     "name": "stderr",
     "output_type": "stream",
     "text": [
      "/tmp/ipykernel_108/1067138075.py:41: FutureWarning: The frame.append method is deprecated and will be removed from pandas in a future version. Use pandas.concat instead.\n",
      "  loss_df2 = loss_df2.append({\n"
     ]
    },
    {
     "name": "stdout",
     "output_type": "stream",
     "text": [
      "epoch 49\n",
      "<tf.Variable 'learning_rate:0' shape=() dtype=float32, numpy=0.0005>\n"
     ]
    },
    {
     "name": "stderr",
     "output_type": "stream",
     "text": [
      "r.shape = (10000, 19, 19, 31)\n",
      "nbExamples = 10000\n",
      "/tmp/ipykernel_108/1067138075.py:41: FutureWarning: The frame.append method is deprecated and will be removed from pandas in a future version. Use pandas.concat instead.\n",
      "  loss_df2 = loss_df2.append({\n"
     ]
    },
    {
     "name": "stdout",
     "output_type": "stream",
     "text": [
      "epoch 50\n",
      "<tf.Variable 'learning_rate:0' shape=() dtype=float32, numpy=0.0005>\n"
     ]
    },
    {
     "name": "stderr",
     "output_type": "stream",
     "text": [
      "r.shape = (10000, 19, 19, 31)\n",
      "nbExamples = 10000\n",
      "/tmp/ipykernel_108/1067138075.py:41: FutureWarning: The frame.append method is deprecated and will be removed from pandas in a future version. Use pandas.concat instead.\n",
      "  loss_df2 = loss_df2.append({\n"
     ]
    },
    {
     "name": "stdout",
     "output_type": "stream",
     "text": [
      "epoch 51\n",
      "<tf.Variable 'learning_rate:0' shape=() dtype=float32, numpy=0.0005>\n"
     ]
    },
    {
     "name": "stderr",
     "output_type": "stream",
     "text": [
      "r.shape = (10000, 19, 19, 31)\n",
      "nbExamples = 10000\n",
      "/tmp/ipykernel_108/1067138075.py:41: FutureWarning: The frame.append method is deprecated and will be removed from pandas in a future version. Use pandas.concat instead.\n",
      "  loss_df2 = loss_df2.append({\n"
     ]
    },
    {
     "name": "stdout",
     "output_type": "stream",
     "text": [
      "epoch 52\n",
      "<tf.Variable 'learning_rate:0' shape=() dtype=float32, numpy=0.0005>\n"
     ]
    },
    {
     "name": "stderr",
     "output_type": "stream",
     "text": [
      "r.shape = (10000, 19, 19, 31)\n",
      "nbExamples = 10000\n",
      "/tmp/ipykernel_108/1067138075.py:41: FutureWarning: The frame.append method is deprecated and will be removed from pandas in a future version. Use pandas.concat instead.\n",
      "  loss_df2 = loss_df2.append({\n",
      "r.shape = (10000, 19, 19, 31)\n",
      "nbExamples = 10000\n"
     ]
    },
    {
     "name": "stdout",
     "output_type": "stream",
     "text": [
      "epoch 53\n",
      "<tf.Variable 'learning_rate:0' shape=() dtype=float32, numpy=0.0005>\n"
     ]
    },
    {
     "name": "stderr",
     "output_type": "stream",
     "text": [
      "/tmp/ipykernel_108/1067138075.py:41: FutureWarning: The frame.append method is deprecated and will be removed from pandas in a future version. Use pandas.concat instead.\n",
      "  loss_df2 = loss_df2.append({\n"
     ]
    },
    {
     "name": "stdout",
     "output_type": "stream",
     "text": [
      "epoch 54\n",
      "<tf.Variable 'learning_rate:0' shape=() dtype=float32, numpy=0.0005>\n"
     ]
    },
    {
     "name": "stderr",
     "output_type": "stream",
     "text": [
      "r.shape = (10000, 19, 19, 31)\n",
      "nbExamples = 10000\n",
      "/tmp/ipykernel_108/1067138075.py:41: FutureWarning: The frame.append method is deprecated and will be removed from pandas in a future version. Use pandas.concat instead.\n",
      "  loss_df2 = loss_df2.append({\n",
      "r.shape = (10000, 19, 19, 31)\n",
      "nbExamples = 10000\n"
     ]
    },
    {
     "name": "stdout",
     "output_type": "stream",
     "text": [
      "epoch 55\n",
      "<tf.Variable 'learning_rate:0' shape=() dtype=float32, numpy=0.0005>\n"
     ]
    },
    {
     "name": "stderr",
     "output_type": "stream",
     "text": [
      "/tmp/ipykernel_108/1067138075.py:41: FutureWarning: The frame.append method is deprecated and will be removed from pandas in a future version. Use pandas.concat instead.\n",
      "  loss_df2 = loss_df2.append({\n",
      "r.shape = (10000, 19, 19, 31)\n",
      "nbExamples = 10000\n"
     ]
    },
    {
     "name": "stdout",
     "output_type": "stream",
     "text": [
      "epoch 56\n",
      "<tf.Variable 'learning_rate:0' shape=() dtype=float32, numpy=0.0005>\n"
     ]
    },
    {
     "name": "stderr",
     "output_type": "stream",
     "text": [
      "/tmp/ipykernel_108/1067138075.py:41: FutureWarning: The frame.append method is deprecated and will be removed from pandas in a future version. Use pandas.concat instead.\n",
      "  loss_df2 = loss_df2.append({\n",
      "r.shape = (10000, 19, 19, 31)\n",
      "nbExamples = 10000\n"
     ]
    },
    {
     "name": "stdout",
     "output_type": "stream",
     "text": [
      "epoch 57\n",
      "<tf.Variable 'learning_rate:0' shape=() dtype=float32, numpy=0.0005>\n"
     ]
    },
    {
     "name": "stderr",
     "output_type": "stream",
     "text": [
      "/tmp/ipykernel_108/1067138075.py:41: FutureWarning: The frame.append method is deprecated and will be removed from pandas in a future version. Use pandas.concat instead.\n",
      "  loss_df2 = loss_df2.append({\n"
     ]
    },
    {
     "name": "stdout",
     "output_type": "stream",
     "text": [
      "epoch 58\n",
      "<tf.Variable 'learning_rate:0' shape=() dtype=float32, numpy=0.0005>\n"
     ]
    },
    {
     "name": "stderr",
     "output_type": "stream",
     "text": [
      "r.shape = (10000, 19, 19, 31)\n",
      "nbExamples = 10000\n",
      "/tmp/ipykernel_108/1067138075.py:41: FutureWarning: The frame.append method is deprecated and will be removed from pandas in a future version. Use pandas.concat instead.\n",
      "  loss_df2 = loss_df2.append({\n",
      "r.shape = (10000, 19, 19, 31)\n",
      "nbExamples = 10000\n"
     ]
    },
    {
     "name": "stdout",
     "output_type": "stream",
     "text": [
      "epoch 59\n",
      "<tf.Variable 'learning_rate:0' shape=() dtype=float32, numpy=0.0005>\n"
     ]
    },
    {
     "name": "stderr",
     "output_type": "stream",
     "text": [
      "/tmp/ipykernel_108/1067138075.py:41: FutureWarning: The frame.append method is deprecated and will be removed from pandas in a future version. Use pandas.concat instead.\n",
      "  loss_df2 = loss_df2.append({\n",
      "r.shape = (10000, 19, 19, 31)\n"
     ]
    },
    {
     "name": "stdout",
     "output_type": "stream",
     "text": [
      "epoch 60\n",
      "<tf.Variable 'learning_rate:0' shape=() dtype=float32, numpy=0.0005>\n"
     ]
    },
    {
     "name": "stderr",
     "output_type": "stream",
     "text": [
      "nbExamples = 10000\n",
      "r.shape = (10000, 19, 19, 31)\n",
      "nbExamples = 10000\n"
     ]
    },
    {
     "name": "stdout",
     "output_type": "stream",
     "text": [
      "val = [3.4327003955841064, 2.6780056953430176, 0.687516987323761, 0.3497999906539917, 0.11724580079317093]\n",
      "epoch 61\n",
      "<tf.Variable 'learning_rate:0' shape=() dtype=float32, numpy=0.0005>\n"
     ]
    },
    {
     "name": "stderr",
     "output_type": "stream",
     "text": [
      "/tmp/ipykernel_108/1067138075.py:41: FutureWarning: The frame.append method is deprecated and will be removed from pandas in a future version. Use pandas.concat instead.\n",
      "  loss_df2 = loss_df2.append({\n",
      "r.shape = (10000, 19, 19, 31)\n",
      "nbExamples = 10000\n",
      "/tmp/ipykernel_108/1067138075.py:41: FutureWarning: The frame.append method is deprecated and will be removed from pandas in a future version. Use pandas.concat instead.\n",
      "  loss_df2 = loss_df2.append({\n"
     ]
    },
    {
     "name": "stdout",
     "output_type": "stream",
     "text": [
      "epoch 62\n",
      "<tf.Variable 'learning_rate:0' shape=() dtype=float32, numpy=0.0005>\n"
     ]
    },
    {
     "name": "stderr",
     "output_type": "stream",
     "text": [
      "r.shape = (10000, 19, 19, 31)\n",
      "nbExamples = 10000\n",
      "/tmp/ipykernel_108/1067138075.py:41: FutureWarning: The frame.append method is deprecated and will be removed from pandas in a future version. Use pandas.concat instead.\n",
      "  loss_df2 = loss_df2.append({\n"
     ]
    },
    {
     "name": "stdout",
     "output_type": "stream",
     "text": [
      "epoch 63\n",
      "<tf.Variable 'learning_rate:0' shape=() dtype=float32, numpy=0.0005>\n"
     ]
    },
    {
     "name": "stderr",
     "output_type": "stream",
     "text": [
      "r.shape = (10000, 19, 19, 31)\n",
      "nbExamples = 10000\n",
      "/tmp/ipykernel_108/1067138075.py:41: FutureWarning: The frame.append method is deprecated and will be removed from pandas in a future version. Use pandas.concat instead.\n",
      "  loss_df2 = loss_df2.append({\n",
      "r.shape = (10000, 19, 19, 31)\n",
      "nbExamples = 10000\n"
     ]
    },
    {
     "name": "stdout",
     "output_type": "stream",
     "text": [
      "epoch 64\n",
      "<tf.Variable 'learning_rate:0' shape=() dtype=float32, numpy=0.0005>\n"
     ]
    },
    {
     "name": "stderr",
     "output_type": "stream",
     "text": [
      "/tmp/ipykernel_108/1067138075.py:41: FutureWarning: The frame.append method is deprecated and will be removed from pandas in a future version. Use pandas.concat instead.\n",
      "  loss_df2 = loss_df2.append({\n"
     ]
    },
    {
     "name": "stdout",
     "output_type": "stream",
     "text": [
      "epoch 65\n",
      "<tf.Variable 'learning_rate:0' shape=() dtype=float32, numpy=0.0005>\n"
     ]
    },
    {
     "name": "stderr",
     "output_type": "stream",
     "text": [
      "r.shape = (10000, 19, 19, 31)\n",
      "nbExamples = 10000\n",
      "/tmp/ipykernel_108/1067138075.py:41: FutureWarning: The frame.append method is deprecated and will be removed from pandas in a future version. Use pandas.concat instead.\n",
      "  loss_df2 = loss_df2.append({\n",
      "r.shape = (10000, 19, 19, 31)\n",
      "nbExamples = 10000\n"
     ]
    },
    {
     "name": "stdout",
     "output_type": "stream",
     "text": [
      "epoch 66\n",
      "<tf.Variable 'learning_rate:0' shape=() dtype=float32, numpy=0.0005>\n"
     ]
    },
    {
     "name": "stderr",
     "output_type": "stream",
     "text": [
      "/tmp/ipykernel_108/1067138075.py:41: FutureWarning: The frame.append method is deprecated and will be removed from pandas in a future version. Use pandas.concat instead.\n",
      "  loss_df2 = loss_df2.append({\n"
     ]
    },
    {
     "name": "stdout",
     "output_type": "stream",
     "text": [
      "epoch 67\n",
      "<tf.Variable 'learning_rate:0' shape=() dtype=float32, numpy=0.0005>\n"
     ]
    },
    {
     "name": "stderr",
     "output_type": "stream",
     "text": [
      "r.shape = (10000, 19, 19, 31)\n",
      "nbExamples = 10000\n",
      "/tmp/ipykernel_108/1067138075.py:41: FutureWarning: The frame.append method is deprecated and will be removed from pandas in a future version. Use pandas.concat instead.\n",
      "  loss_df2 = loss_df2.append({\n",
      "r.shape = (10000, 19, 19, 31)\n",
      "nbExamples = 10000\n"
     ]
    },
    {
     "name": "stdout",
     "output_type": "stream",
     "text": [
      "epoch 68\n",
      "<tf.Variable 'learning_rate:0' shape=() dtype=float32, numpy=0.0005>\n"
     ]
    },
    {
     "name": "stderr",
     "output_type": "stream",
     "text": [
      "/tmp/ipykernel_108/1067138075.py:41: FutureWarning: The frame.append method is deprecated and will be removed from pandas in a future version. Use pandas.concat instead.\n",
      "  loss_df2 = loss_df2.append({\n"
     ]
    },
    {
     "name": "stdout",
     "output_type": "stream",
     "text": [
      "epoch 69\n",
      "<tf.Variable 'learning_rate:0' shape=() dtype=float32, numpy=0.0005>\n"
     ]
    },
    {
     "name": "stderr",
     "output_type": "stream",
     "text": [
      "r.shape = (10000, 19, 19, 31)\n",
      "nbExamples = 10000\n",
      "/tmp/ipykernel_108/1067138075.py:41: FutureWarning: The frame.append method is deprecated and will be removed from pandas in a future version. Use pandas.concat instead.\n",
      "  loss_df2 = loss_df2.append({\n",
      "r.shape = (10000, 19, 19, 31)\n",
      "nbExamples = 10000\n"
     ]
    },
    {
     "name": "stdout",
     "output_type": "stream",
     "text": [
      "epoch 70\n",
      "<tf.Variable 'learning_rate:0' shape=() dtype=float32, numpy=0.0005>\n"
     ]
    },
    {
     "name": "stderr",
     "output_type": "stream",
     "text": [
      "/tmp/ipykernel_108/1067138075.py:41: FutureWarning: The frame.append method is deprecated and will be removed from pandas in a future version. Use pandas.concat instead.\n",
      "  loss_df2 = loss_df2.append({\n",
      "r.shape = (10000, 19, 19, 31)\n",
      "nbExamples = 10000\n"
     ]
    },
    {
     "name": "stdout",
     "output_type": "stream",
     "text": [
      "epoch 71\n",
      "<tf.Variable 'learning_rate:0' shape=() dtype=float32, numpy=0.0005>\n"
     ]
    },
    {
     "name": "stderr",
     "output_type": "stream",
     "text": [
      "/tmp/ipykernel_108/1067138075.py:41: FutureWarning: The frame.append method is deprecated and will be removed from pandas in a future version. Use pandas.concat instead.\n",
      "  loss_df2 = loss_df2.append({\n"
     ]
    },
    {
     "name": "stdout",
     "output_type": "stream",
     "text": [
      "epoch 72\n",
      "<tf.Variable 'learning_rate:0' shape=() dtype=float32, numpy=0.0005>\n"
     ]
    },
    {
     "name": "stderr",
     "output_type": "stream",
     "text": [
      "r.shape = (10000, 19, 19, 31)\n",
      "nbExamples = 10000\n",
      "/tmp/ipykernel_108/1067138075.py:41: FutureWarning: The frame.append method is deprecated and will be removed from pandas in a future version. Use pandas.concat instead.\n",
      "  loss_df2 = loss_df2.append({\n"
     ]
    },
    {
     "name": "stdout",
     "output_type": "stream",
     "text": [
      "epoch 73\n",
      "<tf.Variable 'learning_rate:0' shape=() dtype=float32, numpy=0.0005>\n"
     ]
    },
    {
     "name": "stderr",
     "output_type": "stream",
     "text": [
      "r.shape = (10000, 19, 19, 31)\n",
      "nbExamples = 10000\n",
      "/tmp/ipykernel_108/1067138075.py:41: FutureWarning: The frame.append method is deprecated and will be removed from pandas in a future version. Use pandas.concat instead.\n",
      "  loss_df2 = loss_df2.append({\n"
     ]
    },
    {
     "name": "stdout",
     "output_type": "stream",
     "text": [
      "epoch 74\n",
      "<tf.Variable 'learning_rate:0' shape=() dtype=float32, numpy=0.0005>\n"
     ]
    },
    {
     "name": "stderr",
     "output_type": "stream",
     "text": [
      "r.shape = (10000, 19, 19, 31)\n",
      "nbExamples = 10000\n",
      "/tmp/ipykernel_108/1067138075.py:41: FutureWarning: The frame.append method is deprecated and will be removed from pandas in a future version. Use pandas.concat instead.\n",
      "  loss_df2 = loss_df2.append({\n",
      "r.shape = (10000, 19, 19, 31)\n",
      "nbExamples = 10000\n"
     ]
    },
    {
     "name": "stdout",
     "output_type": "stream",
     "text": [
      "epoch 75\n",
      "<tf.Variable 'learning_rate:0' shape=() dtype=float32, numpy=0.0005>\n"
     ]
    },
    {
     "name": "stderr",
     "output_type": "stream",
     "text": [
      "/tmp/ipykernel_108/1067138075.py:41: FutureWarning: The frame.append method is deprecated and will be removed from pandas in a future version. Use pandas.concat instead.\n",
      "  loss_df2 = loss_df2.append({\n"
     ]
    },
    {
     "name": "stdout",
     "output_type": "stream",
     "text": [
      "epoch 76\n",
      "<tf.Variable 'learning_rate:0' shape=() dtype=float32, numpy=0.0005>\n"
     ]
    },
    {
     "name": "stderr",
     "output_type": "stream",
     "text": [
      "r.shape = (10000, 19, 19, 31)\n",
      "nbExamples = 10000\n",
      "/tmp/ipykernel_108/1067138075.py:41: FutureWarning: The frame.append method is deprecated and will be removed from pandas in a future version. Use pandas.concat instead.\n",
      "  loss_df2 = loss_df2.append({\n"
     ]
    },
    {
     "name": "stdout",
     "output_type": "stream",
     "text": [
      "epoch 77\n",
      "<tf.Variable 'learning_rate:0' shape=() dtype=float32, numpy=0.0005>\n"
     ]
    },
    {
     "name": "stderr",
     "output_type": "stream",
     "text": [
      "r.shape = (10000, 19, 19, 31)\n",
      "nbExamples = 10000\n",
      "/tmp/ipykernel_108/1067138075.py:41: FutureWarning: The frame.append method is deprecated and will be removed from pandas in a future version. Use pandas.concat instead.\n",
      "  loss_df2 = loss_df2.append({\n"
     ]
    },
    {
     "name": "stdout",
     "output_type": "stream",
     "text": [
      "epoch 78\n",
      "<tf.Variable 'learning_rate:0' shape=() dtype=float32, numpy=0.0005>\n"
     ]
    },
    {
     "name": "stderr",
     "output_type": "stream",
     "text": [
      "r.shape = (10000, 19, 19, 31)\n",
      "nbExamples = 10000\n",
      "/tmp/ipykernel_108/1067138075.py:41: FutureWarning: The frame.append method is deprecated and will be removed from pandas in a future version. Use pandas.concat instead.\n",
      "  loss_df2 = loss_df2.append({\n",
      "r.shape = (10000, 19, 19, 31)\n",
      "nbExamples = 10000\n"
     ]
    },
    {
     "name": "stdout",
     "output_type": "stream",
     "text": [
      "epoch 79\n",
      "<tf.Variable 'learning_rate:0' shape=() dtype=float32, numpy=0.0005>\n"
     ]
    },
    {
     "name": "stderr",
     "output_type": "stream",
     "text": [
      "/tmp/ipykernel_108/1067138075.py:41: FutureWarning: The frame.append method is deprecated and will be removed from pandas in a future version. Use pandas.concat instead.\n",
      "  loss_df2 = loss_df2.append({\n"
     ]
    },
    {
     "name": "stdout",
     "output_type": "stream",
     "text": [
      "epoch 80\n",
      "<tf.Variable 'learning_rate:0' shape=() dtype=float32, numpy=0.0005>\n"
     ]
    },
    {
     "name": "stderr",
     "output_type": "stream",
     "text": [
      "r.shape = (10000, 19, 19, 31)\n",
      "nbExamples = 10000\n",
      "r.shape = (10000, 19, 19, 31)\n",
      "nbExamples = 10000\n"
     ]
    },
    {
     "name": "stdout",
     "output_type": "stream",
     "text": [
      "val = [3.405914783477783, 2.6534371376037598, 0.6876313090324402, 0.35659998655319214, 0.11729227006435394]\n",
      "epoch 81\n",
      "<tf.Variable 'learning_rate:0' shape=() dtype=float32, numpy=0.0005>\n"
     ]
    },
    {
     "name": "stderr",
     "output_type": "stream",
     "text": [
      "/tmp/ipykernel_108/1067138075.py:41: FutureWarning: The frame.append method is deprecated and will be removed from pandas in a future version. Use pandas.concat instead.\n",
      "  loss_df2 = loss_df2.append({\n",
      "r.shape = (10000, 19, 19, 31)\n",
      "nbExamples = 10000\n",
      "/tmp/ipykernel_108/1067138075.py:41: FutureWarning: The frame.append method is deprecated and will be removed from pandas in a future version. Use pandas.concat instead.\n",
      "  loss_df2 = loss_df2.append({\n"
     ]
    },
    {
     "name": "stdout",
     "output_type": "stream",
     "text": [
      "epoch 82\n",
      "<tf.Variable 'learning_rate:0' shape=() dtype=float32, numpy=0.0005>\n"
     ]
    },
    {
     "name": "stderr",
     "output_type": "stream",
     "text": [
      "r.shape = (10000, 19, 19, 31)\n",
      "nbExamples = 10000\n",
      "/tmp/ipykernel_108/1067138075.py:41: FutureWarning: The frame.append method is deprecated and will be removed from pandas in a future version. Use pandas.concat instead.\n",
      "  loss_df2 = loss_df2.append({\n"
     ]
    },
    {
     "name": "stdout",
     "output_type": "stream",
     "text": [
      "epoch 83\n",
      "<tf.Variable 'learning_rate:0' shape=() dtype=float32, numpy=0.0005>\n"
     ]
    },
    {
     "name": "stderr",
     "output_type": "stream",
     "text": [
      "r.shape = (10000, 19, 19, 31)\n",
      "nbExamples = 10000\n",
      "/tmp/ipykernel_108/1067138075.py:41: FutureWarning: The frame.append method is deprecated and will be removed from pandas in a future version. Use pandas.concat instead.\n",
      "  loss_df2 = loss_df2.append({\n",
      "r.shape = (10000, 19, 19, 31)\n"
     ]
    },
    {
     "name": "stdout",
     "output_type": "stream",
     "text": [
      "epoch 84\n",
      "<tf.Variable 'learning_rate:0' shape=() dtype=float32, numpy=0.0005>\n"
     ]
    },
    {
     "name": "stderr",
     "output_type": "stream",
     "text": [
      "nbExamples = 10000\n",
      "/tmp/ipykernel_108/1067138075.py:41: FutureWarning: The frame.append method is deprecated and will be removed from pandas in a future version. Use pandas.concat instead.\n",
      "  loss_df2 = loss_df2.append({\n",
      "r.shape = (10000, 19, 19, 31)\n",
      "nbExamples = 10000\n"
     ]
    },
    {
     "name": "stdout",
     "output_type": "stream",
     "text": [
      "epoch 85\n",
      "<tf.Variable 'learning_rate:0' shape=() dtype=float32, numpy=0.0005>\n"
     ]
    },
    {
     "name": "stderr",
     "output_type": "stream",
     "text": [
      "/tmp/ipykernel_108/1067138075.py:41: FutureWarning: The frame.append method is deprecated and will be removed from pandas in a future version. Use pandas.concat instead.\n",
      "  loss_df2 = loss_df2.append({\n"
     ]
    },
    {
     "name": "stdout",
     "output_type": "stream",
     "text": [
      "epoch 86\n",
      "<tf.Variable 'learning_rate:0' shape=() dtype=float32, numpy=0.0005>\n"
     ]
    },
    {
     "name": "stderr",
     "output_type": "stream",
     "text": [
      "r.shape = (10000, 19, 19, 31)\n",
      "nbExamples = 10000\n",
      "/tmp/ipykernel_108/1067138075.py:41: FutureWarning: The frame.append method is deprecated and will be removed from pandas in a future version. Use pandas.concat instead.\n",
      "  loss_df2 = loss_df2.append({\n",
      "r.shape = (10000, 19, 19, 31)\n",
      "nbExamples = 10000\n"
     ]
    },
    {
     "name": "stdout",
     "output_type": "stream",
     "text": [
      "epoch 87\n",
      "<tf.Variable 'learning_rate:0' shape=() dtype=float32, numpy=0.0005>\n"
     ]
    },
    {
     "name": "stderr",
     "output_type": "stream",
     "text": [
      "/tmp/ipykernel_108/1067138075.py:41: FutureWarning: The frame.append method is deprecated and will be removed from pandas in a future version. Use pandas.concat instead.\n",
      "  loss_df2 = loss_df2.append({\n"
     ]
    },
    {
     "name": "stdout",
     "output_type": "stream",
     "text": [
      "epoch 88\n",
      "<tf.Variable 'learning_rate:0' shape=() dtype=float32, numpy=0.0005>\n"
     ]
    },
    {
     "name": "stderr",
     "output_type": "stream",
     "text": [
      "r.shape = (10000, 19, 19, 31)\n",
      "nbExamples = 10000\n",
      "/tmp/ipykernel_108/1067138075.py:41: FutureWarning: The frame.append method is deprecated and will be removed from pandas in a future version. Use pandas.concat instead.\n",
      "  loss_df2 = loss_df2.append({\n"
     ]
    },
    {
     "name": "stdout",
     "output_type": "stream",
     "text": [
      "epoch 89\n",
      "<tf.Variable 'learning_rate:0' shape=() dtype=float32, numpy=0.0005>\n"
     ]
    },
    {
     "name": "stderr",
     "output_type": "stream",
     "text": [
      "r.shape = (10000, 19, 19, 31)\n",
      "nbExamples = 10000\n",
      "/tmp/ipykernel_108/1067138075.py:41: FutureWarning: The frame.append method is deprecated and will be removed from pandas in a future version. Use pandas.concat instead.\n",
      "  loss_df2 = loss_df2.append({\n"
     ]
    },
    {
     "name": "stdout",
     "output_type": "stream",
     "text": [
      "epoch 90\n",
      "<tf.Variable 'learning_rate:0' shape=() dtype=float32, numpy=0.0005>\n"
     ]
    },
    {
     "name": "stderr",
     "output_type": "stream",
     "text": [
      "r.shape = (10000, 19, 19, 31)\n",
      "nbExamples = 10000\n",
      "/tmp/ipykernel_108/1067138075.py:41: FutureWarning: The frame.append method is deprecated and will be removed from pandas in a future version. Use pandas.concat instead.\n",
      "  loss_df2 = loss_df2.append({\n",
      "r.shape = (10000, 19, 19, 31)\n",
      "nbExamples = 10000\n"
     ]
    },
    {
     "name": "stdout",
     "output_type": "stream",
     "text": [
      "epoch 91\n",
      "<tf.Variable 'learning_rate:0' shape=() dtype=float32, numpy=0.0005>\n"
     ]
    },
    {
     "name": "stderr",
     "output_type": "stream",
     "text": [
      "/tmp/ipykernel_108/1067138075.py:41: FutureWarning: The frame.append method is deprecated and will be removed from pandas in a future version. Use pandas.concat instead.\n",
      "  loss_df2 = loss_df2.append({\n",
      "r.shape = (10000, 19, 19, 31)\n",
      "nbExamples = 10000\n"
     ]
    },
    {
     "name": "stdout",
     "output_type": "stream",
     "text": [
      "epoch 92\n",
      "<tf.Variable 'learning_rate:0' shape=() dtype=float32, numpy=0.0005>\n"
     ]
    },
    {
     "name": "stderr",
     "output_type": "stream",
     "text": [
      "/tmp/ipykernel_108/1067138075.py:41: FutureWarning: The frame.append method is deprecated and will be removed from pandas in a future version. Use pandas.concat instead.\n",
      "  loss_df2 = loss_df2.append({\n"
     ]
    },
    {
     "name": "stdout",
     "output_type": "stream",
     "text": [
      "epoch 93\n",
      "<tf.Variable 'learning_rate:0' shape=() dtype=float32, numpy=0.0005>\n"
     ]
    },
    {
     "name": "stderr",
     "output_type": "stream",
     "text": [
      "r.shape = (10000, 19, 19, 31)\n",
      "nbExamples = 10000\n",
      "/tmp/ipykernel_108/1067138075.py:41: FutureWarning: The frame.append method is deprecated and will be removed from pandas in a future version. Use pandas.concat instead.\n",
      "  loss_df2 = loss_df2.append({\n",
      "r.shape = (10000, 19, 19, 31)\n",
      "nbExamples = 10000\n"
     ]
    },
    {
     "name": "stdout",
     "output_type": "stream",
     "text": [
      "epoch 94\n",
      "<tf.Variable 'learning_rate:0' shape=() dtype=float32, numpy=0.0005>\n"
     ]
    },
    {
     "name": "stderr",
     "output_type": "stream",
     "text": [
      "/tmp/ipykernel_108/1067138075.py:41: FutureWarning: The frame.append method is deprecated and will be removed from pandas in a future version. Use pandas.concat instead.\n",
      "  loss_df2 = loss_df2.append({\n"
     ]
    },
    {
     "name": "stdout",
     "output_type": "stream",
     "text": [
      "epoch 95\n",
      "<tf.Variable 'learning_rate:0' shape=() dtype=float32, numpy=0.0005>\n"
     ]
    },
    {
     "name": "stderr",
     "output_type": "stream",
     "text": [
      "r.shape = (10000, 19, 19, 31)\n",
      "nbExamples = 10000\n",
      "/tmp/ipykernel_108/1067138075.py:41: FutureWarning: The frame.append method is deprecated and will be removed from pandas in a future version. Use pandas.concat instead.\n",
      "  loss_df2 = loss_df2.append({\n"
     ]
    },
    {
     "name": "stdout",
     "output_type": "stream",
     "text": [
      "epoch 96\n",
      "<tf.Variable 'learning_rate:0' shape=() dtype=float32, numpy=0.0005>\n"
     ]
    },
    {
     "name": "stderr",
     "output_type": "stream",
     "text": [
      "r.shape = (10000, 19, 19, 31)\n",
      "nbExamples = 10000\n",
      "/tmp/ipykernel_108/1067138075.py:41: FutureWarning: The frame.append method is deprecated and will be removed from pandas in a future version. Use pandas.concat instead.\n",
      "  loss_df2 = loss_df2.append({\n"
     ]
    },
    {
     "name": "stdout",
     "output_type": "stream",
     "text": [
      "epoch 97\n",
      "<tf.Variable 'learning_rate:0' shape=() dtype=float32, numpy=0.0005>\n"
     ]
    },
    {
     "name": "stderr",
     "output_type": "stream",
     "text": [
      "r.shape = (10000, 19, 19, 31)\n",
      "nbExamples = 10000\n",
      "/tmp/ipykernel_108/1067138075.py:41: FutureWarning: The frame.append method is deprecated and will be removed from pandas in a future version. Use pandas.concat instead.\n",
      "  loss_df2 = loss_df2.append({\n"
     ]
    },
    {
     "name": "stdout",
     "output_type": "stream",
     "text": [
      "epoch 98\n",
      "<tf.Variable 'learning_rate:0' shape=() dtype=float32, numpy=0.0005>\n"
     ]
    },
    {
     "name": "stderr",
     "output_type": "stream",
     "text": [
      "r.shape = (10000, 19, 19, 31)\n",
      "nbExamples = 10000\n",
      "/tmp/ipykernel_108/1067138075.py:41: FutureWarning: The frame.append method is deprecated and will be removed from pandas in a future version. Use pandas.concat instead.\n",
      "  loss_df2 = loss_df2.append({\n"
     ]
    },
    {
     "name": "stdout",
     "output_type": "stream",
     "text": [
      "epoch 99\n",
      "<tf.Variable 'learning_rate:0' shape=() dtype=float32, numpy=0.0005>\n"
     ]
    },
    {
     "name": "stderr",
     "output_type": "stream",
     "text": [
      "r.shape = (10000, 19, 19, 31)\n",
      "nbExamples = 10000\n",
      "/tmp/ipykernel_108/1067138075.py:41: FutureWarning: The frame.append method is deprecated and will be removed from pandas in a future version. Use pandas.concat instead.\n",
      "  loss_df2 = loss_df2.append({\n"
     ]
    },
    {
     "name": "stdout",
     "output_type": "stream",
     "text": [
      "epoch 100\n",
      "<tf.Variable 'learning_rate:0' shape=() dtype=float32, numpy=0.0005>\n"
     ]
    },
    {
     "name": "stderr",
     "output_type": "stream",
     "text": [
      "r.shape = (10000, 19, 19, 31)\n",
      "nbExamples = 10000\n",
      "r.shape = (10000, 19, 19, 31)\n",
      "nbExamples = 10000\n"
     ]
    },
    {
     "name": "stdout",
     "output_type": "stream",
     "text": [
      "val = [3.342735528945923, 2.5927984714508057, 0.6869094967842102, 0.3621000051498413, 0.11693765968084335]\n",
      "epoch 101\n",
      "<tf.Variable 'learning_rate:0' shape=() dtype=float32, numpy=0.0005>\n"
     ]
    },
    {
     "name": "stderr",
     "output_type": "stream",
     "text": [
      "/tmp/ipykernel_108/1067138075.py:41: FutureWarning: The frame.append method is deprecated and will be removed from pandas in a future version. Use pandas.concat instead.\n",
      "  loss_df2 = loss_df2.append({\n",
      "r.shape = (10000, 19, 19, 31)\n",
      "nbExamples = 10000\n",
      "/tmp/ipykernel_108/1067138075.py:41: FutureWarning: The frame.append method is deprecated and will be removed from pandas in a future version. Use pandas.concat instead.\n",
      "  loss_df2 = loss_df2.append({\n",
      "r.shape = (10000, 19, 19, 31)\n",
      "nbExamples = 10000\n"
     ]
    },
    {
     "name": "stdout",
     "output_type": "stream",
     "text": [
      "epoch 102\n",
      "<tf.Variable 'learning_rate:0' shape=() dtype=float32, numpy=0.0005>\n"
     ]
    },
    {
     "name": "stderr",
     "output_type": "stream",
     "text": [
      "/tmp/ipykernel_108/1067138075.py:41: FutureWarning: The frame.append method is deprecated and will be removed from pandas in a future version. Use pandas.concat instead.\n",
      "  loss_df2 = loss_df2.append({\n"
     ]
    },
    {
     "name": "stdout",
     "output_type": "stream",
     "text": [
      "epoch 103\n",
      "<tf.Variable 'learning_rate:0' shape=() dtype=float32, numpy=0.0005>\n"
     ]
    },
    {
     "name": "stderr",
     "output_type": "stream",
     "text": [
      "r.shape = (10000, 19, 19, 31)\n",
      "nbExamples = 10000\n",
      "/tmp/ipykernel_108/1067138075.py:41: FutureWarning: The frame.append method is deprecated and will be removed from pandas in a future version. Use pandas.concat instead.\n",
      "  loss_df2 = loss_df2.append({\n"
     ]
    },
    {
     "name": "stdout",
     "output_type": "stream",
     "text": [
      "epoch 104\n",
      "<tf.Variable 'learning_rate:0' shape=() dtype=float32, numpy=0.0005>\n"
     ]
    },
    {
     "name": "stderr",
     "output_type": "stream",
     "text": [
      "r.shape = (10000, 19, 19, 31)\n",
      "nbExamples = 10000\n",
      "/tmp/ipykernel_108/1067138075.py:41: FutureWarning: The frame.append method is deprecated and will be removed from pandas in a future version. Use pandas.concat instead.\n",
      "  loss_df2 = loss_df2.append({\n"
     ]
    },
    {
     "name": "stdout",
     "output_type": "stream",
     "text": [
      "epoch 105\n",
      "<tf.Variable 'learning_rate:0' shape=() dtype=float32, numpy=0.0005>\n"
     ]
    },
    {
     "name": "stderr",
     "output_type": "stream",
     "text": [
      "r.shape = (10000, 19, 19, 31)\n",
      "nbExamples = 10000\n",
      "/tmp/ipykernel_108/1067138075.py:41: FutureWarning: The frame.append method is deprecated and will be removed from pandas in a future version. Use pandas.concat instead.\n",
      "  loss_df2 = loss_df2.append({\n"
     ]
    },
    {
     "name": "stdout",
     "output_type": "stream",
     "text": [
      "epoch 106\n",
      "<tf.Variable 'learning_rate:0' shape=() dtype=float32, numpy=0.0005>\n"
     ]
    },
    {
     "name": "stderr",
     "output_type": "stream",
     "text": [
      "r.shape = (10000, 19, 19, 31)\n",
      "nbExamples = 10000\n",
      "/tmp/ipykernel_108/1067138075.py:41: FutureWarning: The frame.append method is deprecated and will be removed from pandas in a future version. Use pandas.concat instead.\n",
      "  loss_df2 = loss_df2.append({\n"
     ]
    },
    {
     "name": "stdout",
     "output_type": "stream",
     "text": [
      "epoch 107\n",
      "<tf.Variable 'learning_rate:0' shape=() dtype=float32, numpy=0.0005>\n"
     ]
    },
    {
     "name": "stderr",
     "output_type": "stream",
     "text": [
      "r.shape = (10000, 19, 19, 31)\n",
      "nbExamples = 10000\n",
      "/tmp/ipykernel_108/1067138075.py:41: FutureWarning: The frame.append method is deprecated and will be removed from pandas in a future version. Use pandas.concat instead.\n",
      "  loss_df2 = loss_df2.append({\n"
     ]
    },
    {
     "name": "stdout",
     "output_type": "stream",
     "text": [
      "epoch 108\n",
      "<tf.Variable 'learning_rate:0' shape=() dtype=float32, numpy=0.0005>\n"
     ]
    },
    {
     "name": "stderr",
     "output_type": "stream",
     "text": [
      "r.shape = (10000, 19, 19, 31)\n",
      "nbExamples = 10000\n",
      "/tmp/ipykernel_108/1067138075.py:41: FutureWarning: The frame.append method is deprecated and will be removed from pandas in a future version. Use pandas.concat instead.\n",
      "  loss_df2 = loss_df2.append({\n"
     ]
    },
    {
     "name": "stdout",
     "output_type": "stream",
     "text": [
      "epoch 109\n",
      "<tf.Variable 'learning_rate:0' shape=() dtype=float32, numpy=0.0005>\n"
     ]
    },
    {
     "name": "stderr",
     "output_type": "stream",
     "text": [
      "r.shape = (10000, 19, 19, 31)\n",
      "nbExamples = 10000\n",
      "/tmp/ipykernel_108/1067138075.py:41: FutureWarning: The frame.append method is deprecated and will be removed from pandas in a future version. Use pandas.concat instead.\n",
      "  loss_df2 = loss_df2.append({\n"
     ]
    },
    {
     "name": "stdout",
     "output_type": "stream",
     "text": [
      "epoch 110\n",
      "<tf.Variable 'learning_rate:0' shape=() dtype=float32, numpy=0.0005>\n"
     ]
    },
    {
     "name": "stderr",
     "output_type": "stream",
     "text": [
      "r.shape = (10000, 19, 19, 31)\n",
      "nbExamples = 10000\n",
      "/tmp/ipykernel_108/1067138075.py:41: FutureWarning: The frame.append method is deprecated and will be removed from pandas in a future version. Use pandas.concat instead.\n",
      "  loss_df2 = loss_df2.append({\n",
      "r.shape = (10000, 19, 19, 31)\n",
      "nbExamples = 10000\n"
     ]
    },
    {
     "name": "stdout",
     "output_type": "stream",
     "text": [
      "epoch 111\n",
      "<tf.Variable 'learning_rate:0' shape=() dtype=float32, numpy=0.0005>\n"
     ]
    },
    {
     "name": "stderr",
     "output_type": "stream",
     "text": [
      "/tmp/ipykernel_108/1067138075.py:41: FutureWarning: The frame.append method is deprecated and will be removed from pandas in a future version. Use pandas.concat instead.\n",
      "  loss_df2 = loss_df2.append({\n",
      "r.shape = (10000, 19, 19, 31)\n",
      "nbExamples = 10000\n"
     ]
    },
    {
     "name": "stdout",
     "output_type": "stream",
     "text": [
      "epoch 112\n",
      "<tf.Variable 'learning_rate:0' shape=() dtype=float32, numpy=0.0005>\n"
     ]
    },
    {
     "name": "stderr",
     "output_type": "stream",
     "text": [
      "/tmp/ipykernel_108/1067138075.py:41: FutureWarning: The frame.append method is deprecated and will be removed from pandas in a future version. Use pandas.concat instead.\n",
      "  loss_df2 = loss_df2.append({\n"
     ]
    },
    {
     "name": "stdout",
     "output_type": "stream",
     "text": [
      "epoch 113\n",
      "<tf.Variable 'learning_rate:0' shape=() dtype=float32, numpy=0.0005>\n"
     ]
    },
    {
     "name": "stderr",
     "output_type": "stream",
     "text": [
      "r.shape = (10000, 19, 19, 31)\n",
      "nbExamples = 10000\n",
      "/tmp/ipykernel_108/1067138075.py:41: FutureWarning: The frame.append method is deprecated and will be removed from pandas in a future version. Use pandas.concat instead.\n",
      "  loss_df2 = loss_df2.append({\n",
      "r.shape = (10000, 19, 19, 31)\n",
      "nbExamples = 10000\n"
     ]
    },
    {
     "name": "stdout",
     "output_type": "stream",
     "text": [
      "epoch 114\n",
      "<tf.Variable 'learning_rate:0' shape=() dtype=float32, numpy=0.0005>\n"
     ]
    },
    {
     "name": "stderr",
     "output_type": "stream",
     "text": [
      "/tmp/ipykernel_108/1067138075.py:41: FutureWarning: The frame.append method is deprecated and will be removed from pandas in a future version. Use pandas.concat instead.\n",
      "  loss_df2 = loss_df2.append({\n"
     ]
    },
    {
     "name": "stdout",
     "output_type": "stream",
     "text": [
      "epoch 115\n",
      "<tf.Variable 'learning_rate:0' shape=() dtype=float32, numpy=0.0005>\n"
     ]
    },
    {
     "name": "stderr",
     "output_type": "stream",
     "text": [
      "r.shape = (10000, 19, 19, 31)\n",
      "nbExamples = 10000\n",
      "/tmp/ipykernel_108/1067138075.py:41: FutureWarning: The frame.append method is deprecated and will be removed from pandas in a future version. Use pandas.concat instead.\n",
      "  loss_df2 = loss_df2.append({\n",
      "r.shape = (10000, 19, 19, 31)\n",
      "nbExamples = 10000\n"
     ]
    },
    {
     "name": "stdout",
     "output_type": "stream",
     "text": [
      "epoch 116\n",
      "<tf.Variable 'learning_rate:0' shape=() dtype=float32, numpy=0.0005>\n"
     ]
    },
    {
     "name": "stderr",
     "output_type": "stream",
     "text": [
      "/tmp/ipykernel_108/1067138075.py:41: FutureWarning: The frame.append method is deprecated and will be removed from pandas in a future version. Use pandas.concat instead.\n",
      "  loss_df2 = loss_df2.append({\n",
      "r.shape = (10000, 19, 19, 31)\n",
      "nbExamples = 10000\n"
     ]
    },
    {
     "name": "stdout",
     "output_type": "stream",
     "text": [
      "epoch 117\n",
      "<tf.Variable 'learning_rate:0' shape=() dtype=float32, numpy=0.0005>\n"
     ]
    },
    {
     "name": "stderr",
     "output_type": "stream",
     "text": [
      "/tmp/ipykernel_108/1067138075.py:41: FutureWarning: The frame.append method is deprecated and will be removed from pandas in a future version. Use pandas.concat instead.\n",
      "  loss_df2 = loss_df2.append({\n",
      "r.shape = (10000, 19, 19, 31)\n",
      "nbExamples = 10000\n"
     ]
    },
    {
     "name": "stdout",
     "output_type": "stream",
     "text": [
      "epoch 118\n",
      "<tf.Variable 'learning_rate:0' shape=() dtype=float32, numpy=0.0005>\n"
     ]
    },
    {
     "name": "stderr",
     "output_type": "stream",
     "text": [
      "/tmp/ipykernel_108/1067138075.py:41: FutureWarning: The frame.append method is deprecated and will be removed from pandas in a future version. Use pandas.concat instead.\n",
      "  loss_df2 = loss_df2.append({\n"
     ]
    },
    {
     "name": "stdout",
     "output_type": "stream",
     "text": [
      "epoch 119\n",
      "<tf.Variable 'learning_rate:0' shape=() dtype=float32, numpy=0.0005>\n"
     ]
    },
    {
     "name": "stderr",
     "output_type": "stream",
     "text": [
      "r.shape = (10000, 19, 19, 31)\n",
      "nbExamples = 10000\n",
      "/tmp/ipykernel_108/1067138075.py:41: FutureWarning: The frame.append method is deprecated and will be removed from pandas in a future version. Use pandas.concat instead.\n",
      "  loss_df2 = loss_df2.append({\n",
      "r.shape = (10000, 19, 19, 31)\n",
      "nbExamples = 10000\n"
     ]
    },
    {
     "name": "stdout",
     "output_type": "stream",
     "text": [
      "epoch 120\n",
      "<tf.Variable 'learning_rate:0' shape=() dtype=float32, numpy=0.0005>\n"
     ]
    },
    {
     "name": "stderr",
     "output_type": "stream",
     "text": [
      "r.shape = (10000, 19, 19, 31)\n",
      "nbExamples = 10000\n"
     ]
    },
    {
     "name": "stdout",
     "output_type": "stream",
     "text": [
      "val = [3.341832399368286, 2.5934641361236572, 0.6868970394134521, 0.36480000615119934, 0.11693267524242401]\n",
      "epoch 121\n",
      "<tf.Variable 'learning_rate:0' shape=() dtype=float32, numpy=0.0005>\n"
     ]
    },
    {
     "name": "stderr",
     "output_type": "stream",
     "text": [
      "/tmp/ipykernel_108/1067138075.py:41: FutureWarning: The frame.append method is deprecated and will be removed from pandas in a future version. Use pandas.concat instead.\n",
      "  loss_df2 = loss_df2.append({\n",
      "r.shape = (10000, 19, 19, 31)\n",
      "nbExamples = 10000\n",
      "/tmp/ipykernel_108/1067138075.py:41: FutureWarning: The frame.append method is deprecated and will be removed from pandas in a future version. Use pandas.concat instead.\n",
      "  loss_df2 = loss_df2.append({\n"
     ]
    },
    {
     "name": "stdout",
     "output_type": "stream",
     "text": [
      "epoch 122\n",
      "<tf.Variable 'learning_rate:0' shape=() dtype=float32, numpy=0.0005>\n"
     ]
    },
    {
     "name": "stderr",
     "output_type": "stream",
     "text": [
      "r.shape = (10000, 19, 19, 31)\n",
      "nbExamples = 10000\n",
      "/tmp/ipykernel_108/1067138075.py:41: FutureWarning: The frame.append method is deprecated and will be removed from pandas in a future version. Use pandas.concat instead.\n",
      "  loss_df2 = loss_df2.append({\n"
     ]
    },
    {
     "name": "stdout",
     "output_type": "stream",
     "text": [
      "epoch 123\n",
      "<tf.Variable 'learning_rate:0' shape=() dtype=float32, numpy=0.0005>\n"
     ]
    },
    {
     "name": "stderr",
     "output_type": "stream",
     "text": [
      "r.shape = (10000, 19, 19, 31)\n",
      "nbExamples = 10000\n",
      "/tmp/ipykernel_108/1067138075.py:41: FutureWarning: The frame.append method is deprecated and will be removed from pandas in a future version. Use pandas.concat instead.\n",
      "  loss_df2 = loss_df2.append({\n",
      "r.shape = (10000, 19, 19, 31)\n",
      "nbExamples = 10000\n"
     ]
    },
    {
     "name": "stdout",
     "output_type": "stream",
     "text": [
      "epoch 124\n",
      "<tf.Variable 'learning_rate:0' shape=() dtype=float32, numpy=0.0005>\n"
     ]
    },
    {
     "name": "stderr",
     "output_type": "stream",
     "text": [
      "/tmp/ipykernel_108/1067138075.py:41: FutureWarning: The frame.append method is deprecated and will be removed from pandas in a future version. Use pandas.concat instead.\n",
      "  loss_df2 = loss_df2.append({\n",
      "r.shape = (10000, 19, 19, 31)\n",
      "nbExamples = 10000\n"
     ]
    },
    {
     "name": "stdout",
     "output_type": "stream",
     "text": [
      "epoch 125\n",
      "<tf.Variable 'learning_rate:0' shape=() dtype=float32, numpy=0.0005>\n"
     ]
    },
    {
     "name": "stderr",
     "output_type": "stream",
     "text": [
      "/tmp/ipykernel_108/1067138075.py:41: FutureWarning: The frame.append method is deprecated and will be removed from pandas in a future version. Use pandas.concat instead.\n",
      "  loss_df2 = loss_df2.append({\n",
      "r.shape = (10000, 19, 19, 31)\n",
      "nbExamples = 10000\n"
     ]
    },
    {
     "name": "stdout",
     "output_type": "stream",
     "text": [
      "epoch 126\n",
      "<tf.Variable 'learning_rate:0' shape=() dtype=float32, numpy=0.0005>\n"
     ]
    },
    {
     "name": "stderr",
     "output_type": "stream",
     "text": [
      "/tmp/ipykernel_108/1067138075.py:41: FutureWarning: The frame.append method is deprecated and will be removed from pandas in a future version. Use pandas.concat instead.\n",
      "  loss_df2 = loss_df2.append({\n",
      "r.shape = (10000, 19, 19, 31)\n",
      "nbExamples = 10000\n"
     ]
    },
    {
     "name": "stdout",
     "output_type": "stream",
     "text": [
      "epoch 127\n",
      "<tf.Variable 'learning_rate:0' shape=() dtype=float32, numpy=0.0005>\n"
     ]
    },
    {
     "name": "stderr",
     "output_type": "stream",
     "text": [
      "/tmp/ipykernel_108/1067138075.py:41: FutureWarning: The frame.append method is deprecated and will be removed from pandas in a future version. Use pandas.concat instead.\n",
      "  loss_df2 = loss_df2.append({\n",
      "r.shape = (10000, 19, 19, 31)\n",
      "nbExamples = 10000\n"
     ]
    },
    {
     "name": "stdout",
     "output_type": "stream",
     "text": [
      "epoch 128\n",
      "<tf.Variable 'learning_rate:0' shape=() dtype=float32, numpy=0.0005>\n"
     ]
    },
    {
     "name": "stderr",
     "output_type": "stream",
     "text": [
      "/tmp/ipykernel_108/1067138075.py:41: FutureWarning: The frame.append method is deprecated and will be removed from pandas in a future version. Use pandas.concat instead.\n",
      "  loss_df2 = loss_df2.append({\n"
     ]
    },
    {
     "name": "stdout",
     "output_type": "stream",
     "text": [
      "epoch 129\n",
      "<tf.Variable 'learning_rate:0' shape=() dtype=float32, numpy=0.0005>\n"
     ]
    },
    {
     "name": "stderr",
     "output_type": "stream",
     "text": [
      "r.shape = (10000, 19, 19, 31)\n",
      "nbExamples = 10000\n",
      "/tmp/ipykernel_108/1067138075.py:41: FutureWarning: The frame.append method is deprecated and will be removed from pandas in a future version. Use pandas.concat instead.\n",
      "  loss_df2 = loss_df2.append({\n"
     ]
    },
    {
     "name": "stdout",
     "output_type": "stream",
     "text": [
      "epoch 130\n",
      "<tf.Variable 'learning_rate:0' shape=() dtype=float32, numpy=0.0005>\n"
     ]
    },
    {
     "name": "stderr",
     "output_type": "stream",
     "text": [
      "r.shape = (10000, 19, 19, 31)\n",
      "nbExamples = 10000\n",
      "/tmp/ipykernel_108/1067138075.py:41: FutureWarning: The frame.append method is deprecated and will be removed from pandas in a future version. Use pandas.concat instead.\n",
      "  loss_df2 = loss_df2.append({\n"
     ]
    },
    {
     "name": "stdout",
     "output_type": "stream",
     "text": [
      "epoch 131\n",
      "<tf.Variable 'learning_rate:0' shape=() dtype=float32, numpy=0.0005>\n"
     ]
    },
    {
     "name": "stderr",
     "output_type": "stream",
     "text": [
      "r.shape = (10000, 19, 19, 31)\n",
      "nbExamples = 10000\n",
      "/tmp/ipykernel_108/1067138075.py:41: FutureWarning: The frame.append method is deprecated and will be removed from pandas in a future version. Use pandas.concat instead.\n",
      "  loss_df2 = loss_df2.append({\n"
     ]
    },
    {
     "name": "stdout",
     "output_type": "stream",
     "text": [
      "epoch 132\n",
      "<tf.Variable 'learning_rate:0' shape=() dtype=float32, numpy=0.0005>\n"
     ]
    },
    {
     "name": "stderr",
     "output_type": "stream",
     "text": [
      "r.shape = (10000, 19, 19, 31)\n",
      "nbExamples = 10000\n",
      "/tmp/ipykernel_108/1067138075.py:41: FutureWarning: The frame.append method is deprecated and will be removed from pandas in a future version. Use pandas.concat instead.\n",
      "  loss_df2 = loss_df2.append({\n",
      "r.shape = (10000, 19, 19, 31)\n",
      "nbExamples = 10000\n"
     ]
    },
    {
     "name": "stdout",
     "output_type": "stream",
     "text": [
      "epoch 133\n",
      "<tf.Variable 'learning_rate:0' shape=() dtype=float32, numpy=0.0005>\n"
     ]
    },
    {
     "name": "stderr",
     "output_type": "stream",
     "text": [
      "/tmp/ipykernel_108/1067138075.py:41: FutureWarning: The frame.append method is deprecated and will be removed from pandas in a future version. Use pandas.concat instead.\n",
      "  loss_df2 = loss_df2.append({\n",
      "r.shape = (10000, 19, 19, 31)\n",
      "nbExamples = 10000\n"
     ]
    },
    {
     "name": "stdout",
     "output_type": "stream",
     "text": [
      "epoch 134\n",
      "<tf.Variable 'learning_rate:0' shape=() dtype=float32, numpy=0.0005>\n"
     ]
    },
    {
     "name": "stderr",
     "output_type": "stream",
     "text": [
      "/tmp/ipykernel_108/1067138075.py:41: FutureWarning: The frame.append method is deprecated and will be removed from pandas in a future version. Use pandas.concat instead.\n",
      "  loss_df2 = loss_df2.append({\n",
      "r.shape = (10000, 19, 19, 31)\n"
     ]
    },
    {
     "name": "stdout",
     "output_type": "stream",
     "text": [
      "epoch 135\n",
      "<tf.Variable 'learning_rate:0' shape=() dtype=float32, numpy=0.0005>\n"
     ]
    },
    {
     "name": "stderr",
     "output_type": "stream",
     "text": [
      "nbExamples = 10000\n",
      "/tmp/ipykernel_108/1067138075.py:41: FutureWarning: The frame.append method is deprecated and will be removed from pandas in a future version. Use pandas.concat instead.\n",
      "  loss_df2 = loss_df2.append({\n"
     ]
    },
    {
     "name": "stdout",
     "output_type": "stream",
     "text": [
      "epoch 136\n",
      "<tf.Variable 'learning_rate:0' shape=() dtype=float32, numpy=0.0005>\n"
     ]
    },
    {
     "name": "stderr",
     "output_type": "stream",
     "text": [
      "r.shape = (10000, 19, 19, 31)\n",
      "nbExamples = 10000\n",
      "/tmp/ipykernel_108/1067138075.py:41: FutureWarning: The frame.append method is deprecated and will be removed from pandas in a future version. Use pandas.concat instead.\n",
      "  loss_df2 = loss_df2.append({\n",
      "r.shape = (10000, 19, 19, 31)\n",
      "nbExamples = 10000\n"
     ]
    },
    {
     "name": "stdout",
     "output_type": "stream",
     "text": [
      "epoch 137\n",
      "<tf.Variable 'learning_rate:0' shape=() dtype=float32, numpy=0.0005>\n"
     ]
    },
    {
     "name": "stderr",
     "output_type": "stream",
     "text": [
      "/tmp/ipykernel_108/1067138075.py:41: FutureWarning: The frame.append method is deprecated and will be removed from pandas in a future version. Use pandas.concat instead.\n",
      "  loss_df2 = loss_df2.append({\n",
      "r.shape = (10000, 19, 19, 31)\n"
     ]
    },
    {
     "name": "stdout",
     "output_type": "stream",
     "text": [
      "epoch 138\n",
      "<tf.Variable 'learning_rate:0' shape=() dtype=float32, numpy=0.0005>\n"
     ]
    },
    {
     "name": "stderr",
     "output_type": "stream",
     "text": [
      "nbExamples = 10000\n",
      "/tmp/ipykernel_108/1067138075.py:41: FutureWarning: The frame.append method is deprecated and will be removed from pandas in a future version. Use pandas.concat instead.\n",
      "  loss_df2 = loss_df2.append({\n",
      "r.shape = (10000, 19, 19, 31)\n",
      "nbExamples = 10000\n"
     ]
    },
    {
     "name": "stdout",
     "output_type": "stream",
     "text": [
      "epoch 139\n",
      "<tf.Variable 'learning_rate:0' shape=() dtype=float32, numpy=0.0005>\n"
     ]
    },
    {
     "name": "stderr",
     "output_type": "stream",
     "text": [
      "/tmp/ipykernel_108/1067138075.py:41: FutureWarning: The frame.append method is deprecated and will be removed from pandas in a future version. Use pandas.concat instead.\n",
      "  loss_df2 = loss_df2.append({\n",
      "r.shape = (10000, 19, 19, 31)\n"
     ]
    },
    {
     "name": "stdout",
     "output_type": "stream",
     "text": [
      "epoch 140\n",
      "<tf.Variable 'learning_rate:0' shape=() dtype=float32, numpy=0.0005>\n"
     ]
    },
    {
     "name": "stderr",
     "output_type": "stream",
     "text": [
      "nbExamples = 10000\n",
      "r.shape = (10000, 19, 19, 31)\n",
      "nbExamples = 10000\n"
     ]
    },
    {
     "name": "stdout",
     "output_type": "stream",
     "text": [
      "val = [3.2773854732513428, 2.5303170680999756, 0.6868569850921631, 0.37299999594688416, 0.11690972000360489]\n",
      "epoch 141\n",
      "<tf.Variable 'learning_rate:0' shape=() dtype=float32, numpy=0.0005>\n"
     ]
    },
    {
     "name": "stderr",
     "output_type": "stream",
     "text": [
      "/tmp/ipykernel_108/1067138075.py:41: FutureWarning: The frame.append method is deprecated and will be removed from pandas in a future version. Use pandas.concat instead.\n",
      "  loss_df2 = loss_df2.append({\n",
      "r.shape = (10000, 19, 19, 31)\n",
      "nbExamples = 10000\n",
      "/tmp/ipykernel_108/1067138075.py:41: FutureWarning: The frame.append method is deprecated and will be removed from pandas in a future version. Use pandas.concat instead.\n",
      "  loss_df2 = loss_df2.append({\n",
      "r.shape = (10000, 19, 19, 31)\n"
     ]
    },
    {
     "name": "stdout",
     "output_type": "stream",
     "text": [
      "epoch 142\n",
      "<tf.Variable 'learning_rate:0' shape=() dtype=float32, numpy=0.0005>\n"
     ]
    },
    {
     "name": "stderr",
     "output_type": "stream",
     "text": [
      "nbExamples = 10000\n",
      "/tmp/ipykernel_108/1067138075.py:41: FutureWarning: The frame.append method is deprecated and will be removed from pandas in a future version. Use pandas.concat instead.\n",
      "  loss_df2 = loss_df2.append({\n"
     ]
    },
    {
     "name": "stdout",
     "output_type": "stream",
     "text": [
      "epoch 143\n",
      "<tf.Variable 'learning_rate:0' shape=() dtype=float32, numpy=0.0005>\n"
     ]
    },
    {
     "name": "stderr",
     "output_type": "stream",
     "text": [
      "r.shape = (10000, 19, 19, 31)\n",
      "nbExamples = 10000\n",
      "/tmp/ipykernel_108/1067138075.py:41: FutureWarning: The frame.append method is deprecated and will be removed from pandas in a future version. Use pandas.concat instead.\n",
      "  loss_df2 = loss_df2.append({\n"
     ]
    },
    {
     "name": "stdout",
     "output_type": "stream",
     "text": [
      "epoch 144\n",
      "<tf.Variable 'learning_rate:0' shape=() dtype=float32, numpy=0.0005>\n"
     ]
    },
    {
     "name": "stderr",
     "output_type": "stream",
     "text": [
      "r.shape = (10000, 19, 19, 31)\n",
      "nbExamples = 10000\n",
      "/tmp/ipykernel_108/1067138075.py:41: FutureWarning: The frame.append method is deprecated and will be removed from pandas in a future version. Use pandas.concat instead.\n",
      "  loss_df2 = loss_df2.append({\n"
     ]
    },
    {
     "name": "stdout",
     "output_type": "stream",
     "text": [
      "epoch 145\n",
      "<tf.Variable 'learning_rate:0' shape=() dtype=float32, numpy=0.0005>\n"
     ]
    },
    {
     "name": "stderr",
     "output_type": "stream",
     "text": [
      "r.shape = (10000, 19, 19, 31)\n",
      "nbExamples = 10000\n",
      "/tmp/ipykernel_108/1067138075.py:41: FutureWarning: The frame.append method is deprecated and will be removed from pandas in a future version. Use pandas.concat instead.\n",
      "  loss_df2 = loss_df2.append({\n",
      "r.shape = (10000, 19, 19, 31)\n",
      "nbExamples = 10000\n"
     ]
    },
    {
     "name": "stdout",
     "output_type": "stream",
     "text": [
      "epoch 146\n",
      "<tf.Variable 'learning_rate:0' shape=() dtype=float32, numpy=0.0005>\n"
     ]
    },
    {
     "name": "stderr",
     "output_type": "stream",
     "text": [
      "/tmp/ipykernel_108/1067138075.py:41: FutureWarning: The frame.append method is deprecated and will be removed from pandas in a future version. Use pandas.concat instead.\n",
      "  loss_df2 = loss_df2.append({\n",
      "r.shape = (10000, 19, 19, 31)\n"
     ]
    },
    {
     "name": "stdout",
     "output_type": "stream",
     "text": [
      "epoch 147\n",
      "<tf.Variable 'learning_rate:0' shape=() dtype=float32, numpy=0.0005>\n"
     ]
    },
    {
     "name": "stderr",
     "output_type": "stream",
     "text": [
      "nbExamples = 10000\n",
      "/tmp/ipykernel_108/1067138075.py:41: FutureWarning: The frame.append method is deprecated and will be removed from pandas in a future version. Use pandas.concat instead.\n",
      "  loss_df2 = loss_df2.append({\n"
     ]
    },
    {
     "name": "stdout",
     "output_type": "stream",
     "text": [
      "epoch 148\n",
      "<tf.Variable 'learning_rate:0' shape=() dtype=float32, numpy=0.0005>\n"
     ]
    },
    {
     "name": "stderr",
     "output_type": "stream",
     "text": [
      "r.shape = (10000, 19, 19, 31)\n",
      "nbExamples = 10000\n",
      "/tmp/ipykernel_108/1067138075.py:41: FutureWarning: The frame.append method is deprecated and will be removed from pandas in a future version. Use pandas.concat instead.\n",
      "  loss_df2 = loss_df2.append({\n",
      "r.shape = (10000, 19, 19, 31)\n",
      "nbExamples = 10000\n"
     ]
    },
    {
     "name": "stdout",
     "output_type": "stream",
     "text": [
      "epoch 149\n",
      "<tf.Variable 'learning_rate:0' shape=() dtype=float32, numpy=0.0005>\n"
     ]
    },
    {
     "name": "stderr",
     "output_type": "stream",
     "text": [
      "/tmp/ipykernel_108/1067138075.py:41: FutureWarning: The frame.append method is deprecated and will be removed from pandas in a future version. Use pandas.concat instead.\n",
      "  loss_df2 = loss_df2.append({\n",
      "r.shape = (10000, 19, 19, 31)\n",
      "nbExamples = 10000\n"
     ]
    },
    {
     "name": "stdout",
     "output_type": "stream",
     "text": [
      "epoch 150\n",
      "<tf.Variable 'learning_rate:0' shape=() dtype=float32, numpy=0.0005>\n"
     ]
    },
    {
     "name": "stderr",
     "output_type": "stream",
     "text": [
      "/tmp/ipykernel_108/1067138075.py:41: FutureWarning: The frame.append method is deprecated and will be removed from pandas in a future version. Use pandas.concat instead.\n",
      "  loss_df2 = loss_df2.append({\n",
      "r.shape = (10000, 19, 19, 31)\n",
      "nbExamples = 10000\n"
     ]
    },
    {
     "name": "stdout",
     "output_type": "stream",
     "text": [
      "epoch 151\n",
      "<tf.Variable 'learning_rate:0' shape=() dtype=float32, numpy=0.0005>\n"
     ]
    },
    {
     "name": "stderr",
     "output_type": "stream",
     "text": [
      "/tmp/ipykernel_108/1067138075.py:41: FutureWarning: The frame.append method is deprecated and will be removed from pandas in a future version. Use pandas.concat instead.\n",
      "  loss_df2 = loss_df2.append({\n",
      "r.shape = (10000, 19, 19, 31)\n",
      "nbExamples = 10000\n"
     ]
    },
    {
     "name": "stdout",
     "output_type": "stream",
     "text": [
      "epoch 152\n",
      "<tf.Variable 'learning_rate:0' shape=() dtype=float32, numpy=0.0005>\n"
     ]
    },
    {
     "name": "stderr",
     "output_type": "stream",
     "text": [
      "/tmp/ipykernel_108/1067138075.py:41: FutureWarning: The frame.append method is deprecated and will be removed from pandas in a future version. Use pandas.concat instead.\n",
      "  loss_df2 = loss_df2.append({\n"
     ]
    },
    {
     "name": "stdout",
     "output_type": "stream",
     "text": [
      "epoch 153\n",
      "<tf.Variable 'learning_rate:0' shape=() dtype=float32, numpy=0.0005>\n"
     ]
    },
    {
     "name": "stderr",
     "output_type": "stream",
     "text": [
      "r.shape = (10000, 19, 19, 31)\n",
      "nbExamples = 10000\n",
      "/tmp/ipykernel_108/1067138075.py:41: FutureWarning: The frame.append method is deprecated and will be removed from pandas in a future version. Use pandas.concat instead.\n",
      "  loss_df2 = loss_df2.append({\n"
     ]
    },
    {
     "name": "stdout",
     "output_type": "stream",
     "text": [
      "epoch 154\n",
      "<tf.Variable 'learning_rate:0' shape=() dtype=float32, numpy=0.0005>\n"
     ]
    },
    {
     "name": "stderr",
     "output_type": "stream",
     "text": [
      "r.shape = (10000, 19, 19, 31)\n",
      "nbExamples = 10000\n",
      "/tmp/ipykernel_108/1067138075.py:41: FutureWarning: The frame.append method is deprecated and will be removed from pandas in a future version. Use pandas.concat instead.\n",
      "  loss_df2 = loss_df2.append({\n"
     ]
    },
    {
     "name": "stdout",
     "output_type": "stream",
     "text": [
      "epoch 155\n",
      "<tf.Variable 'learning_rate:0' shape=() dtype=float32, numpy=0.0005>\n"
     ]
    },
    {
     "name": "stderr",
     "output_type": "stream",
     "text": [
      "r.shape = (10000, 19, 19, 31)\n",
      "nbExamples = 10000\n",
      "/tmp/ipykernel_108/1067138075.py:41: FutureWarning: The frame.append method is deprecated and will be removed from pandas in a future version. Use pandas.concat instead.\n",
      "  loss_df2 = loss_df2.append({\n"
     ]
    },
    {
     "name": "stdout",
     "output_type": "stream",
     "text": [
      "epoch 156\n",
      "<tf.Variable 'learning_rate:0' shape=() dtype=float32, numpy=0.0005>\n"
     ]
    },
    {
     "name": "stderr",
     "output_type": "stream",
     "text": [
      "r.shape = (10000, 19, 19, 31)\n",
      "nbExamples = 10000\n",
      "/tmp/ipykernel_108/1067138075.py:41: FutureWarning: The frame.append method is deprecated and will be removed from pandas in a future version. Use pandas.concat instead.\n",
      "  loss_df2 = loss_df2.append({\n",
      "r.shape = (10000, 19, 19, 31)\n"
     ]
    },
    {
     "name": "stdout",
     "output_type": "stream",
     "text": [
      "epoch 157\n",
      "<tf.Variable 'learning_rate:0' shape=() dtype=float32, numpy=0.0005>\n"
     ]
    },
    {
     "name": "stderr",
     "output_type": "stream",
     "text": [
      "nbExamples = 10000\n",
      "/tmp/ipykernel_108/1067138075.py:41: FutureWarning: The frame.append method is deprecated and will be removed from pandas in a future version. Use pandas.concat instead.\n",
      "  loss_df2 = loss_df2.append({\n",
      "r.shape = (10000, 19, 19, 31)\n",
      "nbExamples = 10000\n"
     ]
    },
    {
     "name": "stdout",
     "output_type": "stream",
     "text": [
      "epoch 158\n",
      "<tf.Variable 'learning_rate:0' shape=() dtype=float32, numpy=0.0005>\n"
     ]
    },
    {
     "name": "stderr",
     "output_type": "stream",
     "text": [
      "/tmp/ipykernel_108/1067138075.py:41: FutureWarning: The frame.append method is deprecated and will be removed from pandas in a future version. Use pandas.concat instead.\n",
      "  loss_df2 = loss_df2.append({\n",
      "r.shape = (10000, 19, 19, 31)\n",
      "nbExamples = 10000\n"
     ]
    },
    {
     "name": "stdout",
     "output_type": "stream",
     "text": [
      "epoch 159\n",
      "<tf.Variable 'learning_rate:0' shape=() dtype=float32, numpy=0.0005>\n"
     ]
    },
    {
     "name": "stderr",
     "output_type": "stream",
     "text": [
      "/tmp/ipykernel_108/1067138075.py:41: FutureWarning: The frame.append method is deprecated and will be removed from pandas in a future version. Use pandas.concat instead.\n",
      "  loss_df2 = loss_df2.append({\n",
      "r.shape = (10000, 19, 19, 31)\n",
      "nbExamples = 10000\n"
     ]
    },
    {
     "name": "stdout",
     "output_type": "stream",
     "text": [
      "epoch 160\n",
      "<tf.Variable 'learning_rate:0' shape=() dtype=float32, numpy=0.0005>\n"
     ]
    },
    {
     "name": "stderr",
     "output_type": "stream",
     "text": [
      "r.shape = (10000, 19, 19, 31)\n",
      "nbExamples = 10000\n"
     ]
    },
    {
     "name": "stdout",
     "output_type": "stream",
     "text": [
      "val = [3.276982069015503, 2.530210018157959, 0.6876659393310547, 0.3702000081539154, 0.11731629818677902]\n",
      "epoch 161\n",
      "<tf.Variable 'learning_rate:0' shape=() dtype=float32, numpy=0.0005>\n"
     ]
    },
    {
     "name": "stderr",
     "output_type": "stream",
     "text": [
      "/tmp/ipykernel_108/1067138075.py:41: FutureWarning: The frame.append method is deprecated and will be removed from pandas in a future version. Use pandas.concat instead.\n",
      "  loss_df2 = loss_df2.append({\n",
      "r.shape = (10000, 19, 19, 31)\n",
      "nbExamples = 10000\n",
      "/tmp/ipykernel_108/1067138075.py:41: FutureWarning: The frame.append method is deprecated and will be removed from pandas in a future version. Use pandas.concat instead.\n",
      "  loss_df2 = loss_df2.append({\n"
     ]
    },
    {
     "name": "stdout",
     "output_type": "stream",
     "text": [
      "epoch 162\n",
      "<tf.Variable 'learning_rate:0' shape=() dtype=float32, numpy=0.0005>\n"
     ]
    },
    {
     "name": "stderr",
     "output_type": "stream",
     "text": [
      "r.shape = (10000, 19, 19, 31)\n",
      "nbExamples = 10000\n",
      "/tmp/ipykernel_108/1067138075.py:41: FutureWarning: The frame.append method is deprecated and will be removed from pandas in a future version. Use pandas.concat instead.\n",
      "  loss_df2 = loss_df2.append({\n",
      "r.shape = (10000, 19, 19, 31)\n",
      "nbExamples = 10000\n"
     ]
    },
    {
     "name": "stdout",
     "output_type": "stream",
     "text": [
      "epoch 163\n",
      "<tf.Variable 'learning_rate:0' shape=() dtype=float32, numpy=0.0005>\n"
     ]
    },
    {
     "name": "stderr",
     "output_type": "stream",
     "text": [
      "/tmp/ipykernel_108/1067138075.py:41: FutureWarning: The frame.append method is deprecated and will be removed from pandas in a future version. Use pandas.concat instead.\n",
      "  loss_df2 = loss_df2.append({\n"
     ]
    },
    {
     "name": "stdout",
     "output_type": "stream",
     "text": [
      "epoch 164\n",
      "<tf.Variable 'learning_rate:0' shape=() dtype=float32, numpy=0.0005>\n"
     ]
    },
    {
     "name": "stderr",
     "output_type": "stream",
     "text": [
      "r.shape = (10000, 19, 19, 31)\n",
      "nbExamples = 10000\n",
      "/tmp/ipykernel_108/1067138075.py:41: FutureWarning: The frame.append method is deprecated and will be removed from pandas in a future version. Use pandas.concat instead.\n",
      "  loss_df2 = loss_df2.append({\n",
      "r.shape = (10000, 19, 19, 31)\n",
      "nbExamples = 10000\n"
     ]
    },
    {
     "name": "stdout",
     "output_type": "stream",
     "text": [
      "epoch 165\n",
      "<tf.Variable 'learning_rate:0' shape=() dtype=float32, numpy=0.0005>\n"
     ]
    },
    {
     "name": "stderr",
     "output_type": "stream",
     "text": [
      "/tmp/ipykernel_108/1067138075.py:41: FutureWarning: The frame.append method is deprecated and will be removed from pandas in a future version. Use pandas.concat instead.\n",
      "  loss_df2 = loss_df2.append({\n",
      "r.shape = (10000, 19, 19, 31)\n",
      "nbExamples = 10000\n"
     ]
    },
    {
     "name": "stdout",
     "output_type": "stream",
     "text": [
      "epoch 166\n",
      "<tf.Variable 'learning_rate:0' shape=() dtype=float32, numpy=0.0005>\n"
     ]
    },
    {
     "name": "stderr",
     "output_type": "stream",
     "text": [
      "/tmp/ipykernel_108/1067138075.py:41: FutureWarning: The frame.append method is deprecated and will be removed from pandas in a future version. Use pandas.concat instead.\n",
      "  loss_df2 = loss_df2.append({\n",
      "r.shape = (10000, 19, 19, 31)\n",
      "nbExamples = 10000\n"
     ]
    },
    {
     "name": "stdout",
     "output_type": "stream",
     "text": [
      "epoch 167\n",
      "<tf.Variable 'learning_rate:0' shape=() dtype=float32, numpy=0.0005>\n"
     ]
    },
    {
     "name": "stderr",
     "output_type": "stream",
     "text": [
      "/tmp/ipykernel_108/1067138075.py:41: FutureWarning: The frame.append method is deprecated and will be removed from pandas in a future version. Use pandas.concat instead.\n",
      "  loss_df2 = loss_df2.append({\n"
     ]
    },
    {
     "name": "stdout",
     "output_type": "stream",
     "text": [
      "epoch 168\n",
      "<tf.Variable 'learning_rate:0' shape=() dtype=float32, numpy=0.0005>\n"
     ]
    },
    {
     "name": "stderr",
     "output_type": "stream",
     "text": [
      "r.shape = (10000, 19, 19, 31)\n",
      "nbExamples = 10000\n",
      "/tmp/ipykernel_108/1067138075.py:41: FutureWarning: The frame.append method is deprecated and will be removed from pandas in a future version. Use pandas.concat instead.\n",
      "  loss_df2 = loss_df2.append({\n"
     ]
    },
    {
     "name": "stdout",
     "output_type": "stream",
     "text": [
      "epoch 169\n",
      "<tf.Variable 'learning_rate:0' shape=() dtype=float32, numpy=0.0005>\n"
     ]
    },
    {
     "name": "stderr",
     "output_type": "stream",
     "text": [
      "r.shape = (10000, 19, 19, 31)\n",
      "nbExamples = 10000\n",
      "/tmp/ipykernel_108/1067138075.py:41: FutureWarning: The frame.append method is deprecated and will be removed from pandas in a future version. Use pandas.concat instead.\n",
      "  loss_df2 = loss_df2.append({\n"
     ]
    },
    {
     "name": "stdout",
     "output_type": "stream",
     "text": [
      "epoch 170\n",
      "<tf.Variable 'learning_rate:0' shape=() dtype=float32, numpy=0.0005>\n"
     ]
    },
    {
     "name": "stderr",
     "output_type": "stream",
     "text": [
      "r.shape = (10000, 19, 19, 31)\n",
      "nbExamples = 10000\n",
      "/tmp/ipykernel_108/1067138075.py:41: FutureWarning: The frame.append method is deprecated and will be removed from pandas in a future version. Use pandas.concat instead.\n",
      "  loss_df2 = loss_df2.append({\n",
      "r.shape = (10000, 19, 19, 31)\n"
     ]
    },
    {
     "name": "stdout",
     "output_type": "stream",
     "text": [
      "epoch 171\n",
      "<tf.Variable 'learning_rate:0' shape=() dtype=float32, numpy=0.0005>\n"
     ]
    },
    {
     "name": "stderr",
     "output_type": "stream",
     "text": [
      "nbExamples = 10000\n",
      "/tmp/ipykernel_108/1067138075.py:41: FutureWarning: The frame.append method is deprecated and will be removed from pandas in a future version. Use pandas.concat instead.\n",
      "  loss_df2 = loss_df2.append({\n",
      "r.shape = (10000, 19, 19, 31)\n",
      "nbExamples = 10000\n"
     ]
    },
    {
     "name": "stdout",
     "output_type": "stream",
     "text": [
      "epoch 172\n",
      "<tf.Variable 'learning_rate:0' shape=() dtype=float32, numpy=0.0005>\n"
     ]
    },
    {
     "name": "stderr",
     "output_type": "stream",
     "text": [
      "/tmp/ipykernel_108/1067138075.py:41: FutureWarning: The frame.append method is deprecated and will be removed from pandas in a future version. Use pandas.concat instead.\n",
      "  loss_df2 = loss_df2.append({\n"
     ]
    },
    {
     "name": "stdout",
     "output_type": "stream",
     "text": [
      "epoch 173\n",
      "<tf.Variable 'learning_rate:0' shape=() dtype=float32, numpy=0.0005>\n"
     ]
    },
    {
     "name": "stderr",
     "output_type": "stream",
     "text": [
      "r.shape = (10000, 19, 19, 31)\n",
      "nbExamples = 10000\n",
      "/tmp/ipykernel_108/1067138075.py:41: FutureWarning: The frame.append method is deprecated and will be removed from pandas in a future version. Use pandas.concat instead.\n",
      "  loss_df2 = loss_df2.append({\n",
      "r.shape = (10000, 19, 19, 31)\n",
      "nbExamples = 10000\n"
     ]
    },
    {
     "name": "stdout",
     "output_type": "stream",
     "text": [
      "epoch 174\n",
      "<tf.Variable 'learning_rate:0' shape=() dtype=float32, numpy=0.0005>\n"
     ]
    },
    {
     "name": "stderr",
     "output_type": "stream",
     "text": [
      "/tmp/ipykernel_108/1067138075.py:41: FutureWarning: The frame.append method is deprecated and will be removed from pandas in a future version. Use pandas.concat instead.\n",
      "  loss_df2 = loss_df2.append({\n"
     ]
    },
    {
     "name": "stdout",
     "output_type": "stream",
     "text": [
      "epoch 175\n",
      "<tf.Variable 'learning_rate:0' shape=() dtype=float32, numpy=0.0005>\n"
     ]
    },
    {
     "name": "stderr",
     "output_type": "stream",
     "text": [
      "r.shape = (10000, 19, 19, 31)\n",
      "nbExamples = 10000\n",
      "/tmp/ipykernel_108/1067138075.py:41: FutureWarning: The frame.append method is deprecated and will be removed from pandas in a future version. Use pandas.concat instead.\n",
      "  loss_df2 = loss_df2.append({\n",
      "r.shape = (10000, 19, 19, 31)\n",
      "nbExamples = 10000\n"
     ]
    },
    {
     "name": "stdout",
     "output_type": "stream",
     "text": [
      "epoch 176\n",
      "<tf.Variable 'learning_rate:0' shape=() dtype=float32, numpy=0.0005>\n"
     ]
    },
    {
     "name": "stderr",
     "output_type": "stream",
     "text": [
      "/tmp/ipykernel_108/1067138075.py:41: FutureWarning: The frame.append method is deprecated and will be removed from pandas in a future version. Use pandas.concat instead.\n",
      "  loss_df2 = loss_df2.append({\n"
     ]
    },
    {
     "name": "stdout",
     "output_type": "stream",
     "text": [
      "epoch 177\n",
      "<tf.Variable 'learning_rate:0' shape=() dtype=float32, numpy=0.0005>\n"
     ]
    },
    {
     "name": "stderr",
     "output_type": "stream",
     "text": [
      "r.shape = (10000, 19, 19, 31)\n",
      "nbExamples = 10000\n",
      "/tmp/ipykernel_108/1067138075.py:41: FutureWarning: The frame.append method is deprecated and will be removed from pandas in a future version. Use pandas.concat instead.\n",
      "  loss_df2 = loss_df2.append({\n",
      "r.shape = (10000, 19, 19, 31)\n",
      "nbExamples = 10000\n"
     ]
    },
    {
     "name": "stdout",
     "output_type": "stream",
     "text": [
      "epoch 178\n",
      "<tf.Variable 'learning_rate:0' shape=() dtype=float32, numpy=0.0005>\n"
     ]
    },
    {
     "name": "stderr",
     "output_type": "stream",
     "text": [
      "/tmp/ipykernel_108/1067138075.py:41: FutureWarning: The frame.append method is deprecated and will be removed from pandas in a future version. Use pandas.concat instead.\n",
      "  loss_df2 = loss_df2.append({\n"
     ]
    },
    {
     "name": "stdout",
     "output_type": "stream",
     "text": [
      "epoch 179\n",
      "<tf.Variable 'learning_rate:0' shape=() dtype=float32, numpy=0.0005>\n"
     ]
    },
    {
     "name": "stderr",
     "output_type": "stream",
     "text": [
      "r.shape = (10000, 19, 19, 31)\n",
      "nbExamples = 10000\n",
      "/tmp/ipykernel_108/1067138075.py:41: FutureWarning: The frame.append method is deprecated and will be removed from pandas in a future version. Use pandas.concat instead.\n",
      "  loss_df2 = loss_df2.append({\n"
     ]
    },
    {
     "name": "stdout",
     "output_type": "stream",
     "text": [
      "epoch 180\n",
      "<tf.Variable 'learning_rate:0' shape=() dtype=float32, numpy=0.0005>\n"
     ]
    },
    {
     "name": "stderr",
     "output_type": "stream",
     "text": [
      "r.shape = (10000, 19, 19, 31)\n",
      "nbExamples = 10000\n",
      "r.shape = (10000, 19, 19, 31)\n",
      "nbExamples = 10000\n"
     ]
    },
    {
     "name": "stdout",
     "output_type": "stream",
     "text": [
      "val = [3.246751546859741, 2.501307249069214, 0.6872535347938538, 0.3781999945640564, 0.11710617691278458]\n",
      "epoch 181\n",
      "<tf.Variable 'learning_rate:0' shape=() dtype=float32, numpy=0.0005>\n"
     ]
    },
    {
     "name": "stderr",
     "output_type": "stream",
     "text": [
      "/tmp/ipykernel_108/1067138075.py:41: FutureWarning: The frame.append method is deprecated and will be removed from pandas in a future version. Use pandas.concat instead.\n",
      "  loss_df2 = loss_df2.append({\n",
      "r.shape = (10000, 19, 19, 31)\n",
      "nbExamples = 10000\n",
      "/tmp/ipykernel_108/1067138075.py:41: FutureWarning: The frame.append method is deprecated and will be removed from pandas in a future version. Use pandas.concat instead.\n",
      "  loss_df2 = loss_df2.append({\n"
     ]
    },
    {
     "name": "stdout",
     "output_type": "stream",
     "text": [
      "epoch 182\n",
      "<tf.Variable 'learning_rate:0' shape=() dtype=float32, numpy=0.0005>\n"
     ]
    },
    {
     "name": "stderr",
     "output_type": "stream",
     "text": [
      "r.shape = (10000, 19, 19, 31)\n",
      "nbExamples = 10000\n",
      "/tmp/ipykernel_108/1067138075.py:41: FutureWarning: The frame.append method is deprecated and will be removed from pandas in a future version. Use pandas.concat instead.\n",
      "  loss_df2 = loss_df2.append({\n"
     ]
    },
    {
     "name": "stdout",
     "output_type": "stream",
     "text": [
      "epoch 183\n",
      "<tf.Variable 'learning_rate:0' shape=() dtype=float32, numpy=0.0005>\n"
     ]
    },
    {
     "name": "stderr",
     "output_type": "stream",
     "text": [
      "r.shape = (10000, 19, 19, 31)\n",
      "nbExamples = 10000\n",
      "/tmp/ipykernel_108/1067138075.py:41: FutureWarning: The frame.append method is deprecated and will be removed from pandas in a future version. Use pandas.concat instead.\n",
      "  loss_df2 = loss_df2.append({\n",
      "r.shape = (10000, 19, 19, 31)\n",
      "nbExamples = 10000\n"
     ]
    },
    {
     "name": "stdout",
     "output_type": "stream",
     "text": [
      "epoch 184\n",
      "<tf.Variable 'learning_rate:0' shape=() dtype=float32, numpy=0.0005>\n"
     ]
    },
    {
     "name": "stderr",
     "output_type": "stream",
     "text": [
      "/tmp/ipykernel_108/1067138075.py:41: FutureWarning: The frame.append method is deprecated and will be removed from pandas in a future version. Use pandas.concat instead.\n",
      "  loss_df2 = loss_df2.append({\n"
     ]
    },
    {
     "name": "stdout",
     "output_type": "stream",
     "text": [
      "epoch 185\n",
      "<tf.Variable 'learning_rate:0' shape=() dtype=float32, numpy=0.0005>\n"
     ]
    },
    {
     "name": "stderr",
     "output_type": "stream",
     "text": [
      "r.shape = (10000, 19, 19, 31)\n",
      "nbExamples = 10000\n",
      "/tmp/ipykernel_108/1067138075.py:41: FutureWarning: The frame.append method is deprecated and will be removed from pandas in a future version. Use pandas.concat instead.\n",
      "  loss_df2 = loss_df2.append({\n"
     ]
    },
    {
     "name": "stdout",
     "output_type": "stream",
     "text": [
      "epoch 186\n",
      "<tf.Variable 'learning_rate:0' shape=() dtype=float32, numpy=0.0005>\n"
     ]
    },
    {
     "name": "stderr",
     "output_type": "stream",
     "text": [
      "r.shape = (10000, 19, 19, 31)\n",
      "nbExamples = 10000\n",
      "/tmp/ipykernel_108/1067138075.py:41: FutureWarning: The frame.append method is deprecated and will be removed from pandas in a future version. Use pandas.concat instead.\n",
      "  loss_df2 = loss_df2.append({\n",
      "r.shape = (10000, 19, 19, 31)\n",
      "nbExamples = 10000\n"
     ]
    },
    {
     "name": "stdout",
     "output_type": "stream",
     "text": [
      "epoch 187\n",
      "<tf.Variable 'learning_rate:0' shape=() dtype=float32, numpy=0.0005>\n"
     ]
    },
    {
     "name": "stderr",
     "output_type": "stream",
     "text": [
      "/tmp/ipykernel_108/1067138075.py:41: FutureWarning: The frame.append method is deprecated and will be removed from pandas in a future version. Use pandas.concat instead.\n",
      "  loss_df2 = loss_df2.append({\n",
      "r.shape = (10000, 19, 19, 31)\n",
      "nbExamples = 10000\n"
     ]
    },
    {
     "name": "stdout",
     "output_type": "stream",
     "text": [
      "epoch 188\n",
      "<tf.Variable 'learning_rate:0' shape=() dtype=float32, numpy=0.0005>\n"
     ]
    },
    {
     "name": "stderr",
     "output_type": "stream",
     "text": [
      "/tmp/ipykernel_108/1067138075.py:41: FutureWarning: The frame.append method is deprecated and will be removed from pandas in a future version. Use pandas.concat instead.\n",
      "  loss_df2 = loss_df2.append({\n"
     ]
    },
    {
     "name": "stdout",
     "output_type": "stream",
     "text": [
      "epoch 189\n",
      "<tf.Variable 'learning_rate:0' shape=() dtype=float32, numpy=0.0005>\n"
     ]
    },
    {
     "name": "stderr",
     "output_type": "stream",
     "text": [
      "r.shape = (10000, 19, 19, 31)\n",
      "nbExamples = 10000\n",
      "/tmp/ipykernel_108/1067138075.py:41: FutureWarning: The frame.append method is deprecated and will be removed from pandas in a future version. Use pandas.concat instead.\n",
      "  loss_df2 = loss_df2.append({\n",
      "r.shape = (10000, 19, 19, 31)\n",
      "nbExamples = 10000\n"
     ]
    },
    {
     "name": "stdout",
     "output_type": "stream",
     "text": [
      "epoch 190\n",
      "<tf.Variable 'learning_rate:0' shape=() dtype=float32, numpy=0.0005>\n"
     ]
    },
    {
     "name": "stderr",
     "output_type": "stream",
     "text": [
      "/tmp/ipykernel_108/1067138075.py:41: FutureWarning: The frame.append method is deprecated and will be removed from pandas in a future version. Use pandas.concat instead.\n",
      "  loss_df2 = loss_df2.append({\n",
      "r.shape = (10000, 19, 19, 31)\n",
      "nbExamples = 10000\n"
     ]
    },
    {
     "name": "stdout",
     "output_type": "stream",
     "text": [
      "epoch 191\n",
      "<tf.Variable 'learning_rate:0' shape=() dtype=float32, numpy=0.0005>\n"
     ]
    },
    {
     "name": "stderr",
     "output_type": "stream",
     "text": [
      "/tmp/ipykernel_108/1067138075.py:41: FutureWarning: The frame.append method is deprecated and will be removed from pandas in a future version. Use pandas.concat instead.\n",
      "  loss_df2 = loss_df2.append({\n"
     ]
    },
    {
     "name": "stdout",
     "output_type": "stream",
     "text": [
      "epoch 192\n",
      "<tf.Variable 'learning_rate:0' shape=() dtype=float32, numpy=0.0005>\n"
     ]
    },
    {
     "name": "stderr",
     "output_type": "stream",
     "text": [
      "r.shape = (10000, 19, 19, 31)\n",
      "nbExamples = 10000\n",
      "/tmp/ipykernel_108/1067138075.py:41: FutureWarning: The frame.append method is deprecated and will be removed from pandas in a future version. Use pandas.concat instead.\n",
      "  loss_df2 = loss_df2.append({\n",
      "r.shape = (10000, 19, 19, 31)\n",
      "nbExamples = 10000\n"
     ]
    },
    {
     "name": "stdout",
     "output_type": "stream",
     "text": [
      "epoch 193\n",
      "<tf.Variable 'learning_rate:0' shape=() dtype=float32, numpy=0.0005>\n"
     ]
    },
    {
     "name": "stderr",
     "output_type": "stream",
     "text": [
      "/tmp/ipykernel_108/1067138075.py:41: FutureWarning: The frame.append method is deprecated and will be removed from pandas in a future version. Use pandas.concat instead.\n",
      "  loss_df2 = loss_df2.append({\n",
      "r.shape = (10000, 19, 19, 31)\n",
      "nbExamples = 10000\n"
     ]
    },
    {
     "name": "stdout",
     "output_type": "stream",
     "text": [
      "epoch 194\n",
      "<tf.Variable 'learning_rate:0' shape=() dtype=float32, numpy=0.0005>\n"
     ]
    },
    {
     "name": "stderr",
     "output_type": "stream",
     "text": [
      "/tmp/ipykernel_108/1067138075.py:41: FutureWarning: The frame.append method is deprecated and will be removed from pandas in a future version. Use pandas.concat instead.\n",
      "  loss_df2 = loss_df2.append({\n",
      "r.shape = (10000, 19, 19, 31)\n",
      "nbExamples = 10000\n"
     ]
    },
    {
     "name": "stdout",
     "output_type": "stream",
     "text": [
      "epoch 195\n",
      "<tf.Variable 'learning_rate:0' shape=() dtype=float32, numpy=0.0005>\n"
     ]
    },
    {
     "name": "stderr",
     "output_type": "stream",
     "text": [
      "/tmp/ipykernel_108/1067138075.py:41: FutureWarning: The frame.append method is deprecated and will be removed from pandas in a future version. Use pandas.concat instead.\n",
      "  loss_df2 = loss_df2.append({\n"
     ]
    },
    {
     "name": "stdout",
     "output_type": "stream",
     "text": [
      "epoch 196\n",
      "<tf.Variable 'learning_rate:0' shape=() dtype=float32, numpy=0.0005>\n"
     ]
    },
    {
     "name": "stderr",
     "output_type": "stream",
     "text": [
      "r.shape = (10000, 19, 19, 31)\n",
      "nbExamples = 10000\n",
      "/tmp/ipykernel_108/1067138075.py:41: FutureWarning: The frame.append method is deprecated and will be removed from pandas in a future version. Use pandas.concat instead.\n",
      "  loss_df2 = loss_df2.append({\n",
      "r.shape = (10000, 19, 19, 31)\n",
      "nbExamples = 10000\n"
     ]
    },
    {
     "name": "stdout",
     "output_type": "stream",
     "text": [
      "epoch 197\n",
      "<tf.Variable 'learning_rate:0' shape=() dtype=float32, numpy=0.0005>\n"
     ]
    },
    {
     "name": "stderr",
     "output_type": "stream",
     "text": [
      "/tmp/ipykernel_108/1067138075.py:41: FutureWarning: The frame.append method is deprecated and will be removed from pandas in a future version. Use pandas.concat instead.\n",
      "  loss_df2 = loss_df2.append({\n"
     ]
    },
    {
     "name": "stdout",
     "output_type": "stream",
     "text": [
      "epoch 198\n",
      "<tf.Variable 'learning_rate:0' shape=() dtype=float32, numpy=0.0005>\n"
     ]
    },
    {
     "name": "stderr",
     "output_type": "stream",
     "text": [
      "r.shape = (10000, 19, 19, 31)\n",
      "nbExamples = 10000\n",
      "/tmp/ipykernel_108/1067138075.py:41: FutureWarning: The frame.append method is deprecated and will be removed from pandas in a future version. Use pandas.concat instead.\n",
      "  loss_df2 = loss_df2.append({\n"
     ]
    },
    {
     "name": "stdout",
     "output_type": "stream",
     "text": [
      "epoch 199\n",
      "<tf.Variable 'learning_rate:0' shape=() dtype=float32, numpy=0.0005>\n"
     ]
    },
    {
     "name": "stderr",
     "output_type": "stream",
     "text": [
      "r.shape = (10000, 19, 19, 31)\n",
      "nbExamples = 10000\n",
      "/tmp/ipykernel_108/1067138075.py:41: FutureWarning: The frame.append method is deprecated and will be removed from pandas in a future version. Use pandas.concat instead.\n",
      "  loss_df2 = loss_df2.append({\n",
      "r.shape = (10000, 19, 19, 31)\n",
      "nbExamples = 10000\n"
     ]
    },
    {
     "name": "stdout",
     "output_type": "stream",
     "text": [
      "epoch 200\n",
      "<tf.Variable 'learning_rate:0' shape=() dtype=float32, numpy=0.0005>\n"
     ]
    },
    {
     "name": "stderr",
     "output_type": "stream",
     "text": [
      "r.shape = (10000, 19, 19, 31)\n",
      "nbExamples = 10000\n"
     ]
    },
    {
     "name": "stdout",
     "output_type": "stream",
     "text": [
      "val = [3.246943712234497, 2.50179123878479, 0.6877927184104919, 0.376800000667572, 0.11737789213657379]\n",
      "epoch 201\n",
      "<tf.Variable 'learning_rate:0' shape=() dtype=float32, numpy=0.0005>\n"
     ]
    },
    {
     "name": "stderr",
     "output_type": "stream",
     "text": [
      "/tmp/ipykernel_108/1067138075.py:41: FutureWarning: The frame.append method is deprecated and will be removed from pandas in a future version. Use pandas.concat instead.\n",
      "  loss_df2 = loss_df2.append({\n",
      "r.shape = (10000, 19, 19, 31)\n",
      "nbExamples = 10000\n",
      "/tmp/ipykernel_108/1067138075.py:41: FutureWarning: The frame.append method is deprecated and will be removed from pandas in a future version. Use pandas.concat instead.\n",
      "  loss_df2 = loss_df2.append({\n"
     ]
    },
    {
     "name": "stdout",
     "output_type": "stream",
     "text": [
      "epoch 202\n",
      "<tf.Variable 'learning_rate:0' shape=() dtype=float32, numpy=0.0005>\n"
     ]
    },
    {
     "name": "stderr",
     "output_type": "stream",
     "text": [
      "r.shape = (10000, 19, 19, 31)\n",
      "nbExamples = 10000\n",
      "/tmp/ipykernel_108/1067138075.py:41: FutureWarning: The frame.append method is deprecated and will be removed from pandas in a future version. Use pandas.concat instead.\n",
      "  loss_df2 = loss_df2.append({\n"
     ]
    },
    {
     "name": "stdout",
     "output_type": "stream",
     "text": [
      "epoch 203\n",
      "<tf.Variable 'learning_rate:0' shape=() dtype=float32, numpy=0.0005>\n"
     ]
    },
    {
     "name": "stderr",
     "output_type": "stream",
     "text": [
      "r.shape = (10000, 19, 19, 31)\n",
      "nbExamples = 10000\n",
      "/tmp/ipykernel_108/1067138075.py:41: FutureWarning: The frame.append method is deprecated and will be removed from pandas in a future version. Use pandas.concat instead.\n",
      "  loss_df2 = loss_df2.append({\n"
     ]
    },
    {
     "name": "stdout",
     "output_type": "stream",
     "text": [
      "epoch 204\n",
      "<tf.Variable 'learning_rate:0' shape=() dtype=float32, numpy=0.0005>\n"
     ]
    },
    {
     "name": "stderr",
     "output_type": "stream",
     "text": [
      "r.shape = (10000, 19, 19, 31)\n",
      "nbExamples = 10000\n",
      "/tmp/ipykernel_108/1067138075.py:41: FutureWarning: The frame.append method is deprecated and will be removed from pandas in a future version. Use pandas.concat instead.\n",
      "  loss_df2 = loss_df2.append({\n",
      "r.shape = (10000, 19, 19, 31)\n",
      "nbExamples = 10000\n"
     ]
    },
    {
     "name": "stdout",
     "output_type": "stream",
     "text": [
      "epoch 205\n",
      "<tf.Variable 'learning_rate:0' shape=() dtype=float32, numpy=0.0005>\n"
     ]
    },
    {
     "name": "stderr",
     "output_type": "stream",
     "text": [
      "/tmp/ipykernel_108/1067138075.py:41: FutureWarning: The frame.append method is deprecated and will be removed from pandas in a future version. Use pandas.concat instead.\n",
      "  loss_df2 = loss_df2.append({\n",
      "r.shape = (10000, 19, 19, 31)\n"
     ]
    },
    {
     "name": "stdout",
     "output_type": "stream",
     "text": [
      "epoch 206\n",
      "<tf.Variable 'learning_rate:0' shape=() dtype=float32, numpy=0.0005>\n"
     ]
    },
    {
     "name": "stderr",
     "output_type": "stream",
     "text": [
      "nbExamples = 10000\n",
      "/tmp/ipykernel_108/1067138075.py:41: FutureWarning: The frame.append method is deprecated and will be removed from pandas in a future version. Use pandas.concat instead.\n",
      "  loss_df2 = loss_df2.append({\n",
      "r.shape = (10000, 19, 19, 31)\n",
      "nbExamples = 10000\n"
     ]
    },
    {
     "name": "stdout",
     "output_type": "stream",
     "text": [
      "epoch 207\n",
      "<tf.Variable 'learning_rate:0' shape=() dtype=float32, numpy=0.0005>\n"
     ]
    },
    {
     "name": "stderr",
     "output_type": "stream",
     "text": [
      "/tmp/ipykernel_108/1067138075.py:41: FutureWarning: The frame.append method is deprecated and will be removed from pandas in a future version. Use pandas.concat instead.\n",
      "  loss_df2 = loss_df2.append({\n",
      "r.shape = (10000, 19, 19, 31)\n",
      "nbExamples = 10000\n"
     ]
    },
    {
     "name": "stdout",
     "output_type": "stream",
     "text": [
      "epoch 208\n",
      "<tf.Variable 'learning_rate:0' shape=() dtype=float32, numpy=0.0005>\n"
     ]
    },
    {
     "name": "stderr",
     "output_type": "stream",
     "text": [
      "/tmp/ipykernel_108/1067138075.py:41: FutureWarning: The frame.append method is deprecated and will be removed from pandas in a future version. Use pandas.concat instead.\n",
      "  loss_df2 = loss_df2.append({\n"
     ]
    },
    {
     "name": "stdout",
     "output_type": "stream",
     "text": [
      "epoch 209\n",
      "<tf.Variable 'learning_rate:0' shape=() dtype=float32, numpy=0.0005>\n"
     ]
    },
    {
     "name": "stderr",
     "output_type": "stream",
     "text": [
      "r.shape = (10000, 19, 19, 31)\n",
      "nbExamples = 10000\n",
      "/tmp/ipykernel_108/1067138075.py:41: FutureWarning: The frame.append method is deprecated and will be removed from pandas in a future version. Use pandas.concat instead.\n",
      "  loss_df2 = loss_df2.append({\n"
     ]
    },
    {
     "name": "stdout",
     "output_type": "stream",
     "text": [
      "epoch 210\n",
      "<tf.Variable 'learning_rate:0' shape=() dtype=float32, numpy=0.0005>\n"
     ]
    },
    {
     "name": "stderr",
     "output_type": "stream",
     "text": [
      "r.shape = (10000, 19, 19, 31)\n",
      "nbExamples = 10000\n",
      "/tmp/ipykernel_108/1067138075.py:41: FutureWarning: The frame.append method is deprecated and will be removed from pandas in a future version. Use pandas.concat instead.\n",
      "  loss_df2 = loss_df2.append({\n",
      "r.shape = (10000, 19, 19, 31)\n",
      "nbExamples = 10000\n"
     ]
    },
    {
     "name": "stdout",
     "output_type": "stream",
     "text": [
      "epoch 211\n",
      "<tf.Variable 'learning_rate:0' shape=() dtype=float32, numpy=0.0005>\n"
     ]
    },
    {
     "name": "stderr",
     "output_type": "stream",
     "text": [
      "/tmp/ipykernel_108/1067138075.py:41: FutureWarning: The frame.append method is deprecated and will be removed from pandas in a future version. Use pandas.concat instead.\n",
      "  loss_df2 = loss_df2.append({\n",
      "r.shape = (10000, 19, 19, 31)\n",
      "nbExamples = 10000\n"
     ]
    },
    {
     "name": "stdout",
     "output_type": "stream",
     "text": [
      "epoch 212\n",
      "<tf.Variable 'learning_rate:0' shape=() dtype=float32, numpy=0.0005>\n"
     ]
    },
    {
     "name": "stderr",
     "output_type": "stream",
     "text": [
      "/tmp/ipykernel_108/1067138075.py:41: FutureWarning: The frame.append method is deprecated and will be removed from pandas in a future version. Use pandas.concat instead.\n",
      "  loss_df2 = loss_df2.append({\n"
     ]
    },
    {
     "name": "stdout",
     "output_type": "stream",
     "text": [
      "epoch 213\n",
      "<tf.Variable 'learning_rate:0' shape=() dtype=float32, numpy=0.0005>\n"
     ]
    },
    {
     "name": "stderr",
     "output_type": "stream",
     "text": [
      "r.shape = (10000, 19, 19, 31)\n",
      "nbExamples = 10000\n",
      "/tmp/ipykernel_108/1067138075.py:41: FutureWarning: The frame.append method is deprecated and will be removed from pandas in a future version. Use pandas.concat instead.\n",
      "  loss_df2 = loss_df2.append({\n"
     ]
    },
    {
     "name": "stdout",
     "output_type": "stream",
     "text": [
      "epoch 214\n",
      "<tf.Variable 'learning_rate:0' shape=() dtype=float32, numpy=0.0005>\n"
     ]
    },
    {
     "name": "stderr",
     "output_type": "stream",
     "text": [
      "r.shape = (10000, 19, 19, 31)\n",
      "nbExamples = 10000\n",
      "/tmp/ipykernel_108/1067138075.py:41: FutureWarning: The frame.append method is deprecated and will be removed from pandas in a future version. Use pandas.concat instead.\n",
      "  loss_df2 = loss_df2.append({\n"
     ]
    },
    {
     "name": "stdout",
     "output_type": "stream",
     "text": [
      "epoch 215\n",
      "<tf.Variable 'learning_rate:0' shape=() dtype=float32, numpy=0.0005>\n"
     ]
    },
    {
     "name": "stderr",
     "output_type": "stream",
     "text": [
      "r.shape = (10000, 19, 19, 31)\n",
      "nbExamples = 10000\n",
      "/tmp/ipykernel_108/1067138075.py:41: FutureWarning: The frame.append method is deprecated and will be removed from pandas in a future version. Use pandas.concat instead.\n",
      "  loss_df2 = loss_df2.append({\n"
     ]
    },
    {
     "name": "stdout",
     "output_type": "stream",
     "text": [
      "epoch 216\n",
      "<tf.Variable 'learning_rate:0' shape=() dtype=float32, numpy=0.0005>\n"
     ]
    },
    {
     "name": "stderr",
     "output_type": "stream",
     "text": [
      "r.shape = (10000, 19, 19, 31)\n",
      "nbExamples = 10000\n",
      "/tmp/ipykernel_108/1067138075.py:41: FutureWarning: The frame.append method is deprecated and will be removed from pandas in a future version. Use pandas.concat instead.\n",
      "  loss_df2 = loss_df2.append({\n",
      "r.shape = (10000, 19, 19, 31)\n",
      "nbExamples = 10000\n"
     ]
    },
    {
     "name": "stdout",
     "output_type": "stream",
     "text": [
      "epoch 217\n",
      "<tf.Variable 'learning_rate:0' shape=() dtype=float32, numpy=0.0005>\n"
     ]
    },
    {
     "name": "stderr",
     "output_type": "stream",
     "text": [
      "/tmp/ipykernel_108/1067138075.py:41: FutureWarning: The frame.append method is deprecated and will be removed from pandas in a future version. Use pandas.concat instead.\n",
      "  loss_df2 = loss_df2.append({\n",
      "r.shape = (10000, 19, 19, 31)\n",
      "nbExamples = 10000\n"
     ]
    },
    {
     "name": "stdout",
     "output_type": "stream",
     "text": [
      "epoch 218\n",
      "<tf.Variable 'learning_rate:0' shape=() dtype=float32, numpy=0.0005>\n"
     ]
    },
    {
     "name": "stderr",
     "output_type": "stream",
     "text": [
      "/tmp/ipykernel_108/1067138075.py:41: FutureWarning: The frame.append method is deprecated and will be removed from pandas in a future version. Use pandas.concat instead.\n",
      "  loss_df2 = loss_df2.append({\n"
     ]
    },
    {
     "name": "stdout",
     "output_type": "stream",
     "text": [
      "epoch 219\n",
      "<tf.Variable 'learning_rate:0' shape=() dtype=float32, numpy=0.0005>\n"
     ]
    },
    {
     "name": "stderr",
     "output_type": "stream",
     "text": [
      "r.shape = (10000, 19, 19, 31)\n",
      "nbExamples = 10000\n",
      "/tmp/ipykernel_108/1067138075.py:41: FutureWarning: The frame.append method is deprecated and will be removed from pandas in a future version. Use pandas.concat instead.\n",
      "  loss_df2 = loss_df2.append({\n",
      "r.shape = (10000, 19, 19, 31)\n",
      "nbExamples = 10000\n"
     ]
    },
    {
     "name": "stdout",
     "output_type": "stream",
     "text": [
      "epoch 220\n",
      "<tf.Variable 'learning_rate:0' shape=() dtype=float32, numpy=0.0005>\n"
     ]
    },
    {
     "name": "stderr",
     "output_type": "stream",
     "text": [
      "r.shape = (10000, 19, 19, 31)\n",
      "nbExamples = 10000\n"
     ]
    },
    {
     "name": "stdout",
     "output_type": "stream",
     "text": [
      "val = [3.2061657905578613, 2.4628429412841797, 0.6867809295654297, 0.38260000944137573, 0.11687508225440979]\n",
      "epoch 221\n",
      "<tf.Variable 'learning_rate:0' shape=() dtype=float32, numpy=0.0005>\n"
     ]
    },
    {
     "name": "stderr",
     "output_type": "stream",
     "text": [
      "/tmp/ipykernel_108/1067138075.py:41: FutureWarning: The frame.append method is deprecated and will be removed from pandas in a future version. Use pandas.concat instead.\n",
      "  loss_df2 = loss_df2.append({\n",
      "r.shape = (10000, 19, 19, 31)\n",
      "nbExamples = 10000\n",
      "/tmp/ipykernel_108/1067138075.py:41: FutureWarning: The frame.append method is deprecated and will be removed from pandas in a future version. Use pandas.concat instead.\n",
      "  loss_df2 = loss_df2.append({\n",
      "r.shape = (10000, 19, 19, 31)\n",
      "nbExamples = 10000\n"
     ]
    },
    {
     "name": "stdout",
     "output_type": "stream",
     "text": [
      "epoch 222\n",
      "<tf.Variable 'learning_rate:0' shape=() dtype=float32, numpy=0.0005>\n"
     ]
    },
    {
     "name": "stderr",
     "output_type": "stream",
     "text": [
      "/tmp/ipykernel_108/1067138075.py:41: FutureWarning: The frame.append method is deprecated and will be removed from pandas in a future version. Use pandas.concat instead.\n",
      "  loss_df2 = loss_df2.append({\n",
      "r.shape = (10000, 19, 19, 31)\n",
      "nbExamples = 10000\n"
     ]
    },
    {
     "name": "stdout",
     "output_type": "stream",
     "text": [
      "epoch 223\n",
      "<tf.Variable 'learning_rate:0' shape=() dtype=float32, numpy=0.0005>\n"
     ]
    },
    {
     "name": "stderr",
     "output_type": "stream",
     "text": [
      "/tmp/ipykernel_108/1067138075.py:41: FutureWarning: The frame.append method is deprecated and will be removed from pandas in a future version. Use pandas.concat instead.\n",
      "  loss_df2 = loss_df2.append({\n",
      "r.shape = (10000, 19, 19, 31)\n",
      "nbExamples = 10000\n"
     ]
    },
    {
     "name": "stdout",
     "output_type": "stream",
     "text": [
      "epoch 224\n",
      "<tf.Variable 'learning_rate:0' shape=() dtype=float32, numpy=0.0005>\n"
     ]
    },
    {
     "name": "stderr",
     "output_type": "stream",
     "text": [
      "/tmp/ipykernel_108/1067138075.py:41: FutureWarning: The frame.append method is deprecated and will be removed from pandas in a future version. Use pandas.concat instead.\n",
      "  loss_df2 = loss_df2.append({\n"
     ]
    },
    {
     "name": "stdout",
     "output_type": "stream",
     "text": [
      "epoch 225\n",
      "<tf.Variable 'learning_rate:0' shape=() dtype=float32, numpy=0.0005>\n"
     ]
    },
    {
     "name": "stderr",
     "output_type": "stream",
     "text": [
      "r.shape = (10000, 19, 19, 31)\n",
      "nbExamples = 10000\n",
      "/tmp/ipykernel_108/1067138075.py:41: FutureWarning: The frame.append method is deprecated and will be removed from pandas in a future version. Use pandas.concat instead.\n",
      "  loss_df2 = loss_df2.append({\n",
      "r.shape = (10000, 19, 19, 31)\n",
      "nbExamples = 10000\n"
     ]
    },
    {
     "name": "stdout",
     "output_type": "stream",
     "text": [
      "epoch 226\n",
      "<tf.Variable 'learning_rate:0' shape=() dtype=float32, numpy=0.0005>\n"
     ]
    },
    {
     "name": "stderr",
     "output_type": "stream",
     "text": [
      "/tmp/ipykernel_108/1067138075.py:41: FutureWarning: The frame.append method is deprecated and will be removed from pandas in a future version. Use pandas.concat instead.\n",
      "  loss_df2 = loss_df2.append({\n",
      "r.shape = (10000, 19, 19, 31)\n",
      "nbExamples = 10000\n"
     ]
    },
    {
     "name": "stdout",
     "output_type": "stream",
     "text": [
      "epoch 227\n",
      "<tf.Variable 'learning_rate:0' shape=() dtype=float32, numpy=0.0005>\n"
     ]
    },
    {
     "name": "stderr",
     "output_type": "stream",
     "text": [
      "/tmp/ipykernel_108/1067138075.py:41: FutureWarning: The frame.append method is deprecated and will be removed from pandas in a future version. Use pandas.concat instead.\n",
      "  loss_df2 = loss_df2.append({\n",
      "r.shape = (10000, 19, 19, 31)\n",
      "nbExamples = 10000\n"
     ]
    },
    {
     "name": "stdout",
     "output_type": "stream",
     "text": [
      "epoch 228\n",
      "<tf.Variable 'learning_rate:0' shape=() dtype=float32, numpy=0.0005>\n"
     ]
    },
    {
     "name": "stderr",
     "output_type": "stream",
     "text": [
      "/tmp/ipykernel_108/1067138075.py:41: FutureWarning: The frame.append method is deprecated and will be removed from pandas in a future version. Use pandas.concat instead.\n",
      "  loss_df2 = loss_df2.append({\n",
      "r.shape = (10000, 19, 19, 31)\n",
      "nbExamples = 10000\n"
     ]
    },
    {
     "name": "stdout",
     "output_type": "stream",
     "text": [
      "epoch 229\n",
      "<tf.Variable 'learning_rate:0' shape=() dtype=float32, numpy=0.0005>\n"
     ]
    },
    {
     "name": "stderr",
     "output_type": "stream",
     "text": [
      "/tmp/ipykernel_108/1067138075.py:41: FutureWarning: The frame.append method is deprecated and will be removed from pandas in a future version. Use pandas.concat instead.\n",
      "  loss_df2 = loss_df2.append({\n"
     ]
    },
    {
     "name": "stdout",
     "output_type": "stream",
     "text": [
      "epoch 230\n",
      "<tf.Variable 'learning_rate:0' shape=() dtype=float32, numpy=0.0005>\n"
     ]
    },
    {
     "name": "stderr",
     "output_type": "stream",
     "text": [
      "r.shape = (10000, 19, 19, 31)\n",
      "nbExamples = 10000\n",
      "/tmp/ipykernel_108/1067138075.py:41: FutureWarning: The frame.append method is deprecated and will be removed from pandas in a future version. Use pandas.concat instead.\n",
      "  loss_df2 = loss_df2.append({\n",
      "r.shape = (10000, 19, 19, 31)\n",
      "nbExamples = 10000\n"
     ]
    },
    {
     "name": "stdout",
     "output_type": "stream",
     "text": [
      "epoch 231\n",
      "<tf.Variable 'learning_rate:0' shape=() dtype=float32, numpy=0.0005>\n"
     ]
    },
    {
     "name": "stderr",
     "output_type": "stream",
     "text": [
      "/tmp/ipykernel_108/1067138075.py:41: FutureWarning: The frame.append method is deprecated and will be removed from pandas in a future version. Use pandas.concat instead.\n",
      "  loss_df2 = loss_df2.append({\n"
     ]
    },
    {
     "name": "stdout",
     "output_type": "stream",
     "text": [
      "epoch 232\n",
      "<tf.Variable 'learning_rate:0' shape=() dtype=float32, numpy=0.0005>\n"
     ]
    },
    {
     "name": "stderr",
     "output_type": "stream",
     "text": [
      "r.shape = (10000, 19, 19, 31)\n",
      "nbExamples = 10000\n",
      "/tmp/ipykernel_108/1067138075.py:41: FutureWarning: The frame.append method is deprecated and will be removed from pandas in a future version. Use pandas.concat instead.\n",
      "  loss_df2 = loss_df2.append({\n"
     ]
    },
    {
     "name": "stdout",
     "output_type": "stream",
     "text": [
      "epoch 233\n",
      "<tf.Variable 'learning_rate:0' shape=() dtype=float32, numpy=0.0005>\n"
     ]
    },
    {
     "name": "stderr",
     "output_type": "stream",
     "text": [
      "r.shape = (10000, 19, 19, 31)\n",
      "nbExamples = 10000\n",
      "/tmp/ipykernel_108/1067138075.py:41: FutureWarning: The frame.append method is deprecated and will be removed from pandas in a future version. Use pandas.concat instead.\n",
      "  loss_df2 = loss_df2.append({\n",
      "r.shape = (10000, 19, 19, 31)\n",
      "nbExamples = 10000\n"
     ]
    },
    {
     "name": "stdout",
     "output_type": "stream",
     "text": [
      "epoch 234\n",
      "<tf.Variable 'learning_rate:0' shape=() dtype=float32, numpy=0.0005>\n"
     ]
    },
    {
     "name": "stderr",
     "output_type": "stream",
     "text": [
      "/tmp/ipykernel_108/1067138075.py:41: FutureWarning: The frame.append method is deprecated and will be removed from pandas in a future version. Use pandas.concat instead.\n",
      "  loss_df2 = loss_df2.append({\n",
      "r.shape = (10000, 19, 19, 31)\n",
      "nbExamples = 10000\n"
     ]
    },
    {
     "name": "stdout",
     "output_type": "stream",
     "text": [
      "epoch 235\n",
      "<tf.Variable 'learning_rate:0' shape=() dtype=float32, numpy=0.0005>\n"
     ]
    },
    {
     "name": "stderr",
     "output_type": "stream",
     "text": [
      "/tmp/ipykernel_108/1067138075.py:41: FutureWarning: The frame.append method is deprecated and will be removed from pandas in a future version. Use pandas.concat instead.\n",
      "  loss_df2 = loss_df2.append({\n",
      "r.shape = (10000, 19, 19, 31)\n",
      "nbExamples = 10000\n"
     ]
    },
    {
     "name": "stdout",
     "output_type": "stream",
     "text": [
      "epoch 236\n",
      "<tf.Variable 'learning_rate:0' shape=() dtype=float32, numpy=0.0005>\n"
     ]
    },
    {
     "name": "stderr",
     "output_type": "stream",
     "text": [
      "/tmp/ipykernel_108/1067138075.py:41: FutureWarning: The frame.append method is deprecated and will be removed from pandas in a future version. Use pandas.concat instead.\n",
      "  loss_df2 = loss_df2.append({\n"
     ]
    },
    {
     "name": "stdout",
     "output_type": "stream",
     "text": [
      "epoch 237\n",
      "<tf.Variable 'learning_rate:0' shape=() dtype=float32, numpy=0.0005>\n"
     ]
    },
    {
     "name": "stderr",
     "output_type": "stream",
     "text": [
      "r.shape = (10000, 19, 19, 31)\n",
      "nbExamples = 10000\n",
      "/tmp/ipykernel_108/1067138075.py:41: FutureWarning: The frame.append method is deprecated and will be removed from pandas in a future version. Use pandas.concat instead.\n",
      "  loss_df2 = loss_df2.append({\n",
      "r.shape = (10000, 19, 19, 31)\n",
      "nbExamples = 10000\n"
     ]
    },
    {
     "name": "stdout",
     "output_type": "stream",
     "text": [
      "epoch 238\n",
      "<tf.Variable 'learning_rate:0' shape=() dtype=float32, numpy=0.0005>\n"
     ]
    },
    {
     "name": "stderr",
     "output_type": "stream",
     "text": [
      "/tmp/ipykernel_108/1067138075.py:41: FutureWarning: The frame.append method is deprecated and will be removed from pandas in a future version. Use pandas.concat instead.\n",
      "  loss_df2 = loss_df2.append({\n"
     ]
    },
    {
     "name": "stdout",
     "output_type": "stream",
     "text": [
      "epoch 239\n",
      "<tf.Variable 'learning_rate:0' shape=() dtype=float32, numpy=0.0005>\n"
     ]
    },
    {
     "name": "stderr",
     "output_type": "stream",
     "text": [
      "r.shape = (10000, 19, 19, 31)\n",
      "nbExamples = 10000\n",
      "/tmp/ipykernel_108/1067138075.py:41: FutureWarning: The frame.append method is deprecated and will be removed from pandas in a future version. Use pandas.concat instead.\n",
      "  loss_df2 = loss_df2.append({\n",
      "r.shape = (10000, 19, 19, 31)\n",
      "nbExamples = 10000\n"
     ]
    },
    {
     "name": "stdout",
     "output_type": "stream",
     "text": [
      "epoch 240\n",
      "<tf.Variable 'learning_rate:0' shape=() dtype=float32, numpy=0.0005>\n"
     ]
    },
    {
     "name": "stderr",
     "output_type": "stream",
     "text": [
      "r.shape = (10000, 19, 19, 31)\n",
      "nbExamples = 10000\n"
     ]
    },
    {
     "name": "stdout",
     "output_type": "stream",
     "text": [
      "val = [3.201824426651001, 2.458033561706543, 0.6879175901412964, 0.3837999999523163, 0.11742433905601501]\n",
      "epoch 241\n",
      "<tf.Variable 'learning_rate:0' shape=() dtype=float32, numpy=0.0005>\n"
     ]
    },
    {
     "name": "stderr",
     "output_type": "stream",
     "text": [
      "/tmp/ipykernel_108/1067138075.py:41: FutureWarning: The frame.append method is deprecated and will be removed from pandas in a future version. Use pandas.concat instead.\n",
      "  loss_df2 = loss_df2.append({\n",
      "r.shape = (10000, 19, 19, 31)\n",
      "nbExamples = 10000\n",
      "/tmp/ipykernel_108/1067138075.py:41: FutureWarning: The frame.append method is deprecated and will be removed from pandas in a future version. Use pandas.concat instead.\n",
      "  loss_df2 = loss_df2.append({\n"
     ]
    },
    {
     "name": "stdout",
     "output_type": "stream",
     "text": [
      "epoch 242\n",
      "<tf.Variable 'learning_rate:0' shape=() dtype=float32, numpy=0.0005>\n"
     ]
    },
    {
     "name": "stderr",
     "output_type": "stream",
     "text": [
      "r.shape = (10000, 19, 19, 31)\n",
      "nbExamples = 10000\n",
      "/tmp/ipykernel_108/1067138075.py:41: FutureWarning: The frame.append method is deprecated and will be removed from pandas in a future version. Use pandas.concat instead.\n",
      "  loss_df2 = loss_df2.append({\n",
      "r.shape = (10000, 19, 19, 31)\n",
      "nbExamples = 10000\n"
     ]
    },
    {
     "name": "stdout",
     "output_type": "stream",
     "text": [
      "epoch 243\n",
      "<tf.Variable 'learning_rate:0' shape=() dtype=float32, numpy=0.0005>\n"
     ]
    },
    {
     "name": "stderr",
     "output_type": "stream",
     "text": [
      "/tmp/ipykernel_108/1067138075.py:41: FutureWarning: The frame.append method is deprecated and will be removed from pandas in a future version. Use pandas.concat instead.\n",
      "  loss_df2 = loss_df2.append({\n",
      "r.shape = (10000, 19, 19, 31)\n",
      "nbExamples = 10000\n"
     ]
    },
    {
     "name": "stdout",
     "output_type": "stream",
     "text": [
      "epoch 244\n",
      "<tf.Variable 'learning_rate:0' shape=() dtype=float32, numpy=0.0005>\n"
     ]
    },
    {
     "name": "stderr",
     "output_type": "stream",
     "text": [
      "/tmp/ipykernel_108/1067138075.py:41: FutureWarning: The frame.append method is deprecated and will be removed from pandas in a future version. Use pandas.concat instead.\n",
      "  loss_df2 = loss_df2.append({\n"
     ]
    },
    {
     "name": "stdout",
     "output_type": "stream",
     "text": [
      "epoch 245\n",
      "<tf.Variable 'learning_rate:0' shape=() dtype=float32, numpy=0.0005>\n"
     ]
    },
    {
     "name": "stderr",
     "output_type": "stream",
     "text": [
      "r.shape = (10000, 19, 19, 31)\n",
      "nbExamples = 10000\n",
      "/tmp/ipykernel_108/1067138075.py:41: FutureWarning: The frame.append method is deprecated and will be removed from pandas in a future version. Use pandas.concat instead.\n",
      "  loss_df2 = loss_df2.append({\n"
     ]
    },
    {
     "name": "stdout",
     "output_type": "stream",
     "text": [
      "epoch 246\n",
      "<tf.Variable 'learning_rate:0' shape=() dtype=float32, numpy=0.0005>\n"
     ]
    },
    {
     "name": "stderr",
     "output_type": "stream",
     "text": [
      "r.shape = (10000, 19, 19, 31)\n",
      "nbExamples = 10000\n",
      "/tmp/ipykernel_108/1067138075.py:41: FutureWarning: The frame.append method is deprecated and will be removed from pandas in a future version. Use pandas.concat instead.\n",
      "  loss_df2 = loss_df2.append({\n"
     ]
    },
    {
     "name": "stdout",
     "output_type": "stream",
     "text": [
      "epoch 247\n",
      "<tf.Variable 'learning_rate:0' shape=() dtype=float32, numpy=0.0005>\n"
     ]
    },
    {
     "name": "stderr",
     "output_type": "stream",
     "text": [
      "r.shape = (10000, 19, 19, 31)\n",
      "nbExamples = 10000\n",
      "/tmp/ipykernel_108/1067138075.py:41: FutureWarning: The frame.append method is deprecated and will be removed from pandas in a future version. Use pandas.concat instead.\n",
      "  loss_df2 = loss_df2.append({\n"
     ]
    },
    {
     "name": "stdout",
     "output_type": "stream",
     "text": [
      "epoch 248\n",
      "<tf.Variable 'learning_rate:0' shape=() dtype=float32, numpy=0.0005>\n"
     ]
    },
    {
     "name": "stderr",
     "output_type": "stream",
     "text": [
      "r.shape = (10000, 19, 19, 31)\n",
      "nbExamples = 10000\n",
      "/tmp/ipykernel_108/1067138075.py:41: FutureWarning: The frame.append method is deprecated and will be removed from pandas in a future version. Use pandas.concat instead.\n",
      "  loss_df2 = loss_df2.append({\n"
     ]
    },
    {
     "name": "stdout",
     "output_type": "stream",
     "text": [
      "epoch 249\n",
      "<tf.Variable 'learning_rate:0' shape=() dtype=float32, numpy=0.0005>\n"
     ]
    },
    {
     "name": "stderr",
     "output_type": "stream",
     "text": [
      "r.shape = (10000, 19, 19, 31)\n",
      "nbExamples = 10000\n",
      "/tmp/ipykernel_108/1067138075.py:41: FutureWarning: The frame.append method is deprecated and will be removed from pandas in a future version. Use pandas.concat instead.\n",
      "  loss_df2 = loss_df2.append({\n",
      "r.shape = (10000, 19, 19, 31)\n",
      "nbExamples = 10000\n"
     ]
    },
    {
     "name": "stdout",
     "output_type": "stream",
     "text": [
      "epoch 250\n",
      "<tf.Variable 'learning_rate:0' shape=() dtype=float32, numpy=0.0005>\n"
     ]
    },
    {
     "name": "stderr",
     "output_type": "stream",
     "text": [
      "/tmp/ipykernel_108/1067138075.py:41: FutureWarning: The frame.append method is deprecated and will be removed from pandas in a future version. Use pandas.concat instead.\n",
      "  loss_df2 = loss_df2.append({\n"
     ]
    },
    {
     "name": "stdout",
     "output_type": "stream",
     "text": [
      "epoch 251\n",
      "<tf.Variable 'learning_rate:0' shape=() dtype=float32, numpy=0.0005>\n"
     ]
    },
    {
     "name": "stderr",
     "output_type": "stream",
     "text": [
      "r.shape = (10000, 19, 19, 31)\n",
      "nbExamples = 10000\n",
      "/tmp/ipykernel_108/1067138075.py:41: FutureWarning: The frame.append method is deprecated and will be removed from pandas in a future version. Use pandas.concat instead.\n",
      "  loss_df2 = loss_df2.append({\n",
      "r.shape = (10000, 19, 19, 31)\n",
      "nbExamples = 10000\n"
     ]
    },
    {
     "name": "stdout",
     "output_type": "stream",
     "text": [
      "epoch 252\n",
      "<tf.Variable 'learning_rate:0' shape=() dtype=float32, numpy=0.0005>\n"
     ]
    },
    {
     "name": "stderr",
     "output_type": "stream",
     "text": [
      "/tmp/ipykernel_108/1067138075.py:41: FutureWarning: The frame.append method is deprecated and will be removed from pandas in a future version. Use pandas.concat instead.\n",
      "  loss_df2 = loss_df2.append({\n"
     ]
    },
    {
     "name": "stdout",
     "output_type": "stream",
     "text": [
      "epoch 253\n",
      "<tf.Variable 'learning_rate:0' shape=() dtype=float32, numpy=0.0005>\n"
     ]
    },
    {
     "name": "stderr",
     "output_type": "stream",
     "text": [
      "r.shape = (10000, 19, 19, 31)\n",
      "nbExamples = 10000\n",
      "/tmp/ipykernel_108/1067138075.py:41: FutureWarning: The frame.append method is deprecated and will be removed from pandas in a future version. Use pandas.concat instead.\n",
      "  loss_df2 = loss_df2.append({\n"
     ]
    },
    {
     "name": "stdout",
     "output_type": "stream",
     "text": [
      "epoch 254\n",
      "<tf.Variable 'learning_rate:0' shape=() dtype=float32, numpy=0.0005>\n"
     ]
    },
    {
     "name": "stderr",
     "output_type": "stream",
     "text": [
      "r.shape = (10000, 19, 19, 31)\n",
      "nbExamples = 10000\n",
      "/tmp/ipykernel_108/1067138075.py:41: FutureWarning: The frame.append method is deprecated and will be removed from pandas in a future version. Use pandas.concat instead.\n",
      "  loss_df2 = loss_df2.append({\n",
      "r.shape = (10000, 19, 19, 31)\n",
      "nbExamples = 10000\n"
     ]
    },
    {
     "name": "stdout",
     "output_type": "stream",
     "text": [
      "epoch 255\n",
      "<tf.Variable 'learning_rate:0' shape=() dtype=float32, numpy=0.0005>\n"
     ]
    },
    {
     "name": "stderr",
     "output_type": "stream",
     "text": [
      "/tmp/ipykernel_108/1067138075.py:41: FutureWarning: The frame.append method is deprecated and will be removed from pandas in a future version. Use pandas.concat instead.\n",
      "  loss_df2 = loss_df2.append({\n",
      "r.shape = (10000, 19, 19, 31)\n",
      "nbExamples = 10000\n"
     ]
    },
    {
     "name": "stdout",
     "output_type": "stream",
     "text": [
      "epoch 256\n",
      "<tf.Variable 'learning_rate:0' shape=() dtype=float32, numpy=0.0005>\n"
     ]
    },
    {
     "name": "stderr",
     "output_type": "stream",
     "text": [
      "/tmp/ipykernel_108/1067138075.py:41: FutureWarning: The frame.append method is deprecated and will be removed from pandas in a future version. Use pandas.concat instead.\n",
      "  loss_df2 = loss_df2.append({\n"
     ]
    },
    {
     "name": "stdout",
     "output_type": "stream",
     "text": [
      "epoch 257\n",
      "<tf.Variable 'learning_rate:0' shape=() dtype=float32, numpy=0.0005>\n"
     ]
    },
    {
     "name": "stderr",
     "output_type": "stream",
     "text": [
      "r.shape = (10000, 19, 19, 31)\n",
      "nbExamples = 10000\n",
      "/tmp/ipykernel_108/1067138075.py:41: FutureWarning: The frame.append method is deprecated and will be removed from pandas in a future version. Use pandas.concat instead.\n",
      "  loss_df2 = loss_df2.append({\n"
     ]
    },
    {
     "name": "stdout",
     "output_type": "stream",
     "text": [
      "epoch 258\n",
      "<tf.Variable 'learning_rate:0' shape=() dtype=float32, numpy=0.0005>\n"
     ]
    },
    {
     "name": "stderr",
     "output_type": "stream",
     "text": [
      "r.shape = (10000, 19, 19, 31)\n",
      "nbExamples = 10000\n",
      "/tmp/ipykernel_108/1067138075.py:41: FutureWarning: The frame.append method is deprecated and will be removed from pandas in a future version. Use pandas.concat instead.\n",
      "  loss_df2 = loss_df2.append({\n"
     ]
    },
    {
     "name": "stdout",
     "output_type": "stream",
     "text": [
      "epoch 259\n",
      "<tf.Variable 'learning_rate:0' shape=() dtype=float32, numpy=0.0005>\n"
     ]
    },
    {
     "name": "stderr",
     "output_type": "stream",
     "text": [
      "r.shape = (10000, 19, 19, 31)\n",
      "nbExamples = 10000\n",
      "/tmp/ipykernel_108/1067138075.py:41: FutureWarning: The frame.append method is deprecated and will be removed from pandas in a future version. Use pandas.concat instead.\n",
      "  loss_df2 = loss_df2.append({\n",
      "r.shape = (10000, 19, 19, 31)\n",
      "nbExamples = 10000\n"
     ]
    },
    {
     "name": "stdout",
     "output_type": "stream",
     "text": [
      "epoch 260\n",
      "<tf.Variable 'learning_rate:0' shape=() dtype=float32, numpy=0.0005>\n"
     ]
    },
    {
     "name": "stderr",
     "output_type": "stream",
     "text": [
      "r.shape = (10000, 19, 19, 31)\n",
      "nbExamples = 10000\n"
     ]
    },
    {
     "name": "stdout",
     "output_type": "stream",
     "text": [
      "val = [3.204387664794922, 2.4625132083892822, 0.6866248250007629, 0.38600000739097595, 0.11679687350988388]\n",
      "epoch 261\n",
      "<tf.Variable 'learning_rate:0' shape=() dtype=float32, numpy=0.0005>\n"
     ]
    },
    {
     "name": "stderr",
     "output_type": "stream",
     "text": [
      "/tmp/ipykernel_108/1067138075.py:41: FutureWarning: The frame.append method is deprecated and will be removed from pandas in a future version. Use pandas.concat instead.\n",
      "  loss_df2 = loss_df2.append({\n",
      "r.shape = (10000, 19, 19, 31)\n",
      "nbExamples = 10000\n",
      "/tmp/ipykernel_108/1067138075.py:41: FutureWarning: The frame.append method is deprecated and will be removed from pandas in a future version. Use pandas.concat instead.\n",
      "  loss_df2 = loss_df2.append({\n",
      "r.shape = (10000, 19, 19, 31)\n"
     ]
    },
    {
     "name": "stdout",
     "output_type": "stream",
     "text": [
      "epoch 262\n",
      "<tf.Variable 'learning_rate:0' shape=() dtype=float32, numpy=0.0005>\n"
     ]
    },
    {
     "name": "stderr",
     "output_type": "stream",
     "text": [
      "nbExamples = 10000\n",
      "/tmp/ipykernel_108/1067138075.py:41: FutureWarning: The frame.append method is deprecated and will be removed from pandas in a future version. Use pandas.concat instead.\n",
      "  loss_df2 = loss_df2.append({\n"
     ]
    },
    {
     "name": "stdout",
     "output_type": "stream",
     "text": [
      "epoch 263\n",
      "<tf.Variable 'learning_rate:0' shape=() dtype=float32, numpy=0.0005>\n"
     ]
    },
    {
     "name": "stderr",
     "output_type": "stream",
     "text": [
      "r.shape = (10000, 19, 19, 31)\n",
      "nbExamples = 10000\n",
      "/tmp/ipykernel_108/1067138075.py:41: FutureWarning: The frame.append method is deprecated and will be removed from pandas in a future version. Use pandas.concat instead.\n",
      "  loss_df2 = loss_df2.append({\n"
     ]
    },
    {
     "name": "stdout",
     "output_type": "stream",
     "text": [
      "epoch 264\n",
      "<tf.Variable 'learning_rate:0' shape=() dtype=float32, numpy=0.0005>\n"
     ]
    },
    {
     "name": "stderr",
     "output_type": "stream",
     "text": [
      "r.shape = (10000, 19, 19, 31)\n",
      "nbExamples = 10000\n",
      "/tmp/ipykernel_108/1067138075.py:41: FutureWarning: The frame.append method is deprecated and will be removed from pandas in a future version. Use pandas.concat instead.\n",
      "  loss_df2 = loss_df2.append({\n",
      "r.shape = (10000, 19, 19, 31)\n",
      "nbExamples = 10000\n"
     ]
    },
    {
     "name": "stdout",
     "output_type": "stream",
     "text": [
      "epoch 265\n",
      "<tf.Variable 'learning_rate:0' shape=() dtype=float32, numpy=0.0005>\n"
     ]
    },
    {
     "name": "stderr",
     "output_type": "stream",
     "text": [
      "/tmp/ipykernel_108/1067138075.py:41: FutureWarning: The frame.append method is deprecated and will be removed from pandas in a future version. Use pandas.concat instead.\n",
      "  loss_df2 = loss_df2.append({\n",
      "r.shape = (10000, 19, 19, 31)\n",
      "nbExamples = 10000\n"
     ]
    },
    {
     "name": "stdout",
     "output_type": "stream",
     "text": [
      "epoch 266\n",
      "<tf.Variable 'learning_rate:0' shape=() dtype=float32, numpy=0.0005>\n"
     ]
    },
    {
     "name": "stderr",
     "output_type": "stream",
     "text": [
      "/tmp/ipykernel_108/1067138075.py:41: FutureWarning: The frame.append method is deprecated and will be removed from pandas in a future version. Use pandas.concat instead.\n",
      "  loss_df2 = loss_df2.append({\n",
      "r.shape = (10000, 19, 19, 31)\n",
      "nbExamples = 10000\n"
     ]
    },
    {
     "name": "stdout",
     "output_type": "stream",
     "text": [
      "epoch 267\n",
      "<tf.Variable 'learning_rate:0' shape=() dtype=float32, numpy=0.0005>\n"
     ]
    },
    {
     "name": "stderr",
     "output_type": "stream",
     "text": [
      "/tmp/ipykernel_108/1067138075.py:41: FutureWarning: The frame.append method is deprecated and will be removed from pandas in a future version. Use pandas.concat instead.\n",
      "  loss_df2 = loss_df2.append({\n"
     ]
    },
    {
     "name": "stdout",
     "output_type": "stream",
     "text": [
      "epoch 268\n",
      "<tf.Variable 'learning_rate:0' shape=() dtype=float32, numpy=0.0005>\n"
     ]
    },
    {
     "name": "stderr",
     "output_type": "stream",
     "text": [
      "r.shape = (10000, 19, 19, 31)\n",
      "nbExamples = 10000\n",
      "/tmp/ipykernel_108/1067138075.py:41: FutureWarning: The frame.append method is deprecated and will be removed from pandas in a future version. Use pandas.concat instead.\n",
      "  loss_df2 = loss_df2.append({\n",
      "r.shape = (10000, 19, 19, 31)\n",
      "nbExamples = 10000\n"
     ]
    },
    {
     "name": "stdout",
     "output_type": "stream",
     "text": [
      "epoch 269\n",
      "<tf.Variable 'learning_rate:0' shape=() dtype=float32, numpy=0.0005>\n"
     ]
    },
    {
     "name": "stderr",
     "output_type": "stream",
     "text": [
      "/tmp/ipykernel_108/1067138075.py:41: FutureWarning: The frame.append method is deprecated and will be removed from pandas in a future version. Use pandas.concat instead.\n",
      "  loss_df2 = loss_df2.append({\n",
      "r.shape = (10000, 19, 19, 31)\n",
      "nbExamples = 10000\n"
     ]
    },
    {
     "name": "stdout",
     "output_type": "stream",
     "text": [
      "epoch 270\n",
      "<tf.Variable 'learning_rate:0' shape=() dtype=float32, numpy=0.0005>\n"
     ]
    },
    {
     "name": "stderr",
     "output_type": "stream",
     "text": [
      "/tmp/ipykernel_108/1067138075.py:41: FutureWarning: The frame.append method is deprecated and will be removed from pandas in a future version. Use pandas.concat instead.\n",
      "  loss_df2 = loss_df2.append({\n"
     ]
    },
    {
     "name": "stdout",
     "output_type": "stream",
     "text": [
      "epoch 271\n",
      "<tf.Variable 'learning_rate:0' shape=() dtype=float32, numpy=0.0005>\n"
     ]
    },
    {
     "name": "stderr",
     "output_type": "stream",
     "text": [
      "r.shape = (10000, 19, 19, 31)\n",
      "nbExamples = 10000\n",
      "/tmp/ipykernel_108/1067138075.py:41: FutureWarning: The frame.append method is deprecated and will be removed from pandas in a future version. Use pandas.concat instead.\n",
      "  loss_df2 = loss_df2.append({\n",
      "r.shape = (10000, 19, 19, 31)\n",
      "nbExamples = 10000\n"
     ]
    },
    {
     "name": "stdout",
     "output_type": "stream",
     "text": [
      "epoch 272\n",
      "<tf.Variable 'learning_rate:0' shape=() dtype=float32, numpy=0.0005>\n"
     ]
    },
    {
     "name": "stderr",
     "output_type": "stream",
     "text": [
      "/tmp/ipykernel_108/1067138075.py:41: FutureWarning: The frame.append method is deprecated and will be removed from pandas in a future version. Use pandas.concat instead.\n",
      "  loss_df2 = loss_df2.append({\n",
      "r.shape = (10000, 19, 19, 31)\n"
     ]
    },
    {
     "name": "stdout",
     "output_type": "stream",
     "text": [
      "epoch 273\n",
      "<tf.Variable 'learning_rate:0' shape=() dtype=float32, numpy=0.0005>\n"
     ]
    },
    {
     "name": "stderr",
     "output_type": "stream",
     "text": [
      "nbExamples = 10000\n",
      "/tmp/ipykernel_108/1067138075.py:41: FutureWarning: The frame.append method is deprecated and will be removed from pandas in a future version. Use pandas.concat instead.\n",
      "  loss_df2 = loss_df2.append({\n"
     ]
    },
    {
     "name": "stdout",
     "output_type": "stream",
     "text": [
      "epoch 274\n",
      "<tf.Variable 'learning_rate:0' shape=() dtype=float32, numpy=0.0005>\n"
     ]
    },
    {
     "name": "stderr",
     "output_type": "stream",
     "text": [
      "r.shape = (10000, 19, 19, 31)\n",
      "nbExamples = 10000\n",
      "/tmp/ipykernel_108/1067138075.py:41: FutureWarning: The frame.append method is deprecated and will be removed from pandas in a future version. Use pandas.concat instead.\n",
      "  loss_df2 = loss_df2.append({\n"
     ]
    },
    {
     "name": "stdout",
     "output_type": "stream",
     "text": [
      "epoch 275\n",
      "<tf.Variable 'learning_rate:0' shape=() dtype=float32, numpy=0.0005>\n"
     ]
    },
    {
     "name": "stderr",
     "output_type": "stream",
     "text": [
      "r.shape = (10000, 19, 19, 31)\n",
      "nbExamples = 10000\n",
      "/tmp/ipykernel_108/1067138075.py:41: FutureWarning: The frame.append method is deprecated and will be removed from pandas in a future version. Use pandas.concat instead.\n",
      "  loss_df2 = loss_df2.append({\n",
      "r.shape = (10000, 19, 19, 31)\n",
      "nbExamples = 10000\n"
     ]
    },
    {
     "name": "stdout",
     "output_type": "stream",
     "text": [
      "epoch 276\n",
      "<tf.Variable 'learning_rate:0' shape=() dtype=float32, numpy=0.0005>\n"
     ]
    },
    {
     "name": "stderr",
     "output_type": "stream",
     "text": [
      "/tmp/ipykernel_108/1067138075.py:41: FutureWarning: The frame.append method is deprecated and will be removed from pandas in a future version. Use pandas.concat instead.\n",
      "  loss_df2 = loss_df2.append({\n",
      "r.shape = (10000, 19, 19, 31)\n",
      "nbExamples = 10000\n"
     ]
    },
    {
     "name": "stdout",
     "output_type": "stream",
     "text": [
      "epoch 277\n",
      "<tf.Variable 'learning_rate:0' shape=() dtype=float32, numpy=0.0005>\n"
     ]
    },
    {
     "name": "stderr",
     "output_type": "stream",
     "text": [
      "/tmp/ipykernel_108/1067138075.py:41: FutureWarning: The frame.append method is deprecated and will be removed from pandas in a future version. Use pandas.concat instead.\n",
      "  loss_df2 = loss_df2.append({\n",
      "r.shape = (10000, 19, 19, 31)\n"
     ]
    },
    {
     "name": "stdout",
     "output_type": "stream",
     "text": [
      "epoch 278\n",
      "<tf.Variable 'learning_rate:0' shape=() dtype=float32, numpy=0.0005>\n"
     ]
    },
    {
     "name": "stderr",
     "output_type": "stream",
     "text": [
      "nbExamples = 10000\n",
      "/tmp/ipykernel_108/1067138075.py:41: FutureWarning: The frame.append method is deprecated and will be removed from pandas in a future version. Use pandas.concat instead.\n",
      "  loss_df2 = loss_df2.append({\n",
      "r.shape = (10000, 19, 19, 31)\n",
      "nbExamples = 10000\n"
     ]
    },
    {
     "name": "stdout",
     "output_type": "stream",
     "text": [
      "epoch 279\n",
      "<tf.Variable 'learning_rate:0' shape=() dtype=float32, numpy=0.0005>\n"
     ]
    },
    {
     "name": "stderr",
     "output_type": "stream",
     "text": [
      "/tmp/ipykernel_108/1067138075.py:41: FutureWarning: The frame.append method is deprecated and will be removed from pandas in a future version. Use pandas.concat instead.\n",
      "  loss_df2 = loss_df2.append({\n"
     ]
    },
    {
     "name": "stdout",
     "output_type": "stream",
     "text": [
      "epoch 280\n",
      "<tf.Variable 'learning_rate:0' shape=() dtype=float32, numpy=0.0005>\n"
     ]
    },
    {
     "name": "stderr",
     "output_type": "stream",
     "text": [
      "r.shape = (10000, 19, 19, 31)\n",
      "nbExamples = 10000\n",
      "r.shape = (10000, 19, 19, 31)\n",
      "nbExamples = 10000\n"
     ]
    },
    {
     "name": "stdout",
     "output_type": "stream",
     "text": [
      "val = [3.1827542781829834, 2.4416263103485107, 0.68641197681427, 0.3864000141620636, 0.11668980866670609]\n",
      "epoch 281\n",
      "<tf.Variable 'learning_rate:0' shape=() dtype=float32, numpy=0.0005>\n"
     ]
    },
    {
     "name": "stderr",
     "output_type": "stream",
     "text": [
      "/tmp/ipykernel_108/1067138075.py:41: FutureWarning: The frame.append method is deprecated and will be removed from pandas in a future version. Use pandas.concat instead.\n",
      "  loss_df2 = loss_df2.append({\n",
      "r.shape = (10000, 19, 19, 31)\n",
      "nbExamples = 10000\n",
      "/tmp/ipykernel_108/1067138075.py:41: FutureWarning: The frame.append method is deprecated and will be removed from pandas in a future version. Use pandas.concat instead.\n",
      "  loss_df2 = loss_df2.append({\n"
     ]
    },
    {
     "name": "stdout",
     "output_type": "stream",
     "text": [
      "epoch 282\n",
      "<tf.Variable 'learning_rate:0' shape=() dtype=float32, numpy=0.0005>\n"
     ]
    },
    {
     "name": "stderr",
     "output_type": "stream",
     "text": [
      "r.shape = (10000, 19, 19, 31)\n",
      "nbExamples = 10000\n",
      "/tmp/ipykernel_108/1067138075.py:41: FutureWarning: The frame.append method is deprecated and will be removed from pandas in a future version. Use pandas.concat instead.\n",
      "  loss_df2 = loss_df2.append({\n",
      "r.shape = (10000, 19, 19, 31)\n",
      "nbExamples = 10000\n"
     ]
    },
    {
     "name": "stdout",
     "output_type": "stream",
     "text": [
      "epoch 283\n",
      "<tf.Variable 'learning_rate:0' shape=() dtype=float32, numpy=0.0005>\n"
     ]
    },
    {
     "name": "stderr",
     "output_type": "stream",
     "text": [
      "/tmp/ipykernel_108/1067138075.py:41: FutureWarning: The frame.append method is deprecated and will be removed from pandas in a future version. Use pandas.concat instead.\n",
      "  loss_df2 = loss_df2.append({\n"
     ]
    },
    {
     "name": "stdout",
     "output_type": "stream",
     "text": [
      "epoch 284\n",
      "<tf.Variable 'learning_rate:0' shape=() dtype=float32, numpy=0.0005>\n"
     ]
    },
    {
     "name": "stderr",
     "output_type": "stream",
     "text": [
      "r.shape = (10000, 19, 19, 31)\n",
      "nbExamples = 10000\n",
      "/tmp/ipykernel_108/1067138075.py:41: FutureWarning: The frame.append method is deprecated and will be removed from pandas in a future version. Use pandas.concat instead.\n",
      "  loss_df2 = loss_df2.append({\n",
      "r.shape = (10000, 19, 19, 31)\n",
      "nbExamples = 10000\n"
     ]
    },
    {
     "name": "stdout",
     "output_type": "stream",
     "text": [
      "epoch 285\n",
      "<tf.Variable 'learning_rate:0' shape=() dtype=float32, numpy=0.0005>\n"
     ]
    },
    {
     "name": "stderr",
     "output_type": "stream",
     "text": [
      "/tmp/ipykernel_108/1067138075.py:41: FutureWarning: The frame.append method is deprecated and will be removed from pandas in a future version. Use pandas.concat instead.\n",
      "  loss_df2 = loss_df2.append({\n",
      "r.shape = (10000, 19, 19, 31)\n",
      "nbExamples = 10000\n"
     ]
    },
    {
     "name": "stdout",
     "output_type": "stream",
     "text": [
      "epoch 286\n",
      "<tf.Variable 'learning_rate:0' shape=() dtype=float32, numpy=0.0005>\n"
     ]
    },
    {
     "name": "stderr",
     "output_type": "stream",
     "text": [
      "/tmp/ipykernel_108/1067138075.py:41: FutureWarning: The frame.append method is deprecated and will be removed from pandas in a future version. Use pandas.concat instead.\n",
      "  loss_df2 = loss_df2.append({\n",
      "r.shape = (10000, 19, 19, 31)\n",
      "nbExamples = 10000\n"
     ]
    },
    {
     "name": "stdout",
     "output_type": "stream",
     "text": [
      "epoch 287\n",
      "<tf.Variable 'learning_rate:0' shape=() dtype=float32, numpy=0.0005>\n"
     ]
    },
    {
     "name": "stderr",
     "output_type": "stream",
     "text": [
      "/tmp/ipykernel_108/1067138075.py:41: FutureWarning: The frame.append method is deprecated and will be removed from pandas in a future version. Use pandas.concat instead.\n",
      "  loss_df2 = loss_df2.append({\n"
     ]
    },
    {
     "name": "stdout",
     "output_type": "stream",
     "text": [
      "epoch 288\n",
      "<tf.Variable 'learning_rate:0' shape=() dtype=float32, numpy=0.0005>\n"
     ]
    },
    {
     "name": "stderr",
     "output_type": "stream",
     "text": [
      "r.shape = (10000, 19, 19, 31)\n",
      "nbExamples = 10000\n",
      "/tmp/ipykernel_108/1067138075.py:41: FutureWarning: The frame.append method is deprecated and will be removed from pandas in a future version. Use pandas.concat instead.\n",
      "  loss_df2 = loss_df2.append({\n"
     ]
    },
    {
     "name": "stdout",
     "output_type": "stream",
     "text": [
      "epoch 289\n",
      "<tf.Variable 'learning_rate:0' shape=() dtype=float32, numpy=0.0005>\n"
     ]
    },
    {
     "name": "stderr",
     "output_type": "stream",
     "text": [
      "r.shape = (10000, 19, 19, 31)\n",
      "nbExamples = 10000\n",
      "/tmp/ipykernel_108/1067138075.py:41: FutureWarning: The frame.append method is deprecated and will be removed from pandas in a future version. Use pandas.concat instead.\n",
      "  loss_df2 = loss_df2.append({\n",
      "r.shape = (10000, 19, 19, 31)\n",
      "nbExamples = 10000\n"
     ]
    },
    {
     "name": "stdout",
     "output_type": "stream",
     "text": [
      "epoch 290\n",
      "<tf.Variable 'learning_rate:0' shape=() dtype=float32, numpy=0.0005>\n"
     ]
    },
    {
     "name": "stderr",
     "output_type": "stream",
     "text": [
      "/tmp/ipykernel_108/1067138075.py:41: FutureWarning: The frame.append method is deprecated and will be removed from pandas in a future version. Use pandas.concat instead.\n",
      "  loss_df2 = loss_df2.append({\n",
      "r.shape = (10000, 19, 19, 31)\n",
      "nbExamples = 10000\n"
     ]
    },
    {
     "name": "stdout",
     "output_type": "stream",
     "text": [
      "epoch 291\n",
      "<tf.Variable 'learning_rate:0' shape=() dtype=float32, numpy=0.0005>\n"
     ]
    },
    {
     "name": "stderr",
     "output_type": "stream",
     "text": [
      "/tmp/ipykernel_108/1067138075.py:41: FutureWarning: The frame.append method is deprecated and will be removed from pandas in a future version. Use pandas.concat instead.\n",
      "  loss_df2 = loss_df2.append({\n"
     ]
    },
    {
     "name": "stdout",
     "output_type": "stream",
     "text": [
      "epoch 292\n",
      "<tf.Variable 'learning_rate:0' shape=() dtype=float32, numpy=0.0005>\n"
     ]
    },
    {
     "name": "stderr",
     "output_type": "stream",
     "text": [
      "r.shape = (10000, 19, 19, 31)\n",
      "nbExamples = 10000\n",
      "/tmp/ipykernel_108/1067138075.py:41: FutureWarning: The frame.append method is deprecated and will be removed from pandas in a future version. Use pandas.concat instead.\n",
      "  loss_df2 = loss_df2.append({\n"
     ]
    },
    {
     "name": "stdout",
     "output_type": "stream",
     "text": [
      "epoch 293\n",
      "<tf.Variable 'learning_rate:0' shape=() dtype=float32, numpy=0.0005>\n"
     ]
    },
    {
     "name": "stderr",
     "output_type": "stream",
     "text": [
      "r.shape = (10000, 19, 19, 31)\n",
      "nbExamples = 10000\n",
      "/tmp/ipykernel_108/1067138075.py:41: FutureWarning: The frame.append method is deprecated and will be removed from pandas in a future version. Use pandas.concat instead.\n",
      "  loss_df2 = loss_df2.append({\n",
      "r.shape = (10000, 19, 19, 31)\n",
      "nbExamples = 10000\n"
     ]
    },
    {
     "name": "stdout",
     "output_type": "stream",
     "text": [
      "epoch 294\n",
      "<tf.Variable 'learning_rate:0' shape=() dtype=float32, numpy=0.0005>\n"
     ]
    },
    {
     "name": "stderr",
     "output_type": "stream",
     "text": [
      "/tmp/ipykernel_108/1067138075.py:41: FutureWarning: The frame.append method is deprecated and will be removed from pandas in a future version. Use pandas.concat instead.\n",
      "  loss_df2 = loss_df2.append({\n",
      "r.shape = (10000, 19, 19, 31)\n",
      "nbExamples = 10000\n"
     ]
    },
    {
     "name": "stdout",
     "output_type": "stream",
     "text": [
      "epoch 295\n",
      "<tf.Variable 'learning_rate:0' shape=() dtype=float32, numpy=0.0005>\n"
     ]
    },
    {
     "name": "stderr",
     "output_type": "stream",
     "text": [
      "/tmp/ipykernel_108/1067138075.py:41: FutureWarning: The frame.append method is deprecated and will be removed from pandas in a future version. Use pandas.concat instead.\n",
      "  loss_df2 = loss_df2.append({\n",
      "r.shape = (10000, 19, 19, 31)\n",
      "nbExamples = 10000\n"
     ]
    },
    {
     "name": "stdout",
     "output_type": "stream",
     "text": [
      "epoch 296\n",
      "<tf.Variable 'learning_rate:0' shape=() dtype=float32, numpy=0.0005>\n"
     ]
    },
    {
     "name": "stderr",
     "output_type": "stream",
     "text": [
      "/tmp/ipykernel_108/1067138075.py:41: FutureWarning: The frame.append method is deprecated and will be removed from pandas in a future version. Use pandas.concat instead.\n",
      "  loss_df2 = loss_df2.append({\n"
     ]
    },
    {
     "name": "stdout",
     "output_type": "stream",
     "text": [
      "epoch 297\n",
      "<tf.Variable 'learning_rate:0' shape=() dtype=float32, numpy=0.0005>\n"
     ]
    },
    {
     "name": "stderr",
     "output_type": "stream",
     "text": [
      "r.shape = (10000, 19, 19, 31)\n",
      "nbExamples = 10000\n",
      "/tmp/ipykernel_108/1067138075.py:41: FutureWarning: The frame.append method is deprecated and will be removed from pandas in a future version. Use pandas.concat instead.\n",
      "  loss_df2 = loss_df2.append({\n"
     ]
    },
    {
     "name": "stdout",
     "output_type": "stream",
     "text": [
      "epoch 298\n",
      "<tf.Variable 'learning_rate:0' shape=() dtype=float32, numpy=0.0005>\n"
     ]
    },
    {
     "name": "stderr",
     "output_type": "stream",
     "text": [
      "r.shape = (10000, 19, 19, 31)\n",
      "nbExamples = 10000\n",
      "/tmp/ipykernel_108/1067138075.py:41: FutureWarning: The frame.append method is deprecated and will be removed from pandas in a future version. Use pandas.concat instead.\n",
      "  loss_df2 = loss_df2.append({\n"
     ]
    },
    {
     "name": "stdout",
     "output_type": "stream",
     "text": [
      "epoch 299\n",
      "<tf.Variable 'learning_rate:0' shape=() dtype=float32, numpy=0.0005>\n"
     ]
    },
    {
     "name": "stderr",
     "output_type": "stream",
     "text": [
      "r.shape = (10000, 19, 19, 31)\n",
      "nbExamples = 10000\n",
      "/tmp/ipykernel_108/1067138075.py:41: FutureWarning: The frame.append method is deprecated and will be removed from pandas in a future version. Use pandas.concat instead.\n",
      "  loss_df2 = loss_df2.append({\n",
      "r.shape = (10000, 19, 19, 31)\n",
      "nbExamples = 10000\n"
     ]
    },
    {
     "name": "stdout",
     "output_type": "stream",
     "text": [
      "epoch 300\n",
      "<tf.Variable 'learning_rate:0' shape=() dtype=float32, numpy=0.0005>\n"
     ]
    },
    {
     "name": "stderr",
     "output_type": "stream",
     "text": [
      "r.shape = (10000, 19, 19, 31)\n",
      "nbExamples = 10000\n"
     ]
    },
    {
     "name": "stdout",
     "output_type": "stream",
     "text": [
      "val = [3.1638996601104736, 2.423398494720459, 0.6862534880638123, 0.3887999951839447, 0.11661286652088165]\n",
      "Time taken: 1662.7761128309994\n"
     ]
    },
    {
     "name": "stderr",
     "output_type": "stream",
     "text": [
      "/tmp/ipykernel_108/1067138075.py:41: FutureWarning: The frame.append method is deprecated and will be removed from pandas in a future version. Use pandas.concat instead.\n",
      "  loss_df2 = loss_df2.append({\n"
     ]
    }
   ],
   "source": [
    "import timeit\n",
    "\n",
    "# Your model and data preparation code goes here...\n",
    "\n",
    "# Initialize the learning rate\n",
    "K.set_value(model_2.optimizer.learning_rate, 0.0005)\n",
    "\n",
    "# Create an empty DataFrame to store the metrics\n",
    "loss_df2 = pd.DataFrame(columns=['epoch', 'loss', 'policy_loss', 'value_loss', 'policy_categorical_accuracy', 'value_mse'])\n",
    "\n",
    "start = timeit.default_timer()\n",
    "\n",
    "for i in range(1, epochs + 1):\n",
    "    # Adjust learning rate at specific epochs\n",
    "    if i == 351:\n",
    "        K.set_value(model_2.optimizer.learning_rate, 0.00005)\n",
    "    elif i == 401:\n",
    "        K.set_value(model_2.optimizer.learning_rate, 0.000005)\n",
    "    elif i == 451:\n",
    "        K.set_value(model_2.optimizer.learning_rate, 0.0000005)\n",
    "\n",
    "    print('epoch ' + str(i))\n",
    "    print(optimizer.lr)\n",
    "\n",
    "    # Assuming the getBatch function is defined and working properly\n",
    "    golois.getBatch(input_data, policy, value, end, groups, i * N)\n",
    "\n",
    "    # Train the model for one epoch\n",
    "    history = model_2.fit(input_data, {'policy': policy, 'value': value},\n",
    "                          epochs=1, batch_size=batch, verbose=0)\n",
    "\n",
    "    if i % 5 == 0:\n",
    "        gc.collect()\n",
    "\n",
    "    if i % 20 == 0:\n",
    "        golois.getValidation(input_data, policy, value, end)\n",
    "        val = model_2.evaluate(input_data, [policy, value], verbose=0, batch_size=batch)\n",
    "        print(\"val =\", val)\n",
    "\n",
    "    # Collect training metrics in df2\n",
    "    loss_df2 = loss_df2.append({\n",
    "        'epoch': i,\n",
    "        'loss': history.history['loss'][0],\n",
    "        'policy_loss': history.history['policy_loss'][0],\n",
    "        'value_loss': history.history['value_loss'][0],\n",
    "        'policy_categorical_accuracy': history.history['policy_categorical_accuracy'][0],\n",
    "        'value_mse': history.history['value_mse'][0]\n",
    "    }, ignore_index=True)\n",
    "\n",
    "end = timeit.default_timer()\n",
    "print('Time taken:', end - start)\n"
   ]
  },
  {
   "cell_type": "markdown",
   "id": "79475f77-ca08-4a5e-9a1f-b37c76382216",
   "metadata": {},
   "source": [
    "### Collection of Mobilnet metrics"
   ]
  },
  {
   "cell_type": "code",
   "execution_count": 58,
   "id": "08185cbc-ce03-4a10-bebb-7313434ad51a",
   "metadata": {
    "execution": {
     "iopub.execute_input": "2023-07-29T13:39:56.420201Z",
     "iopub.status.busy": "2023-07-29T13:39:56.419827Z",
     "iopub.status.idle": "2023-07-29T13:39:56.677579Z",
     "shell.execute_reply": "2023-07-29T13:39:56.676925Z",
     "shell.execute_reply.started": "2023-07-29T13:39:56.420176Z"
    },
    "tags": []
   },
   "outputs": [
    {
     "data": {
      "image/png": "[encoded data removed]",
      "text/plain": [
       "<Figure size 640x480 with 2 Axes>"
      ]
     },
     "metadata": {},
     "output_type": "display_data"
    }
   ],
   "source": [
    "# The loss of my second model in a first plot\n",
    "plt.subplot(2, 1, 1)\n",
    "plt.plot(loss_df2['loss'], label='loss')\n",
    "plt.plot(loss_df2['policy_loss'], label='policy_loss')\n",
    "plt.plot(loss_df2['value_loss'], label='value_loss')\n",
    "plt.xlabel('Epoch')\n",
    "plt.ylabel('Loss')\n",
    "plt.title('Loss on training set by Epoch model 2')\n",
    "plt.legend()\n",
    "\n",
    "# Its metrics in a second plot\n",
    "plt.subplot(2, 1, 2)\n",
    "plt.plot(loss_df2['policy_categorical_accuracy'], label='policy_categorical_accuracy')\n",
    "plt.plot(loss_df2['value_mse'], label='value_mse')\n",
    "plt.xlabel('Epochs')\n",
    "plt.ylabel('Metrics')\n",
    "plt.title('Metrics on training set by Epoch model 2')\n",
    "plt.legend()\n",
    "\n",
    "plt.tight_layout()\n",
    "plt.show()"
   ]
  },
  {
   "cell_type": "markdown",
   "id": "12fc52b9-6287-44b5-a0a4-d718cf305e16",
   "metadata": {},
   "source": [
    " The network stabilizes as well after 50 epochs as can be seen in the below plots from the losses metrics. The values of these parameters all improve over time, indicating that the model is learning and improving at the game of Go. The policy categorical accuracy increases the most, indicating that the model is becoming better at predicting the right move. The MSE value stabilizes very fast on first epochs."
   ]
  },
  {
   "cell_type": "code",
   "execution_count": 59,
   "id": "20b084c3-11c8-46ac-9c6c-31136133449b",
   "metadata": {
    "execution": {
     "iopub.execute_input": "2023-07-29T13:43:13.563425Z",
     "iopub.status.busy": "2023-07-29T13:43:13.563007Z",
     "iopub.status.idle": "2023-07-29T13:43:13.698025Z",
     "shell.execute_reply": "2023-07-29T13:43:13.697233Z",
     "shell.execute_reply.started": "2023-07-29T13:43:13.563400Z"
    },
    "tags": []
   },
   "outputs": [
    {
     "data": {
      "image/png": "[encoded data removed]",
      "text/plain": [
       "<Figure size 640x480 with 1 Axes>"
      ]
     },
     "metadata": {},
     "output_type": "display_data"
    }
   ],
   "source": [
    "sns.lineplot(x=range(len(loss)),y=loss)\n",
    "plt.title(\"Loss on training set by Epoch for MobilNet model\");"
   ]
  },
  {
   "cell_type": "markdown",
   "id": "9d9a34d8-4b54-4e4b-b709-972fe436080f",
   "metadata": {},
   "source": [
    "Hereabove, the Mobilnetwork network stabilizes as well around 140 epochs as can be seen in the above plot, so we should likely readjust our model to the correct number of epochs to 150."
   ]
  },
  {
   "cell_type": "markdown",
   "id": "5237b1ea-4079-4533-89e3-3594877ccd4c",
   "metadata": {
    "execution": {
     "iopub.execute_input": "2023-07-14T17:09:23.698457Z",
     "iopub.status.busy": "2023-07-14T17:09:23.698130Z",
     "iopub.status.idle": "2023-07-14T17:09:23.701690Z",
     "shell.execute_reply": "2023-07-14T17:09:23.700756Z",
     "shell.execute_reply.started": "2023-07-14T17:09:23.698434Z"
    }
   },
   "source": [
    "## Saving Mobilnet Model"
   ]
  },
  {
   "cell_type": "code",
   "execution_count": 28,
   "id": "fc8f10ab-2636-4749-8a66-fa0afdbd25ba",
   "metadata": {
    "execution": {
     "iopub.execute_input": "2023-07-14T17:09:23.703052Z",
     "iopub.status.busy": "2023-07-14T17:09:23.702523Z",
     "iopub.status.idle": "2023-07-14T17:09:23.713060Z",
     "shell.execute_reply": "2023-07-14T17:09:23.712394Z",
     "shell.execute_reply.started": "2023-07-14T17:09:23.703030Z"
    }
   },
   "outputs": [],
   "source": [
    " #model_2.save ('WidedLabanne_modelMN_V9')"
   ]
  },
  {
   "cell_type": "markdown",
   "id": "5eb22e2c-c90a-4543-a6cf-9c3d63f50178",
   "metadata": {},
   "source": [
    "## Conclusion\n",
    "n this notebook, we explored the process of training a convolutional neural network to play the game of Go. We used https://saturncloud.io/ to benefit from the GPU needed to train our different models, taking advantage of 30 hours of GPU per month for free. Overall, our metrics suggest that the first model learns and improves with the game. The metrics on the second Mobilenet model are broadly similar to the first one.\n",
    "\n",
    "However, it is important to continue training the model to see if it can continue to improve, particularly in tournament play.\n",
    "\n",
    "You may be wondering why so much effort goes into solving a board game. Although it doesn't seem to have any immediate practical applications, research in this area aims to advance our collective knowledge. Games such as Go provide a clear measure of progress, and the knowledge gained can be applied to greater challenges. DeepMind, for example, is using its models to save energy, identify diseases and accelerate scientific research worldwide.\n",
    "\n",
    "This kind of research is key to advancing our understanding of AI and is likely to act as a catalyst for many life-changing technologies in the future."
   ]
  }
 ],
 "metadata": {
  "kernelspec": {
   "display_name": "saturn (Python 3)",
   "language": "python",
   "name": "python3"
  },
  "language_info": {
   "codemirror_mode": {
    "name": "ipython",
    "version": 3
   },
   "file_extension": ".py",
   "mimetype": "text/x-python",
   "name": "python",
   "nbconvert_exporter": "python",
   "pygments_lexer": "ipython3",
   "version": "3.9.13"
  }
 },
 "nbformat": 4,
 "nbformat_minor": 5
}
