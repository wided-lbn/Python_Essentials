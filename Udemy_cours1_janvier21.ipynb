{
 "cells": [
  {
   "cell_type": "code",
   "execution_count": 66,
   "metadata": {},
   "outputs": [
    {
     "name": "stdout",
     "output_type": "stream",
     "text": [
      "quelle école allez vous faire ? do\n",
      "combien gagnez vous par mois ? 11000\n",
      "\n",
      "vous allez faire do comme école, et vous gagnez 11000€/mois aujourd'hui.\n",
      "Après votre Master, avec l'école do, allez gagner 33000€/mois!!!\n",
      "Mazette!!! Vive les vacances aux Maldives!!!\n"
     ]
    }
   ],
   "source": [
    "#fonctions\n",
    "#afficher les résultats\n",
    "\n",
    "def afficher_informations(reponse_ecole, salaire):\n",
    "    print()\n",
    "    print(\"vous allez faire \" + ecole + \" comme école, et vous gagnez \" + str(salaire) + \"€/mois aujourd'hui.\")\n",
    "    print(\"Après votre Master, avec l'école \" + ecole + \",\" + \" allez gagner \" + str(salaire*3) + \"€/mois!!!\")\n",
    "\n",
    "#conditions TOUJOURS ordre CROISSANT ou cas particulier d'abord et cas généraux après\n",
    "    if salaire > 10000:\n",
    "        print(\"Mazette!!! Vive les vacances aux Maldives!!!\")\n",
    "    elif salaire >= 2500:\n",
    "        print(\"Vous faites également partie des 10% de français les plus riches.\")\n",
    "    else:\n",
    "        print(\"vous êtes pauvre.\")\n",
    "\n",
    "def demander_salaire():\n",
    "    salaire = 0\n",
    "    while salaire == 0:\n",
    "        salaire_str = input(\"combien gagnez vous par mois ? \")\n",
    "        try:\n",
    "            salaire = int(salaire_str)\n",
    "        except:\n",
    "            print(\"Erreur vous devez rentrer un nombre.\")\n",
    "    return salaire\n",
    "\n",
    "def demander_ecole():\n",
    "    reponse_ecole = \"\"\n",
    "    while reponse_ecole == \"\":\n",
    "        reponse_ecole = input(\"quelle école allez vous faire ? \")\n",
    "    return reponse_ecole\n",
    "\n",
    "\n",
    "#demander le nom rappel fonction\n",
    "ecole = demander_ecole()\n",
    "\n",
    "#demander le salaire rappel fonction\n",
    "salaire = demander_salaire()\n",
    "\n",
    "#afficher résultat personne\n",
    "afficher_informations(ecole, salaire)\n"
   ]
  },
  {
   "cell_type": "code",
   "execution_count": null,
   "metadata": {},
   "outputs": [],
   "source": [
    "#La syntaxe Python pour la définition d’une fonction est la suivante :\n",
    "#def nom_fonction(liste de paramètres):\n",
    "#      bloc d'instructions\n",
    "#fonction sans paramètres\n",
    "def compteur3():\n",
    "    i = 0\n",
    "    while i < 3:\n",
    "        print(i)\n",
    "        i = i + 1\n",
    "\n",
    "print(\"bonjour\")\n",
    "compteur3()\n",
    "compteur3()"
   ]
  },
  {
   "cell_type": "code",
   "execution_count": 62,
   "metadata": {},
   "outputs": [
    {
     "name": "stdout",
     "output_type": "stream",
     "text": [
      "1 \n",
      "1 2 \n",
      "1 2 3 \n",
      "1 2 3 4 \n",
      "1 2 3 4 5 \n"
     ]
    }
   ],
   "source": [
    "#boucle imbriquée\n",
    "N=5\n",
    "for n in range(1,N+1):\n",
    "    for k in range(n):\n",
    "        print(k+1, end=\" \")\n",
    "    print()"
   ]
  },
  {
   "cell_type": "code",
   "execution_count": null,
   "metadata": {},
   "outputs": [],
   "source": [
    "#boucle imbriquée bis\n",
    "for i in range(10):\n",
    "  #print(i)\n",
    "  for j in range(10):\n",
    "    print('la valeur de i est : ' + str(i) + ' et la valeur de j est : ' + str(j))"
   ]
  },
  {
   "cell_type": "code",
   "execution_count": null,
   "metadata": {},
   "outputs": [],
   "source": [
    "import turtle #visualisation jeu\n",
    "\n",
    "t = turtle.Turtle()\n",
    "\n",
    "#t.forward(100) #instruction pour que la tortue avance de 100pixels\n",
    "#t.left(90) #même chose tourne à gauche de 90°\n",
    "#t.backward(100)\n",
    "#t.right(45)\n",
    "\n",
    "def escalier(taille,nb):\n",
    "#dessiner des marches avec fonction\n",
    "    for i in range(0, nb):\n",
    "        t.forward(30)\n",
    "        t.left(90)\n",
    "        t.forward(30)\n",
    "        t.right(90)\n",
    "        #taille = taille - 10 (décrémenter la taille de 10 pixels)\n",
    "    taille +=10        \n",
    "t.forward(taille)\n",
    "\n",
    "turtle.done()"
   ]
  },
  {
   "cell_type": "code",
   "execution_count": 19,
   "metadata": {},
   "outputs": [
    {
     "ename": "NameError",
     "evalue": "name 'turtle' is not defined",
     "output_type": "error",
     "traceback": [
      "\u001b[1;31m---------------------------------------------------------------------------\u001b[0m",
      "\u001b[1;31mNameError\u001b[0m                                 Traceback (most recent call last)",
      "\u001b[1;32m<ipython-input-19-a5e0a7ded5e4>\u001b[0m in \u001b[0;36m<module>\u001b[1;34m\u001b[0m\n\u001b[0;32m      5\u001b[0m         \u001b[0mt\u001b[0m\u001b[1;33m.\u001b[0m\u001b[0mleft\u001b[0m\u001b[1;33m(\u001b[0m\u001b[1;36m90\u001b[0m\u001b[1;33m)\u001b[0m\u001b[1;33m\u001b[0m\u001b[1;33m\u001b[0m\u001b[0m\n\u001b[0;32m      6\u001b[0m \u001b[1;33m\u001b[0m\u001b[0m\n\u001b[1;32m----> 7\u001b[1;33m \u001b[0mt\u001b[0m \u001b[1;33m=\u001b[0m \u001b[0mturtle\u001b[0m\u001b[1;33m.\u001b[0m\u001b[0mTurtle\u001b[0m\u001b[1;33m(\u001b[0m\u001b[1;33m)\u001b[0m\u001b[1;33m\u001b[0m\u001b[1;33m\u001b[0m\u001b[0m\n\u001b[0m\u001b[0;32m      8\u001b[0m \u001b[1;33m\u001b[0m\u001b[0m\n\u001b[0;32m      9\u001b[0m \u001b[0mcarre\u001b[0m\u001b[1;33m(\u001b[0m\u001b[1;36m50\u001b[0m\u001b[1;33m)\u001b[0m\u001b[1;33m\u001b[0m\u001b[1;33m\u001b[0m\u001b[0m\n",
      "\u001b[1;31mNameError\u001b[0m: name 'turtle' is not defined"
     ]
    }
   ],
   "source": [
    "# dessiner un carré - définition de fonction\n",
    "def carre(taille):\n",
    "    for i in range(0,4):\n",
    "        t.forward(taille)\n",
    "        t.left(90)\n",
    "\n",
    "t = turtle.Turtle()\n",
    "\n",
    "carre(50)\n",
    "carre(100)\n",
    "\n",
    "turtle.done()"
   ]
  },
  {
   "cell_type": "code",
   "execution_count": null,
   "metadata": {},
   "outputs": [],
   "source": [
    "# dessiner un carré qui se multiplie par définition de fonction\n",
    "def carres(taille_depart, nb):\n",
    "    for i in range(0,nb):\n",
    "        taille = (i+1)*taille_depart\n",
    "        carre(taille) #appel la fonction précédente\n",
    "\n",
    "t = turtle.Turtle()\n",
    "\n",
    "carre(50)\n",
    "carre(100)\n",
    "\n",
    "turtle.done()"
   ]
  },
  {
   "cell_type": "markdown",
   "metadata": {},
   "source": [
    "### section 6 : le nombre magique"
   ]
  },
  {
   "cell_type": "code",
   "execution_count": 31,
   "metadata": {},
   "outputs": [
    {
     "name": "stdout",
     "output_type": "stream",
     "text": [
      "Quel est le nombre magique entre (1 et 10) ? 5\n",
      "bravo, vous avez trouvé le nombre magique!\n",
      "Il vous reste 4 vies\n",
      "Quel est le nombre magique entre (1 et 10) ? 4\n",
      "le nombre magique est plus petit\n",
      "Il vous reste 3 vies\n",
      "Quel est le nombre magique entre (1 et 10) ? 5\n",
      "le nombre magique est plus petit\n",
      "Il vous reste 2 vies\n",
      "Quel est le nombre magique entre (1 et 10) ? 6\n",
      "le nombre magique est plus petit\n",
      "Il vous reste 1 vies\n",
      "Quel est le nombre magique entre (1 et 10) ? 7\n",
      "le nombre magique est plus petit\n",
      "Vous avez perdu! Le nombre magique était :1\n"
     ]
    }
   ],
   "source": [
    "'''import random\n",
    "\n",
    "def demander_nombre(nb_min, nb_max):\n",
    "    nombre_int  = 0\n",
    "    while nombre_int == 0:\n",
    "        nombre_str = input(f\"Quel est le nombre magique entre ({nb_min} et {nb_max}) ? \")\n",
    "        try:\n",
    "            nombre_int = int(nombre_str)\n",
    "        except:\n",
    "            print(\"Erreur, vous devez rentrer un nombre!\")\n",
    "        else:\n",
    "            if nombre_int < nb_min or nombre_int > nb_max:\n",
    "                print(f\"ERREUR, Le nombre doit être entre {nb_min} et {nb_max}. Réessayez.\" )\n",
    "                nombre_int=0 #force le retour au début de boucle si le nombre > 10\n",
    "    return nombre_int\n",
    "\n",
    "nombre = 0\n",
    "while not nombre == NOMBRE_MAGIQUE:\n",
    "    nombre = demander_nombre(NOMBRE_MIN, NOMBRE_MAX)\n",
    "    # le nombre magique est plus petit\n",
    "    # le nombre magique est plus grand\n",
    "    # bravo, vous avez trouvé le nombre magique\n",
    "    if nombre == NOMBRE_MAGIQUE:\n",
    "            print(\"bravo, vous avez trouvé le nombre magique!\")\n",
    "    elif nombre > NOMBRE_MAGIQUE:\n",
    "            print(\"le nombre magique est plus petit.\")\n",
    "    elif nombre < NOMBRE_MAGIQUE:\n",
    "            print(\"le nombre magique est plus grand.\")\n",
    "    else:\n",
    "            print(\"Vous devez rentrer un nombre entre 1 et 10!\")\n",
    "\n",
    "NOMBRE_MIN = 1\n",
    "NOMBRE_MAX = 10\n",
    "NOMBRE_MAGIQUE = random.randint(NOMBRE_MIN, NOMBRE_MAX) #formule aléatoire\n",
    "NB_VIES = 4\n",
    "\n",
    "\n",
    "nombre = 0\n",
    "vies = NB_VIES\n",
    "while not nombre == NOMBRE_MAGIQUE and vies > 0:\n",
    "    print(f\"Il vous reste {vies} vies\")\n",
    "    nombre = demander_nombre(NOMBRE_MIN, NOMBRE_MAX)\n",
    "    if nombre == NOMBRE_MAGIQUE:\n",
    "        print(\"bravo, vous avez gagné!\")\n",
    "    elif nombre > NOMBRE_MAGIQUE:\n",
    "        print(\"le nombre magique est plus petit\")\n",
    "        vies -=1\n",
    "    else:\n",
    "        print(\"le nombre magique est plus grand\")\n",
    "        vies -=1\n",
    "\n",
    "if vies == 0:\n",
    "    print(f\"Vous avez perdu! Le nombre magique était :{NOMBRE_MAGIQUE}\")\n",
    "\n",
    "gagne = False\n",
    "for i in range(0, NB_VIES):\n",
    "    vies = NB_VIES-i\n",
    "    print(f\"Il vous reste {vies} vies\")\n",
    "    nombre = demander_nombre(NOMBRE_MIN, NOMBRE_MAX)\n",
    "    if nombre == NOMBRE_MAGIQUE:\n",
    "        print(\"bravo, vous avez gagné!\")\n",
    "        gagne = True\n",
    "        break\n",
    "    elif nombre > NOMBRE_MAGIQUE:\n",
    "        print(\"le nombre magique est plus petit\")\n",
    "    else:\n",
    "        print(\"le nombre magique est plus grand\")\n",
    "\n",
    "#if vies == 0:\n",
    "if not gagne:\n",
    "    print(f\"Vous avez perdu! Le nombre magique était :{NOMBRE_MAGIQUE}\")'''\n"
   ]
  },
  {
   "cell_type": "markdown",
   "metadata": {},
   "source": [
    "### Section 7 : Création de jeu de maths"
   ]
  },
  {
   "cell_type": "code",
   "execution_count": 50,
   "metadata": {},
   "outputs": [
    {
     "name": "stdout",
     "output_type": "stream",
     "text": [
      "Question n°1 sur 4:\n",
      "Calculez : 1 * 8 = 8\n",
      "Bravo, réponse correcte!\n",
      "\n",
      "Question n°2 sur 4:\n",
      "Calculez : 2 + 7 = 9\n",
      "Bravo, réponse correcte!\n",
      "\n",
      "Question n°3 sur 4:\n",
      "Calculez : 3 * 8 = 24\n",
      "Bravo, réponse correcte!\n",
      "\n",
      "Question n°4 sur 4:\n",
      "Calculez : 6 * 6 = 36\n",
      "Bravo, réponse correcte!\n",
      "\n",
      "votre note est de 4/4\n",
      "Excellent!\n"
     ]
    }
   ],
   "source": [
    "import random\n",
    "\n",
    "NOMBRE_MIN = 1\n",
    "NOMBRE_MAX = 10\n",
    "CALCUL = random.randint(NOMBRE_MIN, NOMBRE_MAX)\n",
    "NB_QUESTIONS = 4 #définition d'une constante\n",
    "\n",
    "def poser_question():\n",
    "    a = random.randint(NOMBRE_MIN, NOMBRE_MAX)\n",
    "    b = random.randint(NOMBRE_MIN, NOMBRE_MAX)\n",
    "    o = random.randint(0, 1) #ocomme opérateur\n",
    "    # si c'est 0 => +\n",
    "    # si c'est 1 => *\n",
    "    operateur_str = \"+\"\n",
    "    if o == 1:\n",
    "        operateur_str = \"*\"\n",
    "    reponse_str = input(f\"Calculez : {a} {operateur_str} {b} = \")\n",
    "    reponse_int = int(reponse_str)\n",
    "    calcul = a+b\n",
    "    if o == 1:\n",
    "        calcul = a*b\n",
    "    if reponse_int == calcul:\n",
    "        return True\n",
    "    \n",
    "    return False\n",
    "\n",
    "nb_points = 0\n",
    "for i in range(0, NB_QUESTIONS):\n",
    "    print(f\"Question n°{i+1} sur {NB_QUESTIONS}:\")\n",
    "    if poser_question():\n",
    "        print(\"Bravo, réponse correcte!\")\n",
    "        nb_points += 1\n",
    "    else:\n",
    "        print(\"Merde, réponse incorrecte!\")\n",
    "    print()\n",
    "    \n",
    "print(f\"votre note est de {nb_points}/{NB_QUESTIONS}\")\n",
    "moyenne = int(NB_QUESTIONS/2)\n",
    "if nb_points == NB_QUESTIONS:\n",
    "        print(\"Excellent!\")\n",
    "elif nb_points == 0:\n",
    "        print(\"Révise ton Python banane!\")\n",
    "elif nb_points > moyenne:\n",
    "        print(\"pas mal!\")\n",
    "else:\n",
    "        print(\"peut mieux faire...\")"
   ]
  },
  {
   "cell_type": "markdown",
   "metadata": {},
   "source": [
    "## Section 9  : les slices LISTE (Pizza)"
   ]
  },
  {
   "cell_type": "code",
   "execution_count": 107,
   "metadata": {},
   "outputs": [
    {
     "name": "stdout",
     "output_type": "stream",
     "text": [
      "Pizza à ajouter: diavola\n",
      "---LISTE DES PIZZAS (3)----\n",
      "4 fromages\n",
      "végétarienne\n",
      "hawai\n",
      "\n",
      "Première pizza: 4 fromages\n",
      "Dernière pizza: hawai\n"
     ]
    }
   ],
   "source": [
    "def tri_personnalise(e):\n",
    "    return len(e) #tri les pizzas selon la longueur du caractère\n",
    "\n",
    "\n",
    "def afficher(collection, n_premiers_elements=-1):\n",
    "    #print(f\"----LISTE DES PIZZAS ({len(collection)}) ----\")\n",
    "    #ou\n",
    "    #collection.sort() #classe les pizzas par ordre alpha\n",
    "    #collection.sort(reverse=True) #classe les pizzas par ordre Z - A\n",
    "    #collection.sort(reverse=True, key=tri_personnalise) #classe les pizzas par ordre alpha\n",
    "    c = collection\n",
    "    if not n_premiers_elements == -1: #si n_premiers_elements différents de -1 alors :\n",
    "        c = collection[0:n_premiers_elements] #alors on prend la collect° de 0 jusqu'à n_premiers_elements\n",
    "    \n",
    "    nb_pizzas = len(c)\n",
    "    if nb_pizzas == 0:\n",
    "        print(\"AUCUNE PIZZA\")\n",
    "    else : \n",
    "        print(f\"---LISTE DES PIZZAS ({nb_pizzas})----\")\n",
    "        for i in c:\n",
    "            print(i)\n",
    "        print()\n",
    "        print(\"Première pizza: \" + c[0])\n",
    "        print(\"Dernière pizza: \" + c[-1])\n",
    "\n",
    "pizzas = (\"4 fromages\", \"végétarienne\", \"hawai\", \"calzone\") #tuple\n",
    "vide = ()\n",
    "#afficher(vide)\n",
    "\n",
    "\n",
    "def ajouter_pizza_utilisateur(c):\n",
    "    p = input(\"Pizza à ajouter: \")\n",
    "    #if pizza_existe(p, c):\n",
    "    if p.lower() in c: #p.lower() pour détecter les majuscules et les convertir en minuscule\n",
    "        print(\"ERREUR : Cette pizza existe déjà\")\n",
    "    else:\n",
    "        c.append(p)\n",
    "    \n",
    "pizzas = [\"4 fromages\", \"végétarienne\", \"hawai\", \"calzone\"] #tuple\n",
    "\n",
    "#def pizza_existe(e, collection):\n",
    "#    for i in collection:\n",
    "#        if i == e:\n",
    "#            return True\n",
    "#    return False\n",
    "\n",
    "ajouter_pizza_utilisateur(pizzas)\n",
    "\n",
    "afficher(pizzas, 3) #affiche que les 3 premières pizzas\n",
    "\n",
    "#lower() -> miniscules\n",
    "#upper() -> majuscules\n"
   ]
  },
  {
   "cell_type": "code",
   "execution_count": 92,
   "metadata": {},
   "outputs": [
    {
     "name": "stdout",
     "output_type": "stream",
     "text": [
      "BonJour\n",
      "bonjour\n",
      "BONJOUR\n"
     ]
    }
   ],
   "source": [
    "s = \"BonJour\"\n",
    "print(s)\n",
    "print(s.lower())\n",
    "print(s.upper())"
   ]
  },
  {
   "cell_type": "markdown",
   "metadata": {},
   "source": [
    "# Section 11 : Projet PIZZA : Programmation Orientée objet : POO = Object Oriented Programming en anglais"
   ]
  },
  {
   "cell_type": "code",
   "execution_count": 157,
   "metadata": {},
   "outputs": [
    {
     "name": "stdout",
     "output_type": "stream",
     "text": [
      "PIZZA 4 fromages : 8.5€- vegetarienne\n",
      "brie; emental; compté; parmesan\n",
      "\n",
      "PIZZA Hawai : 9.5€\n",
      "brie; emental; compté; parmesan\n",
      "\n",
      "PIZZA 4 saisons : 11€\n",
      "brie; emental; compté; parmesan\n",
      "\n",
      "PIZZA végé : 7.8€- vegetarienne\n",
      "brie; emental; compté; parmesan\n",
      "\n"
     ]
    }
   ],
   "source": [
    "class Pizza:\n",
    "    def __init__(self, nom, prix, ingredients, vegetarienne=False):  #définition du constructeur\n",
    "        self.nom = nom\n",
    "        self.prix = prix\n",
    "        self.ingredients = ingredients\n",
    "        self.vegetarienne = vegetarienne\n",
    "        \n",
    "    def Afficher(self):\n",
    "        veg_str = \"\"\n",
    "        if self.vegetarienne:\n",
    "            veg_str = \"- vegetarienne\"\n",
    "        print(f\"PIZZA {self.nom} : {self.prix}€\" + veg_str)\n",
    "        print(\"; \".join(ingredients)) #prends chaque valeur séparée par le délimiteur\n",
    "        print()\n",
    "\n",
    "#pizzas = ()\n",
    "#pizza1 = Pizza(\"4 fromages\", 8.5, (\"brie\", \"emental\", \"compté\", \"parmesan\"))\n",
    "#pizza1.Afficher()\n",
    "\n",
    "#création de tuple de pizzas\n",
    "pizzas = (\n",
    "    Pizza(\"4 fromages\", 8.5, (\"brie\", \"emental\", \"compté\", \"parmesan\"), True),\n",
    "    Pizza(\"Hawai\", 9.5, (\"tomates\", \"ananas\", \"oignons\")),\n",
    "    Pizza(\"4 saisons\", 11, (\"oeuf\", \"emental\", \"tomates\", \"jambon\")),\n",
    "    Pizza(\"végé\", 7.8, (\"champignons\", \"tomates\", \"oignons\", \"poivrons\"), True)\n",
    ")\n",
    "\n",
    "#boucle : afficher\n",
    "for i in pizzas:\n",
    "    i.Afficher()\n"
   ]
  },
  {
   "cell_type": "code",
   "execution_count": 155,
   "metadata": {},
   "outputs": [
    {
     "name": "stdout",
     "output_type": "stream",
     "text": [
      "PIZZA 4 fromages : 8.5€- vegetarienne\n",
      "brie; emental; compté; parmesan\n",
      "\n",
      "PIZZA végé : 7.8€- vegetarienne\n",
      "brie; emental; compté; parmesan\n",
      "\n"
     ]
    }
   ],
   "source": [
    "for i in pizzas: #n'affiche que les pizzas végé\n",
    "    if i.vegetarienne:\n",
    "        i.Afficher()"
   ]
  },
  {
   "cell_type": "code",
   "execution_count": 159,
   "metadata": {},
   "outputs": [
    {
     "name": "stdout",
     "output_type": "stream",
     "text": [
      "PIZZA Hawai : 9.5€\n",
      "brie; emental; compté; parmesan\n",
      "\n",
      "PIZZA 4 saisons : 11€\n",
      "brie; emental; compté; parmesan\n",
      "\n"
     ]
    }
   ],
   "source": [
    "for i in pizzas: #n'affiche que les pizzas NON végé\n",
    "    if not i.vegetarienne:\n",
    "        i.Afficher()"
   ]
  },
  {
   "cell_type": "code",
   "execution_count": 158,
   "metadata": {},
   "outputs": [
    {
     "name": "stdout",
     "output_type": "stream",
     "text": [
      "PIZZA Hawai : 9.5€\n",
      "brie; emental; compté; parmesan\n",
      "\n",
      "PIZZA 4 saisons : 11€\n",
      "brie; emental; compté; parmesan\n",
      "\n",
      "PIZZA végé : 7.8€- vegetarienne\n",
      "brie; emental; compté; parmesan\n",
      "\n"
     ]
    }
   ],
   "source": [
    "for i in pizzas: #n'affiche que les pizzas qui ont de la tomate\n",
    "    if \"tomates\" in i.ingredients:\n",
    "        i.Afficher()"
   ]
  },
  {
   "cell_type": "code",
   "execution_count": 160,
   "metadata": {},
   "outputs": [
    {
     "name": "stdout",
     "output_type": "stream",
     "text": [
      "PIZZA 4 saisons : 11€\n",
      "brie; emental; compté; parmesan\n",
      "\n"
     ]
    }
   ],
   "source": [
    "for i in pizzas: #n'affiche que les pizzas qui > 10 Euros\n",
    "    if i.prix > 10:\n",
    "        i.Afficher()"
   ]
  },
  {
   "cell_type": "code",
   "execution_count": 167,
   "metadata": {},
   "outputs": [
    {
     "name": "stdout",
     "output_type": "stream",
     "text": [
      "PIZZA 4 saisons : 11€\n",
      "brie; emental; compté; parmesan\n",
      "\n",
      "PIZZA Hawai : 9.5€\n",
      "brie; emental; compté; parmesan\n",
      "\n",
      "PIZZA 4 fromages : 8.5€- vegetarienne\n",
      "brie; emental; compté; parmesan\n",
      "\n",
      "PIZZA végé : 7.8€- vegetarienne\n",
      "brie; emental; compté; parmesan\n",
      "\n"
     ]
    }
   ],
   "source": [
    "#le tri\n",
    "#pizzas.sort() #marche pas car transformer le tuple en liste\n",
    "pizzas = [\n",
    "    Pizza(\"4 fromages\", 8.5, (\"brie\", \"emental\", \"compté\", \"parmesan\"), True),\n",
    "    Pizza(\"Hawai\", 9.5, (\"tomates\", \"ananas\", \"oignons\")),\n",
    "    Pizza(\"4 saisons\", 11, (\"oeuf\", \"emental\", \"tomates\", \"jambon\")),\n",
    "    Pizza(\"végé\", 7.8, (\"champignons\", \"tomates\", \"oignons\", \"poivrons\"), True)\n",
    "]\n",
    "\n",
    "def tri(e): #fonction tri qui prend en paramètre un élément\n",
    "    return e.prix #tri de la moins chère à la plus chère\n",
    "\n",
    "pizzas.sort(key=tri, reverse=True) #reverse trie les pizzas de la plus chère à la moins chère\n",
    "\n",
    "for i in pizzas: \n",
    "        i.Afficher()"
   ]
  },
  {
   "cell_type": "code",
   "execution_count": null,
   "metadata": {},
   "outputs": [],
   "source": []
  }
 ],
 "metadata": {
  "kernelspec": {
   "display_name": "Python 3",
   "language": "python",
   "name": "python3"
  },
  "language_info": {
   "codemirror_mode": {
    "name": "ipython",
    "version": 3
   },
   "file_extension": ".py",
   "mimetype": "text/x-python",
   "name": "python",
   "nbconvert_exporter": "python",
   "pygments_lexer": "ipython3",
   "version": "3.8.3"
  }
 },
 "nbformat": 4,
 "nbformat_minor": 4
}
