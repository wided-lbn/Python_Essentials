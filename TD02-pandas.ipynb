{
 "cells": [
  {
   "cell_type": "markdown",
   "id": "textile-print",
   "metadata": {},
   "source": [
    "# Installation de pandas\n",
    "conda install pandas \n",
    "dans le terminal conda\n",
    "\n",
    "Puis démarrer le bloc note :\n",
    "jupyter notebook\n",
    "\n",
    "# Les Series"
   ]
  },
  {
   "cell_type": "code",
   "execution_count": 2,
   "id": "popular-speed",
   "metadata": {
    "scrolled": true
   },
   "outputs": [
    {
     "data": {
      "text/plain": [
       "0    1\n",
       "1    2\n",
       "2    5\n",
       "3    7\n",
       "dtype: int64"
      ]
     },
     "execution_count": 2,
     "metadata": {},
     "output_type": "execute_result"
    }
   ],
   "source": [
    "import pandas #importer pandas\n",
    "s=pandas.Series([1,2,5,7]) # Définition d'une série\n",
    "s"
   ]
  },
  {
   "cell_type": "markdown",
   "id": "remarkable-millennium",
   "metadata": {},
   "source": [
    "Pandas indique le type de données"
   ]
  },
  {
   "cell_type": "code",
   "execution_count": 3,
   "id": "seventh-billy",
   "metadata": {},
   "outputs": [
    {
     "data": {
      "text/plain": [
       "[1, 3, 5]"
      ]
     },
     "execution_count": 3,
     "metadata": {},
     "output_type": "execute_result"
    }
   ],
   "source": [
    "ss=[1,3,5]\n",
    "ss # pas de type de données"
   ]
  },
  {
   "cell_type": "markdown",
   "id": "bronze-incident",
   "metadata": {},
   "source": [
    "Les crochets \\[ \\] définissent une liste habituelle dans python\n",
    "\n",
    "Les dictionnaires \\{ 'clef':\\[valeurs\\] \\}\n",
    "\n",
    "Les tuples : ('a', \\[1,4,2\\] )\n",
    "\n",
    "Les sets \\{ 1,5, 3 \\} #des dictionnaires sans clefs"
   ]
  },
  {
   "cell_type": "code",
   "execution_count": 6,
   "id": "electrical-softball",
   "metadata": {},
   "outputs": [
    {
     "data": {
      "text/plain": [
       "0    1\n",
       "1    2\n",
       "2    5\n",
       "3    7\n",
       "dtype: int64"
      ]
     },
     "execution_count": 6,
     "metadata": {},
     "output_type": "execute_result"
    }
   ],
   "source": [
    "s=pandas.Series([1,2,5,7]) # Définition d'une série\n",
    "s # numéroté de 0 à 3 les 4 valeurs de la série"
   ]
  },
  {
   "cell_type": "code",
   "execution_count": 8,
   "id": "beautiful-illness",
   "metadata": {},
   "outputs": [
    {
     "data": {
      "text/plain": [
       "1"
      ]
     },
     "execution_count": 8,
     "metadata": {},
     "output_type": "execute_result"
    }
   ],
   "source": [
    "s[0]"
   ]
  },
  {
   "cell_type": "code",
   "execution_count": 12,
   "id": "acute-syndication",
   "metadata": {},
   "outputs": [
    {
     "data": {
      "text/plain": [
       "a    1\n",
       "b    2\n",
       "c    5\n",
       "d    7\n",
       "dtype: int64"
      ]
     },
     "execution_count": 12,
     "metadata": {},
     "output_type": "execute_result"
    }
   ],
   "source": [
    "# Nommons les valeurs avec .index\n",
    "s.index = ['a','b','c','d']\n",
    "s"
   ]
  },
  {
   "cell_type": "code",
   "execution_count": 16,
   "id": "sharing-junction",
   "metadata": {
    "scrolled": false
   },
   "outputs": [
    {
     "data": {
      "text/plain": [
       "pandas.core.series.Series"
      ]
     },
     "execution_count": 16,
     "metadata": {},
     "output_type": "execute_result"
    }
   ],
   "source": [
    "#dir(s)\n",
    "type(s)"
   ]
  },
  {
   "cell_type": "code",
   "execution_count": 23,
   "id": "direct-marriage",
   "metadata": {},
   "outputs": [
    {
     "name": "stdout",
     "output_type": "stream",
     "text": [
      "Moyenne : 3.75\n",
      "Ecart type : 2.753785273643051\n",
      "Médiane :  3.5\n"
     ]
    }
   ],
   "source": [
    "print(\"Moyenne :\",s.mean())\n",
    "print(\"Ecart type :\", s.std())\n",
    "print(\"Médiane : \", s.median())"
   ]
  },
  {
   "cell_type": "markdown",
   "id": "hollow-heritage",
   "metadata": {},
   "source": [
    "# Construction des DataFrame"
   ]
  },
  {
   "cell_type": "code",
   "execution_count": 24,
   "id": "compressed-departure",
   "metadata": {},
   "outputs": [
    {
     "data": {
      "text/html": [
       "<div>\n",
       "<style scoped>\n",
       "    .dataframe tbody tr th:only-of-type {\n",
       "        vertical-align: middle;\n",
       "    }\n",
       "\n",
       "    .dataframe tbody tr th {\n",
       "        vertical-align: top;\n",
       "    }\n",
       "\n",
       "    .dataframe thead th {\n",
       "        text-align: right;\n",
       "    }\n",
       "</style>\n",
       "<table border=\"1\" class=\"dataframe\">\n",
       "  <thead>\n",
       "    <tr style=\"text-align: right;\">\n",
       "      <th></th>\n",
       "      <th>age</th>\n",
       "      <th>poids</th>\n",
       "    </tr>\n",
       "  </thead>\n",
       "  <tbody>\n",
       "    <tr>\n",
       "      <th>0</th>\n",
       "      <td>20</td>\n",
       "      <td>60</td>\n",
       "    </tr>\n",
       "    <tr>\n",
       "      <th>1</th>\n",
       "      <td>30</td>\n",
       "      <td>55</td>\n",
       "    </tr>\n",
       "    <tr>\n",
       "      <th>2</th>\n",
       "      <td>40</td>\n",
       "      <td>70</td>\n",
       "    </tr>\n",
       "    <tr>\n",
       "      <th>3</th>\n",
       "      <td>50</td>\n",
       "      <td>65</td>\n",
       "    </tr>\n",
       "  </tbody>\n",
       "</table>\n",
       "</div>"
      ],
      "text/plain": [
       "   age  poids\n",
       "0   20     60\n",
       "1   30     55\n",
       "2   40     70\n",
       "3   50     65"
      ]
     },
     "execution_count": 24,
     "metadata": {},
     "output_type": "execute_result"
    }
   ],
   "source": [
    "import pandas \n",
    "df=pandas.DataFrame({'age':[20,30,40,50], 'poids':[60,55,70,65] })\n",
    "df"
   ]
  },
  {
   "cell_type": "markdown",
   "id": "ongoing-twins",
   "metadata": {},
   "source": [
    "# On peut ajouter un nommage des lignes au moment de la déclaration"
   ]
  },
  {
   "cell_type": "code",
   "execution_count": 50,
   "id": "verified-wednesday",
   "metadata": {},
   "outputs": [
    {
     "data": {
      "text/html": [
       "<div>\n",
       "<style scoped>\n",
       "    .dataframe tbody tr th:only-of-type {\n",
       "        vertical-align: middle;\n",
       "    }\n",
       "\n",
       "    .dataframe tbody tr th {\n",
       "        vertical-align: top;\n",
       "    }\n",
       "\n",
       "    .dataframe thead th {\n",
       "        text-align: right;\n",
       "    }\n",
       "</style>\n",
       "<table border=\"1\" class=\"dataframe\">\n",
       "  <thead>\n",
       "    <tr style=\"text-align: right;\">\n",
       "      <th></th>\n",
       "      <th>age</th>\n",
       "      <th>poids</th>\n",
       "    </tr>\n",
       "  </thead>\n",
       "  <tbody>\n",
       "    <tr>\n",
       "      <th>Albert</th>\n",
       "      <td>20</td>\n",
       "      <td>60</td>\n",
       "    </tr>\n",
       "    <tr>\n",
       "      <th>Berte</th>\n",
       "      <td>30</td>\n",
       "      <td>55</td>\n",
       "    </tr>\n",
       "    <tr>\n",
       "      <th>Camille</th>\n",
       "      <td>40</td>\n",
       "      <td>70</td>\n",
       "    </tr>\n",
       "    <tr>\n",
       "      <th>Dominique</th>\n",
       "      <td>50</td>\n",
       "      <td>65</td>\n",
       "    </tr>\n",
       "  </tbody>\n",
       "</table>\n",
       "</div>"
      ],
      "text/plain": [
       "           age  poids\n",
       "Albert      20     60\n",
       "Berte       30     55\n",
       "Camille     40     70\n",
       "Dominique   50     65"
      ]
     },
     "execution_count": 50,
     "metadata": {},
     "output_type": "execute_result"
    }
   ],
   "source": [
    "noms=['Albert','Berte','Camille','Dominique']\n",
    "df=pandas.DataFrame({'age':[20,30,40,50], \n",
    "                     'poids':[60,55,70,65] }, index=noms)\n",
    "df"
   ]
  },
  {
   "cell_type": "markdown",
   "id": "falling-voltage",
   "metadata": {},
   "source": [
    "## Extraction de valeurs\n",
    "On utilisera les crochets directement, ou loc, ou iloc "
   ]
  },
  {
   "cell_type": "code",
   "execution_count": 26,
   "id": "professional-croatia",
   "metadata": {},
   "outputs": [
    {
     "data": {
      "text/plain": [
       "Albert       20\n",
       "Berte        30\n",
       "Camille      40\n",
       "Dominique    50\n",
       "Name: age, dtype: int64"
      ]
     },
     "execution_count": 26,
     "metadata": {},
     "output_type": "execute_result"
    }
   ],
   "source": [
    "df['age']"
   ]
  },
  {
   "cell_type": "code",
   "execution_count": 28,
   "id": "running-bronze",
   "metadata": {},
   "outputs": [
    {
     "data": {
      "text/plain": [
       "Albert       60\n",
       "Berte        55\n",
       "Camille      70\n",
       "Dominique    65\n",
       "Name: poids, dtype: int64"
      ]
     },
     "execution_count": 28,
     "metadata": {},
     "output_type": "execute_result"
    }
   ],
   "source": [
    "# Récupérons la seconde colonne\n",
    "df['poids']"
   ]
  },
  {
   "cell_type": "code",
   "execution_count": 31,
   "id": "lovely-silly",
   "metadata": {},
   "outputs": [
    {
     "data": {
      "text/plain": [
       "Camille      40\n",
       "Dominique    50\n",
       "Name: age, dtype: int64"
      ]
     },
     "execution_count": 31,
     "metadata": {},
     "output_type": "execute_result"
    }
   ],
   "source": [
    "#poids de A et B\n",
    "df['poids'][0:2]\n",
    "#Extraire les âges des 2 derniers C et D\n",
    "df['age'][2:]"
   ]
  },
  {
   "cell_type": "code",
   "execution_count": 39,
   "id": "charming-partner",
   "metadata": {},
   "outputs": [
    {
     "data": {
      "text/plain": [
       "Albert     20\n",
       "Camille    40\n",
       "Name: age, dtype: int64"
      ]
     },
     "execution_count": 39,
     "metadata": {},
     "output_type": "execute_result"
    }
   ],
   "source": [
    "# Extraction par indice avec .iloc\n",
    "df.iloc[0:2,1]\n",
    "# Extraction par noms avec .loc\n",
    "df.loc[['Albert','Camille'],'age']"
   ]
  },
  {
   "cell_type": "markdown",
   "id": "conceptual-expert",
   "metadata": {},
   "source": [
    "Exercice : Extraire en fonction d'une condition. \n",
    "\n",
    "Extraire les poids des individus jeunes (de moins de 35 ans)"
   ]
  },
  {
   "cell_type": "code",
   "execution_count": 47,
   "id": "fantastic-steam",
   "metadata": {},
   "outputs": [
    {
     "data": {
      "text/plain": [
       "Albert    60\n",
       "Berte     55\n",
       "Name: poids, dtype: int64"
      ]
     },
     "execution_count": 47,
     "metadata": {},
     "output_type": "execute_result"
    }
   ],
   "source": [
    "df['poids'][df['age']<35]\n",
    "df.loc[df['age']<35 , 'poids'] #.loc accepte les booléens"
   ]
  },
  {
   "cell_type": "markdown",
   "id": "assumed-twist",
   "metadata": {},
   "source": [
    "Exercice :\n",
    "\n",
    "1. Extraire les poids des 3 derniers individus.\n",
    "\n",
    "2. Extraire les ages des 2 premiers individus.\n",
    "\n",
    "3. Extraire les âges des individus de plus 62kg et de moins de 35 ans"
   ]
  },
  {
   "cell_type": "code",
   "execution_count": 87,
   "id": "numeric-interaction",
   "metadata": {},
   "outputs": [
    {
     "data": {
      "text/plain": [
       "Albert    20\n",
       "Berte     30\n",
       "Name: age, dtype: int64"
      ]
     },
     "execution_count": 87,
     "metadata": {},
     "output_type": "execute_result"
    }
   ],
   "source": [
    "#1. Extraire les poids des 3 derniers individus.\n",
    "df.iloc[1:,1]\n",
    "#2. Extraire les ages des 2 premiers individus.\n",
    "df.iloc[0:2,0]\n",
    "#3. Extraire les âges des individus de plus 62kg et de moins de 35 ans\n",
    "df['age'][(df['age']<35) & (df['poids']<62)]\n",
    "df.loc[(df['age']<35) & (df['poids']<62), 'age']"
   ]
  },
  {
   "cell_type": "code",
   "execution_count": 89,
   "id": "moderate-result",
   "metadata": {},
   "outputs": [
    {
     "data": {
      "text/plain": [
       "Series([], Name: age, dtype: int64)"
      ]
     },
     "execution_count": 89,
     "metadata": {},
     "output_type": "execute_result"
    }
   ],
   "source": [
    "df['age'][(df['age']<35) & (df['poids']>62)] # pas de résultat"
   ]
  },
  {
   "cell_type": "markdown",
   "id": "athletic-terrain",
   "metadata": {},
   "source": [
    "# Iterations"
   ]
  },
  {
   "cell_type": "code",
   "execution_count": 90,
   "id": "intense-center",
   "metadata": {},
   "outputs": [
    {
     "name": "stdout",
     "output_type": "stream",
     "text": [
      "age\n",
      "poids\n"
     ]
    }
   ],
   "source": [
    "for col in df : # parcours les noms des colonnes\n",
    "    print(col)"
   ]
  },
  {
   "cell_type": "markdown",
   "id": "refined-assault",
   "metadata": {},
   "source": [
    "Ex : Ecrire une  boucle qui parcoure toutes les colonnes, et les affiche."
   ]
  },
  {
   "cell_type": "code",
   "execution_count": 96,
   "id": "french-involvement",
   "metadata": {},
   "outputs": [
    {
     "name": "stdout",
     "output_type": "stream",
     "text": [
      "Albert       20\n",
      "Berte        30\n",
      "Camille      40\n",
      "Dominique    50\n",
      "Name: age, dtype: int64\n",
      "Albert       60\n",
      "Berte        55\n",
      "Camille      70\n",
      "Dominique    65\n",
      "Name: poids, dtype: int64\n"
     ]
    }
   ],
   "source": [
    "for col in df :\n",
    "    print(df[col])"
   ]
  },
  {
   "cell_type": "code",
   "execution_count": 95,
   "id": "interior-liabilities",
   "metadata": {},
   "outputs": [
    {
     "name": "stdout",
     "output_type": "stream",
     "text": [
      "Albert       20\n",
      "Berte        30\n",
      "Camille      40\n",
      "Dominique    50\n",
      "Name: age, dtype: int64\n",
      "Albert       60\n",
      "Berte        55\n",
      "Camille      70\n",
      "Dominique    65\n",
      "Name: poids, dtype: int64\n"
     ]
    }
   ],
   "source": [
    "#Solution Evelyne\n",
    "for i in range(len(df.columns)) :\n",
    "    print(df.iloc[:,i])"
   ]
  },
  {
   "cell_type": "markdown",
   "id": "surgical-journal",
   "metadata": {},
   "source": [
    "Ex : Ecrire une (double) boucle qui parcoure toutes les colonnes, et les affiche terme par terme."
   ]
  },
  {
   "cell_type": "code",
   "execution_count": 114,
   "id": "operational-above",
   "metadata": {
    "scrolled": true
   },
   "outputs": [
    {
     "name": "stdout",
     "output_type": "stream",
     "text": [
      "20\n",
      "30\n",
      "40\n",
      "50\n",
      "60\n",
      "55\n",
      "70\n",
      "65\n"
     ]
    }
   ],
   "source": [
    "for col in df:\n",
    "    for val in df[col] :\n",
    "        print(val)"
   ]
  },
  {
   "cell_type": "code",
   "execution_count": 121,
   "id": "suspended-expansion",
   "metadata": {
    "scrolled": true
   },
   "outputs": [
    {
     "name": "stdout",
     "output_type": "stream",
     "text": [
      "i (index)= Albert  --- j (liste)= age      20\n",
      "poids    60\n",
      "Name: Albert, dtype: int64\n",
      "20\n",
      "i (index)= Berte  --- j (liste)= age      30\n",
      "poids    55\n",
      "Name: Berte, dtype: int64\n",
      "30\n",
      "i (index)= Camille  --- j (liste)= age      40\n",
      "poids    70\n",
      "Name: Camille, dtype: int64\n",
      "40\n",
      "i (index)= Dominique  --- j (liste)= age      50\n",
      "poids    65\n",
      "Name: Dominique, dtype: int64\n",
      "50\n"
     ]
    }
   ],
   "source": [
    "for i, j in df.iterrows():\n",
    "    print(\"i (index)=\",i,\" --- j (liste)=\",j)\n",
    "    print(j[0])"
   ]
  },
  {
   "cell_type": "markdown",
   "id": "signal-nirvana",
   "metadata": {},
   "source": [
    "# Données iris en python"
   ]
  },
  {
   "cell_type": "code",
   "execution_count": 4,
   "id": "radio-belief",
   "metadata": {},
   "outputs": [],
   "source": [
    "# Vérifier que scikit-learn est bien installé sinon\n",
    "#conda install scikit-learn\n",
    "from sklearn import datasets\n",
    "# utilisons load_iris()\n",
    "iris,species = datasets.load_iris(return_X_y=True, as_frame=True)"
   ]
  },
  {
   "cell_type": "code",
   "execution_count": 2,
   "id": "christian-address",
   "metadata": {},
   "outputs": [
    {
     "data": {
      "text/html": [
       "<div>\n",
       "<style scoped>\n",
       "    .dataframe tbody tr th:only-of-type {\n",
       "        vertical-align: middle;\n",
       "    }\n",
       "\n",
       "    .dataframe tbody tr th {\n",
       "        vertical-align: top;\n",
       "    }\n",
       "\n",
       "    .dataframe thead th {\n",
       "        text-align: right;\n",
       "    }\n",
       "</style>\n",
       "<table border=\"1\" class=\"dataframe\">\n",
       "  <thead>\n",
       "    <tr style=\"text-align: right;\">\n",
       "      <th></th>\n",
       "      <th>sepal length (cm)</th>\n",
       "      <th>sepal width (cm)</th>\n",
       "      <th>petal length (cm)</th>\n",
       "      <th>petal width (cm)</th>\n",
       "    </tr>\n",
       "  </thead>\n",
       "  <tbody>\n",
       "    <tr>\n",
       "      <th>0</th>\n",
       "      <td>5.1</td>\n",
       "      <td>3.5</td>\n",
       "      <td>1.4</td>\n",
       "      <td>0.2</td>\n",
       "    </tr>\n",
       "    <tr>\n",
       "      <th>1</th>\n",
       "      <td>4.9</td>\n",
       "      <td>3.0</td>\n",
       "      <td>1.4</td>\n",
       "      <td>0.2</td>\n",
       "    </tr>\n",
       "    <tr>\n",
       "      <th>2</th>\n",
       "      <td>4.7</td>\n",
       "      <td>3.2</td>\n",
       "      <td>1.3</td>\n",
       "      <td>0.2</td>\n",
       "    </tr>\n",
       "    <tr>\n",
       "      <th>3</th>\n",
       "      <td>4.6</td>\n",
       "      <td>3.1</td>\n",
       "      <td>1.5</td>\n",
       "      <td>0.2</td>\n",
       "    </tr>\n",
       "    <tr>\n",
       "      <th>4</th>\n",
       "      <td>5.0</td>\n",
       "      <td>3.6</td>\n",
       "      <td>1.4</td>\n",
       "      <td>0.2</td>\n",
       "    </tr>\n",
       "    <tr>\n",
       "      <th>...</th>\n",
       "      <td>...</td>\n",
       "      <td>...</td>\n",
       "      <td>...</td>\n",
       "      <td>...</td>\n",
       "    </tr>\n",
       "    <tr>\n",
       "      <th>145</th>\n",
       "      <td>6.7</td>\n",
       "      <td>3.0</td>\n",
       "      <td>5.2</td>\n",
       "      <td>2.3</td>\n",
       "    </tr>\n",
       "    <tr>\n",
       "      <th>146</th>\n",
       "      <td>6.3</td>\n",
       "      <td>2.5</td>\n",
       "      <td>5.0</td>\n",
       "      <td>1.9</td>\n",
       "    </tr>\n",
       "    <tr>\n",
       "      <th>147</th>\n",
       "      <td>6.5</td>\n",
       "      <td>3.0</td>\n",
       "      <td>5.2</td>\n",
       "      <td>2.0</td>\n",
       "    </tr>\n",
       "    <tr>\n",
       "      <th>148</th>\n",
       "      <td>6.2</td>\n",
       "      <td>3.4</td>\n",
       "      <td>5.4</td>\n",
       "      <td>2.3</td>\n",
       "    </tr>\n",
       "    <tr>\n",
       "      <th>149</th>\n",
       "      <td>5.9</td>\n",
       "      <td>3.0</td>\n",
       "      <td>5.1</td>\n",
       "      <td>1.8</td>\n",
       "    </tr>\n",
       "  </tbody>\n",
       "</table>\n",
       "<p>150 rows × 4 columns</p>\n",
       "</div>"
      ],
      "text/plain": [
       "     sepal length (cm)  sepal width (cm)  petal length (cm)  petal width (cm)\n",
       "0                  5.1               3.5                1.4               0.2\n",
       "1                  4.9               3.0                1.4               0.2\n",
       "2                  4.7               3.2                1.3               0.2\n",
       "3                  4.6               3.1                1.5               0.2\n",
       "4                  5.0               3.6                1.4               0.2\n",
       "..                 ...               ...                ...               ...\n",
       "145                6.7               3.0                5.2               2.3\n",
       "146                6.3               2.5                5.0               1.9\n",
       "147                6.5               3.0                5.2               2.0\n",
       "148                6.2               3.4                5.4               2.3\n",
       "149                5.9               3.0                5.1               1.8\n",
       "\n",
       "[150 rows x 4 columns]"
      ]
     },
     "execution_count": 2,
     "metadata": {},
     "output_type": "execute_result"
    }
   ],
   "source": [
    "iris"
   ]
  },
  {
   "cell_type": "code",
   "execution_count": 6,
   "id": "french-break",
   "metadata": {},
   "outputs": [],
   "source": [
    "# renommage des colonnes\n",
    "iris.columns=['SL', 'SW', 'PL','PW']"
   ]
  },
  {
   "cell_type": "code",
   "execution_count": 8,
   "id": "frank-masters",
   "metadata": {},
   "outputs": [
    {
     "data": {
      "text/plain": [
       "pandas.core.frame.DataFrame"
      ]
     },
     "execution_count": 8,
     "metadata": {},
     "output_type": "execute_result"
    }
   ],
   "source": [
    "type(iris)"
   ]
  },
  {
   "cell_type": "code",
   "execution_count": 12,
   "id": "executive-dryer",
   "metadata": {},
   "outputs": [
    {
     "data": {
      "text/plain": [
       "<AxesSubplot:xlabel='SL', ylabel='SW'>"
      ]
     },
     "execution_count": 12,
     "metadata": {},
     "output_type": "execute_result"
    },
    {
     "data": {
      "image/png": "[encoded data removed]",
      "text/plain": [
       "<Figure size 432x288 with 1 Axes>"
      ]
     },
     "metadata": {
      "needs_background": "light"
     },
     "output_type": "display_data"
    }
   ],
   "source": [
    "# graphique de dispersion directement à partir de pandas\n",
    "iris.plot.scatter('SL','SW')"
   ]
  },
  {
   "cell_type": "code",
   "execution_count": 17,
   "id": "requested-marine",
   "metadata": {},
   "outputs": [
    {
     "data": {
      "text/plain": [
       "<AxesSubplot:xlabel='SL'>"
      ]
     },
     "execution_count": 17,
     "metadata": {},
     "output_type": "execute_result"
    },
    {
     "data": {
      "image/png": "[encoded data removed]",
      "text/plain": [
       "<Figure size 432x288 with 1 Axes>"
      ]
     },
     "metadata": {
      "needs_background": "light"
     },
     "output_type": "display_data"
    }
   ],
   "source": [
    "# graphique de corrélation directement à partir de pandas\n",
    "iris.plot('SL','SW',color='red')"
   ]
  },
  {
   "cell_type": "markdown",
   "id": "answering-cooper",
   "metadata": {},
   "source": [
    "# Matplotlib"
   ]
  },
  {
   "cell_type": "code",
   "execution_count": 19,
   "id": "detailed-earth",
   "metadata": {},
   "outputs": [],
   "source": [
    "from matplotlib import pyplot as plt"
   ]
  },
  {
   "cell_type": "code",
   "execution_count": 28,
   "id": "bronze-pharmacy",
   "metadata": {},
   "outputs": [
    {
     "data": {
      "text/plain": [
       "Text(0, 0.5, 'Sepal Width')"
      ]
     },
     "execution_count": 28,
     "metadata": {},
     "output_type": "execute_result"
    },
    {
     "data": {
      "image/png": "[encoded data removed]",
      "text/plain": [
       "<Figure size 432x288 with 1 Axes>"
      ]
     },
     "metadata": {
      "needs_background": "light"
     },
     "output_type": "display_data"
    }
   ],
   "source": [
    "plt.plot('SL','SW','b-' , data=iris)\n",
    "plt.xlabel('Sepal Length')\n",
    "plt.ylabel('Sepal Width')"
   ]
  },
  {
   "cell_type": "markdown",
   "id": "presidential-techno",
   "metadata": {},
   "source": [
    "Ex : 1. représenter les pétales dans un diagramme de dispersion.\n",
    "\n",
    "2. représenter la matrice des scatter plot (scatter_matrix() )\n"
   ]
  },
  {
   "cell_type": "code",
   "execution_count": 44,
   "id": "endless-western",
   "metadata": {},
   "outputs": [
    {
     "data": {
      "text/plain": [
       "'C:\\\\Users\\\\tech\\\\Desktop\\\\Univ\\\\LP\\\\2020-2021\\\\Python'"
      ]
     },
     "execution_count": 44,
     "metadata": {},
     "output_type": "execute_result"
    }
   ],
   "source": [
    "import os\n",
    "os.getcwd() # donne le répertoire courant"
   ]
  },
  {
   "cell_type": "code",
   "execution_count": 45,
   "id": "multiple-retro",
   "metadata": {},
   "outputs": [
    {
     "data": {
      "image/png": "[encoded data removed]",
      "text/plain": [
       "<Figure size 432x288 with 1 Axes>"
      ]
     },
     "metadata": {
      "needs_background": "light"
     },
     "output_type": "display_data"
    }
   ],
   "source": [
    "plt.plot('PL', 'PW', 'go', data=iris)\n",
    "plt.xlabel('PL')\n",
    "plt.ylabel('PW')\n",
    "plt.savefig('iris.pdf')"
   ]
  },
  {
   "cell_type": "code",
   "execution_count": 46,
   "id": "fifty-cause",
   "metadata": {},
   "outputs": [
    {
     "data": {
      "text/plain": [
       "array([[<AxesSubplot:xlabel='SL', ylabel='SL'>,\n",
       "        <AxesSubplot:xlabel='SW', ylabel='SL'>,\n",
       "        <AxesSubplot:xlabel='PL', ylabel='SL'>,\n",
       "        <AxesSubplot:xlabel='PW', ylabel='SL'>],\n",
       "       [<AxesSubplot:xlabel='SL', ylabel='SW'>,\n",
       "        <AxesSubplot:xlabel='SW', ylabel='SW'>,\n",
       "        <AxesSubplot:xlabel='PL', ylabel='SW'>,\n",
       "        <AxesSubplot:xlabel='PW', ylabel='SW'>],\n",
       "       [<AxesSubplot:xlabel='SL', ylabel='PL'>,\n",
       "        <AxesSubplot:xlabel='SW', ylabel='PL'>,\n",
       "        <AxesSubplot:xlabel='PL', ylabel='PL'>,\n",
       "        <AxesSubplot:xlabel='PW', ylabel='PL'>],\n",
       "       [<AxesSubplot:xlabel='SL', ylabel='PW'>,\n",
       "        <AxesSubplot:xlabel='SW', ylabel='PW'>,\n",
       "        <AxesSubplot:xlabel='PL', ylabel='PW'>,\n",
       "        <AxesSubplot:xlabel='PW', ylabel='PW'>]], dtype=object)"
      ]
     },
     "execution_count": 46,
     "metadata": {},
     "output_type": "execute_result"
    },
    {
     "data": {
      "image/png": "[encoded data removed]",
      "text/plain": [
       "<Figure size 432x288 with 16 Axes>"
      ]
     },
     "metadata": {
      "needs_background": "light"
     },
     "output_type": "display_data"
    }
   ],
   "source": [
    "import pandas\n",
    "pandas.plotting.scatter_matrix(iris, alpha=0.7)"
   ]
  },
  {
   "cell_type": "markdown",
   "id": "given-quarterly",
   "metadata": {},
   "source": [
    "# Charger et exporter des données"
   ]
  },
  {
   "cell_type": "code",
   "execution_count": 55,
   "id": "still-contrast",
   "metadata": {},
   "outputs": [],
   "source": [
    "# Créer un fichier csv avec votre tableur préféré\n",
    "# ou bien exporter df avec \n",
    "df.to_csv('df.pandas.csv')\n",
    "# le charger dans python avec \n",
    "#pandas pandas.read_csv()\n",
    "df2 = pandas.read_csv('df.pandas.csv',index_col=0 )"
   ]
  },
  {
   "cell_type": "code",
   "execution_count": 56,
   "id": "protected-hello",
   "metadata": {},
   "outputs": [
    {
     "data": {
      "text/html": [
       "<div>\n",
       "<style scoped>\n",
       "    .dataframe tbody tr th:only-of-type {\n",
       "        vertical-align: middle;\n",
       "    }\n",
       "\n",
       "    .dataframe tbody tr th {\n",
       "        vertical-align: top;\n",
       "    }\n",
       "\n",
       "    .dataframe thead th {\n",
       "        text-align: right;\n",
       "    }\n",
       "</style>\n",
       "<table border=\"1\" class=\"dataframe\">\n",
       "  <thead>\n",
       "    <tr style=\"text-align: right;\">\n",
       "      <th></th>\n",
       "      <th>age</th>\n",
       "      <th>poids</th>\n",
       "    </tr>\n",
       "  </thead>\n",
       "  <tbody>\n",
       "    <tr>\n",
       "      <th>Albert</th>\n",
       "      <td>20</td>\n",
       "      <td>60</td>\n",
       "    </tr>\n",
       "    <tr>\n",
       "      <th>Berte</th>\n",
       "      <td>30</td>\n",
       "      <td>55</td>\n",
       "    </tr>\n",
       "    <tr>\n",
       "      <th>Camille</th>\n",
       "      <td>40</td>\n",
       "      <td>70</td>\n",
       "    </tr>\n",
       "    <tr>\n",
       "      <th>Dominique</th>\n",
       "      <td>50</td>\n",
       "      <td>65</td>\n",
       "    </tr>\n",
       "  </tbody>\n",
       "</table>\n",
       "</div>"
      ],
      "text/plain": [
       "           age  poids\n",
       "Albert      20     60\n",
       "Berte       30     55\n",
       "Camille     40     70\n",
       "Dominique   50     65"
      ]
     },
     "execution_count": 56,
     "metadata": {},
     "output_type": "execute_result"
    }
   ],
   "source": [
    "df2"
   ]
  },
  {
   "cell_type": "markdown",
   "id": "shaped-patch",
   "metadata": {},
   "source": [
    "Ex : utiliser pandas.read_excel() pour charger les données d'un excel"
   ]
  },
  {
   "cell_type": "code",
   "execution_count": 69,
   "id": "arbitrary-ozone",
   "metadata": {},
   "outputs": [
    {
     "ename": "ImportError",
     "evalue": "Missing optional dependency 'xlrd'. Install xlrd >= 1.0.0 for Excel support Use pip or conda to install xlrd.",
     "output_type": "error",
     "traceback": [
      "\u001b[1;31m---------------------------------------------------------------------------\u001b[0m",
      "\u001b[1;31mImportError\u001b[0m                               Traceback (most recent call last)",
      "\u001b[1;32m<ipython-input-69-e4fcedec3089>\u001b[0m in \u001b[0;36m<module>\u001b[1;34m\u001b[0m\n\u001b[0;32m      2\u001b[0m \u001b[1;31m#df.to_excel('dfpandas.xlsx')\u001b[0m\u001b[1;33m\u001b[0m\u001b[1;33m\u001b[0m\u001b[1;33m\u001b[0m\u001b[0m\n\u001b[0;32m      3\u001b[0m \u001b[1;33m\u001b[0m\u001b[0m\n\u001b[1;32m----> 4\u001b[1;33m \u001b[0mpandas\u001b[0m\u001b[1;33m.\u001b[0m\u001b[0mread_excel\u001b[0m\u001b[1;33m(\u001b[0m\u001b[1;34m'df.pandas.xlsx'\u001b[0m\u001b[1;33m)\u001b[0m\u001b[1;33m\u001b[0m\u001b[1;33m\u001b[0m\u001b[0m\n\u001b[0m",
      "\u001b[1;32m~\\.conda\\envs\\LP2021\\lib\\site-packages\\pandas\\util\\_decorators.py\u001b[0m in \u001b[0;36mwrapper\u001b[1;34m(*args, **kwargs)\u001b[0m\n\u001b[0;32m    297\u001b[0m                 )\n\u001b[0;32m    298\u001b[0m                 \u001b[0mwarnings\u001b[0m\u001b[1;33m.\u001b[0m\u001b[0mwarn\u001b[0m\u001b[1;33m(\u001b[0m\u001b[0mmsg\u001b[0m\u001b[1;33m,\u001b[0m \u001b[0mFutureWarning\u001b[0m\u001b[1;33m,\u001b[0m \u001b[0mstacklevel\u001b[0m\u001b[1;33m=\u001b[0m\u001b[0mstacklevel\u001b[0m\u001b[1;33m)\u001b[0m\u001b[1;33m\u001b[0m\u001b[1;33m\u001b[0m\u001b[0m\n\u001b[1;32m--> 299\u001b[1;33m             \u001b[1;32mreturn\u001b[0m \u001b[0mfunc\u001b[0m\u001b[1;33m(\u001b[0m\u001b[1;33m*\u001b[0m\u001b[0margs\u001b[0m\u001b[1;33m,\u001b[0m \u001b[1;33m**\u001b[0m\u001b[0mkwargs\u001b[0m\u001b[1;33m)\u001b[0m\u001b[1;33m\u001b[0m\u001b[1;33m\u001b[0m\u001b[0m\n\u001b[0m\u001b[0;32m    300\u001b[0m \u001b[1;33m\u001b[0m\u001b[0m\n\u001b[0;32m    301\u001b[0m         \u001b[1;32mreturn\u001b[0m \u001b[0mwrapper\u001b[0m\u001b[1;33m\u001b[0m\u001b[1;33m\u001b[0m\u001b[0m\n",
      "\u001b[1;32m~\\.conda\\envs\\LP2021\\lib\\site-packages\\pandas\\io\\excel\\_base.py\u001b[0m in \u001b[0;36mread_excel\u001b[1;34m(io, sheet_name, header, names, index_col, usecols, squeeze, dtype, engine, converters, true_values, false_values, skiprows, nrows, na_values, keep_default_na, na_filter, verbose, parse_dates, date_parser, thousands, comment, skipfooter, convert_float, mangle_dupe_cols, storage_options)\u001b[0m\n\u001b[0;32m    334\u001b[0m     \u001b[1;32mif\u001b[0m \u001b[1;32mnot\u001b[0m \u001b[0misinstance\u001b[0m\u001b[1;33m(\u001b[0m\u001b[0mio\u001b[0m\u001b[1;33m,\u001b[0m \u001b[0mExcelFile\u001b[0m\u001b[1;33m)\u001b[0m\u001b[1;33m:\u001b[0m\u001b[1;33m\u001b[0m\u001b[1;33m\u001b[0m\u001b[0m\n\u001b[0;32m    335\u001b[0m         \u001b[0mshould_close\u001b[0m \u001b[1;33m=\u001b[0m \u001b[1;32mTrue\u001b[0m\u001b[1;33m\u001b[0m\u001b[1;33m\u001b[0m\u001b[0m\n\u001b[1;32m--> 336\u001b[1;33m         \u001b[0mio\u001b[0m \u001b[1;33m=\u001b[0m \u001b[0mExcelFile\u001b[0m\u001b[1;33m(\u001b[0m\u001b[0mio\u001b[0m\u001b[1;33m,\u001b[0m \u001b[0mstorage_options\u001b[0m\u001b[1;33m=\u001b[0m\u001b[0mstorage_options\u001b[0m\u001b[1;33m,\u001b[0m \u001b[0mengine\u001b[0m\u001b[1;33m=\u001b[0m\u001b[0mengine\u001b[0m\u001b[1;33m)\u001b[0m\u001b[1;33m\u001b[0m\u001b[1;33m\u001b[0m\u001b[0m\n\u001b[0m\u001b[0;32m    337\u001b[0m     \u001b[1;32melif\u001b[0m \u001b[0mengine\u001b[0m \u001b[1;32mand\u001b[0m \u001b[0mengine\u001b[0m \u001b[1;33m!=\u001b[0m \u001b[0mio\u001b[0m\u001b[1;33m.\u001b[0m\u001b[0mengine\u001b[0m\u001b[1;33m:\u001b[0m\u001b[1;33m\u001b[0m\u001b[1;33m\u001b[0m\u001b[0m\n\u001b[0;32m    338\u001b[0m         raise ValueError(\n",
      "\u001b[1;32m~\\.conda\\envs\\LP2021\\lib\\site-packages\\pandas\\io\\excel\\_base.py\u001b[0m in \u001b[0;36m__init__\u001b[1;34m(self, path_or_buffer, engine, storage_options)\u001b[0m\n\u001b[0;32m   1129\u001b[0m         \u001b[0mself\u001b[0m\u001b[1;33m.\u001b[0m\u001b[0mstorage_options\u001b[0m \u001b[1;33m=\u001b[0m \u001b[0mstorage_options\u001b[0m\u001b[1;33m\u001b[0m\u001b[1;33m\u001b[0m\u001b[0m\n\u001b[0;32m   1130\u001b[0m \u001b[1;33m\u001b[0m\u001b[0m\n\u001b[1;32m-> 1131\u001b[1;33m         \u001b[0mself\u001b[0m\u001b[1;33m.\u001b[0m\u001b[0m_reader\u001b[0m \u001b[1;33m=\u001b[0m \u001b[0mself\u001b[0m\u001b[1;33m.\u001b[0m\u001b[0m_engines\u001b[0m\u001b[1;33m[\u001b[0m\u001b[0mengine\u001b[0m\u001b[1;33m]\u001b[0m\u001b[1;33m(\u001b[0m\u001b[0mself\u001b[0m\u001b[1;33m.\u001b[0m\u001b[0m_io\u001b[0m\u001b[1;33m,\u001b[0m \u001b[0mstorage_options\u001b[0m\u001b[1;33m=\u001b[0m\u001b[0mstorage_options\u001b[0m\u001b[1;33m)\u001b[0m\u001b[1;33m\u001b[0m\u001b[1;33m\u001b[0m\u001b[0m\n\u001b[0m\u001b[0;32m   1132\u001b[0m \u001b[1;33m\u001b[0m\u001b[0m\n\u001b[0;32m   1133\u001b[0m     \u001b[1;32mdef\u001b[0m \u001b[0m__fspath__\u001b[0m\u001b[1;33m(\u001b[0m\u001b[0mself\u001b[0m\u001b[1;33m)\u001b[0m\u001b[1;33m:\u001b[0m\u001b[1;33m\u001b[0m\u001b[1;33m\u001b[0m\u001b[0m\n",
      "\u001b[1;32m~\\.conda\\envs\\LP2021\\lib\\site-packages\\pandas\\io\\excel\\_xlrd.py\u001b[0m in \u001b[0;36m__init__\u001b[1;34m(self, filepath_or_buffer, storage_options)\u001b[0m\n\u001b[0;32m     22\u001b[0m         \"\"\"\n\u001b[0;32m     23\u001b[0m         \u001b[0merr_msg\u001b[0m \u001b[1;33m=\u001b[0m \u001b[1;34m\"Install xlrd >= 1.0.0 for Excel support\"\u001b[0m\u001b[1;33m\u001b[0m\u001b[1;33m\u001b[0m\u001b[0m\n\u001b[1;32m---> 24\u001b[1;33m         \u001b[0mimport_optional_dependency\u001b[0m\u001b[1;33m(\u001b[0m\u001b[1;34m\"xlrd\"\u001b[0m\u001b[1;33m,\u001b[0m \u001b[0mextra\u001b[0m\u001b[1;33m=\u001b[0m\u001b[0merr_msg\u001b[0m\u001b[1;33m)\u001b[0m\u001b[1;33m\u001b[0m\u001b[1;33m\u001b[0m\u001b[0m\n\u001b[0m\u001b[0;32m     25\u001b[0m         \u001b[0msuper\u001b[0m\u001b[1;33m(\u001b[0m\u001b[1;33m)\u001b[0m\u001b[1;33m.\u001b[0m\u001b[0m__init__\u001b[0m\u001b[1;33m(\u001b[0m\u001b[0mfilepath_or_buffer\u001b[0m\u001b[1;33m,\u001b[0m \u001b[0mstorage_options\u001b[0m\u001b[1;33m=\u001b[0m\u001b[0mstorage_options\u001b[0m\u001b[1;33m)\u001b[0m\u001b[1;33m\u001b[0m\u001b[1;33m\u001b[0m\u001b[0m\n\u001b[0;32m     26\u001b[0m \u001b[1;33m\u001b[0m\u001b[0m\n",
      "\u001b[1;32m~\\.conda\\envs\\LP2021\\lib\\site-packages\\pandas\\compat\\_optional.py\u001b[0m in \u001b[0;36mimport_optional_dependency\u001b[1;34m(name, extra, raise_on_missing, on_version)\u001b[0m\n\u001b[0;32m    107\u001b[0m     \u001b[1;32mexcept\u001b[0m \u001b[0mImportError\u001b[0m\u001b[1;33m:\u001b[0m\u001b[1;33m\u001b[0m\u001b[1;33m\u001b[0m\u001b[0m\n\u001b[0;32m    108\u001b[0m         \u001b[1;32mif\u001b[0m \u001b[0mraise_on_missing\u001b[0m\u001b[1;33m:\u001b[0m\u001b[1;33m\u001b[0m\u001b[1;33m\u001b[0m\u001b[0m\n\u001b[1;32m--> 109\u001b[1;33m             \u001b[1;32mraise\u001b[0m \u001b[0mImportError\u001b[0m\u001b[1;33m(\u001b[0m\u001b[0mmsg\u001b[0m\u001b[1;33m)\u001b[0m \u001b[1;32mfrom\u001b[0m \u001b[1;32mNone\u001b[0m\u001b[1;33m\u001b[0m\u001b[1;33m\u001b[0m\u001b[0m\n\u001b[0m\u001b[0;32m    110\u001b[0m         \u001b[1;32melse\u001b[0m\u001b[1;33m:\u001b[0m\u001b[1;33m\u001b[0m\u001b[1;33m\u001b[0m\u001b[0m\n\u001b[0;32m    111\u001b[0m             \u001b[1;32mreturn\u001b[0m \u001b[1;32mNone\u001b[0m\u001b[1;33m\u001b[0m\u001b[1;33m\u001b[0m\u001b[0m\n",
      "\u001b[1;31mImportError\u001b[0m: Missing optional dependency 'xlrd'. Install xlrd >= 1.0.0 for Excel support Use pip or conda to install xlrd."
     ]
    }
   ],
   "source": [
    "# import openpyxl #à installer dans conda!\n",
    "#df.to_excel('dfpandas.xlsx')\n",
    "\n",
    "pandas.read_excel('df.pandas.xlsx')"
   ]
  },
  {
   "cell_type": "code",
   "execution_count": null,
   "id": "classified-speech",
   "metadata": {},
   "outputs": [],
   "source": []
  }
 ],
 "metadata": {
  "kernelspec": {
   "display_name": "Python 3",
   "language": "python",
   "name": "python3"
  },
  "language_info": {
   "codemirror_mode": {
    "name": "ipython",
    "version": 3
   },
   "file_extension": ".py",
   "mimetype": "text/x-python",
   "name": "python",
   "nbconvert_exporter": "python",
   "pygments_lexer": "ipython3",
   "version": "3.9.2"
  }
 },
 "nbformat": 4,
 "nbformat_minor": 5
}
