{
 "cells": [
  {
   "cell_type": "markdown",
   "id": "painted-contract",
   "metadata": {},
   "source": [
    "## Lab session: Introduction to supervised learning\n",
    "### 1. Utilisation de ScikitLearn avec Python 3"
   ]
  },
  {
   "cell_type": "code",
   "execution_count": 1,
   "id": "viral-configuration",
   "metadata": {},
   "outputs": [],
   "source": [
    "import numpy as np\n",
    "import matplotlib\n",
    "import matplotlib.pyplot as plt"
   ]
  },
  {
   "cell_type": "markdown",
   "id": "vulnerable-nelson",
   "metadata": {},
   "source": [
    "## 2. Expériences de reconnaissance de chiffres manuscrits\n",
    "### 2.1 Chargement de la base de données MNIST\n",
    "Pour nos premières expériences, nous allons utiliser la base de données MNIST qui comporte les descriptions de chiffres manuscrits en format 28 x 28, soit 784 pixels, et les étiquettes associées. La base contient en tout 70 000 exemples, c’est-à-dire 7000 exemples de chaque chiffre.\n",
    "\n",
    "Nous chargeons d’abord la base, puis nous examinons l’un des exemples qu’elle contient."
   ]
  },
  {
   "cell_type": "code",
   "execution_count": 2,
   "id": "institutional-original",
   "metadata": {},
   "outputs": [],
   "source": [
    "from sklearn.datasets import fetch_openml\n",
    "mnist = fetch_openml('mnist_784', cache=False)"
   ]
  },
  {
   "cell_type": "code",
   "execution_count": 5,
   "id": "exceptional-discipline",
   "metadata": {},
   "outputs": [],
   "source": [
    "#mnist"
   ]
  },
  {
   "cell_type": "code",
   "execution_count": 6,
   "id": "threaded-defendant",
   "metadata": {},
   "outputs": [],
   "source": [
    "X, y = mnist[\"data\"], mnist [\"target\"]\n",
    "X=X.to_numpy()\n",
    "y=y.to_numpy()"
   ]
  },
  {
   "cell_type": "code",
   "execution_count": 7,
   "id": "tamil-stuff",
   "metadata": {},
   "outputs": [
    {
     "data": {
      "text/plain": [
       "(70000,)"
      ]
     },
     "execution_count": 7,
     "metadata": {},
     "output_type": "execute_result"
    }
   ],
   "source": [
    "X.shape"
   ]
  },
  {
   "cell_type": "code",
   "execution_count": 8,
   "id": "revised-retrieval",
   "metadata": {},
   "outputs": [
    {
     "data": {
      "text/plain": [
       "(70000,)"
      ]
     },
     "execution_count": 8,
     "metadata": {},
     "output_type": "execute_result"
    }
   ],
   "source": [
    "y.shape"
   ]
  },
  {
   "cell_type": "code",
   "execution_count": 10,
   "id": "verified-upset",
   "metadata": {},
   "outputs": [
    {
     "data": {
      "text/plain": [
       "<matplotlib.image.AxesImage at 0x210e8248550>"
      ]
     },
     "execution_count": 10,
     "metadata": {},
     "output_type": "execute_result"
    },
    {
     "data": {
      "image/png": "[encoded data removed]",
      "text/plain": [
       "<Figure size 432x288 with 1 Axes>"
      ]
     },
     "metadata": {
      "needs_background": "light"
     },
     "output_type": "display_data"
    }
   ],
   "source": [
    "%matplotlib inline\n",
    "import matplotlib\n",
    "import matplotlib.pyplot as plt\n",
    "some_digit = X[36000]\n",
    "some_digit_image = some_digit.reshape(28,28)\n",
    "plt.imshow(some_digit_image,cmap = matplotlib.cm.binary,interpolation = \"nearest\")"
   ]
  },
  {
   "cell_type": "markdown",
   "id": "legendary-charm",
   "metadata": {},
   "source": [
    "## 2.2 Premier apprentissage\n",
    "Nous sélectionnons 60 000 exemples pour l’apprentissage et 10 000 pour le test (la base MNIST est organisée de cette manière).\n",
    "\n",
    "Pour les tests à venir, il est important de garantir que les exemples sont aléatoirement répartis dans la base d’apprentissage afin que tout tirage d’un sous-ensemble comporte à peu près la même proportion de chaque chiffre."
   ]
  },
  {
   "cell_type": "code",
   "execution_count": 14,
   "id": "competitive-income",
   "metadata": {},
   "outputs": [],
   "source": [
    "X_train , X_test , y_train , y_test = X[:60000] , X[10000:] , y [:60000] , y [10000:]"
   ]
  },
  {
   "cell_type": "code",
   "execution_count": 15,
   "id": "weighted-african",
   "metadata": {},
   "outputs": [],
   "source": [
    "shuffle_index = np.random.permutation(60000)"
   ]
  },
  {
   "cell_type": "code",
   "execution_count": 16,
   "id": "criminal-cambridge",
   "metadata": {},
   "outputs": [],
   "source": [
    "X_train , y_train = X_train[shuffle_index], y_train[shuffle_index]"
   ]
  },
  {
   "cell_type": "markdown",
   "id": "western-advertiser",
   "metadata": {},
   "source": [
    "Nous allons d’abord apprendre des classifieurs binaires, à deux classes. Ici, nous choisissons d’entraîner un classifieur à apprendre à reconnaître les 5 contre tous les autres chiffres."
   ]
  },
  {
   "cell_type": "code",
   "execution_count": 19,
   "id": "supreme-weather",
   "metadata": {},
   "outputs": [],
   "source": [
    "y_train = np.array(list(map(int, y_train)))\n",
    "y_test = np.array(list(map(int,y_test)))"
   ]
  },
  {
   "cell_type": "code",
   "execution_count": 20,
   "id": "complex-coordinate",
   "metadata": {},
   "outputs": [],
   "source": [
    "y_train_5 = (y_train == 5)\n",
    "y_test_5 = (y_test == 5)"
   ]
  },
  {
   "cell_type": "code",
   "execution_count": 21,
   "id": "charged-projection",
   "metadata": {},
   "outputs": [
    {
     "data": {
      "text/plain": [
       "5421"
      ]
     },
     "execution_count": 21,
     "metadata": {},
     "output_type": "execute_result"
    }
   ],
   "source": [
    "sum(y_train_5)"
   ]
  },
  {
   "cell_type": "markdown",
   "id": "addressed-converter",
   "metadata": {},
   "source": [
    "Nous avons chargé un classifieur linéaire binaire avec descente de gradient stochastique.\n",
    "\n",
    "Ici, par défaut, l’apprentissage s’arrête après 1000 itérations maximum ou bien quand la progression de l’erreur d’apprentissage d’une itération à la suivante vaut moins que  10−3 . Voir l’url : https://scikit-learn.org/stable/modules/generated/sklearn.linear_model.SGDClassifier.html pour les détails du paramétrage de cette fonction.\n",
    "\n",
    "Nous entrainons ensuite le classifieur sur les données d’apprentissage, et nous le testons sur l’exemple de 9 déjà vu (some_digit)."
   ]
  },
  {
   "cell_type": "code",
   "execution_count": 23,
   "id": "sharing-commonwealth",
   "metadata": {},
   "outputs": [
    {
     "data": {
      "text/plain": [
       "SGDClassifier(random_state=42)"
      ]
     },
     "execution_count": 23,
     "metadata": {},
     "output_type": "execute_result"
    }
   ],
   "source": [
    "from sklearn.linear_model import SGDClassifier\n",
    "\n",
    "sgd_clf = SGDClassifier(random_state=42)\n",
    "sgd_clf.fit(X_train, y_train_5)"
   ]
  },
  {
   "cell_type": "markdown",
   "id": "measured-waters",
   "metadata": {},
   "source": [
    "La méthode la plus simple est de calculer l'accuracy du modèle"
   ]
  },
  {
   "cell_type": "code",
   "execution_count": 24,
   "id": "horizontal-columbia",
   "metadata": {},
   "outputs": [
    {
     "data": {
      "text/plain": [
       "array([False])"
      ]
     },
     "execution_count": 24,
     "metadata": {},
     "output_type": "execute_result"
    }
   ],
   "source": [
    "sgd_clf.predict([some_digit])"
   ]
  },
  {
   "cell_type": "markdown",
   "id": "meaning-halifax",
   "metadata": {},
   "source": [
    "Une méthode courante d’évaluation d’un apprentissage supervisé de concept est la validation croisée. Ici, nous utilisons une validation croisée à trois plis. Une valeur courante est 10 plis. La fonction cross_val_score calcule les erreurs associées à chaque pli. Vous pouvez ensuite en calculer la moyenne."
   ]
  },
  {
   "cell_type": "code",
   "execution_count": 26,
   "id": "banner-maldives",
   "metadata": {},
   "outputs": [
    {
     "data": {
      "text/plain": [
       "array([0.95015, 0.80895, 0.96435])"
      ]
     },
     "execution_count": 26,
     "metadata": {},
     "output_type": "execute_result"
    }
   ],
   "source": [
    "from sklearn.model_selection import cross_val_score\n",
    "\n",
    "cross_val_score(sgd_clf, X_train, y_train_5, cv=3, scoring = \"accuracy\")"
   ]
  },
  {
   "cell_type": "markdown",
   "id": "thrown-separation",
   "metadata": {},
   "source": [
    "Ces taux de bonne prédiction paraissent tout à fait impressionnants pour un apprentissage par une méthode linéaire.\n",
    "\n",
    "*Mais que ferait un classifieur qui se contenterait de toujours prédire not 5 ?*"
   ]
  },
  {
   "cell_type": "code",
   "execution_count": 27,
   "id": "going-berry",
   "metadata": {},
   "outputs": [],
   "source": [
    "from sklearn.base import BaseEstimator\n",
    "\n",
    "class Never5Classifier(BaseEstimator):\n",
    "    def fit(self, X, y = None):\n",
    "        pass\n",
    "    \n",
    "    def predict(self,X):\n",
    "        return np.zeros((len(X),1), dtype=bool)"
   ]
  },
  {
   "cell_type": "code",
   "execution_count": 28,
   "id": "macro-ethics",
   "metadata": {},
   "outputs": [
    {
     "data": {
      "text/plain": [
       "array([0.90955, 0.9105 , 0.9089 ])"
      ]
     },
     "execution_count": 28,
     "metadata": {},
     "output_type": "execute_result"
    }
   ],
   "source": [
    "never_5_clf = Never5Classifier()\n",
    "y_train_pred = cross_val_score(never_5_clf, X_train, y_train_5, cv=3, scoring = \"accuracy\") #cross validation\n",
    "y_train_pred"
   ]
  },
  {
   "cell_type": "markdown",
   "id": "heated-albuquerque",
   "metadata": {},
   "source": [
    "*Pas* très étonnant. Mais cela relativise la performance apparemment excellente du classifieur\n",
    "linéaire !"
   ]
  },
  {
   "cell_type": "markdown",
   "id": "continental-bridge",
   "metadata": {},
   "source": [
    "### Confusion Matrix"
   ]
  },
  {
   "cell_type": "code",
   "execution_count": 29,
   "id": "peaceful-objective",
   "metadata": {},
   "outputs": [],
   "source": [
    "from sklearn.model_selection import cross_val_predict\n",
    "y_train_pred = cross_val_predict(sgd_clf, X_train, y_train_5, cv=3)"
   ]
  },
  {
   "cell_type": "code",
   "execution_count": 30,
   "id": "yellow-driver",
   "metadata": {},
   "outputs": [
    {
     "data": {
      "text/plain": [
       "array([[49728,  4851],\n",
       "       [  680,  4741]], dtype=int64)"
      ]
     },
     "execution_count": 30,
     "metadata": {},
     "output_type": "execute_result"
    }
   ],
   "source": [
    "from sklearn.metrics import confusion_matrix\n",
    "cm = confusion_matrix(y_train_5, y_train_pred)\n",
    "cm"
   ]
  },
  {
   "cell_type": "markdown",
   "id": "overall-invalid",
   "metadata": {},
   "source": [
    "Puis celle que l’on obtiendrait avec un classifieur parfait (qui prédit la classe donnée par la base\n",
    "d’exemples)."
   ]
  },
  {
   "cell_type": "code",
   "execution_count": 31,
   "id": "sitting-journey",
   "metadata": {},
   "outputs": [
    {
     "data": {
      "text/plain": [
       "array([[54579,     0],\n",
       "       [    0,  5421]], dtype=int64)"
      ]
     },
     "execution_count": 31,
     "metadata": {},
     "output_type": "execute_result"
    }
   ],
   "source": [
    "y_train_perfect_predictions = y_train_5\n",
    "confusion_matrix(y_train_5, y_train_perfect_predictions)"
   ]
  },
  {
   "cell_type": "markdown",
   "id": "wrapped-costa",
   "metadata": {},
   "source": [
    "### Précision et rappel"
   ]
  },
  {
   "cell_type": "code",
   "execution_count": 33,
   "id": "million-essay",
   "metadata": {},
   "outputs": [],
   "source": [
    "from sklearn.metrics import precision_score, recall_score"
   ]
  },
  {
   "cell_type": "code",
   "execution_count": 34,
   "id": "hungry-insurance",
   "metadata": {},
   "outputs": [
    {
     "data": {
      "text/plain": [
       "0.49426605504587157"
      ]
     },
     "execution_count": 34,
     "metadata": {},
     "output_type": "execute_result"
    }
   ],
   "source": [
    "precision_score(y_train_5, y_train_pred)"
   ]
  },
  {
   "cell_type": "code",
   "execution_count": 35,
   "id": "catholic-washer",
   "metadata": {},
   "outputs": [
    {
     "data": {
      "text/plain": [
       "0.8745618889503781"
      ]
     },
     "execution_count": 35,
     "metadata": {},
     "output_type": "execute_result"
    }
   ],
   "source": [
    "recall_score(y_train_5, y_train_pred)"
   ]
  },
  {
   "cell_type": "code",
   "execution_count": 36,
   "id": "previous-decade",
   "metadata": {},
   "outputs": [],
   "source": [
    "from sklearn.metrics import f1_score"
   ]
  },
  {
   "cell_type": "code",
   "execution_count": 38,
   "id": "downtown-fishing",
   "metadata": {},
   "outputs": [
    {
     "data": {
      "text/plain": [
       "0.6315859588356757"
      ]
     },
     "execution_count": 38,
     "metadata": {},
     "output_type": "execute_result"
    }
   ],
   "source": [
    "f1_score(y_train_5, y_train_pred)"
   ]
  },
  {
   "cell_type": "markdown",
   "id": "induced-dream",
   "metadata": {},
   "source": [
    "### Le compromis précision vs. rappel"
   ]
  },
  {
   "cell_type": "code",
   "execution_count": 39,
   "id": "paperback-sense",
   "metadata": {},
   "outputs": [],
   "source": [
    "y_scores = sgd_clf.decision_function([some_digit])"
   ]
  },
  {
   "cell_type": "code",
   "execution_count": 40,
   "id": "respected-tomorrow",
   "metadata": {},
   "outputs": [
    {
     "data": {
      "text/plain": [
       "array([-7535.62902135])"
      ]
     },
     "execution_count": 40,
     "metadata": {},
     "output_type": "execute_result"
    }
   ],
   "source": [
    "y_scores"
   ]
  },
  {
   "cell_type": "code",
   "execution_count": 41,
   "id": "italic-tonight",
   "metadata": {},
   "outputs": [],
   "source": [
    "threshold = 0"
   ]
  },
  {
   "cell_type": "code",
   "execution_count": 42,
   "id": "affected-wholesale",
   "metadata": {},
   "outputs": [],
   "source": [
    "y_some_digit_pred = (y_scores > threshold)"
   ]
  },
  {
   "cell_type": "code",
   "execution_count": 43,
   "id": "lovely-surgeon",
   "metadata": {},
   "outputs": [
    {
     "data": {
      "text/plain": [
       "array([False])"
      ]
     },
     "execution_count": 43,
     "metadata": {},
     "output_type": "execute_result"
    }
   ],
   "source": [
    "y_some_digit_pred"
   ]
  },
  {
   "cell_type": "code",
   "execution_count": 45,
   "id": "recognized-theology",
   "metadata": {},
   "outputs": [
    {
     "data": {
      "text/plain": [
       "array([False])"
      ]
     },
     "execution_count": 45,
     "metadata": {},
     "output_type": "execute_result"
    }
   ],
   "source": [
    "threshold = 210000\n",
    "y_some_digit_pred = (y_scores > threshold)\n",
    "y_some_digit_pred"
   ]
  },
  {
   "cell_type": "code",
   "execution_count": 46,
   "id": "thick-combine",
   "metadata": {},
   "outputs": [],
   "source": [
    "y_scores = cross_val_predict(sgd_clf, X_train, y_train_5, cv=3, method=\"decision_function\")"
   ]
  },
  {
   "cell_type": "code",
   "execution_count": 47,
   "id": "wanted-turner",
   "metadata": {},
   "outputs": [],
   "source": [
    "from sklearn.metrics import precision_recall_curve"
   ]
  },
  {
   "cell_type": "code",
   "execution_count": 48,
   "id": "norman-method",
   "metadata": {},
   "outputs": [
    {
     "data": {
      "text/plain": [
       "(60000,)"
      ]
     },
     "execution_count": 48,
     "metadata": {},
     "output_type": "execute_result"
    }
   ],
   "source": [
    "y_scores.shape"
   ]
  },
  {
   "cell_type": "code",
   "execution_count": 50,
   "id": "departmental-database",
   "metadata": {},
   "outputs": [],
   "source": [
    "precisions, recalls, thresholds = precision_recall_curve(y_train_5, y_scores)"
   ]
  },
  {
   "cell_type": "code",
   "execution_count": 51,
   "id": "blond-capital",
   "metadata": {},
   "outputs": [],
   "source": [
    "def plot_precision_recall_vs_thresholds(precisions, recalls, thresholds):\n",
    "    plt.plot(thresholds, precisions[:-1], \"b--\", label=\"Precision\", linewidth=2)\n",
    "    plt.plot(thresholds, recalls[:-1], \"g--\", label=\"Recall\", linewidth=2)\n",
    "    plt.xlabel(\"Threshold\", fontsize = 16)\n",
    "    plt.legend(loc = \"upper left\", fontsize = 16)\n",
    "    plt.ylim([0,1])"
   ]
  },
  {
   "cell_type": "code",
   "execution_count": 52,
   "id": "dried-pharmacy",
   "metadata": {},
   "outputs": [
    {
     "data": {
      "text/plain": [
       "<Figure size 576x288 with 0 Axes>"
      ]
     },
     "execution_count": 52,
     "metadata": {},
     "output_type": "execute_result"
    },
    {
     "data": {
      "text/plain": [
       "<Figure size 576x288 with 0 Axes>"
      ]
     },
     "metadata": {},
     "output_type": "display_data"
    }
   ],
   "source": [
    "plt.figure(figsize=(8,4))"
   ]
  },
  {
   "cell_type": "code",
   "execution_count": 53,
   "id": "further-booth",
   "metadata": {},
   "outputs": [
    {
     "data": {
      "image/png": "[encoded data removed]",
      "text/plain": [
       "<Figure size 432x288 with 1 Axes>"
      ]
     },
     "metadata": {
      "needs_background": "light"
     },
     "output_type": "display_data"
    }
   ],
   "source": [
    "plot_precision_recall_vs_thresholds(precisions, recalls, thresholds)"
   ]
  },
  {
   "cell_type": "markdown",
   "id": "portuguese-participant",
   "metadata": {},
   "source": [
    "Il est également intéressant de tracer la figure précision en fonction du rappel !"
   ]
  },
  {
   "cell_type": "markdown",
   "id": "proper-celebrity",
   "metadata": {},
   "source": [
    "### Courbe ROC"
   ]
  },
  {
   "cell_type": "code",
   "execution_count": 54,
   "id": "generous-haiti",
   "metadata": {},
   "outputs": [],
   "source": [
    "my_y_scores = y_scores"
   ]
  },
  {
   "cell_type": "code",
   "execution_count": 55,
   "id": "environmental-example",
   "metadata": {},
   "outputs": [],
   "source": [
    "from sklearn.metrics import roc_curve"
   ]
  },
  {
   "cell_type": "code",
   "execution_count": 56,
   "id": "endless-resort",
   "metadata": {},
   "outputs": [],
   "source": [
    "fpr, tpr, thresholds = roc_curve(y_train_5, my_y_scores)"
   ]
  },
  {
   "cell_type": "code",
   "execution_count": 57,
   "id": "moving-polish",
   "metadata": {},
   "outputs": [],
   "source": [
    "def plot_roc_curve(fpr, tpr, label = None):\n",
    "    plt.plot(fpr, tpr, linewidth=2, label = label)\n",
    "    plt.plot([0,1],[0,1], 'k--')\n",
    "    plt.axis([0,1,0,1])\n",
    "    plt.xlabel('FPR', fontsize = 16)\n",
    "    plt.ylabel('TPR', fontsize = 16)"
   ]
  },
  {
   "cell_type": "code",
   "execution_count": 58,
   "id": "brief-wrapping",
   "metadata": {},
   "outputs": [
    {
     "data": {
      "text/plain": [
       "<Figure size 576x288 with 0 Axes>"
      ]
     },
     "execution_count": 58,
     "metadata": {},
     "output_type": "execute_result"
    },
    {
     "data": {
      "text/plain": [
       "<Figure size 576x288 with 0 Axes>"
      ]
     },
     "metadata": {},
     "output_type": "display_data"
    }
   ],
   "source": [
    "plt.figure(figsize=(8,4))"
   ]
  },
  {
   "cell_type": "code",
   "execution_count": 60,
   "id": "electoral-anthropology",
   "metadata": {},
   "outputs": [
    {
     "data": {
      "image/png": "[encoded data removed]",
      "text/plain": [
       "<Figure size 432x288 with 1 Axes>"
      ]
     },
     "metadata": {
      "needs_background": "light"
     },
     "output_type": "display_data"
    }
   ],
   "source": [
    "plot_roc_curve(fpr, tpr) #Printing ROC Curve"
   ]
  },
  {
   "cell_type": "markdown",
   "id": "first-runner",
   "metadata": {},
   "source": [
    "### Performance globale du prédicteur en multiclass"
   ]
  },
  {
   "cell_type": "code",
   "execution_count": 61,
   "id": "processed-class",
   "metadata": {},
   "outputs": [],
   "source": [
    "sgd_clf.fit(X_train, y_train)\n",
    "predictions = sgd_clf.predict(X_test)"
   ]
  },
  {
   "cell_type": "code",
   "execution_count": 63,
   "id": "rough-breach",
   "metadata": {},
   "outputs": [],
   "source": [
    "score = sgd_clf.score(X_test, y_test)"
   ]
  },
  {
   "cell_type": "code",
   "execution_count": 64,
   "id": "psychological-robinson",
   "metadata": {},
   "outputs": [
    {
     "data": {
      "text/plain": [
       "array([0.87775, 0.8719 , 0.87305])"
      ]
     },
     "execution_count": 64,
     "metadata": {},
     "output_type": "execute_result"
    }
   ],
   "source": [
    "from sklearn.model_selection import cross_val_score\n",
    "\n",
    "cross_val_score(sgd_clf, X_train, y_train, cv = 3, scoring = \"accuracy\")"
   ]
  },
  {
   "cell_type": "code",
   "execution_count": 65,
   "id": "indoor-importance",
   "metadata": {},
   "outputs": [],
   "source": [
    "from sklearn.model_selection import cross_val_predict\n",
    "y_train_pred = cross_val_predict(sgd_clf,X_train,y_train, cv=3)"
   ]
  },
  {
   "cell_type": "markdown",
   "id": "cooperative-outdoors",
   "metadata": {},
   "source": [
    "### Matrice de confusion"
   ]
  },
  {
   "cell_type": "code",
   "execution_count": 66,
   "id": "dangerous-sharp",
   "metadata": {},
   "outputs": [],
   "source": [
    "from sklearn.metrics import confusion_matrix\n",
    "cm2 = confusion_matrix(y_train, y_train_pred)"
   ]
  },
  {
   "cell_type": "code",
   "execution_count": 70,
   "id": "australian-logistics",
   "metadata": {},
   "outputs": [],
   "source": [
    "#pip install seaborn"
   ]
  },
  {
   "cell_type": "code",
   "execution_count": 72,
   "id": "fatal-manchester",
   "metadata": {},
   "outputs": [
    {
     "data": {
      "image/png": "[encoded data removed]",
      "text/plain": [
       "<Figure size 648x648 with 2 Axes>"
      ]
     },
     "metadata": {
      "needs_background": "light"
     },
     "output_type": "display_data"
    }
   ],
   "source": [
    "import seaborn as sns\n",
    "\n",
    "plt.figure(figsize=(9,9))\n",
    "sns.heatmap(cm, annot=True, fmt=\".3f\", linewidths=.5, square = True, cmap = 'Blues_r');\n",
    "plt.ylabel('Actual label');\n",
    "plt.xlabel('Predicted label');\n",
    "all_sample_title = 'Accuracy Score: {0}'.format(score)\n",
    "plt.title(all_sample_title, size = 15);\n",
    "plt.savefig('toy_Digits_ConfusionSeabornCodementor.png')\n",
    "#plt.show();"
   ]
  },
  {
   "cell_type": "markdown",
   "id": "aggressive-silicon",
   "metadata": {},
   "source": [
    "## Precision et rappel"
   ]
  },
  {
   "cell_type": "code",
   "execution_count": 79,
   "id": "overall-louisville",
   "metadata": {},
   "outputs": [],
   "source": [
    "from sklearn.metrics import precision_score, recall_score"
   ]
  },
  {
   "cell_type": "code",
   "execution_count": 73,
   "id": "experimental-belief",
   "metadata": {},
   "outputs": [
    {
     "data": {
      "text/plain": [
       "0.8742333333333333"
      ]
     },
     "execution_count": 73,
     "metadata": {},
     "output_type": "execute_result"
    }
   ],
   "source": [
    "precision_score(y_train, y_train_pred, average = 'micro')"
   ]
  },
  {
   "cell_type": "code",
   "execution_count": 74,
   "id": "joint-editing",
   "metadata": {},
   "outputs": [
    {
     "data": {
      "text/plain": [
       "0.8742333333333333"
      ]
     },
     "execution_count": 74,
     "metadata": {},
     "output_type": "execute_result"
    }
   ],
   "source": [
    "recall_score(y_train, y_train_pred, average = 'micro')"
   ]
  },
  {
   "cell_type": "code",
   "execution_count": 75,
   "id": "general-breast",
   "metadata": {},
   "outputs": [],
   "source": [
    "y_scores = cross_val_predict(sgd_clf, X_train,y_train, cv = 3, method = \"decision_function\")"
   ]
  },
  {
   "cell_type": "markdown",
   "id": "tender-protein",
   "metadata": {},
   "source": [
    "## Exercice : regression logistique\n",
    "Soit les données digits suivants, en utilisant la librairie scikitlearn, effectuer une regression logistique en suivant les étapes vues au dessus.\n",
    "\n",
    "Appliquez différentes régularisations (ridg,lasso par exemple, voir documentation scikitlearn), et effectuer une recherche d'hyperparamètres: cf https://scikit-learn.org/stable/modules/generated/sklearn.model_selection.GridSearchCV.html"
   ]
  },
  {
   "cell_type": "code",
   "execution_count": 76,
   "id": "experienced-windows",
   "metadata": {},
   "outputs": [],
   "source": [
    "%matplotlib inline\n",
    "from sklearn.datasets import load_digits\n",
    "digits = load_digits()"
   ]
  },
  {
   "cell_type": "code",
   "execution_count": 77,
   "id": "serious-curtis",
   "metadata": {},
   "outputs": [
    {
     "name": "stdout",
     "output_type": "stream",
     "text": [
      "Image Data Shape (1797, 64)\n",
      "Label Data Shape (1797,)\n"
     ]
    }
   ],
   "source": [
    "# Print to show there are 1797 images (8 by 8 images for a dimensionality of 64)\n",
    "print(\"Image Data Shape\" , digits.data.shape)\n",
    "\n",
    "# Print to show there are 1797 labels (integers from 0-9)\n",
    "print(\"Label Data Shape\", digits.target.shape)"
   ]
  },
  {
   "cell_type": "code",
   "execution_count": 78,
   "id": "binary-flight",
   "metadata": {},
   "outputs": [
    {
     "data": {
      "image/png": "[encoded data removed]",
      "text/plain": [
       "<Figure size 1440x288 with 5 Axes>"
      ]
     },
     "metadata": {
      "needs_background": "light"
     },
     "output_type": "display_data"
    }
   ],
   "source": [
    "import numpy as np \n",
    "import matplotlib.pyplot as plt\n",
    "\n",
    "plt.figure(figsize=(20,4))\n",
    "for index, (image, label) in enumerate(zip(digits.data[0:5], digits.target[0:5])):\n",
    "    plt.subplot(1, 5, index + 1)\n",
    "    plt.imshow(np.reshape(image, (8,8)), cmap=plt.cm.gray)\n",
    "    plt.title('Training: %i\\n' % label, fontsize = 20)"
   ]
  },
  {
   "cell_type": "code",
   "execution_count": 80,
   "id": "selected-payday",
   "metadata": {},
   "outputs": [],
   "source": [
    "from sklearn.model_selection import train_test_split\n",
    "x_train, x_test, y_train, y_test = train_test_split(digits.data, digits.target, test_size=0.25, random_state=0)"
   ]
  }
 ],
 "metadata": {
  "kernelspec": {
   "display_name": "Python 3",
   "language": "python",
   "name": "python3"
  },
  "language_info": {
   "codemirror_mode": {
    "name": "ipython",
    "version": 3
   },
   "file_extension": ".py",
   "mimetype": "text/x-python",
   "name": "python",
   "nbconvert_exporter": "python",
   "pygments_lexer": "ipython3",
   "version": "3.8.8"
  }
 },
 "nbformat": 4,
 "nbformat_minor": 5
}
